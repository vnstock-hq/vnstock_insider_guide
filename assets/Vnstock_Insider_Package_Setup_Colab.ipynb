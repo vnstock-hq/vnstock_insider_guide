{
  "cells": [
    {
      "cell_type": "markdown",
      "metadata": {},
      "source": [
        "<a target=\"_blank\" href=\"https://colab.research.google.com/github/vnstock-hq/vnstock_insider_guide/blob/main/assets/Vnstock_Insider_Package_Setup_Colab.ipynb\">\n",
        "  <img src=\"https://colab.research.google.com/assets/colab-badge.svg\" alt=\"Open In Colab\"/>\n",
        "</a>"
      ]
    },
    {
      "cell_type": "markdown",
      "metadata": {
        "id": "-V5omgPrdmdw"
      },
      "source": [
        "Bạn thu gọn mục `Tải file` và click chọn nút Play để chạy lệnh. Sau đó chạy lệnh cuối cùng tại mục `Cài đặt`"
      ]
    },
    {
      "cell_type": "markdown",
      "metadata": {
        "id": "qbRHfXIqdjwy"
      },
      "source": [
        "# Tải file"
      ]
    },
    {
      "cell_type": "markdown",
      "metadata": {
        "id": "sKsAvBYFdes4"
      },
      "source": [
        "Clone Repo về môi trường Colab"
      ]
    },
    {
      "cell_type": "code",
      "execution_count": 4,
      "metadata": {
        "colab": {
          "base_uri": "https://localhost:8080/"
        },
        "id": "RX0or8X0a--_",
        "outputId": "608c98a1-1f19-49ab-a38f-38bed75d942b"
      },
      "outputs": [
        {
          "name": "stdout",
          "output_type": "stream",
          "text": [
            "Cloning into 'vnstock_insider_guide'...\n",
            "remote: Enumerating objects: 14, done.\u001b[K\n",
            "remote: Counting objects: 100% (14/14), done.\u001b[K\n",
            "remote: Compressing objects: 100% (12/12), done.\u001b[K\n",
            "remote: Total 14 (delta 2), reused 14 (delta 2), pack-reused 0\u001b[K\n",
            "Receiving objects: 100% (14/14), 22.04 MiB | 39.45 MiB/s, done.\n",
            "Resolving deltas: 100% (2/2), done.\n"
          ]
        }
      ],
      "source": [
        "!git clone https://github.com/vnstock-hq/vnstock_insider_guide"
      ]
    },
    {
      "cell_type": "code",
      "execution_count": 5,
      "metadata": {
        "colab": {
          "base_uri": "https://localhost:8080/"
        },
        "id": "wCaYBQ0FbFOO",
        "outputId": "7db9ebb1-ea17-480d-bba3-8836d4def875"
      },
      "outputs": [
        {
          "name": "stdout",
          "output_type": "stream",
          "text": [
            "/content/vnstock_insider_guide/oneclick_installer\n"
          ]
        }
      ],
      "source": [
        "%cd /content/vnstock_insider_guide/oneclick_installer"
      ]
    },
    {
      "cell_type": "markdown",
      "metadata": {
        "id": "cAUXXLirdcpX"
      },
      "source": [
        "Trao quyền thực thi cho file"
      ]
    },
    {
      "cell_type": "code",
      "execution_count": 7,
      "metadata": {
        "id": "tn5Ueb5ebwrQ"
      },
      "outputs": [],
      "source": [
        "!chmod +x linux_installer.run"
      ]
    },
    {
      "cell_type": "markdown",
      "metadata": {
        "id": "2rxKsXm0fiwI"
      },
      "source": [
        "# Cài đặt"
      ]
    },
    {
      "cell_type": "code",
      "execution_count": null,
      "metadata": {
        "id": "ttPRErtPbzzK"
      },
      "outputs": [],
      "source": [
        "!./linux_installer.run"
      ]
    }
  ],
  "metadata": {
    "colab": {
      "provenance": []
    },
    "kernelspec": {
      "display_name": "Python 3",
      "name": "python3"
    },
    "language_info": {
      "name": "python"
    }
  },
  "nbformat": 4,
  "nbformat_minor": 0
}
