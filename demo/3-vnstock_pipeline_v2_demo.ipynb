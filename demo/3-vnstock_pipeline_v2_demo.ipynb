{
 "cells": [
  {
   "cell_type": "markdown",
   "metadata": {},
   "source": [
    "<a target=\"_blank\" href=\"https://colab.research.google.com/github/vnstock-hq/vnstock_insider_guide/blob/main/demo/3-vnstock_pipeline_v2_demo.ipynb\">\n",
    "  <img src=\"https://colab.research.google.com/assets/colab-badge.svg\" alt=\"Open In Colab\"/>\n",
    "</a>"
   ]
  },
  {
   "cell_type": "markdown",
   "metadata": {},
   "source": [
    "# I. Cài đặt thư viện"
   ]
  },
  {
   "cell_type": "code",
   "execution_count": null,
   "metadata": {},
   "outputs": [],
   "source": [
    "# Sao chép mã nguồn từ GitHub về Google Colab\n",
    "!git clone https://github.com/vnstock-hq/vnstock_insider_guide\n",
    "# Chuyển đến thư mục vừa clone\n",
    "%cd /content/vnstock_insider_guide/oneclick_installer\n",
    "# Trao quyền thực thi cho file\n",
    "!chmod +x linux_installer.run\n",
    "# Chạy trình cài đặt\n",
    "!./linux_installer.run"
   ]
  },
  {
   "cell_type": "markdown",
   "metadata": {},
   "source": [
    "**Lưu ý: Bạn cần khởi động lại phiên làm việc sau khi cài đặt trên Google Colab**\n",
    "\n",
    "![restar session](http://vnstocks.com/images/khoi-dong-lai-phien-lam-viec-colab.png)"
   ]
  },
  {
   "cell_type": "markdown",
   "metadata": {},
   "source": [
    "> Các chương trình dưới đây có thể chạy trực tiếp trong notebook hoặc lưu thành Python script để chạy hoặc lên lịch chạy. Để lưu file, copy đoạn mã cho mỗi chương trình mẫu và lưu vào file ví dụ `ohlcv_eodeod.py` và chạy file trong Terminal với câu lệnh `python ohlcv_eodeod.py`"
   ]
  },
  {
   "cell_type": "markdown",
   "metadata": {},
   "source": [
    "# II. Mẫu tối giản"
   ]
  },
  {
   "cell_type": "markdown",
   "metadata": {},
   "source": [
    "## 1. Dữ liệu tĩnh"
   ]
  },
  {
   "cell_type": "markdown",
   "metadata": {},
   "source": [
    "### OHLCV"
   ]
  },
  {
   "cell_type": "code",
   "execution_count": 2,
   "metadata": {},
   "outputs": [
    {
     "name": "stderr",
     "output_type": "stream",
     "text": [
      "[2025-03-29 22:02:54,366] INFO in 3014658600: Starting OHLCV fetch for 100 tickers with custom parameters.\n",
      "Processing tickers: 100%|██████████| 100/100 [00:01<00:00, 69.77it/s]\n",
      "[2025-03-29 22:02:55,820] INFO in 3014658600: Completed OHLCV fetch — check ./data/ohlcv/\n"
     ]
    },
    {
     "name": "stdout",
     "output_type": "stream",
     "text": [
      "Scheduler run complete.\n",
      "Success: 100, Fail: 0\n",
      "Total time: 1.45 seconds, Average time per ticker: 0.01 seconds\n"
     ]
    }
   ],
   "source": [
    "\"\"\"\n",
    "Ví dụ: Sử dụng template task để lấy dữ liệu OHLCV với tham số tùy chỉnh (start, end, interval).\n",
    "Script này sử dụng hàm run_task từ vnstock_pipeline/tasks/ohlcv_daily.\n",
    "\"\"\"\n",
    "\n",
    "import logging\n",
    "from vnstock import Vnstock\n",
    "from vnstock_pipeline.utils.logger import setup_logger\n",
    "from vnstock_pipeline.tasks.ohlcv import run_task\n",
    "\n",
    "if __name__ == \"__main__\":\n",
    "    # Cấu hình logger đơn giản để hiển thị log trên console\n",
    "    logger = setup_logger(__name__, level=logging.INFO)\n",
    "\n",
    "    # Khởi tạo đối tượng stock từ vnstock và lấy danh sách mã từ nhóm VN100 (ví dụ)\n",
    "    stock = Vnstock().stock(symbol=\"ACB\", source=\"VCI\")\n",
    "    tickers = stock.listing.symbols_by_group(\"VN100\").tolist()\n",
    "\n",
    "    logger.info(f\"Starting OHLCV fetch for {len(tickers)} tickers with custom parameters.\")\n",
    "    \n",
    "    # Gọi run_task với các tham số tùy chỉnh: start date, end date, và interval\n",
    "    run_task(tickers, start=\"2023-01-01\", end=\"2025-03-28\", interval=\"1D\")\n",
    "    \n",
    "    logger.info(\"Completed OHLCV fetch — check ./data/ohlcv/\")\n"
   ]
  },
  {
   "cell_type": "markdown",
   "metadata": {},
   "source": [
    "### Báo cáo tài chính"
   ]
  },
  {
   "cell_type": "code",
   "execution_count": null,
   "metadata": {},
   "outputs": [],
   "source": [
    "\"\"\"\n",
    "Ví dụ: Sử dụng template task để lấy dữ liệu báo cáo tài chính với các tham số tùy chỉnh.\n",
    "Script này sử dụng hàm run_financial_task từ vnstock_pipeline/tasks/financial.\n",
    "\"\"\"\n",
    "\n",
    "import logging\n",
    "from vnstock import Vnstock\n",
    "from vnstock_pipeline.utils.logger import setup_logger\n",
    "from vnstock_pipeline.tasks.financial import run_financial_task\n",
    "\n",
    "if __name__ == \"__main__\":\n",
    "    # Cấu hình logger để hiển thị log trên console\n",
    "    logger = setup_logger(__name__, level=logging.INFO)\n",
    "\n",
    "    # Khởi tạo đối tượng stock từ vnstock và lấy danh sách mã từ một nhóm, ví dụ VN30\n",
    "    stock = Vnstock().stock(symbol=\"ACB\", source=\"VCI\")\n",
    "    tickers = stock.listing.symbols_by_group(\"VN100\").tolist()\n",
    "\n",
    "    logger.info(f\"Starting financial report fetch for {len(tickers)} tickers with custom parameters.\")\n",
    "    \n",
    "    # Gọi hàm run_financial_task với các tham số tùy chỉnh:\n",
    "    # - balance_sheet_period: \"year\"\n",
    "    # - income_statement_year_period: \"year\"\n",
    "    # - income_statement_quarter_period: \"quarter\"\n",
    "    # - cash_flow_period: \"year\"\n",
    "    # - ratio_period: \"year\"\n",
    "    # - lang: \"vi\"\n",
    "    # - dropna: True\n",
    "    run_financial_task(\n",
    "        tickers,\n",
    "        balance_sheet_period=\"quarter\",\n",
    "        income_statement_year_period=\"quarter\",\n",
    "        income_statement_quarter_period=\"quarter\",\n",
    "        cash_flow_period=\"quarter\",\n",
    "        ratio_period=\"quarter\",\n",
    "        lang=\"vi\",\n",
    "        dropna=True\n",
    "    )\n",
    "\n",
    "    logger.info(\"Completed financial report fetch — check ./data/financial/\")\n"
   ]
  },
  {
   "cell_type": "markdown",
   "metadata": {},
   "source": [
    "## 2. Dữ liệu trong phiên"
   ]
  },
  {
   "cell_type": "markdown",
   "metadata": {},
   "source": [
    "### Bảng giá"
   ]
  },
  {
   "cell_type": "code",
   "execution_count": 4,
   "metadata": {},
   "outputs": [
    {
     "name": "stdout",
     "output_type": "stream",
     "text": [
      "Chế độ EOD: Lấy dữ liệu Price Board tĩnh một lần.\n",
      "Data appended at 2025-03-29 22:03:30 (Unix: 1743260610)\n",
      "EOD download hoàn thành.\n"
     ]
    }
   ],
   "source": [
    "\"\"\"\n",
    "Ví dụ: Sử dụng task mặc định của Price Board trong vnstock_pipeline.\n",
    "Chọn chế độ tải về:\n",
    "    - live: Cập nhật dữ liệu liên tục trong phiên giao dịch.\n",
    "    - EOD: Lấy dữ liệu tĩnh một lần (End Of Day).\n",
    "\"\"\"\n",
    "from vnstock_pipeline.tasks.price_board import run_price_board\n",
    "\n",
    "if __name__ == \"__main__\":\n",
    "    # Danh sách mã VN30 mẫu\n",
    "    TICKERS = [\n",
    "        'ACB', 'BCM', 'BID', 'BVH', 'CTG', 'FPT', 'GAS', 'GVR',\n",
    "        'HDB', 'HPG', 'LPB', 'MBB', 'MSN', 'MWG', 'PLX', 'SAB',\n",
    "        'SHB', 'SSB', 'SSI', 'STB', 'TCB', 'TPB', 'VCB', 'VHM',\n",
    "        'VIB', 'VIC', 'VJC', 'VNM', 'VPB', 'VRE'\n",
    "    ]\n",
    "    \n",
    "    # Chọn chế độ: \"live\" để cập nhật liên tục trong phiên giao dịch,\n",
    "    # hoặc \"EOD\" để tải dữ liệu tĩnh một lần.\n",
    "    mode = \"eod\"   # mode = \"live\" hoặc mode = \"EOD\"\n",
    "    \n",
    "    # Gọi hàm run_price_board với danh sách mã, thời gian chờ giữa các lần cập nhật, và chế độ tải\n",
    "    run_price_board(TICKERS, interval=60, mode=mode)"
   ]
  },
  {
   "cell_type": "markdown",
   "metadata": {},
   "source": [
    "### Intraday"
   ]
  },
  {
   "cell_type": "code",
   "execution_count": null,
   "metadata": {},
   "outputs": [],
   "source": [
    "\"\"\"\n",
    "Ví dụ: Sử dụng task mặc định để lấy dữ liệu intraday từ vnstock_pipeline.\n",
    "Bạn có thể chọn chế độ:\n",
    "    - live: Cập nhật dữ liệu liên tục trong phiên giao dịch (với backup file cũ).\n",
    "    - EOD: Lấy dữ liệu tĩnh một lần (End Of Day).\n",
    "\"\"\"\n",
    "\n",
    "from vnstock_pipeline.tasks.intraday import run_intraday_task\n",
    "from vnstock import Vnstock\n",
    "\n",
    "if __name__ == \"__main__\":\n",
    "\n",
    "    # # Danh sách mã mẫu; thay đổi danh sách theo nhu cầu của bạn\n",
    "    # tickers = [\"ACB\", \"VCB\", \"HPG\"]\n",
    "\n",
    "    # Khởi tạo đối tượng stock từ vnstock và lấy danh sách các mã từ nhóm VN30 (hoặc tùy chọn khác)\n",
    "    stock = Vnstock().stock(symbol=\"ACB\", source=\"VCI\")\n",
    "    # Ví dụ: Lấy danh sách mã từ nhóm VN30\n",
    "    tickers = stock.listing.symbols_by_group(\"HOSE\").tolist()\n",
    "\n",
    "    # Chọn chế độ: \"live\" để cập nhật liên tục hoặc \"EOD\" để tải dữ liệu một lần\n",
    "    mode = \"eod\"  # hoặc mode = \"EOD\"\n",
    "    \n",
    "    # Thời gian chờ giữa các lần cập nhật trong live mode (tính bằng giây)\n",
    "    interval = 60\n",
    "    \n",
    "    # Gọi hàm run_intraday_task từ module, truyền vào danh sách mã, thời gian chờ và chế độ\n",
    "    run_intraday_task(tickers, interval=interval, mode=mode)\n"
   ]
  },
  {
   "cell_type": "markdown",
   "metadata": {},
   "source": [
    "# III. Tuỳ biến theo nhu cầu"
   ]
  },
  {
   "cell_type": "markdown",
   "metadata": {},
   "source": [
    "> Các mẫu chương trình dưới đây cho phép bạn sử dụng các lớp hàm mẫu trong thư viện để tuỳ biến chương trình nâng cao theo yêu cầu."
   ]
  }
 ],
 "metadata": {
  "kernelspec": {
   "display_name": "Python 3",
   "language": "python",
   "name": "python3"
  },
  "language_info": {
   "codemirror_mode": {
    "name": "ipython",
    "version": 3
   },
   "file_extension": ".py",
   "mimetype": "text/x-python",
   "name": "python",
   "nbconvert_exporter": "python",
   "pygments_lexer": "ipython3",
   "version": "3.10.0"
  }
 },
 "nbformat": 4,
 "nbformat_minor": 2
}
