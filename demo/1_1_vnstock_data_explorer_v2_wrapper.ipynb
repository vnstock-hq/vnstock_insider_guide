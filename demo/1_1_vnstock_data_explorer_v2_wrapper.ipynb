{
  "cells": [
    {
      "cell_type": "markdown",
      "metadata": {
        "id": "g4s7_LwtL0Bw"
      },
      "source": [
        "<a target=\"_blank\" href=\"https://colab.research.google.com/github/vnstock-hq/vnstock_insider_guide/blob/main/demo/1_1_vnstock_data_explorer_v2_wrapper.ipynb\">\n",
        "  <img src=\"https://colab.research.google.com/assets/colab-badge.svg\" alt=\"Open In Colab\"/>\n",
        "</a>"
      ]
    },
    {
      "cell_type": "markdown",
      "metadata": {},
      "source": [
        "# I. Cài đặt thư viện"
      ]
    },
    {
      "cell_type": "code",
      "execution_count": null,
      "metadata": {},
      "outputs": [],
      "source": [
        "# Sao chép mã nguồn từ GitHub về Google Colab\n",
        "!git clone https://github.com/vnstock-hq/vnstock_insider_guide\n",
        "# Chuyển đến thư mục vừa clone\n",
        "%cd /content/vnstock_insider_guide/oneclick_installer\n",
        "# Trao quyền thực thi cho file\n",
        "!chmod +x linux_installer.run\n",
        "# Chạy trình cài đặt\n",
        "!./linux_installer.run"
      ]
    },
    {
      "cell_type": "markdown",
      "metadata": {},
      "source": [
        "**Lưu ý: Bạn cần khởi động lại phiên làm việc sau khi cài đặt trên Google Colab**\n",
        "\n",
        "![restar session](http://vnstocks.com/images/khoi-dong-lai-phien-lam-viec-colab.png)"
      ]
    },
    {
      "cell_type": "markdown",
      "metadata": {
        "id": "OfJDsrqPL0Bx"
      },
      "source": [
        "# Initialization"
      ]
    },
    {
      "cell_type": "code",
      "execution_count": 1,
      "metadata": {
        "id": "b8eaBM1XL0By"
      },
      "outputs": [],
      "source": [
        "from IPython.display import display\n",
        "from vnstock_data import Quote, Trading, Finance, Listing, Company, CommodityPrice, Macro"
      ]
    },
    {
      "cell_type": "markdown",
      "metadata": {
        "id": "Pka0p18HL0By"
      },
      "source": [
        "# Quote"
      ]
    },
    {
      "cell_type": "code",
      "execution_count": 30,
      "metadata": {
        "id": "xfGbikmBL0By",
        "outputId": "9704355e-dc7f-4e4c-e72b-762551b79783"
      },
      "outputs": [
        {
          "name": "stdout",
          "output_type": "stream",
          "text": [
            "=== Quote.history ===\n"
          ]
        },
        {
          "data": {
            "application/vnd.microsoft.datawrangler.viewer.v0+json": {
              "columns": [
                {
                  "name": "index",
                  "rawType": "int64",
                  "type": "integer"
                },
                {
                  "name": "time",
                  "rawType": "datetime64[ns]",
                  "type": "datetime"
                },
                {
                  "name": "open",
                  "rawType": "float64",
                  "type": "float"
                },
                {
                  "name": "high",
                  "rawType": "float64",
                  "type": "float"
                },
                {
                  "name": "low",
                  "rawType": "float64",
                  "type": "float"
                },
                {
                  "name": "close",
                  "rawType": "float64",
                  "type": "float"
                },
                {
                  "name": "volume",
                  "rawType": "int64",
                  "type": "integer"
                }
              ],
              "ref": "21c71788-0f9e-40a7-a863-7886a0cda3fd",
              "rows": [
                [
                  "0",
                  "2024-02-01 00:00:00",
                  "32.55",
                  "32.74",
                  "32.4",
                  "32.74",
                  "5200968"
                ],
                [
                  "1",
                  "2024-02-02 00:00:00",
                  "33.08",
                  "33.49",
                  "33.04",
                  "33.12",
                  "9591553"
                ],
                [
                  "2",
                  "2024-02-05 00:00:00",
                  "33.31",
                  "33.46",
                  "33.0",
                  "33.23",
                  "5832826"
                ],
                [
                  "3",
                  "2024-02-06 00:00:00",
                  "33.42",
                  "34.4",
                  "33.34",
                  "33.91",
                  "7012133"
                ],
                [
                  "4",
                  "2024-02-07 00:00:00",
                  "34.06",
                  "34.4",
                  "33.87",
                  "34.14",
                  "4952803"
                ]
              ],
              "shape": {
                "columns": 6,
                "rows": 5
              }
            },
            "text/html": [
              "<div>\n",
              "<style scoped>\n",
              "    .dataframe tbody tr th:only-of-type {\n",
              "        vertical-align: middle;\n",
              "    }\n",
              "\n",
              "    .dataframe tbody tr th {\n",
              "        vertical-align: top;\n",
              "    }\n",
              "\n",
              "    .dataframe thead th {\n",
              "        text-align: right;\n",
              "    }\n",
              "</style>\n",
              "<table border=\"1\" class=\"dataframe\">\n",
              "  <thead>\n",
              "    <tr style=\"text-align: right;\">\n",
              "      <th></th>\n",
              "      <th>time</th>\n",
              "      <th>open</th>\n",
              "      <th>high</th>\n",
              "      <th>low</th>\n",
              "      <th>close</th>\n",
              "      <th>volume</th>\n",
              "    </tr>\n",
              "  </thead>\n",
              "  <tbody>\n",
              "    <tr>\n",
              "      <th>0</th>\n",
              "      <td>2024-02-01</td>\n",
              "      <td>32.55</td>\n",
              "      <td>32.74</td>\n",
              "      <td>32.40</td>\n",
              "      <td>32.74</td>\n",
              "      <td>5200968</td>\n",
              "    </tr>\n",
              "    <tr>\n",
              "      <th>1</th>\n",
              "      <td>2024-02-02</td>\n",
              "      <td>33.08</td>\n",
              "      <td>33.49</td>\n",
              "      <td>33.04</td>\n",
              "      <td>33.12</td>\n",
              "      <td>9591553</td>\n",
              "    </tr>\n",
              "    <tr>\n",
              "      <th>2</th>\n",
              "      <td>2024-02-05</td>\n",
              "      <td>33.31</td>\n",
              "      <td>33.46</td>\n",
              "      <td>33.00</td>\n",
              "      <td>33.23</td>\n",
              "      <td>5832826</td>\n",
              "    </tr>\n",
              "    <tr>\n",
              "      <th>3</th>\n",
              "      <td>2024-02-06</td>\n",
              "      <td>33.42</td>\n",
              "      <td>34.40</td>\n",
              "      <td>33.34</td>\n",
              "      <td>33.91</td>\n",
              "      <td>7012133</td>\n",
              "    </tr>\n",
              "    <tr>\n",
              "      <th>4</th>\n",
              "      <td>2024-02-07</td>\n",
              "      <td>34.06</td>\n",
              "      <td>34.40</td>\n",
              "      <td>33.87</td>\n",
              "      <td>34.14</td>\n",
              "      <td>4952803</td>\n",
              "    </tr>\n",
              "  </tbody>\n",
              "</table>\n",
              "</div>"
            ],
            "text/plain": [
              "        time   open   high    low  close   volume\n",
              "0 2024-02-01  32.55  32.74  32.40  32.74  5200968\n",
              "1 2024-02-02  33.08  33.49  33.04  33.12  9591553\n",
              "2 2024-02-05  33.31  33.46  33.00  33.23  5832826\n",
              "3 2024-02-06  33.42  34.40  33.34  33.91  7012133\n",
              "4 2024-02-07  34.06  34.40  33.87  34.14  4952803"
            ]
          },
          "metadata": {},
          "output_type": "display_data"
        },
        {
          "name": "stdout",
          "output_type": "stream",
          "text": [
            "\n",
            "=== Quote.intraday ===\n"
          ]
        },
        {
          "data": {
            "application/vnd.microsoft.datawrangler.viewer.v0+json": {
              "columns": [
                {
                  "name": "index",
                  "rawType": "int64",
                  "type": "integer"
                },
                {
                  "name": "time",
                  "rawType": "datetime64[ns, Asia/Ho_Chi_Minh]",
                  "type": "unknown"
                },
                {
                  "name": "price",
                  "rawType": "float64",
                  "type": "float"
                },
                {
                  "name": "volume",
                  "rawType": "int64",
                  "type": "integer"
                },
                {
                  "name": "match_type",
                  "rawType": "object",
                  "type": "string"
                },
                {
                  "name": "id",
                  "rawType": "object",
                  "type": "string"
                }
              ],
              "ref": "57705837-4572-4be8-a8cf-2ad2819fc3c0",
              "rows": [
                [
                  "0",
                  "2025-05-06 14:45:00+07:00",
                  "37.0",
                  "1000",
                  "Sell",
                  "293952168"
                ],
                [
                  "1",
                  "2025-05-06 14:45:00+07:00",
                  "37.0",
                  "7500",
                  "Sell",
                  "293952167"
                ],
                [
                  "2",
                  "2025-05-06 14:45:00+07:00",
                  "37.0",
                  "4400",
                  "Sell",
                  "293952166"
                ],
                [
                  "3",
                  "2025-05-06 14:45:00+07:00",
                  "37.0",
                  "200",
                  "Sell",
                  "293952165"
                ],
                [
                  "4",
                  "2025-05-06 14:45:00+07:00",
                  "37.0",
                  "100",
                  "Sell",
                  "293952164"
                ]
              ],
              "shape": {
                "columns": 5,
                "rows": 5
              }
            },
            "text/html": [
              "<div>\n",
              "<style scoped>\n",
              "    .dataframe tbody tr th:only-of-type {\n",
              "        vertical-align: middle;\n",
              "    }\n",
              "\n",
              "    .dataframe tbody tr th {\n",
              "        vertical-align: top;\n",
              "    }\n",
              "\n",
              "    .dataframe thead th {\n",
              "        text-align: right;\n",
              "    }\n",
              "</style>\n",
              "<table border=\"1\" class=\"dataframe\">\n",
              "  <thead>\n",
              "    <tr style=\"text-align: right;\">\n",
              "      <th></th>\n",
              "      <th>time</th>\n",
              "      <th>price</th>\n",
              "      <th>volume</th>\n",
              "      <th>match_type</th>\n",
              "      <th>id</th>\n",
              "    </tr>\n",
              "  </thead>\n",
              "  <tbody>\n",
              "    <tr>\n",
              "      <th>0</th>\n",
              "      <td>2025-05-06 14:45:00+07:00</td>\n",
              "      <td>37.0</td>\n",
              "      <td>1000</td>\n",
              "      <td>Sell</td>\n",
              "      <td>293952168</td>\n",
              "    </tr>\n",
              "    <tr>\n",
              "      <th>1</th>\n",
              "      <td>2025-05-06 14:45:00+07:00</td>\n",
              "      <td>37.0</td>\n",
              "      <td>7500</td>\n",
              "      <td>Sell</td>\n",
              "      <td>293952167</td>\n",
              "    </tr>\n",
              "    <tr>\n",
              "      <th>2</th>\n",
              "      <td>2025-05-06 14:45:00+07:00</td>\n",
              "      <td>37.0</td>\n",
              "      <td>4400</td>\n",
              "      <td>Sell</td>\n",
              "      <td>293952166</td>\n",
              "    </tr>\n",
              "    <tr>\n",
              "      <th>3</th>\n",
              "      <td>2025-05-06 14:45:00+07:00</td>\n",
              "      <td>37.0</td>\n",
              "      <td>200</td>\n",
              "      <td>Sell</td>\n",
              "      <td>293952165</td>\n",
              "    </tr>\n",
              "    <tr>\n",
              "      <th>4</th>\n",
              "      <td>2025-05-06 14:45:00+07:00</td>\n",
              "      <td>37.0</td>\n",
              "      <td>100</td>\n",
              "      <td>Sell</td>\n",
              "      <td>293952164</td>\n",
              "    </tr>\n",
              "  </tbody>\n",
              "</table>\n",
              "</div>"
            ],
            "text/plain": [
              "                       time  price  volume match_type         id\n",
              "0 2025-05-06 14:45:00+07:00   37.0    1000       Sell  293952168\n",
              "1 2025-05-06 14:45:00+07:00   37.0    7500       Sell  293952167\n",
              "2 2025-05-06 14:45:00+07:00   37.0    4400       Sell  293952166\n",
              "3 2025-05-06 14:45:00+07:00   37.0     200       Sell  293952165\n",
              "4 2025-05-06 14:45:00+07:00   37.0     100       Sell  293952164"
            ]
          },
          "metadata": {},
          "output_type": "display_data"
        },
        {
          "name": "stdout",
          "output_type": "stream",
          "text": [
            "\n",
            "=== Quote.price_depth ===\n"
          ]
        },
        {
          "data": {
            "application/vnd.microsoft.datawrangler.viewer.v0+json": {
              "columns": [
                {
                  "name": "index",
                  "rawType": "int64",
                  "type": "integer"
                },
                {
                  "name": "price",
                  "rawType": "object",
                  "type": "string"
                },
                {
                  "name": "volume",
                  "rawType": "object",
                  "type": "string"
                },
                {
                  "name": "buy_volume",
                  "rawType": "object",
                  "type": "string"
                },
                {
                  "name": "sell_volume",
                  "rawType": "object",
                  "type": "string"
                },
                {
                  "name": "undefined_volume",
                  "rawType": "object",
                  "type": "string"
                }
              ],
              "ref": "efc3e70c-c4a2-4ed2-80c7-9303274a3748",
              "rows": [
                [
                  "0",
                  "37650.0",
                  "17800.0",
                  "17800.0",
                  "0.0",
                  "0.0"
                ],
                [
                  "1",
                  "37600.0",
                  "299000.0",
                  "219700.0",
                  "79300.0",
                  "0.0"
                ],
                [
                  "2",
                  "37550.0",
                  "203900.0",
                  "121600.0",
                  "82300.0",
                  "0.0"
                ],
                [
                  "3",
                  "37500.0",
                  "368100.0",
                  "180600.0",
                  "187500.0",
                  "0.0"
                ],
                [
                  "4",
                  "37450.0",
                  "112700.0",
                  "70400.0",
                  "42300.0",
                  "0.0"
                ]
              ],
              "shape": {
                "columns": 5,
                "rows": 5
              }
            },
            "text/html": [
              "<div>\n",
              "<style scoped>\n",
              "    .dataframe tbody tr th:only-of-type {\n",
              "        vertical-align: middle;\n",
              "    }\n",
              "\n",
              "    .dataframe tbody tr th {\n",
              "        vertical-align: top;\n",
              "    }\n",
              "\n",
              "    .dataframe thead th {\n",
              "        text-align: right;\n",
              "    }\n",
              "</style>\n",
              "<table border=\"1\" class=\"dataframe\">\n",
              "  <thead>\n",
              "    <tr style=\"text-align: right;\">\n",
              "      <th></th>\n",
              "      <th>price</th>\n",
              "      <th>volume</th>\n",
              "      <th>buy_volume</th>\n",
              "      <th>sell_volume</th>\n",
              "      <th>undefined_volume</th>\n",
              "    </tr>\n",
              "  </thead>\n",
              "  <tbody>\n",
              "    <tr>\n",
              "      <th>0</th>\n",
              "      <td>37650.0</td>\n",
              "      <td>17800.0</td>\n",
              "      <td>17800.0</td>\n",
              "      <td>0.0</td>\n",
              "      <td>0.0</td>\n",
              "    </tr>\n",
              "    <tr>\n",
              "      <th>1</th>\n",
              "      <td>37600.0</td>\n",
              "      <td>299000.0</td>\n",
              "      <td>219700.0</td>\n",
              "      <td>79300.0</td>\n",
              "      <td>0.0</td>\n",
              "    </tr>\n",
              "    <tr>\n",
              "      <th>2</th>\n",
              "      <td>37550.0</td>\n",
              "      <td>203900.0</td>\n",
              "      <td>121600.0</td>\n",
              "      <td>82300.0</td>\n",
              "      <td>0.0</td>\n",
              "    </tr>\n",
              "    <tr>\n",
              "      <th>3</th>\n",
              "      <td>37500.0</td>\n",
              "      <td>368100.0</td>\n",
              "      <td>180600.0</td>\n",
              "      <td>187500.0</td>\n",
              "      <td>0.0</td>\n",
              "    </tr>\n",
              "    <tr>\n",
              "      <th>4</th>\n",
              "      <td>37450.0</td>\n",
              "      <td>112700.0</td>\n",
              "      <td>70400.0</td>\n",
              "      <td>42300.0</td>\n",
              "      <td>0.0</td>\n",
              "    </tr>\n",
              "  </tbody>\n",
              "</table>\n",
              "</div>"
            ],
            "text/plain": [
              "     price    volume buy_volume sell_volume undefined_volume\n",
              "0  37650.0   17800.0    17800.0         0.0              0.0\n",
              "1  37600.0  299000.0   219700.0     79300.0              0.0\n",
              "2  37550.0  203900.0   121600.0     82300.0              0.0\n",
              "3  37500.0  368100.0   180600.0    187500.0              0.0\n",
              "4  37450.0  112700.0    70400.0     42300.0              0.0"
            ]
          },
          "metadata": {},
          "output_type": "display_data"
        }
      ],
      "source": [
        "print(\"=== Quote.history ===\")\n",
        "q = Quote(source=\"vci\", symbol=\"VCI\", random_agent=False, show_log=False)\n",
        "df_hist = q.history(start=\"2024-02-01\", end=\"2025-04-18\", interval=\"1D\")\n",
        "display(df_hist.head())\n",
        "\n",
        "print(\"\\n=== Quote.intraday ===\")\n",
        "df_intraday = q.intraday(page_size=10)\n",
        "display(df_intraday.head())\n",
        "\n",
        "print(\"\\n=== Quote.price_depth ===\")\n",
        "df_depth = q.price_depth()\n",
        "display(df_depth.head())\n"
      ]
    },
    {
      "cell_type": "markdown",
      "metadata": {
        "id": "oV42ERWkL0Bz"
      },
      "source": [
        "# Trading"
      ]
    },
    {
      "cell_type": "code",
      "execution_count": null,
      "metadata": {
        "id": "DtGOCjdkL0Bz",
        "outputId": "40084f8c-e91b-4ee9-9ae8-49d863577d0a"
      },
      "outputs": [
        {
          "name": "stdout",
          "output_type": "stream",
          "text": [
            "=== Trading.trading_stats ===\n"
          ]
        },
        {
          "data": {
            "application/vnd.microsoft.datawrangler.viewer.v0+json": {
              "columns": [
                {
                  "name": "index",
                  "rawType": "int64",
                  "type": "integer"
                },
                {
                  "name": "time",
                  "rawType": "datetime64[ns]",
                  "type": "datetime"
                },
                {
                  "name": "ceiling_price",
                  "rawType": "int64",
                  "type": "integer"
                },
                {
                  "name": "floor_price",
                  "rawType": "int64",
                  "type": "integer"
                },
                {
                  "name": "reference_price",
                  "rawType": "int64",
                  "type": "integer"
                },
                {
                  "name": "open_price",
                  "rawType": "int64",
                  "type": "integer"
                },
                {
                  "name": "close_price",
                  "rawType": "int64",
                  "type": "integer"
                },
                {
                  "name": "match_price",
                  "rawType": "int64",
                  "type": "integer"
                },
                {
                  "name": "price_change",
                  "rawType": "int64",
                  "type": "integer"
                },
                {
                  "name": "percent_price_change",
                  "rawType": "float64",
                  "type": "float"
                },
                {
                  "name": "highest_price",
                  "rawType": "int64",
                  "type": "integer"
                },
                {
                  "name": "lowest_price",
                  "rawType": "int64",
                  "type": "integer"
                },
                {
                  "name": "average_price",
                  "rawType": "float64",
                  "type": "float"
                },
                {
                  "name": "total_match_volume",
                  "rawType": "int64",
                  "type": "integer"
                },
                {
                  "name": "total_match_value",
                  "rawType": "int64",
                  "type": "integer"
                },
                {
                  "name": "total_deal_volume",
                  "rawType": "int64",
                  "type": "integer"
                },
                {
                  "name": "total_deal_value",
                  "rawType": "int64",
                  "type": "integer"
                },
                {
                  "name": "total_volume",
                  "rawType": "int64",
                  "type": "integer"
                },
                {
                  "name": "total_value",
                  "rawType": "int64",
                  "type": "integer"
                },
                {
                  "name": "foreign_net_trading_volume",
                  "rawType": "int64",
                  "type": "integer"
                },
                {
                  "name": "foreign_net_trading_value",
                  "rawType": "int64",
                  "type": "integer"
                },
                {
                  "name": "foreign_buy_value_matched",
                  "rawType": "int64",
                  "type": "integer"
                },
                {
                  "name": "foreign_buy_volume_matched",
                  "rawType": "int64",
                  "type": "integer"
                },
                {
                  "name": "foreign_sell_value_matched",
                  "rawType": "int64",
                  "type": "integer"
                },
                {
                  "name": "foreign_sell_volume_matched",
                  "rawType": "int64",
                  "type": "integer"
                },
                {
                  "name": "foreign_buy_value_total",
                  "rawType": "int64",
                  "type": "integer"
                },
                {
                  "name": "foreign_buy_volume_total",
                  "rawType": "int64",
                  "type": "integer"
                },
                {
                  "name": "foreign_sell_value_total",
                  "rawType": "int64",
                  "type": "integer"
                },
                {
                  "name": "foreign_sell_volume_total",
                  "rawType": "int64",
                  "type": "integer"
                },
                {
                  "name": "foreign_total_room",
                  "rawType": "int64",
                  "type": "integer"
                },
                {
                  "name": "foreign_current_room",
                  "rawType": "int64",
                  "type": "integer"
                },
                {
                  "name": "foreign_holding_volume",
                  "rawType": "int64",
                  "type": "integer"
                },
                {
                  "name": "total_buy_trade",
                  "rawType": "int64",
                  "type": "integer"
                },
                {
                  "name": "total_buy_trade_volume",
                  "rawType": "int64",
                  "type": "integer"
                },
                {
                  "name": "total_sell_trade",
                  "rawType": "int64",
                  "type": "integer"
                },
                {
                  "name": "total_sell_trade_volume",
                  "rawType": "int64",
                  "type": "integer"
                },
                {
                  "name": "reference_price_adjusted",
                  "rawType": "int64",
                  "type": "integer"
                },
                {
                  "name": "open_price_adjusted",
                  "rawType": "int64",
                  "type": "integer"
                },
                {
                  "name": "close_price_adjusted",
                  "rawType": "int64",
                  "type": "integer"
                },
                {
                  "name": "percent_price_change_adjusted",
                  "rawType": "float64",
                  "type": "float"
                },
                {
                  "name": "highest_price_adjusted",
                  "rawType": "int64",
                  "type": "integer"
                },
                {
                  "name": "lowest_price_adjusted",
                  "rawType": "int64",
                  "type": "integer"
                },
                {
                  "name": "unmatched_buy_trade_volume",
                  "rawType": "int64",
                  "type": "integer"
                },
                {
                  "name": "unmatched_sell_trade_volume",
                  "rawType": "int64",
                  "type": "integer"
                },
                {
                  "name": "dif_volume_buy_sell",
                  "rawType": "int64",
                  "type": "integer"
                },
                {
                  "name": "average_volume_buy_order",
                  "rawType": "float64",
                  "type": "float"
                },
                {
                  "name": "average_volume_sell_order",
                  "rawType": "float64",
                  "type": "float"
                }
              ],
              "ref": "5fc54b2f-d1e6-4b5d-b3e1-667869b56b6d",
              "rows": [
                [
                  "0",
                  "2024-01-02 00:00:00",
                  "45700",
                  "39800",
                  "42750",
                  "43000",
                  "42300",
                  "42300",
                  "-450",
                  "-0.01052632",
                  "43000",
                  "42050",
                  "42353.76910080386",
                  "7175876",
                  "303925395200",
                  "0",
                  "0",
                  "7175876",
                  "303925395200",
                  "534800",
                  "22607740000",
                  "22607740000",
                  "534800",
                  "0",
                  "0",
                  "22607740000",
                  "534800",
                  "0",
                  "0",
                  "437500000",
                  "343806290",
                  "93693710",
                  "4891",
                  "12360708",
                  "2922",
                  "12949374",
                  "42750",
                  "43000",
                  "42300",
                  "-0.01052632",
                  "43000",
                  "42050",
                  "5184832",
                  "5773498",
                  "-588666",
                  "2527.2353301983235",
                  "4431.681724845996"
                ],
                [
                  "1",
                  "2024-01-03 00:00:00",
                  "45250",
                  "39350",
                  "42300",
                  "42200",
                  "42700",
                  "42700",
                  "400",
                  "0.00945626",
                  "42700",
                  "41800",
                  "42274.253343943696",
                  "3332592",
                  "140882838500",
                  "0",
                  "0",
                  "3332592",
                  "140882838500",
                  "20100",
                  "878230000",
                  "2784040000",
                  "65200",
                  "1905810000",
                  "45100",
                  "2784040000",
                  "65200",
                  "1905810000",
                  "45100",
                  "437500000",
                  "343293390",
                  "94206610",
                  "3555",
                  "7815103",
                  "2158",
                  "7557462",
                  "42300",
                  "42200",
                  "42700",
                  "0.00945626",
                  "42700",
                  "41800",
                  "4482511",
                  "4224870",
                  "257641",
                  "2198.341209563994",
                  "3502.0676552363298"
                ],
                [
                  "2",
                  "2024-01-04 00:00:00",
                  "45650",
                  "39750",
                  "42700",
                  "42800",
                  "42450",
                  "42450",
                  "-250",
                  "-0.0058548",
                  "43650",
                  "42450",
                  "43147.858252317244",
                  "9110211",
                  "393126997900",
                  "21000",
                  "865200000",
                  "9131211",
                  "393992197900",
                  "208200",
                  "9037210000",
                  "10054090000",
                  "231600",
                  "1016880000",
                  "23400",
                  "10054090000",
                  "231600",
                  "1016880000",
                  "23400",
                  "437500000",
                  "343061790",
                  "94438210",
                  "4261",
                  "14929098",
                  "7243",
                  "19552004",
                  "42700",
                  "42800",
                  "42450",
                  "-0.0058548",
                  "43650",
                  "42450",
                  "5818887",
                  "10441793",
                  "-4622906",
                  "3503.6606430415395",
                  "2699.434488471628"
                ],
                [
                  "3",
                  "2024-01-05 00:00:00",
                  "45400",
                  "39500",
                  "42450",
                  "42600",
                  "42500",
                  "42500",
                  "50",
                  "0.00117786",
                  "42700",
                  "42150",
                  "42446.94391644548",
                  "3825239",
                  "162369705300",
                  "0",
                  "0",
                  "3825239",
                  "162369705300",
                  "200",
                  "8345000",
                  "38095000",
                  "900",
                  "29750000",
                  "700",
                  "38095000",
                  "900",
                  "29750000",
                  "700",
                  "437500000",
                  "343111990",
                  "94388010",
                  "3165",
                  "8239237",
                  "2718",
                  "7717154",
                  "42450",
                  "42600",
                  "42500",
                  "0.00117786",
                  "42700",
                  "42150",
                  "4413998",
                  "3891915",
                  "522083",
                  "2603.234439178515",
                  "2839.2766740250186"
                ],
                [
                  "4",
                  "2024-01-08 00:00:00",
                  "45450",
                  "39550",
                  "42500",
                  "42750",
                  "42700",
                  "42700",
                  "200",
                  "0.00470588",
                  "43300",
                  "42650",
                  "42873.86694883194",
                  "4107758",
                  "176115469950",
                  "0",
                  "0",
                  "4107758",
                  "176115469950",
                  "365800",
                  "15686950000",
                  "16266100000",
                  "379300",
                  "579150000",
                  "13500",
                  "16266100000",
                  "379300",
                  "579150000",
                  "13500",
                  "437500000",
                  "342756090",
                  "94743910",
                  "3097",
                  "7350977",
                  "3537",
                  "10508677",
                  "42500",
                  "42750",
                  "42700",
                  "0.00470588",
                  "43300",
                  "42650",
                  "3243219",
                  "6400919",
                  "-3157700",
                  "2373.579916047788",
                  "2971.0706813683914"
                ]
              ],
              "shape": {
                "columns": 46,
                "rows": 5
              }
            },
            "text/html": [
              "<div>\n",
              "<style scoped>\n",
              "    .dataframe tbody tr th:only-of-type {\n",
              "        vertical-align: middle;\n",
              "    }\n",
              "\n",
              "    .dataframe tbody tr th {\n",
              "        vertical-align: top;\n",
              "    }\n",
              "\n",
              "    .dataframe thead th {\n",
              "        text-align: right;\n",
              "    }\n",
              "</style>\n",
              "<table border=\"1\" class=\"dataframe\">\n",
              "  <thead>\n",
              "    <tr style=\"text-align: right;\">\n",
              "      <th></th>\n",
              "      <th>time</th>\n",
              "      <th>ceiling_price</th>\n",
              "      <th>floor_price</th>\n",
              "      <th>reference_price</th>\n",
              "      <th>open_price</th>\n",
              "      <th>close_price</th>\n",
              "      <th>match_price</th>\n",
              "      <th>price_change</th>\n",
              "      <th>percent_price_change</th>\n",
              "      <th>highest_price</th>\n",
              "      <th>...</th>\n",
              "      <th>open_price_adjusted</th>\n",
              "      <th>close_price_adjusted</th>\n",
              "      <th>percent_price_change_adjusted</th>\n",
              "      <th>highest_price_adjusted</th>\n",
              "      <th>lowest_price_adjusted</th>\n",
              "      <th>unmatched_buy_trade_volume</th>\n",
              "      <th>unmatched_sell_trade_volume</th>\n",
              "      <th>dif_volume_buy_sell</th>\n",
              "      <th>average_volume_buy_order</th>\n",
              "      <th>average_volume_sell_order</th>\n",
              "    </tr>\n",
              "  </thead>\n",
              "  <tbody>\n",
              "    <tr>\n",
              "      <th>0</th>\n",
              "      <td>2024-01-02</td>\n",
              "      <td>45700</td>\n",
              "      <td>39800</td>\n",
              "      <td>42750</td>\n",
              "      <td>43000</td>\n",
              "      <td>42300</td>\n",
              "      <td>42300</td>\n",
              "      <td>-450</td>\n",
              "      <td>-0.010526</td>\n",
              "      <td>43000</td>\n",
              "      <td>...</td>\n",
              "      <td>43000</td>\n",
              "      <td>42300</td>\n",
              "      <td>-0.010526</td>\n",
              "      <td>43000</td>\n",
              "      <td>42050</td>\n",
              "      <td>5184832</td>\n",
              "      <td>5773498</td>\n",
              "      <td>-588666</td>\n",
              "      <td>2527.235330</td>\n",
              "      <td>4431.681725</td>\n",
              "    </tr>\n",
              "    <tr>\n",
              "      <th>1</th>\n",
              "      <td>2024-01-03</td>\n",
              "      <td>45250</td>\n",
              "      <td>39350</td>\n",
              "      <td>42300</td>\n",
              "      <td>42200</td>\n",
              "      <td>42700</td>\n",
              "      <td>42700</td>\n",
              "      <td>400</td>\n",
              "      <td>0.009456</td>\n",
              "      <td>42700</td>\n",
              "      <td>...</td>\n",
              "      <td>42200</td>\n",
              "      <td>42700</td>\n",
              "      <td>0.009456</td>\n",
              "      <td>42700</td>\n",
              "      <td>41800</td>\n",
              "      <td>4482511</td>\n",
              "      <td>4224870</td>\n",
              "      <td>257641</td>\n",
              "      <td>2198.341210</td>\n",
              "      <td>3502.067655</td>\n",
              "    </tr>\n",
              "    <tr>\n",
              "      <th>2</th>\n",
              "      <td>2024-01-04</td>\n",
              "      <td>45650</td>\n",
              "      <td>39750</td>\n",
              "      <td>42700</td>\n",
              "      <td>42800</td>\n",
              "      <td>42450</td>\n",
              "      <td>42450</td>\n",
              "      <td>-250</td>\n",
              "      <td>-0.005855</td>\n",
              "      <td>43650</td>\n",
              "      <td>...</td>\n",
              "      <td>42800</td>\n",
              "      <td>42450</td>\n",
              "      <td>-0.005855</td>\n",
              "      <td>43650</td>\n",
              "      <td>42450</td>\n",
              "      <td>5818887</td>\n",
              "      <td>10441793</td>\n",
              "      <td>-4622906</td>\n",
              "      <td>3503.660643</td>\n",
              "      <td>2699.434488</td>\n",
              "    </tr>\n",
              "    <tr>\n",
              "      <th>3</th>\n",
              "      <td>2024-01-05</td>\n",
              "      <td>45400</td>\n",
              "      <td>39500</td>\n",
              "      <td>42450</td>\n",
              "      <td>42600</td>\n",
              "      <td>42500</td>\n",
              "      <td>42500</td>\n",
              "      <td>50</td>\n",
              "      <td>0.001178</td>\n",
              "      <td>42700</td>\n",
              "      <td>...</td>\n",
              "      <td>42600</td>\n",
              "      <td>42500</td>\n",
              "      <td>0.001178</td>\n",
              "      <td>42700</td>\n",
              "      <td>42150</td>\n",
              "      <td>4413998</td>\n",
              "      <td>3891915</td>\n",
              "      <td>522083</td>\n",
              "      <td>2603.234439</td>\n",
              "      <td>2839.276674</td>\n",
              "    </tr>\n",
              "    <tr>\n",
              "      <th>4</th>\n",
              "      <td>2024-01-08</td>\n",
              "      <td>45450</td>\n",
              "      <td>39550</td>\n",
              "      <td>42500</td>\n",
              "      <td>42750</td>\n",
              "      <td>42700</td>\n",
              "      <td>42700</td>\n",
              "      <td>200</td>\n",
              "      <td>0.004706</td>\n",
              "      <td>43300</td>\n",
              "      <td>...</td>\n",
              "      <td>42750</td>\n",
              "      <td>42700</td>\n",
              "      <td>0.004706</td>\n",
              "      <td>43300</td>\n",
              "      <td>42650</td>\n",
              "      <td>3243219</td>\n",
              "      <td>6400919</td>\n",
              "      <td>-3157700</td>\n",
              "      <td>2373.579916</td>\n",
              "      <td>2971.070681</td>\n",
              "    </tr>\n",
              "  </tbody>\n",
              "</table>\n",
              "<p>5 rows × 46 columns</p>\n",
              "</div>"
            ],
            "text/plain": [
              "        time  ceiling_price  floor_price  reference_price  open_price  \\\n",
              "0 2024-01-02          45700        39800            42750       43000   \n",
              "1 2024-01-03          45250        39350            42300       42200   \n",
              "2 2024-01-04          45650        39750            42700       42800   \n",
              "3 2024-01-05          45400        39500            42450       42600   \n",
              "4 2024-01-08          45450        39550            42500       42750   \n",
              "\n",
              "   close_price  match_price  price_change  percent_price_change  \\\n",
              "0        42300        42300          -450             -0.010526   \n",
              "1        42700        42700           400              0.009456   \n",
              "2        42450        42450          -250             -0.005855   \n",
              "3        42500        42500            50              0.001178   \n",
              "4        42700        42700           200              0.004706   \n",
              "\n",
              "   highest_price  ...  open_price_adjusted  close_price_adjusted  \\\n",
              "0          43000  ...                43000                 42300   \n",
              "1          42700  ...                42200                 42700   \n",
              "2          43650  ...                42800                 42450   \n",
              "3          42700  ...                42600                 42500   \n",
              "4          43300  ...                42750                 42700   \n",
              "\n",
              "   percent_price_change_adjusted  highest_price_adjusted  \\\n",
              "0                      -0.010526                   43000   \n",
              "1                       0.009456                   42700   \n",
              "2                      -0.005855                   43650   \n",
              "3                       0.001178                   42700   \n",
              "4                       0.004706                   43300   \n",
              "\n",
              "   lowest_price_adjusted  unmatched_buy_trade_volume  \\\n",
              "0                  42050                     5184832   \n",
              "1                  41800                     4482511   \n",
              "2                  42450                     5818887   \n",
              "3                  42150                     4413998   \n",
              "4                  42650                     3243219   \n",
              "\n",
              "   unmatched_sell_trade_volume  dif_volume_buy_sell  average_volume_buy_order  \\\n",
              "0                      5773498              -588666               2527.235330   \n",
              "1                      4224870               257641               2198.341210   \n",
              "2                     10441793             -4622906               3503.660643   \n",
              "3                      3891915               522083               2603.234439   \n",
              "4                      6400919             -3157700               2373.579916   \n",
              "\n",
              "   average_volume_sell_order  \n",
              "0                4431.681725  \n",
              "1                3502.067655  \n",
              "2                2699.434488  \n",
              "3                2839.276674  \n",
              "4                2971.070681  \n",
              "\n",
              "[5 rows x 46 columns]"
            ]
          },
          "metadata": {},
          "output_type": "display_data"
        },
        {
          "name": "stdout",
          "output_type": "stream",
          "text": [
            "\n",
            "=== Trading.side_stats ===\n",
            "({'code': 'VN000000VCI9', 'symbol': 'VCI', 'ceiling': 39550, 'floor': 34450, 'refPrice': 37000, 'stockType': 'STOCK', 'board': 'HSX', 'exercisePrice': 0, 'exerciseRatio': '0.0:1', 'tradingStatus': 'TRADING_ACTIVATED', 'securityStatus': 'N', 'maturityDate': None, 'lastTradingDate': None, 'underlyingSymbol': None, 'issuerName': 'VCS', 'listedShare': 718099480, 'receivedTime': '2025-05-06T01:43:24.999Z', 'sendingTime': '20250506 01:43:31.266', 'messageType': 'd', 'type': 'STOCK', 'enOrganName': 'Vietcap Securities Joint Stock Company', 'enOrganShortName': 'Vietcap Securities', 'organName': 'Công ty Cổ phần Chứng khoán Vietcap', 'organShortName': 'Chứng khoán Vietcap', 'ticker': 'VCI', 'mappingSymbol': None, 'productGrpID': 'STO', 'partition': 5, 'indexType': None, 'tradingDate': '2025-05-06', 'lstTradingStatus': None}, {'code': 'VN000000VCI9', 'messageType': 'X', 'receivedTime': '2025-05-06T07:45:10.158Z', 'session': 'ENDED', 'symbol': 'VCI', 'time': '2025-05-06T07:45:00.047Z', 'transactionTime': '074500047', 'askPrices': [{'price': 37050, 'volume': 27100}, {'price': 37100, 'volume': 30400}, {'price': 37150, 'volume': 25600}], 'bidPrices': [{'price': 37000, 'volume': 219400}, {'price': 36950, 'volume': 71100}, {'price': 36900, 'volume': 136400}]}, {'accumulatedValue': 279549.045, 'accumulatedVolume': 7511000, 'accumulatedValueG1': 279549.045, 'accumulatedVolumeG1': 7511000, 'avgMatchPrice': 37218.61869258421, 'code': 'VN000000VCI9', 'currentRoom': 500178709, 'foreignBuyVolume': 1452200, 'foreignSellVolume': 206000, 'foreignBuyValue': 53976370000, 'foreignSellValue': 7660840000, 'highest': 37650, 'lowest': 36900, 'matchPrice': 37000, 'matchType': 's', 'matchVol': 1000, 'messageType': 'MT', 'receivedTime': '2025-05-06T08:32:18.804Z', 'sendingTime': '20250506 07:45:04.632', 'session': 'ENDED', 'symbol': 'VCI', 'time': '2025-05-06T07:45:00.047Z', 'totalRoom': 718099480, 'totalBuyOrders': 0, 'totalSellOrders': 0, 'bidCount': 0, 'askCount': 0, 'underlying': None, 'openInterest': None, 'stockType': 'STOCK', 'partition': 5, 'isMatchPrice': False, 'ceilingPrice': 39550, 'floorPrice': 34450, 'referencePrice': 37000})\n"
          ]
        }
      ],
      "source": [
        "print(\"=== Trading.trading_stats ===\")\n",
        "t = Trading(source=\"vci\", symbol=\"VCI\", random_agent=False, show_log=False)\n",
        "df_stats = t.trading_stats(start=\"2024-01-01\", end=\"2024-03-31\", limit=100)\n",
        "display(df_stats.head())\n",
        "\n",
        "print(\"\\n=== Trading.side_stats ===\")\n",
        "bids_asks = t.side_stats(dropna=True)\n",
        "print(bids_asks)\n",
        "\n",
        "# print(\"\\n=== Trading.price_board ===\")\n",
        "# board = t.price_board(symbols_list=[\"VCI\",\"VCB\"])\n",
        "# display(board.head())\n"
      ]
    },
    {
      "cell_type": "markdown",
      "metadata": {
        "id": "rhqv3_AkL0Bz"
      },
      "source": [
        "# Insight"
      ]
    },
    {
      "cell_type": "code",
      "execution_count": 4,
      "metadata": {
        "id": "mCe4608JL0B0",
        "outputId": "3b28ac1d-98b0-4b85-fb4c-fe3da16f5788"
      },
      "outputs": [
        {
          "data": {
            "application/vnd.microsoft.datawrangler.viewer.v0+json": {
              "columns": [
                {
                  "name": "index",
                  "rawType": "int64",
                  "type": "integer"
                },
                {
                  "name": "symbol",
                  "rawType": "object",
                  "type": "string"
                },
                {
                  "name": "index",
                  "rawType": "object",
                  "type": "string"
                },
                {
                  "name": "last_price",
                  "rawType": "float64",
                  "type": "float"
                },
                {
                  "name": "last_updated",
                  "rawType": "object",
                  "type": "string"
                },
                {
                  "name": "price_change_1d",
                  "rawType": "float64",
                  "type": "float"
                },
                {
                  "name": "price_change_pct_1d",
                  "rawType": "float64",
                  "type": "float"
                },
                {
                  "name": "accumulated_value",
                  "rawType": "float64",
                  "type": "float"
                },
                {
                  "name": "avg_volume_20d",
                  "rawType": "float64",
                  "type": "float"
                },
                {
                  "name": "volume_spike_20d_pct",
                  "rawType": "float64",
                  "type": "float"
                },
                {
                  "name": "total_volume_avg_20d",
                  "rawType": "float64",
                  "type": "float"
                },
                {
                  "name": "deal_volume_spike_20d_pct",
                  "rawType": "float64",
                  "type": "float"
                },
                {
                  "name": "deal_volume_spike_5d_20d_pct",
                  "rawType": "float64",
                  "type": "float"
                },
                {
                  "name": "deal_volume_sum_5d",
                  "rawType": "float64",
                  "type": "float"
                },
                {
                  "name": "deal_value_avg_5d",
                  "rawType": "float64",
                  "type": "float"
                },
                {
                  "name": "deal_volume_avg_5d",
                  "rawType": "float64",
                  "type": "float"
                }
              ],
              "ref": "560709b5-fc75-41c4-8197-8a38992fd53e",
              "rows": [
                [
                  "0",
                  "NVL",
                  "VNINDEX",
                  "12.25",
                  "2025-05-06 15:59",
                  "0.8000000000000007",
                  "6.986899563318794",
                  "448919125000.0",
                  "18547530.0",
                  "199.42062366255777",
                  "18905405.0",
                  "0.013223731520165793",
                  "7.079985855896766",
                  "6692500.0",
                  "15097825000.0",
                  "1338500.0"
                ],
                [
                  "1",
                  "JVC",
                  "VNINDEX",
                  "4.79",
                  "2025-05-06 15:59",
                  "0.3099999999999996",
                  "6.919642857142838",
                  "2453917000.0",
                  "413735.0",
                  "123.82322017716653",
                  "563735.0",
                  "0.0",
                  "0.0",
                  "0.0",
                  "0.0",
                  "0.0"
                ],
                [
                  "2",
                  "ITD",
                  "VNINDEX",
                  "14.0",
                  "2025-05-06 15:59",
                  "0.9000000000000004",
                  "6.870229007633588",
                  "2222550000.0",
                  "43705.0",
                  "363.8027685619494",
                  "43705.0",
                  "0.0",
                  "0.0",
                  "0.0",
                  "0.0",
                  "0.0"
                ],
                [
                  "3",
                  "VPG",
                  "VNINDEX",
                  "12.05",
                  "2025-05-06 15:59",
                  "0.75",
                  "6.63716814159292",
                  "10711245000.0",
                  "404250.0",
                  "225.97402597402598",
                  "404250.0",
                  "0.0",
                  "0.0",
                  "0.0",
                  "0.0",
                  "0.0"
                ],
                [
                  "4",
                  "SGT",
                  "VNINDEX",
                  "18.05",
                  "2025-05-06 15:59",
                  "0.8500000000000014",
                  "4.941860465116288",
                  "3635850000.0",
                  "123545.0",
                  "163.66506131369135",
                  "123545.0",
                  "0.0",
                  "0.0",
                  "0.0",
                  "0.0",
                  "0.0"
                ],
                [
                  "5",
                  "BCG",
                  "VNINDEX",
                  "3.07",
                  "2025-05-06 15:59",
                  "0.13999999999999968",
                  "4.778156996587013",
                  "26403620000.0",
                  "9645770.0",
                  "89.61752146277591",
                  "9691670.0",
                  "0.0",
                  "0.18159924966491842",
                  "88000.0",
                  "48048000.0",
                  "17600.0"
                ],
                [
                  "6",
                  "PAC",
                  "VNINDEX",
                  "31.6",
                  "2025-05-06 15:59",
                  "1.4000000000000021",
                  "4.635761589403975",
                  "7165575000.0",
                  "174970.0",
                  "130.13659484483054",
                  "174970.0",
                  "0.0",
                  "0.0",
                  "0.0",
                  "0.0",
                  "0.0"
                ],
                [
                  "7",
                  "GEG",
                  "VNINDEX",
                  "15.25",
                  "2025-05-06 15:59",
                  "0.6500000000000004",
                  "4.452054794520555",
                  "66684475000.00001",
                  "1918135.0",
                  "229.081894652879",
                  "2166875.0",
                  "2.990481684453418",
                  "45.54762042111336",
                  "4934800.0",
                  "14105752000.0",
                  "986960.0"
                ],
                [
                  "8",
                  "GIL",
                  "VNINDEX",
                  "16.0",
                  "2025-05-06 15:59",
                  "0.6500000000000004",
                  "4.234527687296419",
                  "10461590000.0",
                  "603570.0",
                  "109.61446062594231",
                  "603570.0",
                  "0.0",
                  "0.0",
                  "0.0",
                  "0.0",
                  "0.0"
                ],
                [
                  "9",
                  "DHG",
                  "VNINDEX",
                  "103.0",
                  "2025-05-06 15:59",
                  "4.0",
                  "4.040404040404044",
                  "7497170000.0",
                  "33315.0",
                  "220.02101155635597",
                  "33315.0",
                  "0.0",
                  "0.0",
                  "0.0",
                  "0.0",
                  "0.0"
                ]
              ],
              "shape": {
                "columns": 15,
                "rows": 10
              }
            },
            "text/html": [
              "<div>\n",
              "<style scoped>\n",
              "    .dataframe tbody tr th:only-of-type {\n",
              "        vertical-align: middle;\n",
              "    }\n",
              "\n",
              "    .dataframe tbody tr th {\n",
              "        vertical-align: top;\n",
              "    }\n",
              "\n",
              "    .dataframe thead th {\n",
              "        text-align: right;\n",
              "    }\n",
              "</style>\n",
              "<table border=\"1\" class=\"dataframe\">\n",
              "  <thead>\n",
              "    <tr style=\"text-align: right;\">\n",
              "      <th></th>\n",
              "      <th>symbol</th>\n",
              "      <th>index</th>\n",
              "      <th>last_price</th>\n",
              "      <th>last_updated</th>\n",
              "      <th>price_change_1d</th>\n",
              "      <th>price_change_pct_1d</th>\n",
              "      <th>accumulated_value</th>\n",
              "      <th>avg_volume_20d</th>\n",
              "      <th>volume_spike_20d_pct</th>\n",
              "      <th>total_volume_avg_20d</th>\n",
              "      <th>deal_volume_spike_20d_pct</th>\n",
              "      <th>deal_volume_spike_5d_20d_pct</th>\n",
              "      <th>deal_volume_sum_5d</th>\n",
              "      <th>deal_value_avg_5d</th>\n",
              "      <th>deal_volume_avg_5d</th>\n",
              "    </tr>\n",
              "  </thead>\n",
              "  <tbody>\n",
              "    <tr>\n",
              "      <th>0</th>\n",
              "      <td>NVL</td>\n",
              "      <td>VNINDEX</td>\n",
              "      <td>12.25</td>\n",
              "      <td>2025-05-06 15:59</td>\n",
              "      <td>0.80</td>\n",
              "      <td>6.986900</td>\n",
              "      <td>4.489191e+11</td>\n",
              "      <td>18547530.0</td>\n",
              "      <td>199.420624</td>\n",
              "      <td>18905405.0</td>\n",
              "      <td>0.013224</td>\n",
              "      <td>7.079986</td>\n",
              "      <td>6692500.0</td>\n",
              "      <td>1.509782e+10</td>\n",
              "      <td>1338500.0</td>\n",
              "    </tr>\n",
              "    <tr>\n",
              "      <th>1</th>\n",
              "      <td>JVC</td>\n",
              "      <td>VNINDEX</td>\n",
              "      <td>4.79</td>\n",
              "      <td>2025-05-06 15:59</td>\n",
              "      <td>0.31</td>\n",
              "      <td>6.919643</td>\n",
              "      <td>2.453917e+09</td>\n",
              "      <td>413735.0</td>\n",
              "      <td>123.823220</td>\n",
              "      <td>563735.0</td>\n",
              "      <td>0.000000</td>\n",
              "      <td>0.000000</td>\n",
              "      <td>0.0</td>\n",
              "      <td>0.000000e+00</td>\n",
              "      <td>0.0</td>\n",
              "    </tr>\n",
              "    <tr>\n",
              "      <th>2</th>\n",
              "      <td>ITD</td>\n",
              "      <td>VNINDEX</td>\n",
              "      <td>14.00</td>\n",
              "      <td>2025-05-06 15:59</td>\n",
              "      <td>0.90</td>\n",
              "      <td>6.870229</td>\n",
              "      <td>2.222550e+09</td>\n",
              "      <td>43705.0</td>\n",
              "      <td>363.802769</td>\n",
              "      <td>43705.0</td>\n",
              "      <td>0.000000</td>\n",
              "      <td>0.000000</td>\n",
              "      <td>0.0</td>\n",
              "      <td>0.000000e+00</td>\n",
              "      <td>0.0</td>\n",
              "    </tr>\n",
              "    <tr>\n",
              "      <th>3</th>\n",
              "      <td>VPG</td>\n",
              "      <td>VNINDEX</td>\n",
              "      <td>12.05</td>\n",
              "      <td>2025-05-06 15:59</td>\n",
              "      <td>0.75</td>\n",
              "      <td>6.637168</td>\n",
              "      <td>1.071124e+10</td>\n",
              "      <td>404250.0</td>\n",
              "      <td>225.974026</td>\n",
              "      <td>404250.0</td>\n",
              "      <td>0.000000</td>\n",
              "      <td>0.000000</td>\n",
              "      <td>0.0</td>\n",
              "      <td>0.000000e+00</td>\n",
              "      <td>0.0</td>\n",
              "    </tr>\n",
              "    <tr>\n",
              "      <th>4</th>\n",
              "      <td>SGT</td>\n",
              "      <td>VNINDEX</td>\n",
              "      <td>18.05</td>\n",
              "      <td>2025-05-06 15:59</td>\n",
              "      <td>0.85</td>\n",
              "      <td>4.941860</td>\n",
              "      <td>3.635850e+09</td>\n",
              "      <td>123545.0</td>\n",
              "      <td>163.665061</td>\n",
              "      <td>123545.0</td>\n",
              "      <td>0.000000</td>\n",
              "      <td>0.000000</td>\n",
              "      <td>0.0</td>\n",
              "      <td>0.000000e+00</td>\n",
              "      <td>0.0</td>\n",
              "    </tr>\n",
              "    <tr>\n",
              "      <th>5</th>\n",
              "      <td>BCG</td>\n",
              "      <td>VNINDEX</td>\n",
              "      <td>3.07</td>\n",
              "      <td>2025-05-06 15:59</td>\n",
              "      <td>0.14</td>\n",
              "      <td>4.778157</td>\n",
              "      <td>2.640362e+10</td>\n",
              "      <td>9645770.0</td>\n",
              "      <td>89.617521</td>\n",
              "      <td>9691670.0</td>\n",
              "      <td>0.000000</td>\n",
              "      <td>0.181599</td>\n",
              "      <td>88000.0</td>\n",
              "      <td>4.804800e+07</td>\n",
              "      <td>17600.0</td>\n",
              "    </tr>\n",
              "    <tr>\n",
              "      <th>6</th>\n",
              "      <td>PAC</td>\n",
              "      <td>VNINDEX</td>\n",
              "      <td>31.60</td>\n",
              "      <td>2025-05-06 15:59</td>\n",
              "      <td>1.40</td>\n",
              "      <td>4.635762</td>\n",
              "      <td>7.165575e+09</td>\n",
              "      <td>174970.0</td>\n",
              "      <td>130.136595</td>\n",
              "      <td>174970.0</td>\n",
              "      <td>0.000000</td>\n",
              "      <td>0.000000</td>\n",
              "      <td>0.0</td>\n",
              "      <td>0.000000e+00</td>\n",
              "      <td>0.0</td>\n",
              "    </tr>\n",
              "    <tr>\n",
              "      <th>7</th>\n",
              "      <td>GEG</td>\n",
              "      <td>VNINDEX</td>\n",
              "      <td>15.25</td>\n",
              "      <td>2025-05-06 15:59</td>\n",
              "      <td>0.65</td>\n",
              "      <td>4.452055</td>\n",
              "      <td>6.668448e+10</td>\n",
              "      <td>1918135.0</td>\n",
              "      <td>229.081895</td>\n",
              "      <td>2166875.0</td>\n",
              "      <td>2.990482</td>\n",
              "      <td>45.547620</td>\n",
              "      <td>4934800.0</td>\n",
              "      <td>1.410575e+10</td>\n",
              "      <td>986960.0</td>\n",
              "    </tr>\n",
              "    <tr>\n",
              "      <th>8</th>\n",
              "      <td>GIL</td>\n",
              "      <td>VNINDEX</td>\n",
              "      <td>16.00</td>\n",
              "      <td>2025-05-06 15:59</td>\n",
              "      <td>0.65</td>\n",
              "      <td>4.234528</td>\n",
              "      <td>1.046159e+10</td>\n",
              "      <td>603570.0</td>\n",
              "      <td>109.614461</td>\n",
              "      <td>603570.0</td>\n",
              "      <td>0.000000</td>\n",
              "      <td>0.000000</td>\n",
              "      <td>0.0</td>\n",
              "      <td>0.000000e+00</td>\n",
              "      <td>0.0</td>\n",
              "    </tr>\n",
              "    <tr>\n",
              "      <th>9</th>\n",
              "      <td>DHG</td>\n",
              "      <td>VNINDEX</td>\n",
              "      <td>103.00</td>\n",
              "      <td>2025-05-06 15:59</td>\n",
              "      <td>4.00</td>\n",
              "      <td>4.040404</td>\n",
              "      <td>7.497170e+09</td>\n",
              "      <td>33315.0</td>\n",
              "      <td>220.021012</td>\n",
              "      <td>33315.0</td>\n",
              "      <td>0.000000</td>\n",
              "      <td>0.000000</td>\n",
              "      <td>0.0</td>\n",
              "      <td>0.000000e+00</td>\n",
              "      <td>0.0</td>\n",
              "    </tr>\n",
              "  </tbody>\n",
              "</table>\n",
              "</div>"
            ],
            "text/plain": [
              "  symbol    index  last_price      last_updated  price_change_1d  \\\n",
              "0    NVL  VNINDEX       12.25  2025-05-06 15:59             0.80   \n",
              "1    JVC  VNINDEX        4.79  2025-05-06 15:59             0.31   \n",
              "2    ITD  VNINDEX       14.00  2025-05-06 15:59             0.90   \n",
              "3    VPG  VNINDEX       12.05  2025-05-06 15:59             0.75   \n",
              "4    SGT  VNINDEX       18.05  2025-05-06 15:59             0.85   \n",
              "5    BCG  VNINDEX        3.07  2025-05-06 15:59             0.14   \n",
              "6    PAC  VNINDEX       31.60  2025-05-06 15:59             1.40   \n",
              "7    GEG  VNINDEX       15.25  2025-05-06 15:59             0.65   \n",
              "8    GIL  VNINDEX       16.00  2025-05-06 15:59             0.65   \n",
              "9    DHG  VNINDEX      103.00  2025-05-06 15:59             4.00   \n",
              "\n",
              "   price_change_pct_1d  accumulated_value  avg_volume_20d  \\\n",
              "0             6.986900       4.489191e+11      18547530.0   \n",
              "1             6.919643       2.453917e+09        413735.0   \n",
              "2             6.870229       2.222550e+09         43705.0   \n",
              "3             6.637168       1.071124e+10        404250.0   \n",
              "4             4.941860       3.635850e+09        123545.0   \n",
              "5             4.778157       2.640362e+10       9645770.0   \n",
              "6             4.635762       7.165575e+09        174970.0   \n",
              "7             4.452055       6.668448e+10       1918135.0   \n",
              "8             4.234528       1.046159e+10        603570.0   \n",
              "9             4.040404       7.497170e+09         33315.0   \n",
              "\n",
              "   volume_spike_20d_pct  total_volume_avg_20d  deal_volume_spike_20d_pct  \\\n",
              "0            199.420624            18905405.0                   0.013224   \n",
              "1            123.823220              563735.0                   0.000000   \n",
              "2            363.802769               43705.0                   0.000000   \n",
              "3            225.974026              404250.0                   0.000000   \n",
              "4            163.665061              123545.0                   0.000000   \n",
              "5             89.617521             9691670.0                   0.000000   \n",
              "6            130.136595              174970.0                   0.000000   \n",
              "7            229.081895             2166875.0                   2.990482   \n",
              "8            109.614461              603570.0                   0.000000   \n",
              "9            220.021012               33315.0                   0.000000   \n",
              "\n",
              "   deal_volume_spike_5d_20d_pct  deal_volume_sum_5d  deal_value_avg_5d  \\\n",
              "0                      7.079986           6692500.0       1.509782e+10   \n",
              "1                      0.000000                 0.0       0.000000e+00   \n",
              "2                      0.000000                 0.0       0.000000e+00   \n",
              "3                      0.000000                 0.0       0.000000e+00   \n",
              "4                      0.000000                 0.0       0.000000e+00   \n",
              "5                      0.181599             88000.0       4.804800e+07   \n",
              "6                      0.000000                 0.0       0.000000e+00   \n",
              "7                     45.547620           4934800.0       1.410575e+10   \n",
              "8                      0.000000                 0.0       0.000000e+00   \n",
              "9                      0.000000                 0.0       0.000000e+00   \n",
              "\n",
              "   deal_volume_avg_5d  \n",
              "0           1338500.0  \n",
              "1                 0.0  \n",
              "2                 0.0  \n",
              "3                 0.0  \n",
              "4                 0.0  \n",
              "5             17600.0  \n",
              "6                 0.0  \n",
              "7            986960.0  \n",
              "8                 0.0  \n",
              "9                 0.0  "
            ]
          },
          "execution_count": 4,
          "metadata": {},
          "output_type": "execute_result"
        }
      ],
      "source": [
        "from vnstock_data import TopStock\n",
        "\n",
        "top = TopStock(source=\"vnd\")\n",
        "top.gainer(index=\"VNINDEX\", limit=10)"
      ]
    },
    {
      "cell_type": "code",
      "execution_count": 5,
      "metadata": {
        "id": "GX5oxYLBL0B0",
        "outputId": "8057c41f-82e0-4072-b350-fbe2ffdce03c"
      },
      "outputs": [
        {
          "data": {
            "application/vnd.microsoft.datawrangler.viewer.v0+json": {
              "columns": [
                {
                  "name": "index",
                  "rawType": "int64",
                  "type": "integer"
                },
                {
                  "name": "symbol",
                  "rawType": "object",
                  "type": "string"
                },
                {
                  "name": "index",
                  "rawType": "object",
                  "type": "string"
                },
                {
                  "name": "last_price",
                  "rawType": "float64",
                  "type": "float"
                },
                {
                  "name": "last_updated",
                  "rawType": "object",
                  "type": "string"
                },
                {
                  "name": "price_change_1d",
                  "rawType": "float64",
                  "type": "float"
                },
                {
                  "name": "price_change_pct_1d",
                  "rawType": "float64",
                  "type": "float"
                },
                {
                  "name": "accumulated_value",
                  "rawType": "float64",
                  "type": "float"
                },
                {
                  "name": "avg_volume_20d",
                  "rawType": "float64",
                  "type": "float"
                },
                {
                  "name": "volume_spike_20d_pct",
                  "rawType": "float64",
                  "type": "float"
                },
                {
                  "name": "total_volume_avg_20d",
                  "rawType": "float64",
                  "type": "float"
                },
                {
                  "name": "deal_volume_spike_20d_pct",
                  "rawType": "float64",
                  "type": "float"
                },
                {
                  "name": "deal_volume_spike_5d_20d_pct",
                  "rawType": "float64",
                  "type": "float"
                },
                {
                  "name": "deal_volume_sum_5d",
                  "rawType": "float64",
                  "type": "float"
                },
                {
                  "name": "deal_value_avg_5d",
                  "rawType": "float64",
                  "type": "float"
                },
                {
                  "name": "deal_volume_avg_5d",
                  "rawType": "float64",
                  "type": "float"
                }
              ],
              "ref": "43a319da-526e-48c6-9ac9-5617e61ba452",
              "rows": [
                [
                  "0",
                  "TDH",
                  "VNINDEX",
                  "4.19",
                  "2025-05-06 15:59",
                  "-0.3099999999999996",
                  "-6.888888888888878",
                  "3113252000.0",
                  "751700.0",
                  "97.00678462152455",
                  "751700.0",
                  "0.0",
                  "0.0",
                  "0.0",
                  "0.0",
                  "0.0"
                ],
                [
                  "1",
                  "RAL",
                  "VNINDEX",
                  "98.9",
                  "2025-05-06 15:59",
                  "-5.299999999999997",
                  "-5.086372360844527",
                  "11063560000.0",
                  "24000.0",
                  "465.8333333333333",
                  "24000.0",
                  "0.0",
                  "0.0",
                  "0.0",
                  "0.0",
                  "0.0"
                ],
                [
                  "2",
                  "PTC",
                  "VNINDEX",
                  "5.8",
                  "2025-05-06 15:59",
                  "-0.29000000000000004",
                  "-4.761904761904767",
                  "1778000.0",
                  "34875.0",
                  "0.8602150537634409",
                  "34875.0",
                  "0.0",
                  "0.0",
                  "0.0",
                  "0.0",
                  "0.0"
                ],
                [
                  "3",
                  "TMT",
                  "VNINDEX",
                  "12.3",
                  "2025-05-06 15:59",
                  "-0.5999999999999996",
                  "-4.651162790697672",
                  "358470000.0",
                  "32075.0",
                  "90.72486360093531",
                  "32075.0",
                  "0.0",
                  "0.0",
                  "0.0",
                  "0.0",
                  "0.0"
                ],
                [
                  "4",
                  "HAG",
                  "VNINDEX",
                  "12.8",
                  "2025-05-06 15:59",
                  "-0.5999999999999996",
                  "-4.477611940298509",
                  "198160425000.0",
                  "10058125.0",
                  "150.46840241098613",
                  "10059125.0",
                  "0.0",
                  "0.03976489008735849",
                  "20000.0",
                  "47600000.0",
                  "4000.0"
                ],
                [
                  "5",
                  "CCC",
                  "VNINDEX",
                  "19.3",
                  "2025-05-06 15:59",
                  "-0.8999999999999986",
                  "-4.455445544554449",
                  "4292080000.0000005",
                  "102175.0",
                  "221.38487888426715",
                  "102175.0",
                  "0.0",
                  "0.0",
                  "0.0",
                  "0.0",
                  "0.0"
                ],
                [
                  "6",
                  "C47",
                  "VNINDEX",
                  "6.52",
                  "2025-05-06 15:59",
                  "-0.29000000000000004",
                  "-4.258443465491924",
                  "309286000.0",
                  "38790.0",
                  "121.4230471771075",
                  "38790.0",
                  "0.0",
                  "0.0",
                  "0.0",
                  "0.0",
                  "0.0"
                ],
                [
                  "7",
                  "HAH",
                  "VNINDEX",
                  "63.5",
                  "2025-05-06 15:59",
                  "-2.5",
                  "-3.7878787878787845",
                  "108762440000.0",
                  "2396440.0",
                  "70.34184039658827",
                  "2469685.0",
                  "0.0",
                  "0.0",
                  "0.0",
                  "0.0",
                  "0.0"
                ],
                [
                  "8",
                  "VSC",
                  "VNINDEX",
                  "23.05",
                  "2025-05-06 15:59",
                  "-0.8999999999999986",
                  "-3.757828810020869",
                  "185738105000.0",
                  "4700865.0",
                  "168.61790330077548",
                  "4821615.0",
                  "1.659195103715249",
                  "9.457412091176918",
                  "2280000.0",
                  "10213500000.0",
                  "456000.0"
                ],
                [
                  "9",
                  "CIG",
                  "VNINDEX",
                  "7.9",
                  "2025-05-06 15:59",
                  "-0.2599999999999998",
                  "-3.1862745098039214",
                  "1282539000.0",
                  "297540.0",
                  "54.04315386166566",
                  "339210.0",
                  "0.0",
                  "0.0",
                  "0.0",
                  "0.0",
                  "0.0"
                ]
              ],
              "shape": {
                "columns": 15,
                "rows": 10
              }
            },
            "text/html": [
              "<div>\n",
              "<style scoped>\n",
              "    .dataframe tbody tr th:only-of-type {\n",
              "        vertical-align: middle;\n",
              "    }\n",
              "\n",
              "    .dataframe tbody tr th {\n",
              "        vertical-align: top;\n",
              "    }\n",
              "\n",
              "    .dataframe thead th {\n",
              "        text-align: right;\n",
              "    }\n",
              "</style>\n",
              "<table border=\"1\" class=\"dataframe\">\n",
              "  <thead>\n",
              "    <tr style=\"text-align: right;\">\n",
              "      <th></th>\n",
              "      <th>symbol</th>\n",
              "      <th>index</th>\n",
              "      <th>last_price</th>\n",
              "      <th>last_updated</th>\n",
              "      <th>price_change_1d</th>\n",
              "      <th>price_change_pct_1d</th>\n",
              "      <th>accumulated_value</th>\n",
              "      <th>avg_volume_20d</th>\n",
              "      <th>volume_spike_20d_pct</th>\n",
              "      <th>total_volume_avg_20d</th>\n",
              "      <th>deal_volume_spike_20d_pct</th>\n",
              "      <th>deal_volume_spike_5d_20d_pct</th>\n",
              "      <th>deal_volume_sum_5d</th>\n",
              "      <th>deal_value_avg_5d</th>\n",
              "      <th>deal_volume_avg_5d</th>\n",
              "    </tr>\n",
              "  </thead>\n",
              "  <tbody>\n",
              "    <tr>\n",
              "      <th>0</th>\n",
              "      <td>TDH</td>\n",
              "      <td>VNINDEX</td>\n",
              "      <td>4.19</td>\n",
              "      <td>2025-05-06 15:59</td>\n",
              "      <td>-0.31</td>\n",
              "      <td>-6.888889</td>\n",
              "      <td>3.113252e+09</td>\n",
              "      <td>751700.0</td>\n",
              "      <td>97.006785</td>\n",
              "      <td>751700.0</td>\n",
              "      <td>0.000000</td>\n",
              "      <td>0.000000</td>\n",
              "      <td>0.0</td>\n",
              "      <td>0.000000e+00</td>\n",
              "      <td>0.0</td>\n",
              "    </tr>\n",
              "    <tr>\n",
              "      <th>1</th>\n",
              "      <td>RAL</td>\n",
              "      <td>VNINDEX</td>\n",
              "      <td>98.90</td>\n",
              "      <td>2025-05-06 15:59</td>\n",
              "      <td>-5.30</td>\n",
              "      <td>-5.086372</td>\n",
              "      <td>1.106356e+10</td>\n",
              "      <td>24000.0</td>\n",
              "      <td>465.833333</td>\n",
              "      <td>24000.0</td>\n",
              "      <td>0.000000</td>\n",
              "      <td>0.000000</td>\n",
              "      <td>0.0</td>\n",
              "      <td>0.000000e+00</td>\n",
              "      <td>0.0</td>\n",
              "    </tr>\n",
              "    <tr>\n",
              "      <th>2</th>\n",
              "      <td>PTC</td>\n",
              "      <td>VNINDEX</td>\n",
              "      <td>5.80</td>\n",
              "      <td>2025-05-06 15:59</td>\n",
              "      <td>-0.29</td>\n",
              "      <td>-4.761905</td>\n",
              "      <td>1.778000e+06</td>\n",
              "      <td>34875.0</td>\n",
              "      <td>0.860215</td>\n",
              "      <td>34875.0</td>\n",
              "      <td>0.000000</td>\n",
              "      <td>0.000000</td>\n",
              "      <td>0.0</td>\n",
              "      <td>0.000000e+00</td>\n",
              "      <td>0.0</td>\n",
              "    </tr>\n",
              "    <tr>\n",
              "      <th>3</th>\n",
              "      <td>TMT</td>\n",
              "      <td>VNINDEX</td>\n",
              "      <td>12.30</td>\n",
              "      <td>2025-05-06 15:59</td>\n",
              "      <td>-0.60</td>\n",
              "      <td>-4.651163</td>\n",
              "      <td>3.584700e+08</td>\n",
              "      <td>32075.0</td>\n",
              "      <td>90.724864</td>\n",
              "      <td>32075.0</td>\n",
              "      <td>0.000000</td>\n",
              "      <td>0.000000</td>\n",
              "      <td>0.0</td>\n",
              "      <td>0.000000e+00</td>\n",
              "      <td>0.0</td>\n",
              "    </tr>\n",
              "    <tr>\n",
              "      <th>4</th>\n",
              "      <td>HAG</td>\n",
              "      <td>VNINDEX</td>\n",
              "      <td>12.80</td>\n",
              "      <td>2025-05-06 15:59</td>\n",
              "      <td>-0.60</td>\n",
              "      <td>-4.477612</td>\n",
              "      <td>1.981604e+11</td>\n",
              "      <td>10058125.0</td>\n",
              "      <td>150.468402</td>\n",
              "      <td>10059125.0</td>\n",
              "      <td>0.000000</td>\n",
              "      <td>0.039765</td>\n",
              "      <td>20000.0</td>\n",
              "      <td>4.760000e+07</td>\n",
              "      <td>4000.0</td>\n",
              "    </tr>\n",
              "    <tr>\n",
              "      <th>5</th>\n",
              "      <td>CCC</td>\n",
              "      <td>VNINDEX</td>\n",
              "      <td>19.30</td>\n",
              "      <td>2025-05-06 15:59</td>\n",
              "      <td>-0.90</td>\n",
              "      <td>-4.455446</td>\n",
              "      <td>4.292080e+09</td>\n",
              "      <td>102175.0</td>\n",
              "      <td>221.384879</td>\n",
              "      <td>102175.0</td>\n",
              "      <td>0.000000</td>\n",
              "      <td>0.000000</td>\n",
              "      <td>0.0</td>\n",
              "      <td>0.000000e+00</td>\n",
              "      <td>0.0</td>\n",
              "    </tr>\n",
              "    <tr>\n",
              "      <th>6</th>\n",
              "      <td>C47</td>\n",
              "      <td>VNINDEX</td>\n",
              "      <td>6.52</td>\n",
              "      <td>2025-05-06 15:59</td>\n",
              "      <td>-0.29</td>\n",
              "      <td>-4.258443</td>\n",
              "      <td>3.092860e+08</td>\n",
              "      <td>38790.0</td>\n",
              "      <td>121.423047</td>\n",
              "      <td>38790.0</td>\n",
              "      <td>0.000000</td>\n",
              "      <td>0.000000</td>\n",
              "      <td>0.0</td>\n",
              "      <td>0.000000e+00</td>\n",
              "      <td>0.0</td>\n",
              "    </tr>\n",
              "    <tr>\n",
              "      <th>7</th>\n",
              "      <td>HAH</td>\n",
              "      <td>VNINDEX</td>\n",
              "      <td>63.50</td>\n",
              "      <td>2025-05-06 15:59</td>\n",
              "      <td>-2.50</td>\n",
              "      <td>-3.787879</td>\n",
              "      <td>1.087624e+11</td>\n",
              "      <td>2396440.0</td>\n",
              "      <td>70.341840</td>\n",
              "      <td>2469685.0</td>\n",
              "      <td>0.000000</td>\n",
              "      <td>0.000000</td>\n",
              "      <td>0.0</td>\n",
              "      <td>0.000000e+00</td>\n",
              "      <td>0.0</td>\n",
              "    </tr>\n",
              "    <tr>\n",
              "      <th>8</th>\n",
              "      <td>VSC</td>\n",
              "      <td>VNINDEX</td>\n",
              "      <td>23.05</td>\n",
              "      <td>2025-05-06 15:59</td>\n",
              "      <td>-0.90</td>\n",
              "      <td>-3.757829</td>\n",
              "      <td>1.857381e+11</td>\n",
              "      <td>4700865.0</td>\n",
              "      <td>168.617903</td>\n",
              "      <td>4821615.0</td>\n",
              "      <td>1.659195</td>\n",
              "      <td>9.457412</td>\n",
              "      <td>2280000.0</td>\n",
              "      <td>1.021350e+10</td>\n",
              "      <td>456000.0</td>\n",
              "    </tr>\n",
              "    <tr>\n",
              "      <th>9</th>\n",
              "      <td>CIG</td>\n",
              "      <td>VNINDEX</td>\n",
              "      <td>7.90</td>\n",
              "      <td>2025-05-06 15:59</td>\n",
              "      <td>-0.26</td>\n",
              "      <td>-3.186275</td>\n",
              "      <td>1.282539e+09</td>\n",
              "      <td>297540.0</td>\n",
              "      <td>54.043154</td>\n",
              "      <td>339210.0</td>\n",
              "      <td>0.000000</td>\n",
              "      <td>0.000000</td>\n",
              "      <td>0.0</td>\n",
              "      <td>0.000000e+00</td>\n",
              "      <td>0.0</td>\n",
              "    </tr>\n",
              "  </tbody>\n",
              "</table>\n",
              "</div>"
            ],
            "text/plain": [
              "  symbol    index  last_price      last_updated  price_change_1d  \\\n",
              "0    TDH  VNINDEX        4.19  2025-05-06 15:59            -0.31   \n",
              "1    RAL  VNINDEX       98.90  2025-05-06 15:59            -5.30   \n",
              "2    PTC  VNINDEX        5.80  2025-05-06 15:59            -0.29   \n",
              "3    TMT  VNINDEX       12.30  2025-05-06 15:59            -0.60   \n",
              "4    HAG  VNINDEX       12.80  2025-05-06 15:59            -0.60   \n",
              "5    CCC  VNINDEX       19.30  2025-05-06 15:59            -0.90   \n",
              "6    C47  VNINDEX        6.52  2025-05-06 15:59            -0.29   \n",
              "7    HAH  VNINDEX       63.50  2025-05-06 15:59            -2.50   \n",
              "8    VSC  VNINDEX       23.05  2025-05-06 15:59            -0.90   \n",
              "9    CIG  VNINDEX        7.90  2025-05-06 15:59            -0.26   \n",
              "\n",
              "   price_change_pct_1d  accumulated_value  avg_volume_20d  \\\n",
              "0            -6.888889       3.113252e+09        751700.0   \n",
              "1            -5.086372       1.106356e+10         24000.0   \n",
              "2            -4.761905       1.778000e+06         34875.0   \n",
              "3            -4.651163       3.584700e+08         32075.0   \n",
              "4            -4.477612       1.981604e+11      10058125.0   \n",
              "5            -4.455446       4.292080e+09        102175.0   \n",
              "6            -4.258443       3.092860e+08         38790.0   \n",
              "7            -3.787879       1.087624e+11       2396440.0   \n",
              "8            -3.757829       1.857381e+11       4700865.0   \n",
              "9            -3.186275       1.282539e+09        297540.0   \n",
              "\n",
              "   volume_spike_20d_pct  total_volume_avg_20d  deal_volume_spike_20d_pct  \\\n",
              "0             97.006785              751700.0                   0.000000   \n",
              "1            465.833333               24000.0                   0.000000   \n",
              "2              0.860215               34875.0                   0.000000   \n",
              "3             90.724864               32075.0                   0.000000   \n",
              "4            150.468402            10059125.0                   0.000000   \n",
              "5            221.384879              102175.0                   0.000000   \n",
              "6            121.423047               38790.0                   0.000000   \n",
              "7             70.341840             2469685.0                   0.000000   \n",
              "8            168.617903             4821615.0                   1.659195   \n",
              "9             54.043154              339210.0                   0.000000   \n",
              "\n",
              "   deal_volume_spike_5d_20d_pct  deal_volume_sum_5d  deal_value_avg_5d  \\\n",
              "0                      0.000000                 0.0       0.000000e+00   \n",
              "1                      0.000000                 0.0       0.000000e+00   \n",
              "2                      0.000000                 0.0       0.000000e+00   \n",
              "3                      0.000000                 0.0       0.000000e+00   \n",
              "4                      0.039765             20000.0       4.760000e+07   \n",
              "5                      0.000000                 0.0       0.000000e+00   \n",
              "6                      0.000000                 0.0       0.000000e+00   \n",
              "7                      0.000000                 0.0       0.000000e+00   \n",
              "8                      9.457412           2280000.0       1.021350e+10   \n",
              "9                      0.000000                 0.0       0.000000e+00   \n",
              "\n",
              "   deal_volume_avg_5d  \n",
              "0                 0.0  \n",
              "1                 0.0  \n",
              "2                 0.0  \n",
              "3                 0.0  \n",
              "4              4000.0  \n",
              "5                 0.0  \n",
              "6                 0.0  \n",
              "7                 0.0  \n",
              "8            456000.0  \n",
              "9                 0.0  "
            ]
          },
          "execution_count": 5,
          "metadata": {},
          "output_type": "execute_result"
        }
      ],
      "source": [
        "top.loser(index=\"VNINDEX\", limit=10)"
      ]
    },
    {
      "cell_type": "code",
      "execution_count": 6,
      "metadata": {
        "id": "Z_7SMmT-L0B0",
        "outputId": "d1ef9f9e-bf20-44c7-c474-46be6269298e"
      },
      "outputs": [
        {
          "data": {
            "application/vnd.microsoft.datawrangler.viewer.v0+json": {
              "columns": [
                {
                  "name": "index",
                  "rawType": "int64",
                  "type": "integer"
                },
                {
                  "name": "symbol",
                  "rawType": "object",
                  "type": "string"
                },
                {
                  "name": "index",
                  "rawType": "object",
                  "type": "string"
                },
                {
                  "name": "last_price",
                  "rawType": "float64",
                  "type": "float"
                },
                {
                  "name": "last_updated",
                  "rawType": "object",
                  "type": "string"
                },
                {
                  "name": "price_change_1d",
                  "rawType": "float64",
                  "type": "float"
                },
                {
                  "name": "price_change_pct_1d",
                  "rawType": "float64",
                  "type": "float"
                },
                {
                  "name": "accumulated_value",
                  "rawType": "float64",
                  "type": "float"
                },
                {
                  "name": "avg_volume_20d",
                  "rawType": "float64",
                  "type": "float"
                },
                {
                  "name": "volume_spike_20d_pct",
                  "rawType": "float64",
                  "type": "float"
                },
                {
                  "name": "total_volume_avg_20d",
                  "rawType": "float64",
                  "type": "float"
                },
                {
                  "name": "deal_volume_spike_20d_pct",
                  "rawType": "float64",
                  "type": "float"
                },
                {
                  "name": "deal_volume_spike_5d_20d_pct",
                  "rawType": "float64",
                  "type": "float"
                },
                {
                  "name": "deal_volume_sum_5d",
                  "rawType": "float64",
                  "type": "float"
                },
                {
                  "name": "deal_value_avg_5d",
                  "rawType": "float64",
                  "type": "float"
                },
                {
                  "name": "deal_volume_avg_5d",
                  "rawType": "float64",
                  "type": "float"
                }
              ],
              "ref": "86f69cba-b256-42b1-8757-d11d5c07505d",
              "rows": [
                [
                  "0",
                  "SHB",
                  "VNINDEX",
                  "12.5",
                  "2025-05-06 15:59",
                  "-0.1999999999999993",
                  "-1.5748031496062964",
                  "683908075000.0",
                  "80281235.0",
                  "67.41214182866021",
                  "82126752.6",
                  "0.012176300271733867",
                  "0.9940938538948149",
                  "4082085.0",
                  "10526265640.0",
                  "816417.0"
                ],
                [
                  "1",
                  "TCB",
                  "VNINDEX",
                  "26.85",
                  "2025-05-06 15:59",
                  "0.3500000000000014",
                  "1.3207547169811429",
                  "656492195000.0",
                  "24031015.0",
                  "101.56499839894404",
                  "29045138.45",
                  "0.10824530946589447",
                  "25.67386074897502",
                  "37285042.0",
                  "193512799140.0",
                  "7457008.4"
                ],
                [
                  "2",
                  "FPT",
                  "VNINDEX",
                  "109.7",
                  "2025-05-06 15:59",
                  "1.1000000000000085",
                  "1.0128913443830712",
                  "626044050000.0",
                  "9474185.0",
                  "60.017827390957635",
                  "10325895.004999999",
                  "1.0120197808461062",
                  "9.628608653473327",
                  "4971200.1",
                  "111817889380.0",
                  "994240.0199999999"
                ],
                [
                  "3",
                  "HPG",
                  "VNINDEX",
                  "25.45",
                  "2025-05-06 15:59",
                  "-0.25",
                  "-0.9727626459143934",
                  "538666425000.0",
                  "35262820.0",
                  "59.37500177240504",
                  "37133760.0",
                  "0.061938247029118515",
                  "11.894437837698096",
                  "22084260.0",
                  "113539676600.0",
                  "4416852.0"
                ],
                [
                  "4",
                  "MBB",
                  "VNINDEX",
                  "23.55",
                  "2025-05-06 15:59",
                  "0.0",
                  "0.0",
                  "537897065000.0",
                  "37754270.0",
                  "60.37356834074662",
                  "38277356.85",
                  "0.0",
                  "0.18130823471422636",
                  "347000.0",
                  "1649390000.0",
                  "69400.0"
                ],
                [
                  "5",
                  "NVL",
                  "VNINDEX",
                  "12.25",
                  "2025-05-06 15:59",
                  "0.8000000000000007",
                  "6.986899563318794",
                  "448919125000.0",
                  "18547530.0",
                  "199.42062366255777",
                  "18905405.0",
                  "0.013223731520165793",
                  "7.079985855896766",
                  "6692500.0",
                  "15097825000.0",
                  "1338500.0"
                ],
                [
                  "6",
                  "VPB",
                  "VNINDEX",
                  "16.9",
                  "2025-05-06 15:59",
                  "0.29999999999999716",
                  "1.8072289156626287",
                  "430942685000.0",
                  "23940170.0",
                  "105.74611625564899",
                  "26011480.55",
                  "0.0",
                  "22.30353858115931",
                  "29007403.0",
                  "96953134200.0",
                  "5801480.6"
                ],
                [
                  "7",
                  "VIC",
                  "VNINDEX",
                  "70.5",
                  "2025-05-06 15:59",
                  "0.5",
                  "0.7142857142857117",
                  "403114650000.0",
                  "11203725.0",
                  "50.948233734762326",
                  "15763202.95",
                  "0.0",
                  "3.571736034775851",
                  "2815100.0",
                  "37631343020.0",
                  "563020.0"
                ],
                [
                  "8",
                  "VIX",
                  "VNINDEX",
                  "12.3",
                  "2025-05-06 15:59",
                  "-0.14999999999999858",
                  "-1.2048192771084265",
                  "386396515000.0",
                  "47565345.0",
                  "65.079733995412",
                  "48847225.0",
                  "0.0",
                  "0.08106908836684172",
                  "198000.0",
                  "485100000.0",
                  "39600.0"
                ],
                [
                  "9",
                  "SSI",
                  "VNINDEX",
                  "23.15",
                  "2025-05-06 15:59",
                  "0.04999999999999716",
                  "0.21645021645020357",
                  "384392980000.0",
                  "30002105.0",
                  "54.91281361757784",
                  "30602705.005000003",
                  "1.6991965249968592",
                  "1.5227412737660377",
                  "2330000.1",
                  "10701548430.0",
                  "466000.02"
                ]
              ],
              "shape": {
                "columns": 15,
                "rows": 10
              }
            },
            "text/html": [
              "<div>\n",
              "<style scoped>\n",
              "    .dataframe tbody tr th:only-of-type {\n",
              "        vertical-align: middle;\n",
              "    }\n",
              "\n",
              "    .dataframe tbody tr th {\n",
              "        vertical-align: top;\n",
              "    }\n",
              "\n",
              "    .dataframe thead th {\n",
              "        text-align: right;\n",
              "    }\n",
              "</style>\n",
              "<table border=\"1\" class=\"dataframe\">\n",
              "  <thead>\n",
              "    <tr style=\"text-align: right;\">\n",
              "      <th></th>\n",
              "      <th>symbol</th>\n",
              "      <th>index</th>\n",
              "      <th>last_price</th>\n",
              "      <th>last_updated</th>\n",
              "      <th>price_change_1d</th>\n",
              "      <th>price_change_pct_1d</th>\n",
              "      <th>accumulated_value</th>\n",
              "      <th>avg_volume_20d</th>\n",
              "      <th>volume_spike_20d_pct</th>\n",
              "      <th>total_volume_avg_20d</th>\n",
              "      <th>deal_volume_spike_20d_pct</th>\n",
              "      <th>deal_volume_spike_5d_20d_pct</th>\n",
              "      <th>deal_volume_sum_5d</th>\n",
              "      <th>deal_value_avg_5d</th>\n",
              "      <th>deal_volume_avg_5d</th>\n",
              "    </tr>\n",
              "  </thead>\n",
              "  <tbody>\n",
              "    <tr>\n",
              "      <th>0</th>\n",
              "      <td>SHB</td>\n",
              "      <td>VNINDEX</td>\n",
              "      <td>12.50</td>\n",
              "      <td>2025-05-06 15:59</td>\n",
              "      <td>-0.20</td>\n",
              "      <td>-1.574803</td>\n",
              "      <td>6.839081e+11</td>\n",
              "      <td>80281235.0</td>\n",
              "      <td>67.412142</td>\n",
              "      <td>8.212675e+07</td>\n",
              "      <td>0.012176</td>\n",
              "      <td>0.994094</td>\n",
              "      <td>4082085.0</td>\n",
              "      <td>1.052627e+10</td>\n",
              "      <td>816417.00</td>\n",
              "    </tr>\n",
              "    <tr>\n",
              "      <th>1</th>\n",
              "      <td>TCB</td>\n",
              "      <td>VNINDEX</td>\n",
              "      <td>26.85</td>\n",
              "      <td>2025-05-06 15:59</td>\n",
              "      <td>0.35</td>\n",
              "      <td>1.320755</td>\n",
              "      <td>6.564922e+11</td>\n",
              "      <td>24031015.0</td>\n",
              "      <td>101.564998</td>\n",
              "      <td>2.904514e+07</td>\n",
              "      <td>0.108245</td>\n",
              "      <td>25.673861</td>\n",
              "      <td>37285042.0</td>\n",
              "      <td>1.935128e+11</td>\n",
              "      <td>7457008.40</td>\n",
              "    </tr>\n",
              "    <tr>\n",
              "      <th>2</th>\n",
              "      <td>FPT</td>\n",
              "      <td>VNINDEX</td>\n",
              "      <td>109.70</td>\n",
              "      <td>2025-05-06 15:59</td>\n",
              "      <td>1.10</td>\n",
              "      <td>1.012891</td>\n",
              "      <td>6.260440e+11</td>\n",
              "      <td>9474185.0</td>\n",
              "      <td>60.017827</td>\n",
              "      <td>1.032590e+07</td>\n",
              "      <td>1.012020</td>\n",
              "      <td>9.628609</td>\n",
              "      <td>4971200.1</td>\n",
              "      <td>1.118179e+11</td>\n",
              "      <td>994240.02</td>\n",
              "    </tr>\n",
              "    <tr>\n",
              "      <th>3</th>\n",
              "      <td>HPG</td>\n",
              "      <td>VNINDEX</td>\n",
              "      <td>25.45</td>\n",
              "      <td>2025-05-06 15:59</td>\n",
              "      <td>-0.25</td>\n",
              "      <td>-0.972763</td>\n",
              "      <td>5.386664e+11</td>\n",
              "      <td>35262820.0</td>\n",
              "      <td>59.375002</td>\n",
              "      <td>3.713376e+07</td>\n",
              "      <td>0.061938</td>\n",
              "      <td>11.894438</td>\n",
              "      <td>22084260.0</td>\n",
              "      <td>1.135397e+11</td>\n",
              "      <td>4416852.00</td>\n",
              "    </tr>\n",
              "    <tr>\n",
              "      <th>4</th>\n",
              "      <td>MBB</td>\n",
              "      <td>VNINDEX</td>\n",
              "      <td>23.55</td>\n",
              "      <td>2025-05-06 15:59</td>\n",
              "      <td>0.00</td>\n",
              "      <td>0.000000</td>\n",
              "      <td>5.378971e+11</td>\n",
              "      <td>37754270.0</td>\n",
              "      <td>60.373568</td>\n",
              "      <td>3.827736e+07</td>\n",
              "      <td>0.000000</td>\n",
              "      <td>0.181308</td>\n",
              "      <td>347000.0</td>\n",
              "      <td>1.649390e+09</td>\n",
              "      <td>69400.00</td>\n",
              "    </tr>\n",
              "    <tr>\n",
              "      <th>5</th>\n",
              "      <td>NVL</td>\n",
              "      <td>VNINDEX</td>\n",
              "      <td>12.25</td>\n",
              "      <td>2025-05-06 15:59</td>\n",
              "      <td>0.80</td>\n",
              "      <td>6.986900</td>\n",
              "      <td>4.489191e+11</td>\n",
              "      <td>18547530.0</td>\n",
              "      <td>199.420624</td>\n",
              "      <td>1.890540e+07</td>\n",
              "      <td>0.013224</td>\n",
              "      <td>7.079986</td>\n",
              "      <td>6692500.0</td>\n",
              "      <td>1.509782e+10</td>\n",
              "      <td>1338500.00</td>\n",
              "    </tr>\n",
              "    <tr>\n",
              "      <th>6</th>\n",
              "      <td>VPB</td>\n",
              "      <td>VNINDEX</td>\n",
              "      <td>16.90</td>\n",
              "      <td>2025-05-06 15:59</td>\n",
              "      <td>0.30</td>\n",
              "      <td>1.807229</td>\n",
              "      <td>4.309427e+11</td>\n",
              "      <td>23940170.0</td>\n",
              "      <td>105.746116</td>\n",
              "      <td>2.601148e+07</td>\n",
              "      <td>0.000000</td>\n",
              "      <td>22.303539</td>\n",
              "      <td>29007403.0</td>\n",
              "      <td>9.695313e+10</td>\n",
              "      <td>5801480.60</td>\n",
              "    </tr>\n",
              "    <tr>\n",
              "      <th>7</th>\n",
              "      <td>VIC</td>\n",
              "      <td>VNINDEX</td>\n",
              "      <td>70.50</td>\n",
              "      <td>2025-05-06 15:59</td>\n",
              "      <td>0.50</td>\n",
              "      <td>0.714286</td>\n",
              "      <td>4.031146e+11</td>\n",
              "      <td>11203725.0</td>\n",
              "      <td>50.948234</td>\n",
              "      <td>1.576320e+07</td>\n",
              "      <td>0.000000</td>\n",
              "      <td>3.571736</td>\n",
              "      <td>2815100.0</td>\n",
              "      <td>3.763134e+10</td>\n",
              "      <td>563020.00</td>\n",
              "    </tr>\n",
              "    <tr>\n",
              "      <th>8</th>\n",
              "      <td>VIX</td>\n",
              "      <td>VNINDEX</td>\n",
              "      <td>12.30</td>\n",
              "      <td>2025-05-06 15:59</td>\n",
              "      <td>-0.15</td>\n",
              "      <td>-1.204819</td>\n",
              "      <td>3.863965e+11</td>\n",
              "      <td>47565345.0</td>\n",
              "      <td>65.079734</td>\n",
              "      <td>4.884722e+07</td>\n",
              "      <td>0.000000</td>\n",
              "      <td>0.081069</td>\n",
              "      <td>198000.0</td>\n",
              "      <td>4.851000e+08</td>\n",
              "      <td>39600.00</td>\n",
              "    </tr>\n",
              "    <tr>\n",
              "      <th>9</th>\n",
              "      <td>SSI</td>\n",
              "      <td>VNINDEX</td>\n",
              "      <td>23.15</td>\n",
              "      <td>2025-05-06 15:59</td>\n",
              "      <td>0.05</td>\n",
              "      <td>0.216450</td>\n",
              "      <td>3.843930e+11</td>\n",
              "      <td>30002105.0</td>\n",
              "      <td>54.912814</td>\n",
              "      <td>3.060271e+07</td>\n",
              "      <td>1.699197</td>\n",
              "      <td>1.522741</td>\n",
              "      <td>2330000.1</td>\n",
              "      <td>1.070155e+10</td>\n",
              "      <td>466000.02</td>\n",
              "    </tr>\n",
              "  </tbody>\n",
              "</table>\n",
              "</div>"
            ],
            "text/plain": [
              "  symbol    index  last_price      last_updated  price_change_1d  \\\n",
              "0    SHB  VNINDEX       12.50  2025-05-06 15:59            -0.20   \n",
              "1    TCB  VNINDEX       26.85  2025-05-06 15:59             0.35   \n",
              "2    FPT  VNINDEX      109.70  2025-05-06 15:59             1.10   \n",
              "3    HPG  VNINDEX       25.45  2025-05-06 15:59            -0.25   \n",
              "4    MBB  VNINDEX       23.55  2025-05-06 15:59             0.00   \n",
              "5    NVL  VNINDEX       12.25  2025-05-06 15:59             0.80   \n",
              "6    VPB  VNINDEX       16.90  2025-05-06 15:59             0.30   \n",
              "7    VIC  VNINDEX       70.50  2025-05-06 15:59             0.50   \n",
              "8    VIX  VNINDEX       12.30  2025-05-06 15:59            -0.15   \n",
              "9    SSI  VNINDEX       23.15  2025-05-06 15:59             0.05   \n",
              "\n",
              "   price_change_pct_1d  accumulated_value  avg_volume_20d  \\\n",
              "0            -1.574803       6.839081e+11      80281235.0   \n",
              "1             1.320755       6.564922e+11      24031015.0   \n",
              "2             1.012891       6.260440e+11       9474185.0   \n",
              "3            -0.972763       5.386664e+11      35262820.0   \n",
              "4             0.000000       5.378971e+11      37754270.0   \n",
              "5             6.986900       4.489191e+11      18547530.0   \n",
              "6             1.807229       4.309427e+11      23940170.0   \n",
              "7             0.714286       4.031146e+11      11203725.0   \n",
              "8            -1.204819       3.863965e+11      47565345.0   \n",
              "9             0.216450       3.843930e+11      30002105.0   \n",
              "\n",
              "   volume_spike_20d_pct  total_volume_avg_20d  deal_volume_spike_20d_pct  \\\n",
              "0             67.412142          8.212675e+07                   0.012176   \n",
              "1            101.564998          2.904514e+07                   0.108245   \n",
              "2             60.017827          1.032590e+07                   1.012020   \n",
              "3             59.375002          3.713376e+07                   0.061938   \n",
              "4             60.373568          3.827736e+07                   0.000000   \n",
              "5            199.420624          1.890540e+07                   0.013224   \n",
              "6            105.746116          2.601148e+07                   0.000000   \n",
              "7             50.948234          1.576320e+07                   0.000000   \n",
              "8             65.079734          4.884722e+07                   0.000000   \n",
              "9             54.912814          3.060271e+07                   1.699197   \n",
              "\n",
              "   deal_volume_spike_5d_20d_pct  deal_volume_sum_5d  deal_value_avg_5d  \\\n",
              "0                      0.994094           4082085.0       1.052627e+10   \n",
              "1                     25.673861          37285042.0       1.935128e+11   \n",
              "2                      9.628609           4971200.1       1.118179e+11   \n",
              "3                     11.894438          22084260.0       1.135397e+11   \n",
              "4                      0.181308            347000.0       1.649390e+09   \n",
              "5                      7.079986           6692500.0       1.509782e+10   \n",
              "6                     22.303539          29007403.0       9.695313e+10   \n",
              "7                      3.571736           2815100.0       3.763134e+10   \n",
              "8                      0.081069            198000.0       4.851000e+08   \n",
              "9                      1.522741           2330000.1       1.070155e+10   \n",
              "\n",
              "   deal_volume_avg_5d  \n",
              "0           816417.00  \n",
              "1          7457008.40  \n",
              "2           994240.02  \n",
              "3          4416852.00  \n",
              "4            69400.00  \n",
              "5          1338500.00  \n",
              "6          5801480.60  \n",
              "7           563020.00  \n",
              "8            39600.00  \n",
              "9           466000.02  "
            ]
          },
          "execution_count": 6,
          "metadata": {},
          "output_type": "execute_result"
        }
      ],
      "source": [
        "top.value(index='VNINDEX', limit=10)"
      ]
    },
    {
      "cell_type": "code",
      "execution_count": 7,
      "metadata": {
        "id": "S5zfaJwfL0B0",
        "outputId": "e7d501e6-17db-4f35-c655-71cb9b94a83d"
      },
      "outputs": [
        {
          "data": {
            "application/vnd.microsoft.datawrangler.viewer.v0+json": {
              "columns": [
                {
                  "name": "index",
                  "rawType": "int64",
                  "type": "integer"
                },
                {
                  "name": "symbol",
                  "rawType": "object",
                  "type": "string"
                },
                {
                  "name": "index",
                  "rawType": "object",
                  "type": "string"
                },
                {
                  "name": "last_price",
                  "rawType": "float64",
                  "type": "float"
                },
                {
                  "name": "last_updated",
                  "rawType": "object",
                  "type": "string"
                },
                {
                  "name": "price_change_1d",
                  "rawType": "float64",
                  "type": "float"
                },
                {
                  "name": "price_change_pct_1d",
                  "rawType": "float64",
                  "type": "float"
                },
                {
                  "name": "accumulated_value",
                  "rawType": "float64",
                  "type": "float"
                },
                {
                  "name": "avg_volume_20d",
                  "rawType": "float64",
                  "type": "float"
                },
                {
                  "name": "volume_spike_20d_pct",
                  "rawType": "float64",
                  "type": "float"
                },
                {
                  "name": "total_volume_avg_20d",
                  "rawType": "float64",
                  "type": "float"
                },
                {
                  "name": "deal_volume_spike_20d_pct",
                  "rawType": "float64",
                  "type": "float"
                },
                {
                  "name": "deal_volume_spike_5d_20d_pct",
                  "rawType": "float64",
                  "type": "float"
                },
                {
                  "name": "deal_volume_sum_5d",
                  "rawType": "float64",
                  "type": "float"
                },
                {
                  "name": "deal_value_avg_5d",
                  "rawType": "float64",
                  "type": "float"
                },
                {
                  "name": "deal_volume_avg_5d",
                  "rawType": "float64",
                  "type": "float"
                }
              ],
              "ref": "e1c40ad1-e894-46cf-b10b-07a8af1e4855",
              "rows": [
                [
                  "0",
                  "SC5",
                  "VNINDEX",
                  "17.85",
                  "2025-05-06 15:59",
                  "0.0",
                  "0.0",
                  "2364735000.0",
                  "12220.0",
                  "1162.0294599018002",
                  "14720.0",
                  "339.67391304347825",
                  "67.93478260869566",
                  "50000.0",
                  "166499999.99999997",
                  "10000.0"
                ],
                [
                  "1",
                  "RAL",
                  "VNINDEX",
                  "98.9",
                  "2025-05-06 15:59",
                  "-5.299999999999997",
                  "-5.086372360844527",
                  "11063560000.0",
                  "24000.0",
                  "465.8333333333333",
                  "24000.0",
                  "0.0",
                  "0.0",
                  "0.0",
                  "0.0",
                  "0.0"
                ],
                [
                  "2",
                  "ITD",
                  "VNINDEX",
                  "14.0",
                  "2025-05-06 15:59",
                  "0.9000000000000004",
                  "6.870229007633588",
                  "2222550000.0",
                  "43705.0",
                  "363.8027685619494",
                  "43705.0",
                  "0.0",
                  "0.0",
                  "0.0",
                  "0.0",
                  "0.0"
                ],
                [
                  "3",
                  "SJS",
                  "VNINDEX",
                  "90.5",
                  "2025-05-06 15:59",
                  "3.200000000000003",
                  "3.6655211912943964",
                  "8380330000.000001",
                  "35785.0",
                  "267.1510409389409",
                  "289654.3",
                  "3.8666783127334896",
                  "0.7733356625466979",
                  "11200.0",
                  "194880000.0",
                  "2240.0"
                ],
                [
                  "4",
                  "ANV",
                  "VNINDEX",
                  "15.7",
                  "2025-05-06 15:59",
                  "0.3999999999999986",
                  "2.614379084967311",
                  "56447175000.0",
                  "1562275.0",
                  "243.36304427837607",
                  "1566275.0",
                  "0.0",
                  "1.0215319787393657",
                  "80000.0",
                  "246400000.0",
                  "16000.0"
                ],
                [
                  "5",
                  "PPC",
                  "VNINDEX",
                  "12.8",
                  "2025-05-06 15:59",
                  "0.3000000000000007",
                  "2.400000000000002",
                  "20870300000.0",
                  "705950.0",
                  "230.72455556342518",
                  "705950.0",
                  "0.0",
                  "0.0",
                  "0.0",
                  "0.0",
                  "0.0"
                ],
                [
                  "6",
                  "GEG",
                  "VNINDEX",
                  "15.25",
                  "2025-05-06 15:59",
                  "0.6500000000000004",
                  "4.452054794520555",
                  "66684475000.00001",
                  "1918135.0",
                  "229.081894652879",
                  "2166875.0",
                  "2.990481684453418",
                  "45.54762042111336",
                  "4934800.0",
                  "14105752000.0",
                  "986960.0"
                ],
                [
                  "7",
                  "VPG",
                  "VNINDEX",
                  "12.05",
                  "2025-05-06 15:59",
                  "0.75",
                  "6.63716814159292",
                  "10711245000.0",
                  "404250.0",
                  "225.97402597402598",
                  "404250.0",
                  "0.0",
                  "0.0",
                  "0.0",
                  "0.0",
                  "0.0"
                ],
                [
                  "8",
                  "CCC",
                  "VNINDEX",
                  "19.3",
                  "2025-05-06 15:59",
                  "-0.8999999999999986",
                  "-4.455445544554449",
                  "4292080000.0000005",
                  "102175.0",
                  "221.38487888426715",
                  "102175.0",
                  "0.0",
                  "0.0",
                  "0.0",
                  "0.0",
                  "0.0"
                ],
                [
                  "9",
                  "DHG",
                  "VNINDEX",
                  "103.0",
                  "2025-05-06 15:59",
                  "4.0",
                  "4.040404040404044",
                  "7497170000.0",
                  "33315.0",
                  "220.02101155635597",
                  "33315.0",
                  "0.0",
                  "0.0",
                  "0.0",
                  "0.0",
                  "0.0"
                ]
              ],
              "shape": {
                "columns": 15,
                "rows": 10
              }
            },
            "text/html": [
              "<div>\n",
              "<style scoped>\n",
              "    .dataframe tbody tr th:only-of-type {\n",
              "        vertical-align: middle;\n",
              "    }\n",
              "\n",
              "    .dataframe tbody tr th {\n",
              "        vertical-align: top;\n",
              "    }\n",
              "\n",
              "    .dataframe thead th {\n",
              "        text-align: right;\n",
              "    }\n",
              "</style>\n",
              "<table border=\"1\" class=\"dataframe\">\n",
              "  <thead>\n",
              "    <tr style=\"text-align: right;\">\n",
              "      <th></th>\n",
              "      <th>symbol</th>\n",
              "      <th>index</th>\n",
              "      <th>last_price</th>\n",
              "      <th>last_updated</th>\n",
              "      <th>price_change_1d</th>\n",
              "      <th>price_change_pct_1d</th>\n",
              "      <th>accumulated_value</th>\n",
              "      <th>avg_volume_20d</th>\n",
              "      <th>volume_spike_20d_pct</th>\n",
              "      <th>total_volume_avg_20d</th>\n",
              "      <th>deal_volume_spike_20d_pct</th>\n",
              "      <th>deal_volume_spike_5d_20d_pct</th>\n",
              "      <th>deal_volume_sum_5d</th>\n",
              "      <th>deal_value_avg_5d</th>\n",
              "      <th>deal_volume_avg_5d</th>\n",
              "    </tr>\n",
              "  </thead>\n",
              "  <tbody>\n",
              "    <tr>\n",
              "      <th>0</th>\n",
              "      <td>SC5</td>\n",
              "      <td>VNINDEX</td>\n",
              "      <td>17.85</td>\n",
              "      <td>2025-05-06 15:59</td>\n",
              "      <td>0.00</td>\n",
              "      <td>0.000000</td>\n",
              "      <td>2.364735e+09</td>\n",
              "      <td>12220.0</td>\n",
              "      <td>1162.029460</td>\n",
              "      <td>14720.0</td>\n",
              "      <td>339.673913</td>\n",
              "      <td>67.934783</td>\n",
              "      <td>50000.0</td>\n",
              "      <td>1.665000e+08</td>\n",
              "      <td>10000.0</td>\n",
              "    </tr>\n",
              "    <tr>\n",
              "      <th>1</th>\n",
              "      <td>RAL</td>\n",
              "      <td>VNINDEX</td>\n",
              "      <td>98.90</td>\n",
              "      <td>2025-05-06 15:59</td>\n",
              "      <td>-5.30</td>\n",
              "      <td>-5.086372</td>\n",
              "      <td>1.106356e+10</td>\n",
              "      <td>24000.0</td>\n",
              "      <td>465.833333</td>\n",
              "      <td>24000.0</td>\n",
              "      <td>0.000000</td>\n",
              "      <td>0.000000</td>\n",
              "      <td>0.0</td>\n",
              "      <td>0.000000e+00</td>\n",
              "      <td>0.0</td>\n",
              "    </tr>\n",
              "    <tr>\n",
              "      <th>2</th>\n",
              "      <td>ITD</td>\n",
              "      <td>VNINDEX</td>\n",
              "      <td>14.00</td>\n",
              "      <td>2025-05-06 15:59</td>\n",
              "      <td>0.90</td>\n",
              "      <td>6.870229</td>\n",
              "      <td>2.222550e+09</td>\n",
              "      <td>43705.0</td>\n",
              "      <td>363.802769</td>\n",
              "      <td>43705.0</td>\n",
              "      <td>0.000000</td>\n",
              "      <td>0.000000</td>\n",
              "      <td>0.0</td>\n",
              "      <td>0.000000e+00</td>\n",
              "      <td>0.0</td>\n",
              "    </tr>\n",
              "    <tr>\n",
              "      <th>3</th>\n",
              "      <td>SJS</td>\n",
              "      <td>VNINDEX</td>\n",
              "      <td>90.50</td>\n",
              "      <td>2025-05-06 15:59</td>\n",
              "      <td>3.20</td>\n",
              "      <td>3.665521</td>\n",
              "      <td>8.380330e+09</td>\n",
              "      <td>35785.0</td>\n",
              "      <td>267.151041</td>\n",
              "      <td>289654.3</td>\n",
              "      <td>3.866678</td>\n",
              "      <td>0.773336</td>\n",
              "      <td>11200.0</td>\n",
              "      <td>1.948800e+08</td>\n",
              "      <td>2240.0</td>\n",
              "    </tr>\n",
              "    <tr>\n",
              "      <th>4</th>\n",
              "      <td>ANV</td>\n",
              "      <td>VNINDEX</td>\n",
              "      <td>15.70</td>\n",
              "      <td>2025-05-06 15:59</td>\n",
              "      <td>0.40</td>\n",
              "      <td>2.614379</td>\n",
              "      <td>5.644718e+10</td>\n",
              "      <td>1562275.0</td>\n",
              "      <td>243.363044</td>\n",
              "      <td>1566275.0</td>\n",
              "      <td>0.000000</td>\n",
              "      <td>1.021532</td>\n",
              "      <td>80000.0</td>\n",
              "      <td>2.464000e+08</td>\n",
              "      <td>16000.0</td>\n",
              "    </tr>\n",
              "    <tr>\n",
              "      <th>5</th>\n",
              "      <td>PPC</td>\n",
              "      <td>VNINDEX</td>\n",
              "      <td>12.80</td>\n",
              "      <td>2025-05-06 15:59</td>\n",
              "      <td>0.30</td>\n",
              "      <td>2.400000</td>\n",
              "      <td>2.087030e+10</td>\n",
              "      <td>705950.0</td>\n",
              "      <td>230.724556</td>\n",
              "      <td>705950.0</td>\n",
              "      <td>0.000000</td>\n",
              "      <td>0.000000</td>\n",
              "      <td>0.0</td>\n",
              "      <td>0.000000e+00</td>\n",
              "      <td>0.0</td>\n",
              "    </tr>\n",
              "    <tr>\n",
              "      <th>6</th>\n",
              "      <td>GEG</td>\n",
              "      <td>VNINDEX</td>\n",
              "      <td>15.25</td>\n",
              "      <td>2025-05-06 15:59</td>\n",
              "      <td>0.65</td>\n",
              "      <td>4.452055</td>\n",
              "      <td>6.668448e+10</td>\n",
              "      <td>1918135.0</td>\n",
              "      <td>229.081895</td>\n",
              "      <td>2166875.0</td>\n",
              "      <td>2.990482</td>\n",
              "      <td>45.547620</td>\n",
              "      <td>4934800.0</td>\n",
              "      <td>1.410575e+10</td>\n",
              "      <td>986960.0</td>\n",
              "    </tr>\n",
              "    <tr>\n",
              "      <th>7</th>\n",
              "      <td>VPG</td>\n",
              "      <td>VNINDEX</td>\n",
              "      <td>12.05</td>\n",
              "      <td>2025-05-06 15:59</td>\n",
              "      <td>0.75</td>\n",
              "      <td>6.637168</td>\n",
              "      <td>1.071124e+10</td>\n",
              "      <td>404250.0</td>\n",
              "      <td>225.974026</td>\n",
              "      <td>404250.0</td>\n",
              "      <td>0.000000</td>\n",
              "      <td>0.000000</td>\n",
              "      <td>0.0</td>\n",
              "      <td>0.000000e+00</td>\n",
              "      <td>0.0</td>\n",
              "    </tr>\n",
              "    <tr>\n",
              "      <th>8</th>\n",
              "      <td>CCC</td>\n",
              "      <td>VNINDEX</td>\n",
              "      <td>19.30</td>\n",
              "      <td>2025-05-06 15:59</td>\n",
              "      <td>-0.90</td>\n",
              "      <td>-4.455446</td>\n",
              "      <td>4.292080e+09</td>\n",
              "      <td>102175.0</td>\n",
              "      <td>221.384879</td>\n",
              "      <td>102175.0</td>\n",
              "      <td>0.000000</td>\n",
              "      <td>0.000000</td>\n",
              "      <td>0.0</td>\n",
              "      <td>0.000000e+00</td>\n",
              "      <td>0.0</td>\n",
              "    </tr>\n",
              "    <tr>\n",
              "      <th>9</th>\n",
              "      <td>DHG</td>\n",
              "      <td>VNINDEX</td>\n",
              "      <td>103.00</td>\n",
              "      <td>2025-05-06 15:59</td>\n",
              "      <td>4.00</td>\n",
              "      <td>4.040404</td>\n",
              "      <td>7.497170e+09</td>\n",
              "      <td>33315.0</td>\n",
              "      <td>220.021012</td>\n",
              "      <td>33315.0</td>\n",
              "      <td>0.000000</td>\n",
              "      <td>0.000000</td>\n",
              "      <td>0.0</td>\n",
              "      <td>0.000000e+00</td>\n",
              "      <td>0.0</td>\n",
              "    </tr>\n",
              "  </tbody>\n",
              "</table>\n",
              "</div>"
            ],
            "text/plain": [
              "  symbol    index  last_price      last_updated  price_change_1d  \\\n",
              "0    SC5  VNINDEX       17.85  2025-05-06 15:59             0.00   \n",
              "1    RAL  VNINDEX       98.90  2025-05-06 15:59            -5.30   \n",
              "2    ITD  VNINDEX       14.00  2025-05-06 15:59             0.90   \n",
              "3    SJS  VNINDEX       90.50  2025-05-06 15:59             3.20   \n",
              "4    ANV  VNINDEX       15.70  2025-05-06 15:59             0.40   \n",
              "5    PPC  VNINDEX       12.80  2025-05-06 15:59             0.30   \n",
              "6    GEG  VNINDEX       15.25  2025-05-06 15:59             0.65   \n",
              "7    VPG  VNINDEX       12.05  2025-05-06 15:59             0.75   \n",
              "8    CCC  VNINDEX       19.30  2025-05-06 15:59            -0.90   \n",
              "9    DHG  VNINDEX      103.00  2025-05-06 15:59             4.00   \n",
              "\n",
              "   price_change_pct_1d  accumulated_value  avg_volume_20d  \\\n",
              "0             0.000000       2.364735e+09         12220.0   \n",
              "1            -5.086372       1.106356e+10         24000.0   \n",
              "2             6.870229       2.222550e+09         43705.0   \n",
              "3             3.665521       8.380330e+09         35785.0   \n",
              "4             2.614379       5.644718e+10       1562275.0   \n",
              "5             2.400000       2.087030e+10        705950.0   \n",
              "6             4.452055       6.668448e+10       1918135.0   \n",
              "7             6.637168       1.071124e+10        404250.0   \n",
              "8            -4.455446       4.292080e+09        102175.0   \n",
              "9             4.040404       7.497170e+09         33315.0   \n",
              "\n",
              "   volume_spike_20d_pct  total_volume_avg_20d  deal_volume_spike_20d_pct  \\\n",
              "0           1162.029460               14720.0                 339.673913   \n",
              "1            465.833333               24000.0                   0.000000   \n",
              "2            363.802769               43705.0                   0.000000   \n",
              "3            267.151041              289654.3                   3.866678   \n",
              "4            243.363044             1566275.0                   0.000000   \n",
              "5            230.724556              705950.0                   0.000000   \n",
              "6            229.081895             2166875.0                   2.990482   \n",
              "7            225.974026              404250.0                   0.000000   \n",
              "8            221.384879              102175.0                   0.000000   \n",
              "9            220.021012               33315.0                   0.000000   \n",
              "\n",
              "   deal_volume_spike_5d_20d_pct  deal_volume_sum_5d  deal_value_avg_5d  \\\n",
              "0                     67.934783             50000.0       1.665000e+08   \n",
              "1                      0.000000                 0.0       0.000000e+00   \n",
              "2                      0.000000                 0.0       0.000000e+00   \n",
              "3                      0.773336             11200.0       1.948800e+08   \n",
              "4                      1.021532             80000.0       2.464000e+08   \n",
              "5                      0.000000                 0.0       0.000000e+00   \n",
              "6                     45.547620           4934800.0       1.410575e+10   \n",
              "7                      0.000000                 0.0       0.000000e+00   \n",
              "8                      0.000000                 0.0       0.000000e+00   \n",
              "9                      0.000000                 0.0       0.000000e+00   \n",
              "\n",
              "   deal_volume_avg_5d  \n",
              "0             10000.0  \n",
              "1                 0.0  \n",
              "2                 0.0  \n",
              "3              2240.0  \n",
              "4             16000.0  \n",
              "5                 0.0  \n",
              "6            986960.0  \n",
              "7                 0.0  \n",
              "8                 0.0  \n",
              "9                 0.0  "
            ]
          },
          "execution_count": 7,
          "metadata": {},
          "output_type": "execute_result"
        }
      ],
      "source": [
        "top.volume(index='VNINDEX', limit=10)"
      ]
    },
    {
      "cell_type": "code",
      "execution_count": 8,
      "metadata": {
        "id": "OPWiJKrQL0B0",
        "outputId": "d572e993-c22f-43b3-fff7-05907fea64e5"
      },
      "outputs": [
        {
          "data": {
            "application/vnd.microsoft.datawrangler.viewer.v0+json": {
              "columns": [
                {
                  "name": "index",
                  "rawType": "int64",
                  "type": "integer"
                },
                {
                  "name": "symbol",
                  "rawType": "object",
                  "type": "string"
                },
                {
                  "name": "index",
                  "rawType": "object",
                  "type": "string"
                },
                {
                  "name": "last_price",
                  "rawType": "float64",
                  "type": "float"
                },
                {
                  "name": "last_updated",
                  "rawType": "object",
                  "type": "string"
                },
                {
                  "name": "price_change_1d",
                  "rawType": "float64",
                  "type": "float"
                },
                {
                  "name": "price_change_pct_1d",
                  "rawType": "float64",
                  "type": "float"
                },
                {
                  "name": "accumulated_value",
                  "rawType": "float64",
                  "type": "float"
                },
                {
                  "name": "avg_volume_20d",
                  "rawType": "float64",
                  "type": "float"
                },
                {
                  "name": "volume_spike_20d_pct",
                  "rawType": "float64",
                  "type": "float"
                },
                {
                  "name": "total_volume_avg_20d",
                  "rawType": "float64",
                  "type": "float"
                },
                {
                  "name": "deal_volume_spike_20d_pct",
                  "rawType": "float64",
                  "type": "float"
                },
                {
                  "name": "deal_volume_spike_5d_20d_pct",
                  "rawType": "float64",
                  "type": "float"
                },
                {
                  "name": "deal_volume_sum_5d",
                  "rawType": "float64",
                  "type": "float"
                },
                {
                  "name": "deal_value_avg_5d",
                  "rawType": "float64",
                  "type": "float"
                },
                {
                  "name": "deal_volume_avg_5d",
                  "rawType": "float64",
                  "type": "float"
                }
              ],
              "ref": "d27e9a29-bb20-40c4-9819-fdc2b805e969",
              "rows": [
                [
                  "0",
                  "SC5",
                  "VNINDEX",
                  "17.85",
                  "2025-05-06 15:59",
                  "0.0",
                  "0.0",
                  "2364735000.0",
                  "12220.0",
                  "1162.0294599018002",
                  "14720.0",
                  "339.67391304347825",
                  "67.93478260869566",
                  "50000.0",
                  "166499999.99999997",
                  "10000.0"
                ],
                [
                  "1",
                  "PHC",
                  "VNINDEX",
                  "5.2",
                  "2025-05-06 15:59",
                  "0.020000000000000462",
                  "0.38610038610038533",
                  "632740000.0",
                  "80125.0",
                  "152.51170046801872",
                  "87390.0",
                  "166.26616317656482",
                  "33.25323263531296",
                  "145300.0",
                  "150530800.0",
                  "29060.0"
                ],
                [
                  "2",
                  "CDC",
                  "VNINDEX",
                  "18.2",
                  "2025-05-06 15:59",
                  "-0.3000000000000007",
                  "-1.6216216216216273",
                  "652815000.0",
                  "57975.0",
                  "61.92324277705907",
                  "105190.0",
                  "48.293564026998766",
                  "9.658712805399752",
                  "50800.0",
                  "187960000.0",
                  "10160.0"
                ],
                [
                  "3",
                  "KOS",
                  "VNINDEX",
                  "38.6",
                  "2025-05-06 15:59",
                  "-0.04999999999999716",
                  "-0.1293661060801976",
                  "13703555000.0",
                  "339515.0",
                  "104.59037155943037",
                  "562285.095",
                  "41.883005986491604",
                  "24.101720142519518",
                  "677601.9",
                  "4878733680.0",
                  "135520.38"
                ],
                [
                  "4",
                  "NT2",
                  "VNINDEX",
                  "18.15",
                  "2025-05-06 15:59",
                  "-0.15000000000000213",
                  "-0.819672131147553",
                  "6730065000.0",
                  "738525.0",
                  "49.96445617954707",
                  "746208.8",
                  "20.594235822466846",
                  "4.11884716449337",
                  "153676.0",
                  "528645439.9999999",
                  "30735.2"
                ],
                [
                  "5",
                  "SHI",
                  "VNINDEX",
                  "14.45",
                  "2025-05-06 15:59",
                  "-0.05000000000000071",
                  "-0.34482758620689724",
                  "4028685000.0000005",
                  "312950.0",
                  "89.08771369228312",
                  "804705.5",
                  "14.801688319515648",
                  "2.96033766390313",
                  "119110.0",
                  "345419000.0",
                  "23822.0"
                ],
                [
                  "6",
                  "OCB",
                  "VNINDEX",
                  "10.45",
                  "2025-05-06 15:59",
                  "0.049999999999998934",
                  "0.48076923076922906",
                  "28922840000.0",
                  "3690230.0",
                  "74.83273400302963",
                  "5349022.0",
                  "11.217003781251975",
                  "89.07549828735047",
                  "23823340.0",
                  "50018722700.0",
                  "4764668.0"
                ],
                [
                  "7",
                  "FRT",
                  "VNINDEX",
                  "171.8",
                  "2025-05-06 15:59",
                  "-0.6999999999999886",
                  "-0.40579710144926784",
                  "42652200000.0",
                  "600545.0",
                  "41.245868336261225",
                  "660014.0",
                  "8.269521555603367",
                  "13.632438099797884",
                  "449880.0",
                  "15001422948.0",
                  "89976.0"
                ],
                [
                  "8",
                  "DC4",
                  "VNINDEX",
                  "12.8",
                  "2025-05-06 15:59",
                  "-0.29999999999999893",
                  "-2.2900763358778553",
                  "8435320000.000001",
                  "860400.0",
                  "75.47652254765225",
                  "862856.93",
                  "5.694872265788025",
                  "1.1389744531576051",
                  "49138.6",
                  "119898183.99999997",
                  "9827.72"
                ],
                [
                  "9",
                  "GEX",
                  "VNINDEX",
                  "28.6",
                  "2025-05-06 15:59",
                  "0.25",
                  "0.8818342151675429",
                  "342326165000.0",
                  "16554295.0",
                  "71.29146846785079",
                  "18028345.0",
                  "5.5468208534948715",
                  "3.3957637265095606",
                  "3061000.0",
                  "16017200000.0",
                  "612200.0"
                ]
              ],
              "shape": {
                "columns": 15,
                "rows": 10
              }
            },
            "text/html": [
              "<div>\n",
              "<style scoped>\n",
              "    .dataframe tbody tr th:only-of-type {\n",
              "        vertical-align: middle;\n",
              "    }\n",
              "\n",
              "    .dataframe tbody tr th {\n",
              "        vertical-align: top;\n",
              "    }\n",
              "\n",
              "    .dataframe thead th {\n",
              "        text-align: right;\n",
              "    }\n",
              "</style>\n",
              "<table border=\"1\" class=\"dataframe\">\n",
              "  <thead>\n",
              "    <tr style=\"text-align: right;\">\n",
              "      <th></th>\n",
              "      <th>symbol</th>\n",
              "      <th>index</th>\n",
              "      <th>last_price</th>\n",
              "      <th>last_updated</th>\n",
              "      <th>price_change_1d</th>\n",
              "      <th>price_change_pct_1d</th>\n",
              "      <th>accumulated_value</th>\n",
              "      <th>avg_volume_20d</th>\n",
              "      <th>volume_spike_20d_pct</th>\n",
              "      <th>total_volume_avg_20d</th>\n",
              "      <th>deal_volume_spike_20d_pct</th>\n",
              "      <th>deal_volume_spike_5d_20d_pct</th>\n",
              "      <th>deal_volume_sum_5d</th>\n",
              "      <th>deal_value_avg_5d</th>\n",
              "      <th>deal_volume_avg_5d</th>\n",
              "    </tr>\n",
              "  </thead>\n",
              "  <tbody>\n",
              "    <tr>\n",
              "      <th>0</th>\n",
              "      <td>SC5</td>\n",
              "      <td>VNINDEX</td>\n",
              "      <td>17.85</td>\n",
              "      <td>2025-05-06 15:59</td>\n",
              "      <td>0.00</td>\n",
              "      <td>0.000000</td>\n",
              "      <td>2.364735e+09</td>\n",
              "      <td>12220.0</td>\n",
              "      <td>1162.029460</td>\n",
              "      <td>1.472000e+04</td>\n",
              "      <td>339.673913</td>\n",
              "      <td>67.934783</td>\n",
              "      <td>50000.0</td>\n",
              "      <td>1.665000e+08</td>\n",
              "      <td>10000.00</td>\n",
              "    </tr>\n",
              "    <tr>\n",
              "      <th>1</th>\n",
              "      <td>PHC</td>\n",
              "      <td>VNINDEX</td>\n",
              "      <td>5.20</td>\n",
              "      <td>2025-05-06 15:59</td>\n",
              "      <td>0.02</td>\n",
              "      <td>0.386100</td>\n",
              "      <td>6.327400e+08</td>\n",
              "      <td>80125.0</td>\n",
              "      <td>152.511700</td>\n",
              "      <td>8.739000e+04</td>\n",
              "      <td>166.266163</td>\n",
              "      <td>33.253233</td>\n",
              "      <td>145300.0</td>\n",
              "      <td>1.505308e+08</td>\n",
              "      <td>29060.00</td>\n",
              "    </tr>\n",
              "    <tr>\n",
              "      <th>2</th>\n",
              "      <td>CDC</td>\n",
              "      <td>VNINDEX</td>\n",
              "      <td>18.20</td>\n",
              "      <td>2025-05-06 15:59</td>\n",
              "      <td>-0.30</td>\n",
              "      <td>-1.621622</td>\n",
              "      <td>6.528150e+08</td>\n",
              "      <td>57975.0</td>\n",
              "      <td>61.923243</td>\n",
              "      <td>1.051900e+05</td>\n",
              "      <td>48.293564</td>\n",
              "      <td>9.658713</td>\n",
              "      <td>50800.0</td>\n",
              "      <td>1.879600e+08</td>\n",
              "      <td>10160.00</td>\n",
              "    </tr>\n",
              "    <tr>\n",
              "      <th>3</th>\n",
              "      <td>KOS</td>\n",
              "      <td>VNINDEX</td>\n",
              "      <td>38.60</td>\n",
              "      <td>2025-05-06 15:59</td>\n",
              "      <td>-0.05</td>\n",
              "      <td>-0.129366</td>\n",
              "      <td>1.370356e+10</td>\n",
              "      <td>339515.0</td>\n",
              "      <td>104.590372</td>\n",
              "      <td>5.622851e+05</td>\n",
              "      <td>41.883006</td>\n",
              "      <td>24.101720</td>\n",
              "      <td>677601.9</td>\n",
              "      <td>4.878734e+09</td>\n",
              "      <td>135520.38</td>\n",
              "    </tr>\n",
              "    <tr>\n",
              "      <th>4</th>\n",
              "      <td>NT2</td>\n",
              "      <td>VNINDEX</td>\n",
              "      <td>18.15</td>\n",
              "      <td>2025-05-06 15:59</td>\n",
              "      <td>-0.15</td>\n",
              "      <td>-0.819672</td>\n",
              "      <td>6.730065e+09</td>\n",
              "      <td>738525.0</td>\n",
              "      <td>49.964456</td>\n",
              "      <td>7.462088e+05</td>\n",
              "      <td>20.594236</td>\n",
              "      <td>4.118847</td>\n",
              "      <td>153676.0</td>\n",
              "      <td>5.286454e+08</td>\n",
              "      <td>30735.20</td>\n",
              "    </tr>\n",
              "    <tr>\n",
              "      <th>5</th>\n",
              "      <td>SHI</td>\n",
              "      <td>VNINDEX</td>\n",
              "      <td>14.45</td>\n",
              "      <td>2025-05-06 15:59</td>\n",
              "      <td>-0.05</td>\n",
              "      <td>-0.344828</td>\n",
              "      <td>4.028685e+09</td>\n",
              "      <td>312950.0</td>\n",
              "      <td>89.087714</td>\n",
              "      <td>8.047055e+05</td>\n",
              "      <td>14.801688</td>\n",
              "      <td>2.960338</td>\n",
              "      <td>119110.0</td>\n",
              "      <td>3.454190e+08</td>\n",
              "      <td>23822.00</td>\n",
              "    </tr>\n",
              "    <tr>\n",
              "      <th>6</th>\n",
              "      <td>OCB</td>\n",
              "      <td>VNINDEX</td>\n",
              "      <td>10.45</td>\n",
              "      <td>2025-05-06 15:59</td>\n",
              "      <td>0.05</td>\n",
              "      <td>0.480769</td>\n",
              "      <td>2.892284e+10</td>\n",
              "      <td>3690230.0</td>\n",
              "      <td>74.832734</td>\n",
              "      <td>5.349022e+06</td>\n",
              "      <td>11.217004</td>\n",
              "      <td>89.075498</td>\n",
              "      <td>23823340.0</td>\n",
              "      <td>5.001872e+10</td>\n",
              "      <td>4764668.00</td>\n",
              "    </tr>\n",
              "    <tr>\n",
              "      <th>7</th>\n",
              "      <td>FRT</td>\n",
              "      <td>VNINDEX</td>\n",
              "      <td>171.80</td>\n",
              "      <td>2025-05-06 15:59</td>\n",
              "      <td>-0.70</td>\n",
              "      <td>-0.405797</td>\n",
              "      <td>4.265220e+10</td>\n",
              "      <td>600545.0</td>\n",
              "      <td>41.245868</td>\n",
              "      <td>6.600140e+05</td>\n",
              "      <td>8.269522</td>\n",
              "      <td>13.632438</td>\n",
              "      <td>449880.0</td>\n",
              "      <td>1.500142e+10</td>\n",
              "      <td>89976.00</td>\n",
              "    </tr>\n",
              "    <tr>\n",
              "      <th>8</th>\n",
              "      <td>DC4</td>\n",
              "      <td>VNINDEX</td>\n",
              "      <td>12.80</td>\n",
              "      <td>2025-05-06 15:59</td>\n",
              "      <td>-0.30</td>\n",
              "      <td>-2.290076</td>\n",
              "      <td>8.435320e+09</td>\n",
              "      <td>860400.0</td>\n",
              "      <td>75.476523</td>\n",
              "      <td>8.628569e+05</td>\n",
              "      <td>5.694872</td>\n",
              "      <td>1.138974</td>\n",
              "      <td>49138.6</td>\n",
              "      <td>1.198982e+08</td>\n",
              "      <td>9827.72</td>\n",
              "    </tr>\n",
              "    <tr>\n",
              "      <th>9</th>\n",
              "      <td>GEX</td>\n",
              "      <td>VNINDEX</td>\n",
              "      <td>28.60</td>\n",
              "      <td>2025-05-06 15:59</td>\n",
              "      <td>0.25</td>\n",
              "      <td>0.881834</td>\n",
              "      <td>3.423262e+11</td>\n",
              "      <td>16554295.0</td>\n",
              "      <td>71.291468</td>\n",
              "      <td>1.802834e+07</td>\n",
              "      <td>5.546821</td>\n",
              "      <td>3.395764</td>\n",
              "      <td>3061000.0</td>\n",
              "      <td>1.601720e+10</td>\n",
              "      <td>612200.00</td>\n",
              "    </tr>\n",
              "  </tbody>\n",
              "</table>\n",
              "</div>"
            ],
            "text/plain": [
              "  symbol    index  last_price      last_updated  price_change_1d  \\\n",
              "0    SC5  VNINDEX       17.85  2025-05-06 15:59             0.00   \n",
              "1    PHC  VNINDEX        5.20  2025-05-06 15:59             0.02   \n",
              "2    CDC  VNINDEX       18.20  2025-05-06 15:59            -0.30   \n",
              "3    KOS  VNINDEX       38.60  2025-05-06 15:59            -0.05   \n",
              "4    NT2  VNINDEX       18.15  2025-05-06 15:59            -0.15   \n",
              "5    SHI  VNINDEX       14.45  2025-05-06 15:59            -0.05   \n",
              "6    OCB  VNINDEX       10.45  2025-05-06 15:59             0.05   \n",
              "7    FRT  VNINDEX      171.80  2025-05-06 15:59            -0.70   \n",
              "8    DC4  VNINDEX       12.80  2025-05-06 15:59            -0.30   \n",
              "9    GEX  VNINDEX       28.60  2025-05-06 15:59             0.25   \n",
              "\n",
              "   price_change_pct_1d  accumulated_value  avg_volume_20d  \\\n",
              "0             0.000000       2.364735e+09         12220.0   \n",
              "1             0.386100       6.327400e+08         80125.0   \n",
              "2            -1.621622       6.528150e+08         57975.0   \n",
              "3            -0.129366       1.370356e+10        339515.0   \n",
              "4            -0.819672       6.730065e+09        738525.0   \n",
              "5            -0.344828       4.028685e+09        312950.0   \n",
              "6             0.480769       2.892284e+10       3690230.0   \n",
              "7            -0.405797       4.265220e+10        600545.0   \n",
              "8            -2.290076       8.435320e+09        860400.0   \n",
              "9             0.881834       3.423262e+11      16554295.0   \n",
              "\n",
              "   volume_spike_20d_pct  total_volume_avg_20d  deal_volume_spike_20d_pct  \\\n",
              "0           1162.029460          1.472000e+04                 339.673913   \n",
              "1            152.511700          8.739000e+04                 166.266163   \n",
              "2             61.923243          1.051900e+05                  48.293564   \n",
              "3            104.590372          5.622851e+05                  41.883006   \n",
              "4             49.964456          7.462088e+05                  20.594236   \n",
              "5             89.087714          8.047055e+05                  14.801688   \n",
              "6             74.832734          5.349022e+06                  11.217004   \n",
              "7             41.245868          6.600140e+05                   8.269522   \n",
              "8             75.476523          8.628569e+05                   5.694872   \n",
              "9             71.291468          1.802834e+07                   5.546821   \n",
              "\n",
              "   deal_volume_spike_5d_20d_pct  deal_volume_sum_5d  deal_value_avg_5d  \\\n",
              "0                     67.934783             50000.0       1.665000e+08   \n",
              "1                     33.253233            145300.0       1.505308e+08   \n",
              "2                      9.658713             50800.0       1.879600e+08   \n",
              "3                     24.101720            677601.9       4.878734e+09   \n",
              "4                      4.118847            153676.0       5.286454e+08   \n",
              "5                      2.960338            119110.0       3.454190e+08   \n",
              "6                     89.075498          23823340.0       5.001872e+10   \n",
              "7                     13.632438            449880.0       1.500142e+10   \n",
              "8                      1.138974             49138.6       1.198982e+08   \n",
              "9                      3.395764           3061000.0       1.601720e+10   \n",
              "\n",
              "   deal_volume_avg_5d  \n",
              "0            10000.00  \n",
              "1            29060.00  \n",
              "2            10160.00  \n",
              "3           135520.38  \n",
              "4            30735.20  \n",
              "5            23822.00  \n",
              "6          4764668.00  \n",
              "7            89976.00  \n",
              "8             9827.72  \n",
              "9           612200.00  "
            ]
          },
          "execution_count": 8,
          "metadata": {},
          "output_type": "execute_result"
        }
      ],
      "source": [
        "top.deal(index='VNINDEX', limit=10)"
      ]
    },
    {
      "cell_type": "code",
      "execution_count": 9,
      "metadata": {
        "id": "jnBwPhiuL0B0",
        "outputId": "cf1c231a-a239-4d96-9fd6-c09d6e65e17a"
      },
      "outputs": [
        {
          "data": {
            "application/vnd.microsoft.datawrangler.viewer.v0+json": {
              "columns": [
                {
                  "name": "index",
                  "rawType": "int64",
                  "type": "integer"
                },
                {
                  "name": "symbol",
                  "rawType": "object",
                  "type": "string"
                },
                {
                  "name": "date",
                  "rawType": "object",
                  "type": "string"
                },
                {
                  "name": "net_value",
                  "rawType": "float64",
                  "type": "float"
                }
              ],
              "ref": "3f95d06f-f564-45b6-a1bf-ab2ce012c6f4",
              "rows": [
                [
                  "0",
                  "MWG",
                  "2024-08-16",
                  "101599778800.0"
                ],
                [
                  "1",
                  "CTG",
                  "2024-08-16",
                  "67098546000.0"
                ],
                [
                  "2",
                  "DIG",
                  "2024-08-16",
                  "67051170000.0"
                ],
                [
                  "3",
                  "MSN",
                  "2024-08-16",
                  "63188642500.0"
                ],
                [
                  "4",
                  "VCI",
                  "2024-08-16",
                  "50416830000.0"
                ],
                [
                  "5",
                  "VND",
                  "2024-08-16",
                  "30899960000.0"
                ],
                [
                  "6",
                  "NVL",
                  "2024-08-16",
                  "30541932600.0"
                ],
                [
                  "7",
                  "DPM",
                  "2024-08-16",
                  "28398050000.0"
                ],
                [
                  "8",
                  "DGC",
                  "2024-08-16",
                  "27692075900.0"
                ],
                [
                  "9",
                  "FPT",
                  "2024-08-16",
                  "26298801700.0"
                ]
              ],
              "shape": {
                "columns": 3,
                "rows": 10
              }
            },
            "text/html": [
              "<div>\n",
              "<style scoped>\n",
              "    .dataframe tbody tr th:only-of-type {\n",
              "        vertical-align: middle;\n",
              "    }\n",
              "\n",
              "    .dataframe tbody tr th {\n",
              "        vertical-align: top;\n",
              "    }\n",
              "\n",
              "    .dataframe thead th {\n",
              "        text-align: right;\n",
              "    }\n",
              "</style>\n",
              "<table border=\"1\" class=\"dataframe\">\n",
              "  <thead>\n",
              "    <tr style=\"text-align: right;\">\n",
              "      <th></th>\n",
              "      <th>symbol</th>\n",
              "      <th>date</th>\n",
              "      <th>net_value</th>\n",
              "    </tr>\n",
              "  </thead>\n",
              "  <tbody>\n",
              "    <tr>\n",
              "      <th>0</th>\n",
              "      <td>MWG</td>\n",
              "      <td>2024-08-16</td>\n",
              "      <td>1.015998e+11</td>\n",
              "    </tr>\n",
              "    <tr>\n",
              "      <th>1</th>\n",
              "      <td>CTG</td>\n",
              "      <td>2024-08-16</td>\n",
              "      <td>6.709855e+10</td>\n",
              "    </tr>\n",
              "    <tr>\n",
              "      <th>2</th>\n",
              "      <td>DIG</td>\n",
              "      <td>2024-08-16</td>\n",
              "      <td>6.705117e+10</td>\n",
              "    </tr>\n",
              "    <tr>\n",
              "      <th>3</th>\n",
              "      <td>MSN</td>\n",
              "      <td>2024-08-16</td>\n",
              "      <td>6.318864e+10</td>\n",
              "    </tr>\n",
              "    <tr>\n",
              "      <th>4</th>\n",
              "      <td>VCI</td>\n",
              "      <td>2024-08-16</td>\n",
              "      <td>5.041683e+10</td>\n",
              "    </tr>\n",
              "    <tr>\n",
              "      <th>5</th>\n",
              "      <td>VND</td>\n",
              "      <td>2024-08-16</td>\n",
              "      <td>3.089996e+10</td>\n",
              "    </tr>\n",
              "    <tr>\n",
              "      <th>6</th>\n",
              "      <td>NVL</td>\n",
              "      <td>2024-08-16</td>\n",
              "      <td>3.054193e+10</td>\n",
              "    </tr>\n",
              "    <tr>\n",
              "      <th>7</th>\n",
              "      <td>DPM</td>\n",
              "      <td>2024-08-16</td>\n",
              "      <td>2.839805e+10</td>\n",
              "    </tr>\n",
              "    <tr>\n",
              "      <th>8</th>\n",
              "      <td>DGC</td>\n",
              "      <td>2024-08-16</td>\n",
              "      <td>2.769208e+10</td>\n",
              "    </tr>\n",
              "    <tr>\n",
              "      <th>9</th>\n",
              "      <td>FPT</td>\n",
              "      <td>2024-08-16</td>\n",
              "      <td>2.629880e+10</td>\n",
              "    </tr>\n",
              "  </tbody>\n",
              "</table>\n",
              "</div>"
            ],
            "text/plain": [
              "  symbol        date     net_value\n",
              "0    MWG  2024-08-16  1.015998e+11\n",
              "1    CTG  2024-08-16  6.709855e+10\n",
              "2    DIG  2024-08-16  6.705117e+10\n",
              "3    MSN  2024-08-16  6.318864e+10\n",
              "4    VCI  2024-08-16  5.041683e+10\n",
              "5    VND  2024-08-16  3.089996e+10\n",
              "6    NVL  2024-08-16  3.054193e+10\n",
              "7    DPM  2024-08-16  2.839805e+10\n",
              "8    DGC  2024-08-16  2.769208e+10\n",
              "9    FPT  2024-08-16  2.629880e+10"
            ]
          },
          "execution_count": 9,
          "metadata": {},
          "output_type": "execute_result"
        }
      ],
      "source": [
        "top.foreign_buy(date='2024-08-16')"
      ]
    },
    {
      "cell_type": "code",
      "execution_count": 10,
      "metadata": {
        "id": "7VrAnFvrL0B0",
        "outputId": "78bc866b-7cd4-41aa-b296-b5bb9211c012"
      },
      "outputs": [
        {
          "data": {
            "application/vnd.microsoft.datawrangler.viewer.v0+json": {
              "columns": [
                {
                  "name": "index",
                  "rawType": "int64",
                  "type": "integer"
                },
                {
                  "name": "symbol",
                  "rawType": "object",
                  "type": "string"
                },
                {
                  "name": "date",
                  "rawType": "object",
                  "type": "string"
                },
                {
                  "name": "net_value",
                  "rawType": "float64",
                  "type": "float"
                }
              ],
              "ref": "5bdb6593-2938-48a6-be9c-966947ad53fc",
              "rows": [
                [
                  "0",
                  "VHM",
                  "2024-08-16",
                  "-313614650300.0"
                ],
                [
                  "1",
                  "HPG",
                  "2024-08-16",
                  "-180445692000.0"
                ],
                [
                  "2",
                  "TCB",
                  "2024-08-16",
                  "-108300491650.0"
                ],
                [
                  "3",
                  "HSG",
                  "2024-08-16",
                  "-56606925100.0"
                ],
                [
                  "4",
                  "VPB",
                  "2024-08-16",
                  "-49448036950.0"
                ],
                [
                  "5",
                  "FUEVFVND",
                  "2024-08-16",
                  "-37697790000.0"
                ],
                [
                  "6",
                  "FRT",
                  "2024-08-16",
                  "-31308771700.0"
                ],
                [
                  "7",
                  "HDB",
                  "2024-08-16",
                  "-25341243600.0"
                ],
                [
                  "8",
                  "QNS",
                  "2024-08-16",
                  "-18090280000.0"
                ],
                [
                  "9",
                  "NLG",
                  "2024-08-16",
                  "-16575775000.0"
                ]
              ],
              "shape": {
                "columns": 3,
                "rows": 10
              }
            },
            "text/html": [
              "<div>\n",
              "<style scoped>\n",
              "    .dataframe tbody tr th:only-of-type {\n",
              "        vertical-align: middle;\n",
              "    }\n",
              "\n",
              "    .dataframe tbody tr th {\n",
              "        vertical-align: top;\n",
              "    }\n",
              "\n",
              "    .dataframe thead th {\n",
              "        text-align: right;\n",
              "    }\n",
              "</style>\n",
              "<table border=\"1\" class=\"dataframe\">\n",
              "  <thead>\n",
              "    <tr style=\"text-align: right;\">\n",
              "      <th></th>\n",
              "      <th>symbol</th>\n",
              "      <th>date</th>\n",
              "      <th>net_value</th>\n",
              "    </tr>\n",
              "  </thead>\n",
              "  <tbody>\n",
              "    <tr>\n",
              "      <th>0</th>\n",
              "      <td>VHM</td>\n",
              "      <td>2024-08-16</td>\n",
              "      <td>-3.136147e+11</td>\n",
              "    </tr>\n",
              "    <tr>\n",
              "      <th>1</th>\n",
              "      <td>HPG</td>\n",
              "      <td>2024-08-16</td>\n",
              "      <td>-1.804457e+11</td>\n",
              "    </tr>\n",
              "    <tr>\n",
              "      <th>2</th>\n",
              "      <td>TCB</td>\n",
              "      <td>2024-08-16</td>\n",
              "      <td>-1.083005e+11</td>\n",
              "    </tr>\n",
              "    <tr>\n",
              "      <th>3</th>\n",
              "      <td>HSG</td>\n",
              "      <td>2024-08-16</td>\n",
              "      <td>-5.660693e+10</td>\n",
              "    </tr>\n",
              "    <tr>\n",
              "      <th>4</th>\n",
              "      <td>VPB</td>\n",
              "      <td>2024-08-16</td>\n",
              "      <td>-4.944804e+10</td>\n",
              "    </tr>\n",
              "    <tr>\n",
              "      <th>5</th>\n",
              "      <td>FUEVFVND</td>\n",
              "      <td>2024-08-16</td>\n",
              "      <td>-3.769779e+10</td>\n",
              "    </tr>\n",
              "    <tr>\n",
              "      <th>6</th>\n",
              "      <td>FRT</td>\n",
              "      <td>2024-08-16</td>\n",
              "      <td>-3.130877e+10</td>\n",
              "    </tr>\n",
              "    <tr>\n",
              "      <th>7</th>\n",
              "      <td>HDB</td>\n",
              "      <td>2024-08-16</td>\n",
              "      <td>-2.534124e+10</td>\n",
              "    </tr>\n",
              "    <tr>\n",
              "      <th>8</th>\n",
              "      <td>QNS</td>\n",
              "      <td>2024-08-16</td>\n",
              "      <td>-1.809028e+10</td>\n",
              "    </tr>\n",
              "    <tr>\n",
              "      <th>9</th>\n",
              "      <td>NLG</td>\n",
              "      <td>2024-08-16</td>\n",
              "      <td>-1.657578e+10</td>\n",
              "    </tr>\n",
              "  </tbody>\n",
              "</table>\n",
              "</div>"
            ],
            "text/plain": [
              "     symbol        date     net_value\n",
              "0       VHM  2024-08-16 -3.136147e+11\n",
              "1       HPG  2024-08-16 -1.804457e+11\n",
              "2       TCB  2024-08-16 -1.083005e+11\n",
              "3       HSG  2024-08-16 -5.660693e+10\n",
              "4       VPB  2024-08-16 -4.944804e+10\n",
              "5  FUEVFVND  2024-08-16 -3.769779e+10\n",
              "6       FRT  2024-08-16 -3.130877e+10\n",
              "7       HDB  2024-08-16 -2.534124e+10\n",
              "8       QNS  2024-08-16 -1.809028e+10\n",
              "9       NLG  2024-08-16 -1.657578e+10"
            ]
          },
          "execution_count": 10,
          "metadata": {},
          "output_type": "execute_result"
        }
      ],
      "source": [
        "top.foreign_sell(date='2024-08-16')"
      ]
    },
    {
      "cell_type": "markdown",
      "metadata": {
        "id": "L7PWFgy9L0B2"
      },
      "source": [
        "# Market"
      ]
    },
    {
      "cell_type": "code",
      "execution_count": 11,
      "metadata": {
        "id": "TqUr5_WBL0B2"
      },
      "outputs": [],
      "source": [
        "from vnstock_data import Market\n",
        "mk = Market(source=\"vnd\")\n"
      ]
    },
    {
      "cell_type": "code",
      "execution_count": 12,
      "metadata": {
        "id": "H04lkoNtL0B2",
        "outputId": "114f6989-0641-4a52-d6c9-2b2212394c42"
      },
      "outputs": [
        {
          "data": {
            "application/vnd.microsoft.datawrangler.viewer.v0+json": {
              "columns": [
                {
                  "name": "reportDate",
                  "rawType": "datetime64[ns]",
                  "type": "datetime"
                },
                {
                  "name": "pe",
                  "rawType": "float64",
                  "type": "float"
                },
                {
                  "name": "pb",
                  "rawType": "float64",
                  "type": "float"
                }
              ],
              "ref": "b7442f86-f702-421d-9a5e-0861a83b2369",
              "rows": [
                [
                  "2020-05-07 00:00:00",
                  "13.094983746076899",
                  "1.7872789099540651"
                ],
                [
                  "2020-05-08 00:00:00",
                  "13.376636689059469",
                  "1.825720528109571"
                ],
                [
                  "2020-05-11 00:00:00",
                  "13.6169304323922",
                  "1.858987071996918"
                ],
                [
                  "2020-05-12 00:00:00",
                  "13.731416975001032",
                  "1.8746168061491293"
                ],
                [
                  "2020-05-13 00:00:00",
                  "13.713276285340568",
                  "1.8730449903953854"
                ],
                [
                  "2020-05-14 00:00:00",
                  "13.681394124441105",
                  "1.8688554709380507"
                ],
                [
                  "2020-05-15 00:00:00",
                  "13.501089393464245",
                  "1.8566981445245772"
                ],
                [
                  "2020-05-18 00:00:00",
                  "13.663797423274978",
                  "1.8791156081658837"
                ],
                [
                  "2020-05-19 00:00:00",
                  "13.808469515319587",
                  "1.8990116573976994"
                ],
                [
                  "2020-05-20 00:00:00",
                  "13.921491192518916",
                  "1.9146292457501641"
                ],
                [
                  "2020-05-21 00:00:00",
                  "14.082321852430672",
                  "1.9368715140005666"
                ],
                [
                  "2020-05-22 00:00:00",
                  "13.916946881330913",
                  "1.9145155881602456"
                ],
                [
                  "2020-05-25 00:00:00",
                  "14.020093038874549",
                  "1.928765067784533"
                ],
                [
                  "2020-05-26 00:00:00",
                  "14.185129598587775",
                  "1.9514693929555276"
                ],
                [
                  "2020-05-27 00:00:00",
                  "13.994802345810976",
                  "1.9253007516661613"
                ],
                [
                  "2020-05-28 00:00:00",
                  "14.058601915186276",
                  "1.9341177636482352"
                ],
                [
                  "2020-05-29 00:00:00",
                  "14.10853137335596",
                  "1.9409868287628111"
                ],
                [
                  "2020-06-01 00:00:00",
                  "14.340304470456012",
                  "1.9728731050043158"
                ],
                [
                  "2020-06-02 00:00:00",
                  "14.277162576545273",
                  "1.9641863337748642"
                ],
                [
                  "2020-06-03 00:00:00",
                  "14.381478527696709",
                  "1.9785809096904166"
                ],
                [
                  "2020-06-04 00:00:00",
                  "14.425971623295764",
                  "1.9847275608240922"
                ],
                [
                  "2020-06-05 00:00:00",
                  "14.464030856617121",
                  "1.9901173803065817"
                ],
                [
                  "2020-06-08 00:00:00",
                  "14.68823779800607",
                  "2.0209714073317815"
                ],
                [
                  "2020-06-09 00:00:00",
                  "14.680417863243044",
                  "2.020052801569894"
                ],
                [
                  "2020-06-10 00:00:00",
                  "14.689450918617451",
                  "2.021314555040412"
                ],
                [
                  "2020-06-11 00:00:00",
                  "14.157304096866905",
                  "1.9481661789951157"
                ],
                [
                  "2020-06-12 00:00:00",
                  "14.094017182136005",
                  "1.9394850267873651"
                ],
                [
                  "2020-06-15 00:00:00",
                  "13.587358560750626",
                  "1.8697634706709745"
                ],
                [
                  "2020-06-16 00:00:00",
                  "13.974135865242813",
                  "1.9230019995861816"
                ],
                [
                  "2020-06-17 00:00:00",
                  "13.94511421705901",
                  "1.9193089636881464"
                ],
                [
                  "2020-06-18 00:00:00",
                  "13.958141152724387",
                  "1.9212470937186248"
                ],
                [
                  "2020-06-19 00:00:00",
                  "14.175636442745747",
                  "1.9514238701659865"
                ],
                [
                  "2020-06-22 00:00:00",
                  "14.219855220499907",
                  "1.957511045071152"
                ],
                [
                  "2020-06-23 00:00:00",
                  "14.169442148411278",
                  "1.9506496726977491"
                ],
                [
                  "2020-06-24 00:00:00",
                  "14.034311212380219",
                  "1.9313274545623034"
                ],
                [
                  "2020-06-25 00:00:00",
                  "13.950651628965044",
                  "1.9198838544990742"
                ],
                [
                  "2020-06-26 00:00:00",
                  "13.908113739509966",
                  "1.914125561242604"
                ],
                [
                  "2020-06-29 00:00:00",
                  "13.53857586534121",
                  "1.8665604947220784"
                ],
                [
                  "2020-06-30 00:00:00",
                  "13.716447000472938",
                  "1.8381168373777956"
                ],
                [
                  "2020-07-01 00:00:00",
                  "14.023867276968137",
                  "1.8792157416296014"
                ],
                [
                  "2020-07-02 00:00:00",
                  "14.008799999133142",
                  "1.8771341752544841"
                ],
                [
                  "2020-07-03 00:00:00",
                  "14.096506945766837",
                  "1.8887579146095264"
                ],
                [
                  "2020-07-06 00:00:00",
                  "14.323025919605065",
                  "1.9191418839865548"
                ],
                [
                  "2020-07-07 00:00:00",
                  "14.360850189684045",
                  "1.9248329847293846"
                ],
                [
                  "2020-07-08 00:00:00",
                  "14.379346703193914",
                  "1.9273109595065308"
                ],
                [
                  "2020-07-09 00:00:00",
                  "14.578325156918908",
                  "1.9547016470414698"
                ],
                [
                  "2020-07-10 00:00:00",
                  "14.491425130943867",
                  "1.9430233647558877"
                ],
                [
                  "2020-07-13 00:00:00",
                  "14.449909787557772",
                  "1.9376501021615113"
                ],
                [
                  "2020-07-14 00:00:00",
                  "14.439176335651279",
                  "1.9448636710256246"
                ],
                [
                  "2020-07-15 00:00:00",
                  "14.469011998520513",
                  "1.9490473834353512"
                ]
              ],
              "shape": {
                "columns": 2,
                "rows": 1242
              }
            },
            "text/html": [
              "<div>\n",
              "<style scoped>\n",
              "    .dataframe tbody tr th:only-of-type {\n",
              "        vertical-align: middle;\n",
              "    }\n",
              "\n",
              "    .dataframe tbody tr th {\n",
              "        vertical-align: top;\n",
              "    }\n",
              "\n",
              "    .dataframe thead th {\n",
              "        text-align: right;\n",
              "    }\n",
              "</style>\n",
              "<table border=\"1\" class=\"dataframe\">\n",
              "  <thead>\n",
              "    <tr style=\"text-align: right;\">\n",
              "      <th></th>\n",
              "      <th>pe</th>\n",
              "      <th>pb</th>\n",
              "    </tr>\n",
              "    <tr>\n",
              "      <th>reportDate</th>\n",
              "      <th></th>\n",
              "      <th></th>\n",
              "    </tr>\n",
              "  </thead>\n",
              "  <tbody>\n",
              "    <tr>\n",
              "      <th>2020-05-07</th>\n",
              "      <td>13.094984</td>\n",
              "      <td>1.787279</td>\n",
              "    </tr>\n",
              "    <tr>\n",
              "      <th>2020-05-08</th>\n",
              "      <td>13.376637</td>\n",
              "      <td>1.825721</td>\n",
              "    </tr>\n",
              "    <tr>\n",
              "      <th>2020-05-11</th>\n",
              "      <td>13.616930</td>\n",
              "      <td>1.858987</td>\n",
              "    </tr>\n",
              "    <tr>\n",
              "      <th>2020-05-12</th>\n",
              "      <td>13.731417</td>\n",
              "      <td>1.874617</td>\n",
              "    </tr>\n",
              "    <tr>\n",
              "      <th>2020-05-13</th>\n",
              "      <td>13.713276</td>\n",
              "      <td>1.873045</td>\n",
              "    </tr>\n",
              "    <tr>\n",
              "      <th>...</th>\n",
              "      <td>...</td>\n",
              "      <td>...</td>\n",
              "    </tr>\n",
              "    <tr>\n",
              "      <th>2025-04-24</th>\n",
              "      <td>12.004537</td>\n",
              "      <td>1.557528</td>\n",
              "    </tr>\n",
              "    <tr>\n",
              "      <th>2025-04-25</th>\n",
              "      <td>12.056841</td>\n",
              "      <td>1.561316</td>\n",
              "    </tr>\n",
              "    <tr>\n",
              "      <th>2025-04-28</th>\n",
              "      <td>11.968801</td>\n",
              "      <td>1.545484</td>\n",
              "    </tr>\n",
              "    <tr>\n",
              "      <th>2025-04-29</th>\n",
              "      <td>11.869984</td>\n",
              "      <td>1.526738</td>\n",
              "    </tr>\n",
              "    <tr>\n",
              "      <th>2025-05-05</th>\n",
              "      <td>11.929893</td>\n",
              "      <td>1.536393</td>\n",
              "    </tr>\n",
              "  </tbody>\n",
              "</table>\n",
              "<p>1242 rows × 2 columns</p>\n",
              "</div>"
            ],
            "text/plain": [
              "                   pe        pb\n",
              "reportDate                     \n",
              "2020-05-07  13.094984  1.787279\n",
              "2020-05-08  13.376637  1.825721\n",
              "2020-05-11  13.616930  1.858987\n",
              "2020-05-12  13.731417  1.874617\n",
              "2020-05-13  13.713276  1.873045\n",
              "...               ...       ...\n",
              "2025-04-24  12.004537  1.557528\n",
              "2025-04-25  12.056841  1.561316\n",
              "2025-04-28  11.968801  1.545484\n",
              "2025-04-29  11.869984  1.526738\n",
              "2025-05-05  11.929893  1.536393\n",
              "\n",
              "[1242 rows x 2 columns]"
            ]
          },
          "execution_count": 12,
          "metadata": {},
          "output_type": "execute_result"
        }
      ],
      "source": [
        "mk.evaluation(duration='5Y')"
      ]
    },
    {
      "cell_type": "code",
      "execution_count": 13,
      "metadata": {
        "id": "jIw806UOL0B2",
        "outputId": "6b5121a8-f722-4710-82b8-e5fdc243813d"
      },
      "outputs": [
        {
          "data": {
            "application/vnd.microsoft.datawrangler.viewer.v0+json": {
              "columns": [
                {
                  "name": "reportDate",
                  "rawType": "datetime64[ns]",
                  "type": "datetime"
                },
                {
                  "name": "pb",
                  "rawType": "float64",
                  "type": "float"
                }
              ],
              "ref": "5da2d622-5934-4810-a5a1-531140480329",
              "rows": [
                [
                  "2020-05-07 00:00:00",
                  "1.7872789099540651"
                ],
                [
                  "2020-05-08 00:00:00",
                  "1.825720528109571"
                ],
                [
                  "2020-05-11 00:00:00",
                  "1.858987071996918"
                ],
                [
                  "2020-05-12 00:00:00",
                  "1.8746168061491293"
                ],
                [
                  "2020-05-13 00:00:00",
                  "1.8730449903953854"
                ],
                [
                  "2020-05-14 00:00:00",
                  "1.8688554709380507"
                ],
                [
                  "2020-05-15 00:00:00",
                  "1.8566981445245772"
                ],
                [
                  "2020-05-18 00:00:00",
                  "1.8791156081658837"
                ],
                [
                  "2020-05-19 00:00:00",
                  "1.8990116573976994"
                ],
                [
                  "2020-05-20 00:00:00",
                  "1.9146292457501641"
                ],
                [
                  "2020-05-21 00:00:00",
                  "1.9368715140005666"
                ],
                [
                  "2020-05-22 00:00:00",
                  "1.9145155881602456"
                ],
                [
                  "2020-05-25 00:00:00",
                  "1.928765067784533"
                ],
                [
                  "2020-05-26 00:00:00",
                  "1.9514693929555276"
                ],
                [
                  "2020-05-27 00:00:00",
                  "1.9253007516661613"
                ],
                [
                  "2020-05-28 00:00:00",
                  "1.9341177636482352"
                ],
                [
                  "2020-05-29 00:00:00",
                  "1.9409868287628111"
                ],
                [
                  "2020-06-01 00:00:00",
                  "1.9728731050043158"
                ],
                [
                  "2020-06-02 00:00:00",
                  "1.9641863337748642"
                ],
                [
                  "2020-06-03 00:00:00",
                  "1.9785809096904166"
                ],
                [
                  "2020-06-04 00:00:00",
                  "1.9847275608240922"
                ],
                [
                  "2020-06-05 00:00:00",
                  "1.9901173803065817"
                ],
                [
                  "2020-06-08 00:00:00",
                  "2.0209714073317815"
                ],
                [
                  "2020-06-09 00:00:00",
                  "2.020052801569894"
                ],
                [
                  "2020-06-10 00:00:00",
                  "2.021314555040412"
                ],
                [
                  "2020-06-11 00:00:00",
                  "1.9481661789951157"
                ],
                [
                  "2020-06-12 00:00:00",
                  "1.9394850267873651"
                ],
                [
                  "2020-06-15 00:00:00",
                  "1.8697634706709745"
                ],
                [
                  "2020-06-16 00:00:00",
                  "1.9230019995861816"
                ],
                [
                  "2020-06-17 00:00:00",
                  "1.9193089636881464"
                ],
                [
                  "2020-06-18 00:00:00",
                  "1.9212470937186248"
                ],
                [
                  "2020-06-19 00:00:00",
                  "1.9514238701659865"
                ],
                [
                  "2020-06-22 00:00:00",
                  "1.957511045071152"
                ],
                [
                  "2020-06-23 00:00:00",
                  "1.9506496726977491"
                ],
                [
                  "2020-06-24 00:00:00",
                  "1.9313274545623034"
                ],
                [
                  "2020-06-25 00:00:00",
                  "1.9198838544990742"
                ],
                [
                  "2020-06-26 00:00:00",
                  "1.914125561242604"
                ],
                [
                  "2020-06-29 00:00:00",
                  "1.8665604947220784"
                ],
                [
                  "2020-06-30 00:00:00",
                  "1.8381168373777956"
                ],
                [
                  "2020-07-01 00:00:00",
                  "1.8792157416296014"
                ],
                [
                  "2020-07-02 00:00:00",
                  "1.8771341752544841"
                ],
                [
                  "2020-07-03 00:00:00",
                  "1.8887579146095264"
                ],
                [
                  "2020-07-06 00:00:00",
                  "1.9191418839865548"
                ],
                [
                  "2020-07-07 00:00:00",
                  "1.9248329847293846"
                ],
                [
                  "2020-07-08 00:00:00",
                  "1.9273109595065308"
                ],
                [
                  "2020-07-09 00:00:00",
                  "1.9547016470414698"
                ],
                [
                  "2020-07-10 00:00:00",
                  "1.9430233647558877"
                ],
                [
                  "2020-07-13 00:00:00",
                  "1.9376501021615113"
                ],
                [
                  "2020-07-14 00:00:00",
                  "1.9448636710256246"
                ],
                [
                  "2020-07-15 00:00:00",
                  "1.9490473834353512"
                ]
              ],
              "shape": {
                "columns": 1,
                "rows": 1242
              }
            },
            "text/html": [
              "<div>\n",
              "<style scoped>\n",
              "    .dataframe tbody tr th:only-of-type {\n",
              "        vertical-align: middle;\n",
              "    }\n",
              "\n",
              "    .dataframe tbody tr th {\n",
              "        vertical-align: top;\n",
              "    }\n",
              "\n",
              "    .dataframe thead th {\n",
              "        text-align: right;\n",
              "    }\n",
              "</style>\n",
              "<table border=\"1\" class=\"dataframe\">\n",
              "  <thead>\n",
              "    <tr style=\"text-align: right;\">\n",
              "      <th></th>\n",
              "      <th>pb</th>\n",
              "    </tr>\n",
              "    <tr>\n",
              "      <th>reportDate</th>\n",
              "      <th></th>\n",
              "    </tr>\n",
              "  </thead>\n",
              "  <tbody>\n",
              "    <tr>\n",
              "      <th>2020-05-07</th>\n",
              "      <td>1.787279</td>\n",
              "    </tr>\n",
              "    <tr>\n",
              "      <th>2020-05-08</th>\n",
              "      <td>1.825721</td>\n",
              "    </tr>\n",
              "    <tr>\n",
              "      <th>2020-05-11</th>\n",
              "      <td>1.858987</td>\n",
              "    </tr>\n",
              "    <tr>\n",
              "      <th>2020-05-12</th>\n",
              "      <td>1.874617</td>\n",
              "    </tr>\n",
              "    <tr>\n",
              "      <th>2020-05-13</th>\n",
              "      <td>1.873045</td>\n",
              "    </tr>\n",
              "    <tr>\n",
              "      <th>...</th>\n",
              "      <td>...</td>\n",
              "    </tr>\n",
              "    <tr>\n",
              "      <th>2025-04-24</th>\n",
              "      <td>1.557528</td>\n",
              "    </tr>\n",
              "    <tr>\n",
              "      <th>2025-04-25</th>\n",
              "      <td>1.561316</td>\n",
              "    </tr>\n",
              "    <tr>\n",
              "      <th>2025-04-28</th>\n",
              "      <td>1.545484</td>\n",
              "    </tr>\n",
              "    <tr>\n",
              "      <th>2025-04-29</th>\n",
              "      <td>1.526738</td>\n",
              "    </tr>\n",
              "    <tr>\n",
              "      <th>2025-05-05</th>\n",
              "      <td>1.536393</td>\n",
              "    </tr>\n",
              "  </tbody>\n",
              "</table>\n",
              "<p>1242 rows × 1 columns</p>\n",
              "</div>"
            ],
            "text/plain": [
              "                  pb\n",
              "reportDate          \n",
              "2020-05-07  1.787279\n",
              "2020-05-08  1.825721\n",
              "2020-05-11  1.858987\n",
              "2020-05-12  1.874617\n",
              "2020-05-13  1.873045\n",
              "...              ...\n",
              "2025-04-24  1.557528\n",
              "2025-04-25  1.561316\n",
              "2025-04-28  1.545484\n",
              "2025-04-29  1.526738\n",
              "2025-05-05  1.536393\n",
              "\n",
              "[1242 rows x 1 columns]"
            ]
          },
          "execution_count": 13,
          "metadata": {},
          "output_type": "execute_result"
        }
      ],
      "source": [
        "mk.pb(duration=\"5Y\")"
      ]
    },
    {
      "cell_type": "code",
      "execution_count": 14,
      "metadata": {
        "id": "NUy2iW-SL0B6",
        "outputId": "dec06cec-0d1b-48d1-8bdf-86a27711394c"
      },
      "outputs": [
        {
          "data": {
            "application/vnd.microsoft.datawrangler.viewer.v0+json": {
              "columns": [
                {
                  "name": "reportDate",
                  "rawType": "datetime64[ns]",
                  "type": "datetime"
                },
                {
                  "name": "pe",
                  "rawType": "float64",
                  "type": "float"
                }
              ],
              "ref": "7d6fbc20-8d01-4f72-9380-749f8e126823",
              "rows": [
                [
                  "2020-05-07 00:00:00",
                  "13.094983746076899"
                ],
                [
                  "2020-05-08 00:00:00",
                  "13.376636689059469"
                ],
                [
                  "2020-05-11 00:00:00",
                  "13.6169304323922"
                ],
                [
                  "2020-05-12 00:00:00",
                  "13.731416975001032"
                ],
                [
                  "2020-05-13 00:00:00",
                  "13.713276285340568"
                ],
                [
                  "2020-05-14 00:00:00",
                  "13.681394124441105"
                ],
                [
                  "2020-05-15 00:00:00",
                  "13.501089393464245"
                ],
                [
                  "2020-05-18 00:00:00",
                  "13.663797423274978"
                ],
                [
                  "2020-05-19 00:00:00",
                  "13.808469515319587"
                ],
                [
                  "2020-05-20 00:00:00",
                  "13.921491192518916"
                ],
                [
                  "2020-05-21 00:00:00",
                  "14.082321852430672"
                ],
                [
                  "2020-05-22 00:00:00",
                  "13.916946881330913"
                ],
                [
                  "2020-05-25 00:00:00",
                  "14.020093038874549"
                ],
                [
                  "2020-05-26 00:00:00",
                  "14.185129598587775"
                ],
                [
                  "2020-05-27 00:00:00",
                  "13.994802345810976"
                ],
                [
                  "2020-05-28 00:00:00",
                  "14.058601915186276"
                ],
                [
                  "2020-05-29 00:00:00",
                  "14.10853137335596"
                ],
                [
                  "2020-06-01 00:00:00",
                  "14.340304470456012"
                ],
                [
                  "2020-06-02 00:00:00",
                  "14.277162576545273"
                ],
                [
                  "2020-06-03 00:00:00",
                  "14.381478527696709"
                ],
                [
                  "2020-06-04 00:00:00",
                  "14.425971623295764"
                ],
                [
                  "2020-06-05 00:00:00",
                  "14.464030856617121"
                ],
                [
                  "2020-06-08 00:00:00",
                  "14.68823779800607"
                ],
                [
                  "2020-06-09 00:00:00",
                  "14.680417863243044"
                ],
                [
                  "2020-06-10 00:00:00",
                  "14.689450918617451"
                ],
                [
                  "2020-06-11 00:00:00",
                  "14.157304096866905"
                ],
                [
                  "2020-06-12 00:00:00",
                  "14.094017182136005"
                ],
                [
                  "2020-06-15 00:00:00",
                  "13.587358560750626"
                ],
                [
                  "2020-06-16 00:00:00",
                  "13.974135865242813"
                ],
                [
                  "2020-06-17 00:00:00",
                  "13.94511421705901"
                ],
                [
                  "2020-06-18 00:00:00",
                  "13.958141152724387"
                ],
                [
                  "2020-06-19 00:00:00",
                  "14.175636442745747"
                ],
                [
                  "2020-06-22 00:00:00",
                  "14.219855220499907"
                ],
                [
                  "2020-06-23 00:00:00",
                  "14.169442148411278"
                ],
                [
                  "2020-06-24 00:00:00",
                  "14.034311212380219"
                ],
                [
                  "2020-06-25 00:00:00",
                  "13.950651628965044"
                ],
                [
                  "2020-06-26 00:00:00",
                  "13.908113739509966"
                ],
                [
                  "2020-06-29 00:00:00",
                  "13.53857586534121"
                ],
                [
                  "2020-06-30 00:00:00",
                  "13.716447000472938"
                ],
                [
                  "2020-07-01 00:00:00",
                  "14.023867276968137"
                ],
                [
                  "2020-07-02 00:00:00",
                  "14.008799999133142"
                ],
                [
                  "2020-07-03 00:00:00",
                  "14.096506945766837"
                ],
                [
                  "2020-07-06 00:00:00",
                  "14.323025919605065"
                ],
                [
                  "2020-07-07 00:00:00",
                  "14.360850189684045"
                ],
                [
                  "2020-07-08 00:00:00",
                  "14.379346703193914"
                ],
                [
                  "2020-07-09 00:00:00",
                  "14.578325156918908"
                ],
                [
                  "2020-07-10 00:00:00",
                  "14.491425130943867"
                ],
                [
                  "2020-07-13 00:00:00",
                  "14.449909787557772"
                ],
                [
                  "2020-07-14 00:00:00",
                  "14.439176335651279"
                ],
                [
                  "2020-07-15 00:00:00",
                  "14.469011998520513"
                ]
              ],
              "shape": {
                "columns": 1,
                "rows": 1242
              }
            },
            "text/html": [
              "<div>\n",
              "<style scoped>\n",
              "    .dataframe tbody tr th:only-of-type {\n",
              "        vertical-align: middle;\n",
              "    }\n",
              "\n",
              "    .dataframe tbody tr th {\n",
              "        vertical-align: top;\n",
              "    }\n",
              "\n",
              "    .dataframe thead th {\n",
              "        text-align: right;\n",
              "    }\n",
              "</style>\n",
              "<table border=\"1\" class=\"dataframe\">\n",
              "  <thead>\n",
              "    <tr style=\"text-align: right;\">\n",
              "      <th></th>\n",
              "      <th>pe</th>\n",
              "    </tr>\n",
              "    <tr>\n",
              "      <th>reportDate</th>\n",
              "      <th></th>\n",
              "    </tr>\n",
              "  </thead>\n",
              "  <tbody>\n",
              "    <tr>\n",
              "      <th>2020-05-07</th>\n",
              "      <td>13.094984</td>\n",
              "    </tr>\n",
              "    <tr>\n",
              "      <th>2020-05-08</th>\n",
              "      <td>13.376637</td>\n",
              "    </tr>\n",
              "    <tr>\n",
              "      <th>2020-05-11</th>\n",
              "      <td>13.616930</td>\n",
              "    </tr>\n",
              "    <tr>\n",
              "      <th>2020-05-12</th>\n",
              "      <td>13.731417</td>\n",
              "    </tr>\n",
              "    <tr>\n",
              "      <th>2020-05-13</th>\n",
              "      <td>13.713276</td>\n",
              "    </tr>\n",
              "    <tr>\n",
              "      <th>...</th>\n",
              "      <td>...</td>\n",
              "    </tr>\n",
              "    <tr>\n",
              "      <th>2025-04-24</th>\n",
              "      <td>12.004537</td>\n",
              "    </tr>\n",
              "    <tr>\n",
              "      <th>2025-04-25</th>\n",
              "      <td>12.056841</td>\n",
              "    </tr>\n",
              "    <tr>\n",
              "      <th>2025-04-28</th>\n",
              "      <td>11.968801</td>\n",
              "    </tr>\n",
              "    <tr>\n",
              "      <th>2025-04-29</th>\n",
              "      <td>11.869984</td>\n",
              "    </tr>\n",
              "    <tr>\n",
              "      <th>2025-05-05</th>\n",
              "      <td>11.929893</td>\n",
              "    </tr>\n",
              "  </tbody>\n",
              "</table>\n",
              "<p>1242 rows × 1 columns</p>\n",
              "</div>"
            ],
            "text/plain": [
              "                   pe\n",
              "reportDate           \n",
              "2020-05-07  13.094984\n",
              "2020-05-08  13.376637\n",
              "2020-05-11  13.616930\n",
              "2020-05-12  13.731417\n",
              "2020-05-13  13.713276\n",
              "...               ...\n",
              "2025-04-24  12.004537\n",
              "2025-04-25  12.056841\n",
              "2025-04-28  11.968801\n",
              "2025-04-29  11.869984\n",
              "2025-05-05  11.929893\n",
              "\n",
              "[1242 rows x 1 columns]"
            ]
          },
          "execution_count": 14,
          "metadata": {},
          "output_type": "execute_result"
        }
      ],
      "source": [
        "mk.pe(duration=\"5Y\")"
      ]
    },
    {
      "cell_type": "markdown",
      "metadata": {
        "id": "0L8z6N3WL0B0"
      },
      "source": [
        "# Finance"
      ]
    },
    {
      "cell_type": "code",
      "execution_count": null,
      "metadata": {
        "id": "EqJwvo3NL0B1",
        "outputId": "4b0ceb71-2bb2-4ad8-d724-ff0f736f0dbe"
      },
      "outputs": [
        {
          "name": "stdout",
          "output_type": "stream",
          "text": [
            "=== Finance.balance_sheet ===\n"
          ]
        },
        {
          "data": {
            "application/vnd.microsoft.datawrangler.viewer.v0+json": {
              "columns": [
                {
                  "name": "index",
                  "rawType": "int64",
                  "type": "integer"
                },
                {
                  "name": "period",
                  "rawType": "int64",
                  "type": "integer"
                },
                {
                  "name": "year_period",
                  "rawType": "int64",
                  "type": "integer"
                },
                {
                  "name": "A. SHORT-TERM ASSETS",
                  "rawType": "object",
                  "type": "string"
                },
                {
                  "name": "Short-term financial assets",
                  "rawType": "object",
                  "type": "string"
                },
                {
                  "name": "1. Cash and cash equivalents",
                  "rawType": "object",
                  "type": "string"
                },
                {
                  "name": "1.1. Cash",
                  "rawType": "object",
                  "type": "string"
                },
                {
                  "name": "1.2. Cash equivalents",
                  "rawType": "object",
                  "type": "string"
                },
                {
                  "name": "Short-term investments",
                  "rawType": "object",
                  "type": "string"
                },
                {
                  "name": "+ Short-term investments",
                  "rawType": "object",
                  "type": "string"
                },
                {
                  "name": "Provision for diminution in value of short-term investments",
                  "rawType": "object",
                  "type": "string"
                },
                {
                  "name": "2. Financial assets at fair value through profit or loss (FVTPL)",
                  "rawType": "object",
                  "type": "string"
                },
                {
                  "name": "3. Held to maturity investments (HTM)",
                  "rawType": "object",
                  "type": "string"
                },
                {
                  "name": "4. Loans",
                  "rawType": "object",
                  "type": "string"
                },
                {
                  "name": "5. Available-for-sale financial assets (AFS)",
                  "rawType": "object",
                  "type": "string"
                },
                {
                  "name": "6. Provisions for impairment loss of financial assets and mortgages",
                  "rawType": "object",
                  "type": "string"
                },
                {
                  "name": "7. Short-term receivables",
                  "rawType": "object",
                  "type": "string"
                },
                {
                  "name": "7.1. Receivables from disposal of financial assets",
                  "rawType": "object",
                  "type": "string"
                },
                {
                  "name": "7.2. Receivables and accruals from dividends and interest income",
                  "rawType": "object",
                  "type": "string"
                },
                {
                  "name": "7.2.2. Undue dividend and interest receivables",
                  "rawType": "object",
                  "type": "string"
                },
                {
                  "name": "Prepayments to suppliers",
                  "rawType": "object",
                  "type": "string"
                },
                {
                  "name": "9. Service related receivable",
                  "rawType": "object",
                  "type": "string"
                },
                {
                  "name": "Receivables from securities trading activities",
                  "rawType": "object",
                  "type": "string"
                },
                {
                  "name": "12. Other receivables",
                  "rawType": "object",
                  "type": "string"
                },
                {
                  "name": "13. Provision for doubtful debts",
                  "rawType": "object",
                  "type": "string"
                },
                {
                  "name": "Provision for short-term doubtful debts",
                  "rawType": "object",
                  "type": "string"
                },
                {
                  "name": "Trade accounts receivable",
                  "rawType": "object",
                  "type": "string"
                },
                {
                  "name": "Inventories",
                  "rawType": "object",
                  "type": "string"
                },
                {
                  "name": "Inventories (Detail)",
                  "rawType": "object",
                  "type": "string"
                },
                {
                  "name": "II. Other short-term assets",
                  "rawType": "object",
                  "type": "string"
                },
                {
                  "name": "1. Advances",
                  "rawType": "object",
                  "type": "string"
                },
                {
                  "name": "2. Office supplies, tools",
                  "rawType": "object",
                  "type": "string"
                },
                {
                  "name": "3. Short-term prepayments",
                  "rawType": "object",
                  "type": "string"
                },
                {
                  "name": "4. Pledged assets, mortgages, security deposits in short term",
                  "rawType": "object",
                  "type": "string"
                },
                {
                  "name": "8. Value Added Tax to be reclaimed",
                  "rawType": "object",
                  "type": "string"
                },
                {
                  "name": "Taxes and other receivables from state authorities",
                  "rawType": "object",
                  "type": "string"
                },
                {
                  "name": "5. Other short-term assets",
                  "rawType": "object",
                  "type": "string"
                },
                {
                  "name": "B. LONG-TERM ASSETS",
                  "rawType": "object",
                  "type": "string"
                },
                {
                  "name": "2. Long-term investments",
                  "rawType": "object",
                  "type": "string"
                },
                {
                  "name": "2.5. Other long-term investments",
                  "rawType": "object",
                  "type": "string"
                },
                {
                  "name": "2.6. Provision for diminution in value of long-term investments",
                  "rawType": "object",
                  "type": "string"
                },
                {
                  "name": "II. Fixed assets",
                  "rawType": "object",
                  "type": "string"
                },
                {
                  "name": "1. Tangible fixed assets",
                  "rawType": "object",
                  "type": "string"
                },
                {
                  "name": "3. Intangible fixed assets",
                  "rawType": "object",
                  "type": "string"
                },
                {
                  "name": "IV. Construction in progress",
                  "rawType": "object",
                  "type": "string"
                },
                {
                  "name": "V. Other long-term assets",
                  "rawType": "object",
                  "type": "string"
                },
                {
                  "name": "1. Pledged assets, mortgages, security deposits in long term",
                  "rawType": "object",
                  "type": "string"
                },
                {
                  "name": "2. Long-term prepayments",
                  "rawType": "object",
                  "type": "string"
                },
                {
                  "name": "3. Deferred income tax assets",
                  "rawType": "object",
                  "type": "string"
                },
                {
                  "name": "4. Payment for Settlement Assistance Fund",
                  "rawType": "object",
                  "type": "string"
                },
                {
                  "name": "5. Other long-term assets",
                  "rawType": "object",
                  "type": "string"
                },
                {
                  "name": "6. Goodwill",
                  "rawType": "object",
                  "type": "string"
                },
                {
                  "name": "TOTAL ASSETS",
                  "rawType": "object",
                  "type": "string"
                },
                {
                  "name": "A.  LIABILITIES",
                  "rawType": "object",
                  "type": "string"
                },
                {
                  "name": "I. Short -term liabilities",
                  "rawType": "object",
                  "type": "string"
                },
                {
                  "name": "1. Short-term borrowings",
                  "rawType": "object",
                  "type": "string"
                },
                {
                  "name": "1.1. Short-term borrowings",
                  "rawType": "object",
                  "type": "string"
                },
                {
                  "name": "4. Short-term bonds",
                  "rawType": "object",
                  "type": "string"
                },
                {
                  "name": "6. Payables to securities trading activities",
                  "rawType": "object",
                  "type": "string"
                },
                {
                  "name": "7. Payables to trading error of financial assets",
                  "rawType": "object",
                  "type": "string"
                },
                {
                  "name": "8. Trade accounts payable",
                  "rawType": "object",
                  "type": "string"
                },
                {
                  "name": "9. Advances from customers",
                  "rawType": "object",
                  "type": "string"
                },
                {
                  "name": "10. Taxes and other payables to state authorities",
                  "rawType": "object",
                  "type": "string"
                },
                {
                  "name": "11. Payable to employees",
                  "rawType": "object",
                  "type": "string"
                },
                {
                  "name": "12. Employee welfare payables",
                  "rawType": "object",
                  "type": "string"
                },
                {
                  "name": "13. Accrued expenses",
                  "rawType": "object",
                  "type": "string"
                },
                {
                  "name": "17. Other payables",
                  "rawType": "object",
                  "type": "string"
                },
                {
                  "name": "Payables for dividends, principal and interests on behalf of others",
                  "rawType": "object",
                  "type": "string"
                },
                {
                  "name": "19. Bonus and welfare fund",
                  "rawType": "object",
                  "type": "string"
                },
                {
                  "name": "II. Long-term liabilities",
                  "rawType": "object",
                  "type": "string"
                },
                {
                  "name": "1. Long-term borrowings",
                  "rawType": "object",
                  "type": "string"
                },
                {
                  "name": "11. Other long-term liabilities",
                  "rawType": "object",
                  "type": "string"
                },
                {
                  "name": "13. Provision for investor's damage claims",
                  "rawType": "object",
                  "type": "string"
                },
                {
                  "name": "14. Deferred income tax liabilities",
                  "rawType": "object",
                  "type": "string"
                },
                {
                  "name": "B. OWNER'S EQUITY (400=410+420)",
                  "rawType": "object",
                  "type": "string"
                },
                {
                  "name": "I. Owner's equity",
                  "rawType": "object",
                  "type": "string"
                },
                {
                  "name": "1. Investment capital from owners",
                  "rawType": "object",
                  "type": "string"
                },
                {
                  "name": "1.1. Capital from owners",
                  "rawType": "object",
                  "type": "string"
                },
                {
                  "name": "a. Common stock",
                  "rawType": "object",
                  "type": "string"
                },
                {
                  "name": "1.2. Share premium",
                  "rawType": "object",
                  "type": "string"
                },
                {
                  "name": "1.5. Treasury shares",
                  "rawType": "object",
                  "type": "string"
                },
                {
                  "name": "2. Assets revaluation differences",
                  "rawType": "object",
                  "type": "string"
                },
                {
                  "name": "4. Supplementary capital reserve",
                  "rawType": "object",
                  "type": "string"
                },
                {
                  "name": "Investment and development fund",
                  "rawType": "object",
                  "type": "string"
                },
                {
                  "name": "5. Financial reserves",
                  "rawType": "object",
                  "type": "string"
                },
                {
                  "name": "7. Undistributed earnings after tax",
                  "rawType": "object",
                  "type": "string"
                },
                {
                  "name": "7.1. Realised profits",
                  "rawType": "object",
                  "type": "string"
                },
                {
                  "name": "7.2. Unrealised losses",
                  "rawType": "object",
                  "type": "string"
                },
                {
                  "name": "8. Minority interest",
                  "rawType": "object",
                  "type": "string"
                },
                {
                  "name": "TOTAL OWNER'S EQUITY AND LIABILITIES",
                  "rawType": "object",
                  "type": "string"
                }
              ],
              "ref": "7ee40c31-b537-47c4-8fba-c95de7024cb6",
              "rows": [
                [
                  "0",
                  "2024",
                  "2024",
                  "26491835561026",
                  "26323154756009",
                  "4743771932745",
                  "4743771932745",
                  null,
                  null,
                  null,
                  null,
                  "846252317226",
                  "598000000000",
                  "11221685642375",
                  "8408756441185",
                  "-2169825587",
                  "393384095757",
                  "307297301000",
                  "86086794757",
                  "86086794757",
                  "99838840101",
                  "31372562207",
                  null,
                  null,
                  "-17737250000",
                  null,
                  null,
                  null,
                  null,
                  "168680805017",
                  "117700000",
                  "86057176",
                  "33102186641",
                  null,
                  null,
                  null,
                  "135374861200",
                  "100288918214",
                  null,
                  null,
                  null,
                  "37268698440",
                  "30600963623",
                  "6667734817",
                  "12357528942",
                  "50662690832",
                  "8079867064",
                  "6238956911",
                  null,
                  "26170889959",
                  null,
                  "10172976898",
                  "26592124479240",
                  "13647819031379",
                  "13038470981365",
                  "12573864000000",
                  "12573864000000",
                  null,
                  "16570221183",
                  null,
                  "41321989000",
                  "2743133560",
                  "64468163305",
                  "185772838870",
                  null,
                  "75873258014",
                  "77857377433",
                  null,
                  null,
                  "609348050014",
                  null,
                  null,
                  null,
                  "609348050014",
                  "12944305447861",
                  "12944305447861",
                  "9775134800000",
                  "7180994800000",
                  "7180994800000",
                  "2594140000000",
                  null,
                  "2372439624636",
                  null,
                  null,
                  null,
                  "796731023225",
                  "798326170747",
                  "-1595147522",
                  null,
                  "26592124479240"
                ],
                [
                  "1",
                  "2023",
                  "2023",
                  "17174448616966",
                  "16979554557451",
                  "787897819240",
                  "537897819240",
                  "250000000000",
                  null,
                  null,
                  null,
                  "122137632000",
                  "380900000000",
                  "7992468349969",
                  "6603829152415",
                  "-2169825587",
                  "848567540009",
                  "745348455200",
                  "103219084809",
                  "103219084809",
                  "227931442538",
                  "31212896867",
                  null,
                  null,
                  "-13220450000",
                  null,
                  null,
                  null,
                  null,
                  "194894059515",
                  "83004284",
                  "337024993",
                  "45268845138",
                  "1948000000",
                  null,
                  null,
                  "147257185100",
                  "80686039559",
                  null,
                  null,
                  null,
                  "23425609453",
                  "15725808810",
                  "7699800643",
                  "5649600000",
                  "51610830106",
                  "8571243684",
                  "7943878800",
                  null,
                  "24941477252",
                  null,
                  "10154230370",
                  "17255134656525",
                  "9883905148184",
                  "9465772066243",
                  "8979275000000",
                  "8979275000000",
                  "120000000000",
                  "13208881699",
                  null,
                  "159638295047",
                  "378319774",
                  "30619096071",
                  "99745355410",
                  null,
                  "47274665672",
                  "15632452570",
                  null,
                  null,
                  "418133081941",
                  null,
                  null,
                  null,
                  "418133081941",
                  "7371229508341",
                  "7371229508341",
                  "4388500198000",
                  "4375000000000",
                  "4375000000000",
                  "13500198000",
                  null,
                  "1607735798409",
                  "67496330852",
                  null,
                  null,
                  "1307497181080",
                  "1307134594788",
                  "362586292",
                  null,
                  "17255134656525"
                ],
                [
                  "2",
                  "2022",
                  "2022",
                  "14157693071824",
                  "14105852063553",
                  "3423501614803",
                  "2313501614803",
                  "1110000000000",
                  null,
                  null,
                  null,
                  "665257896316",
                  "885888640000",
                  "5279279236685",
                  "3734009015450",
                  "-2169825587",
                  "91374339025",
                  "31889442000",
                  "59484897025",
                  "59484897025",
                  "2306029740",
                  "28333567121",
                  null,
                  null,
                  "-1928450000",
                  null,
                  null,
                  null,
                  null,
                  "51841008271",
                  "973203243",
                  "342890728",
                  "4387924500",
                  null,
                  null,
                  null,
                  "46136989800",
                  "85058244998",
                  null,
                  null,
                  null,
                  "23496558588",
                  "22456280125",
                  "1040278463",
                  "7359767000",
                  "54201919410",
                  "6864190240",
                  "13290531600",
                  null,
                  "23914928922",
                  null,
                  "10132268648",
                  "14242751316822",
                  "7747283145208",
                  "7487464949226",
                  "6326207142857",
                  "6326207142857",
                  "547100000000",
                  "12400167546",
                  null,
                  "16020566000",
                  "221000000",
                  "46067330600",
                  "112156022703",
                  null,
                  "110247314968",
                  "317045404552",
                  null,
                  null,
                  "259818195982",
                  null,
                  null,
                  null,
                  "259818195982",
                  "6495468171614",
                  "6495468171614",
                  "4364499010000",
                  "4354999010000",
                  "4354999010000",
                  "9500000000",
                  null,
                  "1030130358576",
                  "67496330852",
                  null,
                  "233096330852",
                  "800246141334",
                  "791426130951",
                  "8820010383",
                  null,
                  "14242751316822"
                ],
                [
                  "3",
                  "2021",
                  "2021",
                  "16568965942558",
                  "16415067989149",
                  "1131748599533",
                  "1131748599533",
                  null,
                  null,
                  null,
                  null,
                  "1221516469435",
                  "753719000000",
                  "7701237131479",
                  "5323810269012",
                  "-2169825587",
                  "236146930094",
                  "188294807000",
                  "47852123094",
                  "47852123094",
                  "20164828099",
                  "30823037084",
                  null,
                  null,
                  "-1928450000",
                  null,
                  null,
                  null,
                  null,
                  "153897953409",
                  "530106947",
                  "76961000",
                  "2574424574",
                  null,
                  "1543240",
                  null,
                  "150714917648",
                  "67299004559",
                  null,
                  null,
                  null,
                  "13155825424",
                  "9960774421",
                  "3195051003",
                  "5809600000",
                  "48333579135",
                  "4927625066",
                  "10702485700",
                  null,
                  "22591443032",
                  null,
                  "10112025337",
                  "16636264947117",
                  "10094401701730",
                  "9615482121617",
                  "6362680000000",
                  "6362680000000",
                  "1964070000000",
                  "79581842302",
                  null,
                  "587193591020",
                  "52551076244",
                  "157629858019",
                  "326845972777",
                  "140272500",
                  "72911685779",
                  "11877822976",
                  null,
                  null,
                  "478919580113",
                  null,
                  null,
                  null,
                  "478919580113",
                  "6541863245387",
                  "6541863245387",
                  "3334500000000",
                  "3330000000000",
                  "3330000000000",
                  "4500000000",
                  null,
                  "1665653687451",
                  "67496330852",
                  null,
                  "233096330852",
                  "1241116896232",
                  "1024259038107",
                  "216857858125",
                  null,
                  "16636264947117"
                ],
                [
                  "4",
                  "2020",
                  "2020",
                  "8312170798945",
                  "8214643150141",
                  "642512983590",
                  "642512983590",
                  null,
                  null,
                  null,
                  null,
                  "614823602299",
                  "106000000000",
                  "3881642718172",
                  "2712657552909",
                  "-2384027974",
                  "221798617565",
                  "200850615300",
                  "20948002265",
                  "20948002265",
                  "18747621456",
                  "14833156124",
                  null,
                  "5939376000",
                  "-1928450000",
                  null,
                  null,
                  null,
                  null,
                  "97527648804",
                  "631993037",
                  "62740000",
                  "5499112767",
                  null,
                  null,
                  null,
                  "91333803000",
                  "70234326495",
                  null,
                  null,
                  null,
                  "14384201512",
                  "8034947913",
                  "6349253599",
                  "5649600000",
                  "50200524983",
                  "5987200091",
                  "12950546970",
                  null,
                  "21169262072",
                  null,
                  "10093515850",
                  "8382405125440",
                  "3860918605726",
                  "3733857117341",
                  "2696130000000",
                  "2696130000000",
                  "668320000000",
                  "18874600217",
                  null,
                  "100113858204",
                  "7971369863",
                  "95855416887",
                  "89086690581",
                  null,
                  "29820525679",
                  "27684655910",
                  null,
                  null,
                  "127061488385",
                  null,
                  null,
                  null,
                  "127061488385",
                  "4521486519714",
                  "4521486519714",
                  "2240917295890",
                  "1656000000000",
                  "1656000000000",
                  "584917295890",
                  null,
                  "426695337106",
                  "115757247094",
                  null,
                  "194161910684",
                  "1543954728940",
                  "1475888629109",
                  "68066099831",
                  null,
                  "8382405125440"
                ]
              ],
              "shape": {
                "columns": 89,
                "rows": 5
              }
            },
            "text/html": [
              "<div>\n",
              "<style scoped>\n",
              "    .dataframe tbody tr th:only-of-type {\n",
              "        vertical-align: middle;\n",
              "    }\n",
              "\n",
              "    .dataframe tbody tr th {\n",
              "        vertical-align: top;\n",
              "    }\n",
              "\n",
              "    .dataframe thead th {\n",
              "        text-align: right;\n",
              "    }\n",
              "</style>\n",
              "<table border=\"1\" class=\"dataframe\">\n",
              "  <thead>\n",
              "    <tr style=\"text-align: right;\">\n",
              "      <th></th>\n",
              "      <th>period</th>\n",
              "      <th>year_period</th>\n",
              "      <th>A. SHORT-TERM ASSETS</th>\n",
              "      <th>Short-term financial assets</th>\n",
              "      <th>1. Cash and cash equivalents</th>\n",
              "      <th>1.1. Cash</th>\n",
              "      <th>1.2. Cash equivalents</th>\n",
              "      <th>Short-term investments</th>\n",
              "      <th>+ Short-term investments</th>\n",
              "      <th>Provision for diminution in value of short-term investments</th>\n",
              "      <th>...</th>\n",
              "      <th>1.5. Treasury shares</th>\n",
              "      <th>2. Assets revaluation differences</th>\n",
              "      <th>4. Supplementary capital reserve</th>\n",
              "      <th>Investment and development fund</th>\n",
              "      <th>5. Financial reserves</th>\n",
              "      <th>7. Undistributed earnings after tax</th>\n",
              "      <th>7.1. Realised profits</th>\n",
              "      <th>7.2. Unrealised losses</th>\n",
              "      <th>8. Minority interest</th>\n",
              "      <th>TOTAL OWNER'S EQUITY AND LIABILITIES</th>\n",
              "    </tr>\n",
              "  </thead>\n",
              "  <tbody>\n",
              "    <tr>\n",
              "      <th>0</th>\n",
              "      <td>2024</td>\n",
              "      <td>2024</td>\n",
              "      <td>26491835561026</td>\n",
              "      <td>26323154756009</td>\n",
              "      <td>4743771932745</td>\n",
              "      <td>4743771932745</td>\n",
              "      <td>None</td>\n",
              "      <td>None</td>\n",
              "      <td>None</td>\n",
              "      <td>None</td>\n",
              "      <td>...</td>\n",
              "      <td>None</td>\n",
              "      <td>2372439624636</td>\n",
              "      <td>None</td>\n",
              "      <td>None</td>\n",
              "      <td>None</td>\n",
              "      <td>796731023225</td>\n",
              "      <td>798326170747</td>\n",
              "      <td>-1595147522</td>\n",
              "      <td>None</td>\n",
              "      <td>26592124479240</td>\n",
              "    </tr>\n",
              "    <tr>\n",
              "      <th>1</th>\n",
              "      <td>2023</td>\n",
              "      <td>2023</td>\n",
              "      <td>17174448616966</td>\n",
              "      <td>16979554557451</td>\n",
              "      <td>787897819240</td>\n",
              "      <td>537897819240</td>\n",
              "      <td>250000000000</td>\n",
              "      <td>None</td>\n",
              "      <td>None</td>\n",
              "      <td>None</td>\n",
              "      <td>...</td>\n",
              "      <td>None</td>\n",
              "      <td>1607735798409</td>\n",
              "      <td>67496330852</td>\n",
              "      <td>None</td>\n",
              "      <td>None</td>\n",
              "      <td>1307497181080</td>\n",
              "      <td>1307134594788</td>\n",
              "      <td>362586292</td>\n",
              "      <td>None</td>\n",
              "      <td>17255134656525</td>\n",
              "    </tr>\n",
              "    <tr>\n",
              "      <th>2</th>\n",
              "      <td>2022</td>\n",
              "      <td>2022</td>\n",
              "      <td>14157693071824</td>\n",
              "      <td>14105852063553</td>\n",
              "      <td>3423501614803</td>\n",
              "      <td>2313501614803</td>\n",
              "      <td>1110000000000</td>\n",
              "      <td>None</td>\n",
              "      <td>None</td>\n",
              "      <td>None</td>\n",
              "      <td>...</td>\n",
              "      <td>None</td>\n",
              "      <td>1030130358576</td>\n",
              "      <td>67496330852</td>\n",
              "      <td>None</td>\n",
              "      <td>233096330852</td>\n",
              "      <td>800246141334</td>\n",
              "      <td>791426130951</td>\n",
              "      <td>8820010383</td>\n",
              "      <td>None</td>\n",
              "      <td>14242751316822</td>\n",
              "    </tr>\n",
              "    <tr>\n",
              "      <th>3</th>\n",
              "      <td>2021</td>\n",
              "      <td>2021</td>\n",
              "      <td>16568965942558</td>\n",
              "      <td>16415067989149</td>\n",
              "      <td>1131748599533</td>\n",
              "      <td>1131748599533</td>\n",
              "      <td>None</td>\n",
              "      <td>None</td>\n",
              "      <td>None</td>\n",
              "      <td>None</td>\n",
              "      <td>...</td>\n",
              "      <td>None</td>\n",
              "      <td>1665653687451</td>\n",
              "      <td>67496330852</td>\n",
              "      <td>None</td>\n",
              "      <td>233096330852</td>\n",
              "      <td>1241116896232</td>\n",
              "      <td>1024259038107</td>\n",
              "      <td>216857858125</td>\n",
              "      <td>None</td>\n",
              "      <td>16636264947117</td>\n",
              "    </tr>\n",
              "    <tr>\n",
              "      <th>4</th>\n",
              "      <td>2020</td>\n",
              "      <td>2020</td>\n",
              "      <td>8312170798945</td>\n",
              "      <td>8214643150141</td>\n",
              "      <td>642512983590</td>\n",
              "      <td>642512983590</td>\n",
              "      <td>None</td>\n",
              "      <td>None</td>\n",
              "      <td>None</td>\n",
              "      <td>None</td>\n",
              "      <td>...</td>\n",
              "      <td>None</td>\n",
              "      <td>426695337106</td>\n",
              "      <td>115757247094</td>\n",
              "      <td>None</td>\n",
              "      <td>194161910684</td>\n",
              "      <td>1543954728940</td>\n",
              "      <td>1475888629109</td>\n",
              "      <td>68066099831</td>\n",
              "      <td>None</td>\n",
              "      <td>8382405125440</td>\n",
              "    </tr>\n",
              "  </tbody>\n",
              "</table>\n",
              "<p>5 rows × 89 columns</p>\n",
              "</div>"
            ],
            "text/plain": [
              "   period  year_period A. SHORT-TERM ASSETS Short-term financial assets  \\\n",
              "0    2024         2024       26491835561026              26323154756009   \n",
              "1    2023         2023       17174448616966              16979554557451   \n",
              "2    2022         2022       14157693071824              14105852063553   \n",
              "3    2021         2021       16568965942558              16415067989149   \n",
              "4    2020         2020        8312170798945               8214643150141   \n",
              "\n",
              "  1. Cash and cash equivalents      1.1. Cash 1.2. Cash equivalents  \\\n",
              "0                4743771932745  4743771932745                  None   \n",
              "1                 787897819240   537897819240          250000000000   \n",
              "2                3423501614803  2313501614803         1110000000000   \n",
              "3                1131748599533  1131748599533                  None   \n",
              "4                 642512983590   642512983590                  None   \n",
              "\n",
              "  Short-term investments + Short-term investments  \\\n",
              "0                   None                     None   \n",
              "1                   None                     None   \n",
              "2                   None                     None   \n",
              "3                   None                     None   \n",
              "4                   None                     None   \n",
              "\n",
              "  Provision for diminution in value of short-term investments  ...  \\\n",
              "0                                               None           ...   \n",
              "1                                               None           ...   \n",
              "2                                               None           ...   \n",
              "3                                               None           ...   \n",
              "4                                               None           ...   \n",
              "\n",
              "  1.5. Treasury shares 2. Assets revaluation differences  \\\n",
              "0                 None                     2372439624636   \n",
              "1                 None                     1607735798409   \n",
              "2                 None                     1030130358576   \n",
              "3                 None                     1665653687451   \n",
              "4                 None                      426695337106   \n",
              "\n",
              "  4. Supplementary capital reserve Investment and development fund  \\\n",
              "0                             None                            None   \n",
              "1                      67496330852                            None   \n",
              "2                      67496330852                            None   \n",
              "3                      67496330852                            None   \n",
              "4                     115757247094                            None   \n",
              "\n",
              "  5. Financial reserves 7. Undistributed earnings after tax  \\\n",
              "0                  None                        796731023225   \n",
              "1                  None                       1307497181080   \n",
              "2          233096330852                        800246141334   \n",
              "3          233096330852                       1241116896232   \n",
              "4          194161910684                       1543954728940   \n",
              "\n",
              "  7.1. Realised profits 7.2. Unrealised losses 8. Minority interest  \\\n",
              "0          798326170747            -1595147522                 None   \n",
              "1         1307134594788              362586292                 None   \n",
              "2          791426130951             8820010383                 None   \n",
              "3         1024259038107           216857858125                 None   \n",
              "4         1475888629109            68066099831                 None   \n",
              "\n",
              "  TOTAL OWNER'S EQUITY AND LIABILITIES  \n",
              "0                       26592124479240  \n",
              "1                       17255134656525  \n",
              "2                       14242751316822  \n",
              "3                       16636264947117  \n",
              "4                        8382405125440  \n",
              "\n",
              "[5 rows x 89 columns]"
            ]
          },
          "metadata": {},
          "output_type": "display_data"
        },
        {
          "name": "stdout",
          "output_type": "stream",
          "text": [
            "\n",
            "=== Finance.income_statement ===\n"
          ]
        },
        {
          "data": {
            "application/vnd.microsoft.datawrangler.viewer.v0+json": {
              "columns": [
                {
                  "name": "index",
                  "rawType": "int64",
                  "type": "integer"
                },
                {
                  "name": "period",
                  "rawType": "object",
                  "type": "string"
                },
                {
                  "name": "1.1. Lãi từ các tài sản tài chính ghi nhận thông qua lãi/lỗ (FVTPL)",
                  "rawType": "object",
                  "type": "string"
                },
                {
                  "name": "a. Lãi bán các tài sản tài chính",
                  "rawType": "object",
                  "type": "string"
                },
                {
                  "name": "b. Chênh lệch tăng đánh giá lại các TSTC thông qua lãi/lỗ",
                  "rawType": "object",
                  "type": "string"
                },
                {
                  "name": "c. Cổ tức, tiền lãi phát sinh từ tài sản tài chính PVTPL",
                  "rawType": "object",
                  "type": "string"
                },
                {
                  "name": "d. Chênh lệch giảm do đánh giá lại phải trả chứng quyền đang lưu hành",
                  "rawType": "object",
                  "type": "string"
                },
                {
                  "name": "1.2. Lãi từ các khoản đầu tư nắm giữ đến ngày đáo hạn (HTM)",
                  "rawType": "object",
                  "type": "string"
                },
                {
                  "name": "1.3. Lãi từ các khoản cho vay và phải thu",
                  "rawType": "object",
                  "type": "string"
                },
                {
                  "name": "1.4. Lãi từ các tài sản tài chính sẵn sàng để bán (AFS)",
                  "rawType": "object",
                  "type": "string"
                },
                {
                  "name": "1.6. Doanh thu môi giới chứng khoán",
                  "rawType": "object",
                  "type": "string"
                },
                {
                  "name": "- Doanh thu hoạt động đầu tư chứng khoán, góp vốn",
                  "rawType": "object",
                  "type": "string"
                },
                {
                  "name": "1.7. Doanh thu bảo lãnh phát hành, đại lý phát hành chứng khoán",
                  "rawType": "object",
                  "type": "string"
                },
                {
                  "name": "- Doanh thu quản lý danh mục đầu tư cho  người uỷ thác đầu tư",
                  "rawType": "object",
                  "type": "string"
                },
                {
                  "name": "1.8. Doanh thu hoạt động tư vấn",
                  "rawType": "object",
                  "type": "string"
                },
                {
                  "name": "1.9. Doanh thu hoạt động ủy thác đấu giá",
                  "rawType": "object",
                  "type": "string"
                },
                {
                  "name": "1.10. Doanh thu lưu ký chứng khoán",
                  "rawType": "object",
                  "type": "string"
                },
                {
                  "name": "- Doanh thu cho thuê sử dụng tài sản",
                  "rawType": "object",
                  "type": "string"
                },
                {
                  "name": "1.11. Thu nhập hoạt động khác",
                  "rawType": "object",
                  "type": "string"
                },
                {
                  "name": "Các khoản giảm trừ doanh thu",
                  "rawType": "object",
                  "type": "string"
                },
                {
                  "name": "Cộng doanh thu hoạt động (01->11)",
                  "rawType": "object",
                  "type": "string"
                },
                {
                  "name": "Doanh thu thuần",
                  "rawType": "object",
                  "type": "string"
                },
                {
                  "name": "2.1. Lỗ các tài sản tài chính ghi nhận thông qua lỗ (FVTPL)",
                  "rawType": "object",
                  "type": "string"
                },
                {
                  "name": "a. Lỗ bán các tài sản tài chính",
                  "rawType": "object",
                  "type": "string"
                },
                {
                  "name": "b. Chênh lệch giảm đánh giá lại các TSTC thông qua lãi/lỗ",
                  "rawType": "object",
                  "type": "string"
                },
                {
                  "name": "c. Chi phí giao dịch mua các tài sản tài chính (FVTPL)",
                  "rawType": "object",
                  "type": "string"
                },
                {
                  "name": "d. Chênh lệch tăng do đánh giá lại phải trả chứng quyền đang lưu hành",
                  "rawType": "object",
                  "type": "string"
                },
                {
                  "name": "2.3. Chi phí lãi vay, lỗ từ các khoản cho vay và phải thu",
                  "rawType": "object",
                  "type": "string"
                },
                {
                  "name": "Chi phí dự phòng TSTC, xử lý tổn thất các khoản phải thu khó đòi và lỗ suy giảm TSTC và chi phí đi vay của các khoản cho vay",
                  "rawType": "object",
                  "type": "string"
                },
                {
                  "name": "2.6. Chi phí hoạt động tự doanh",
                  "rawType": "object",
                  "type": "string"
                },
                {
                  "name": "2.7. Chi phí môi giới chứng khoán",
                  "rawType": "object",
                  "type": "string"
                },
                {
                  "name": "2.9. Chi phí tư vấn",
                  "rawType": "object",
                  "type": "string"
                },
                {
                  "name": "2.11. Chi phí lưu ký chứng khoán",
                  "rawType": "object",
                  "type": "string"
                },
                {
                  "name": "2.12. Chi phí khác",
                  "rawType": "object",
                  "type": "string"
                },
                {
                  "name": "- Chi phí trực tiếp hoạt động kinh doanh chứng khoán",
                  "rawType": "object",
                  "type": "string"
                },
                {
                  "name": "- Chi phí dự phòng chứng khoán",
                  "rawType": "object",
                  "type": "string"
                },
                {
                  "name": "Cộng chi phí hoạt động (21->33)",
                  "rawType": "object",
                  "type": "string"
                },
                {
                  "name": "Lợi nhuận gộp của hoạt động kinh doanh",
                  "rawType": "object",
                  "type": "string"
                },
                {
                  "name": "3.1. Chênh lệch lãi tỷ giá hối đoái đã và chưa thực hiện",
                  "rawType": "object",
                  "type": "string"
                },
                {
                  "name": "3.2. Doanh thu, dự thu cổ tức, lãi tiền gửi không cố định phát sinh trong kỳ",
                  "rawType": "object",
                  "type": "string"
                },
                {
                  "name": "3.4. Doanh thu khác về đầu tư",
                  "rawType": "object",
                  "type": "string"
                },
                {
                  "name": "Cộng doanh thu hoạt động tài chính (41->44)",
                  "rawType": "object",
                  "type": "string"
                },
                {
                  "name": "4.1. Chênh lệch lỗ tỷ giá hối đoái đã và chưa thưc hiện",
                  "rawType": "object",
                  "type": "string"
                },
                {
                  "name": "4.2. Chi phí lãi vay",
                  "rawType": "object",
                  "type": "string"
                },
                {
                  "name": "4.4. Chi phí đầu tư khác",
                  "rawType": "object",
                  "type": "string"
                },
                {
                  "name": "Cộng chi phí tài chính (51->54)",
                  "rawType": "object",
                  "type": "string"
                },
                {
                  "name": "VI. CHI PHÍ QUẢN LÝ CÔNG TY CHỨNG KHOÁN",
                  "rawType": "object",
                  "type": "string"
                },
                {
                  "name": "VII. KẾT QUẢ HOẠT ĐỘNG",
                  "rawType": "object",
                  "type": "string"
                },
                {
                  "name": "8.1. Thu nhập khác",
                  "rawType": "object",
                  "type": "string"
                },
                {
                  "name": "8.2. Chi phí khác",
                  "rawType": "object",
                  "type": "string"
                },
                {
                  "name": "Cộng kết quả hoạt động khác",
                  "rawType": "object",
                  "type": "string"
                },
                {
                  "name": "Lãi/lỗ từ công ty liên doanh, liên kết",
                  "rawType": "object",
                  "type": "string"
                },
                {
                  "name": "IX. TỔNG LỢI NHUẬN KẾ TOÁN TRƯỚC THUẾ",
                  "rawType": "object",
                  "type": "string"
                },
                {
                  "name": "9.1. Lợi nhuận đã thực hiện",
                  "rawType": "object",
                  "type": "string"
                },
                {
                  "name": "9.2. Lợi nhuận chưa thực hiện",
                  "rawType": "object",
                  "type": "string"
                },
                {
                  "name": "X. CHI PHÍ THUẾ THU NHẬP DOANH NGHIỆP",
                  "rawType": "object",
                  "type": "string"
                },
                {
                  "name": "10.1. Chi phí thuế TNDN hiện hành",
                  "rawType": "object",
                  "type": "string"
                },
                {
                  "name": "10.2. Chi phí thuế TNDN hoãn lại",
                  "rawType": "object",
                  "type": "string"
                },
                {
                  "name": "XI.  LỢI NHUẬN KẾ TOÁN SAU THUẾ TNDN",
                  "rawType": "object",
                  "type": "string"
                },
                {
                  "name": "11.1. Lợi nhuận sau thuế phân bổ cho chủ sở hữu",
                  "rawType": "object",
                  "type": "string"
                },
                {
                  "name": "11.3.  Lợi nhuận thuần phân bổ cho  lợi ích cổ đông không kiểm soát",
                  "rawType": "object",
                  "type": "string"
                },
                {
                  "name": "12.1. Lãi/(Lỗ) từ đánh giá lại các khoản đầu tư giữ đến ngày đáo hạn",
                  "rawType": "object",
                  "type": "string"
                },
                {
                  "name": "12.2.Lãi/(Lỗ) từ đánh giá lại các tài sản tài chính sẵn sàng để bán",
                  "rawType": "object",
                  "type": "string"
                },
                {
                  "name": "Tổng thu nhập toàn diện",
                  "rawType": "object",
                  "type": "string"
                },
                {
                  "name": "13.1.Lãi cơ bản trên cổ phiếu (Đồng/1 cổ phiếu) (VNÐ)",
                  "rawType": "object",
                  "type": "string"
                }
              ],
              "ref": "f2a780a3-bb4e-4eda-a81c-82562aef8c9b",
              "rows": [
                [
                  "0",
                  "2025-Q1",
                  "354620858555",
                  "353326679620",
                  "-1339866473",
                  "683285270",
                  "1950760138",
                  "11764136988",
                  "256978768490",
                  "54361710583",
                  "149076747455",
                  null,
                  null,
                  null,
                  "21248418823",
                  null,
                  "2650375165",
                  null,
                  "227947273",
                  null,
                  "850928963332",
                  "850928963332",
                  "154613415910",
                  "105890406969",
                  "43780589207",
                  "353287000",
                  "4589132734",
                  null,
                  null,
                  "13755312931",
                  "131769113428",
                  "9487033493",
                  "4196481836",
                  null,
                  null,
                  null,
                  "313821357598",
                  "537107605734",
                  "4563700000",
                  "4522122204",
                  null,
                  "9085822204",
                  "4746465192",
                  "171526241912",
                  "7175088013",
                  "183447795117",
                  "22680765194",
                  "340064867627",
                  "15107153051",
                  "65000000",
                  "15042153051",
                  null,
                  "355107020678",
                  "402865848954",
                  "-47758828276",
                  "60239238272",
                  "72883103138",
                  "-12643864866",
                  "294867782406",
                  "294867782406",
                  null,
                  null,
                  "-479525772682",
                  "-479525772682",
                  null
                ],
                [
                  "1",
                  "2024-Q4",
                  "442927214370",
                  "437849136178",
                  "2469489776",
                  "2608588416",
                  null,
                  "7342042968",
                  "251882660953",
                  "88924760112",
                  "184188121434",
                  null,
                  null,
                  null,
                  "18533463758",
                  null,
                  "4846407941",
                  null,
                  "351179091",
                  null,
                  "998995850627",
                  "998995850627",
                  "372678207034",
                  "365921719300",
                  "6628962734",
                  "127525000",
                  null,
                  null,
                  null,
                  "11288721563",
                  "125335621912",
                  "3667608338",
                  "6923493578",
                  null,
                  null,
                  null,
                  "519893652425",
                  "479102198202",
                  "20229100000",
                  "4181869107",
                  null,
                  "24410969107",
                  "14567519430",
                  "197406870568",
                  "5759967893",
                  "217734357891",
                  "32464887891",
                  "253313921527",
                  "23636364",
                  "2441912",
                  "21194452",
                  null,
                  "253335115979",
                  "257494588937",
                  "-4159472958",
                  "34958370151",
                  "35884665831",
                  "-926295680",
                  "218376745828",
                  "218376745828",
                  null,
                  null,
                  "62236406587",
                  "62236406587",
                  null
                ],
                [
                  "2",
                  "2024-Q3",
                  "535759271261",
                  "533944641606",
                  "-432439523",
                  "2247069178",
                  null,
                  "4790082191",
                  "206369151917",
                  "29495872511",
                  "182684256647",
                  null,
                  null,
                  null,
                  "11397088372",
                  null,
                  "3787730357",
                  null,
                  "77101365",
                  null,
                  "974360554621",
                  "974360554621",
                  "252856242983",
                  "263942830090",
                  "-11261299607",
                  "174712500",
                  null,
                  null,
                  null,
                  "14136593783",
                  "168589586566",
                  "28970231791",
                  "3587591120",
                  null,
                  null,
                  null,
                  "468140246243",
                  "506220308378",
                  null,
                  "3716248356",
                  null,
                  "3716248356",
                  "-2089731788",
                  "199125113800",
                  "334419018",
                  "197369801030",
                  "47871356462",
                  "264695399242",
                  null,
                  null,
                  null,
                  null,
                  "264695399242",
                  "253866539158",
                  "10828860084",
                  "49343174067",
                  "40189361297",
                  "9153812770",
                  "215352225175",
                  "215352225175",
                  null,
                  null,
                  "-255060137412",
                  "-255060137412",
                  null
                ],
                [
                  "3",
                  "2024-Q2",
                  "447623383804",
                  "449263881222",
                  "-6036131450",
                  "5097932535",
                  "-702298503",
                  "5048805488",
                  "234459647163",
                  "27178032146",
                  "180658362616",
                  null,
                  null,
                  null,
                  "16363621847",
                  null,
                  "3742699480",
                  null,
                  "777002217",
                  null,
                  "915851554761",
                  "915851554761",
                  "198417544718",
                  "188656804786",
                  "10121456540",
                  "510351500",
                  "-871068108",
                  null,
                  null,
                  "10792818691",
                  "134812036526",
                  "12003310562",
                  "3310341629",
                  null,
                  null,
                  null,
                  "359336052126",
                  "556515502635",
                  "903000000",
                  "3269172258",
                  "11473302754",
                  "15645475012",
                  "1246070773",
                  "189052038091",
                  "6735374751",
                  "197033483615",
                  "34187957908",
                  "340939536124",
                  "2837985204",
                  "11399791",
                  "2826585413",
                  null,
                  "343766121537",
                  "359754939922",
                  "-15988818385",
                  "64559441640",
                  "64821621464",
                  "-262179824",
                  "279206679897",
                  "279206679897",
                  null,
                  null,
                  "349204878302",
                  "349204878302",
                  null
                ],
                [
                  "4",
                  "2024-Q1",
                  "352304951109",
                  "338334044066",
                  "7851698521",
                  "8801592603",
                  "-2682384081",
                  "5960087666",
                  "180238198162",
                  "79404264100",
                  "182072983568",
                  null,
                  null,
                  null,
                  "4294900012",
                  null,
                  "1940252206",
                  null,
                  "101738638",
                  null,
                  "806317375461",
                  "806317375461",
                  "167723489958",
                  "169210719013",
                  "-2574017663",
                  "215720500",
                  "871068108",
                  null,
                  null,
                  "13664668724",
                  "167027039892",
                  "18228720691",
                  "3388152470",
                  null,
                  null,
                  null,
                  "370032071735",
                  "436285303726",
                  null,
                  "3334120497",
                  "3526392885",
                  "6860513382",
                  "921645354",
                  "178540652349",
                  "5904022665",
                  "185366320368",
                  "30176552702",
                  "227602944038",
                  "232524110",
                  "295000000",
                  "-62475890",
                  null,
                  "227540468148",
                  "220668204153",
                  "6872263995",
                  "29784005755",
                  "37710331505",
                  "-7926325750",
                  "197756462393",
                  "197756462393",
                  null,
                  null,
                  "608322678750",
                  "608322678750",
                  null
                ]
              ],
              "shape": {
                "columns": 64,
                "rows": 5
              }
            },
            "text/html": [
              "<div>\n",
              "<style scoped>\n",
              "    .dataframe tbody tr th:only-of-type {\n",
              "        vertical-align: middle;\n",
              "    }\n",
              "\n",
              "    .dataframe tbody tr th {\n",
              "        vertical-align: top;\n",
              "    }\n",
              "\n",
              "    .dataframe thead th {\n",
              "        text-align: right;\n",
              "    }\n",
              "</style>\n",
              "<table border=\"1\" class=\"dataframe\">\n",
              "  <thead>\n",
              "    <tr style=\"text-align: right;\">\n",
              "      <th></th>\n",
              "      <th>period</th>\n",
              "      <th>1.1. Lãi từ các tài sản tài chính ghi nhận thông qua lãi/lỗ (FVTPL)</th>\n",
              "      <th>a. Lãi bán các tài sản tài chính</th>\n",
              "      <th>b. Chênh lệch tăng đánh giá lại các TSTC thông qua lãi/lỗ</th>\n",
              "      <th>c. Cổ tức, tiền lãi phát sinh từ tài sản tài chính PVTPL</th>\n",
              "      <th>d. Chênh lệch giảm do đánh giá lại phải trả chứng quyền đang lưu hành</th>\n",
              "      <th>1.2. Lãi từ các khoản đầu tư nắm giữ đến ngày đáo hạn (HTM)</th>\n",
              "      <th>1.3. Lãi từ các khoản cho vay và phải thu</th>\n",
              "      <th>1.4. Lãi từ các tài sản tài chính sẵn sàng để bán (AFS)</th>\n",
              "      <th>1.6. Doanh thu môi giới chứng khoán</th>\n",
              "      <th>...</th>\n",
              "      <th>X. CHI PHÍ THUẾ THU NHẬP DOANH NGHIỆP</th>\n",
              "      <th>10.1. Chi phí thuế TNDN hiện hành</th>\n",
              "      <th>10.2. Chi phí thuế TNDN hoãn lại</th>\n",
              "      <th>XI.  LỢI NHUẬN KẾ TOÁN SAU THUẾ TNDN</th>\n",
              "      <th>11.1. Lợi nhuận sau thuế phân bổ cho chủ sở hữu</th>\n",
              "      <th>11.3.  Lợi nhuận thuần phân bổ cho  lợi ích cổ đông không kiểm soát</th>\n",
              "      <th>12.1. Lãi/(Lỗ) từ đánh giá lại các khoản đầu tư giữ đến ngày đáo hạn</th>\n",
              "      <th>12.2.Lãi/(Lỗ) từ đánh giá lại các tài sản tài chính sẵn sàng để bán</th>\n",
              "      <th>Tổng thu nhập toàn diện</th>\n",
              "      <th>13.1.Lãi cơ bản trên cổ phiếu (Đồng/1 cổ phiếu) (VNÐ)</th>\n",
              "    </tr>\n",
              "  </thead>\n",
              "  <tbody>\n",
              "    <tr>\n",
              "      <th>0</th>\n",
              "      <td>2025-Q1</td>\n",
              "      <td>354620858555</td>\n",
              "      <td>353326679620</td>\n",
              "      <td>-1339866473</td>\n",
              "      <td>683285270</td>\n",
              "      <td>1950760138</td>\n",
              "      <td>11764136988</td>\n",
              "      <td>256978768490</td>\n",
              "      <td>54361710583</td>\n",
              "      <td>149076747455</td>\n",
              "      <td>...</td>\n",
              "      <td>60239238272</td>\n",
              "      <td>72883103138</td>\n",
              "      <td>-12643864866</td>\n",
              "      <td>294867782406</td>\n",
              "      <td>294867782406</td>\n",
              "      <td>None</td>\n",
              "      <td>None</td>\n",
              "      <td>-479525772682</td>\n",
              "      <td>-479525772682</td>\n",
              "      <td>None</td>\n",
              "    </tr>\n",
              "    <tr>\n",
              "      <th>1</th>\n",
              "      <td>2024-Q4</td>\n",
              "      <td>442927214370</td>\n",
              "      <td>437849136178</td>\n",
              "      <td>2469489776</td>\n",
              "      <td>2608588416</td>\n",
              "      <td>None</td>\n",
              "      <td>7342042968</td>\n",
              "      <td>251882660953</td>\n",
              "      <td>88924760112</td>\n",
              "      <td>184188121434</td>\n",
              "      <td>...</td>\n",
              "      <td>34958370151</td>\n",
              "      <td>35884665831</td>\n",
              "      <td>-926295680</td>\n",
              "      <td>218376745828</td>\n",
              "      <td>218376745828</td>\n",
              "      <td>None</td>\n",
              "      <td>None</td>\n",
              "      <td>62236406587</td>\n",
              "      <td>62236406587</td>\n",
              "      <td>None</td>\n",
              "    </tr>\n",
              "    <tr>\n",
              "      <th>2</th>\n",
              "      <td>2024-Q3</td>\n",
              "      <td>535759271261</td>\n",
              "      <td>533944641606</td>\n",
              "      <td>-432439523</td>\n",
              "      <td>2247069178</td>\n",
              "      <td>None</td>\n",
              "      <td>4790082191</td>\n",
              "      <td>206369151917</td>\n",
              "      <td>29495872511</td>\n",
              "      <td>182684256647</td>\n",
              "      <td>...</td>\n",
              "      <td>49343174067</td>\n",
              "      <td>40189361297</td>\n",
              "      <td>9153812770</td>\n",
              "      <td>215352225175</td>\n",
              "      <td>215352225175</td>\n",
              "      <td>None</td>\n",
              "      <td>None</td>\n",
              "      <td>-255060137412</td>\n",
              "      <td>-255060137412</td>\n",
              "      <td>None</td>\n",
              "    </tr>\n",
              "    <tr>\n",
              "      <th>3</th>\n",
              "      <td>2024-Q2</td>\n",
              "      <td>447623383804</td>\n",
              "      <td>449263881222</td>\n",
              "      <td>-6036131450</td>\n",
              "      <td>5097932535</td>\n",
              "      <td>-702298503</td>\n",
              "      <td>5048805488</td>\n",
              "      <td>234459647163</td>\n",
              "      <td>27178032146</td>\n",
              "      <td>180658362616</td>\n",
              "      <td>...</td>\n",
              "      <td>64559441640</td>\n",
              "      <td>64821621464</td>\n",
              "      <td>-262179824</td>\n",
              "      <td>279206679897</td>\n",
              "      <td>279206679897</td>\n",
              "      <td>None</td>\n",
              "      <td>None</td>\n",
              "      <td>349204878302</td>\n",
              "      <td>349204878302</td>\n",
              "      <td>None</td>\n",
              "    </tr>\n",
              "    <tr>\n",
              "      <th>4</th>\n",
              "      <td>2024-Q1</td>\n",
              "      <td>352304951109</td>\n",
              "      <td>338334044066</td>\n",
              "      <td>7851698521</td>\n",
              "      <td>8801592603</td>\n",
              "      <td>-2682384081</td>\n",
              "      <td>5960087666</td>\n",
              "      <td>180238198162</td>\n",
              "      <td>79404264100</td>\n",
              "      <td>182072983568</td>\n",
              "      <td>...</td>\n",
              "      <td>29784005755</td>\n",
              "      <td>37710331505</td>\n",
              "      <td>-7926325750</td>\n",
              "      <td>197756462393</td>\n",
              "      <td>197756462393</td>\n",
              "      <td>None</td>\n",
              "      <td>None</td>\n",
              "      <td>608322678750</td>\n",
              "      <td>608322678750</td>\n",
              "      <td>None</td>\n",
              "    </tr>\n",
              "  </tbody>\n",
              "</table>\n",
              "<p>5 rows × 64 columns</p>\n",
              "</div>"
            ],
            "text/plain": [
              "    period  \\\n",
              "0  2025-Q1   \n",
              "1  2024-Q4   \n",
              "2  2024-Q3   \n",
              "3  2024-Q2   \n",
              "4  2024-Q1   \n",
              "\n",
              "  1.1. Lãi từ các tài sản tài chính ghi nhận thông qua lãi/lỗ (FVTPL)  \\\n",
              "0                                       354620858555                    \n",
              "1                                       442927214370                    \n",
              "2                                       535759271261                    \n",
              "3                                       447623383804                    \n",
              "4                                       352304951109                    \n",
              "\n",
              "  a. Lãi bán các tài sản tài chính  \\\n",
              "0                     353326679620   \n",
              "1                     437849136178   \n",
              "2                     533944641606   \n",
              "3                     449263881222   \n",
              "4                     338334044066   \n",
              "\n",
              "  b. Chênh lệch tăng đánh giá lại các TSTC thông qua lãi/lỗ  \\\n",
              "0                                        -1339866473          \n",
              "1                                         2469489776          \n",
              "2                                         -432439523          \n",
              "3                                        -6036131450          \n",
              "4                                         7851698521          \n",
              "\n",
              "  c. Cổ tức, tiền lãi phát sinh từ tài sản tài chính PVTPL  \\\n",
              "0                                          683285270         \n",
              "1                                         2608588416         \n",
              "2                                         2247069178         \n",
              "3                                         5097932535         \n",
              "4                                         8801592603         \n",
              "\n",
              "  d. Chênh lệch giảm do đánh giá lại phải trả chứng quyền đang lưu hành  \\\n",
              "0                                         1950760138                      \n",
              "1                                               None                      \n",
              "2                                               None                      \n",
              "3                                         -702298503                      \n",
              "4                                        -2682384081                      \n",
              "\n",
              "  1.2. Lãi từ các khoản đầu tư nắm giữ đến ngày đáo hạn (HTM)  \\\n",
              "0                                        11764136988            \n",
              "1                                         7342042968            \n",
              "2                                         4790082191            \n",
              "3                                         5048805488            \n",
              "4                                         5960087666            \n",
              "\n",
              "  1.3. Lãi từ các khoản cho vay và phải thu  \\\n",
              "0                              256978768490   \n",
              "1                              251882660953   \n",
              "2                              206369151917   \n",
              "3                              234459647163   \n",
              "4                              180238198162   \n",
              "\n",
              "  1.4. Lãi từ các tài sản tài chính sẵn sàng để bán (AFS)  \\\n",
              "0                                        54361710583        \n",
              "1                                        88924760112        \n",
              "2                                        29495872511        \n",
              "3                                        27178032146        \n",
              "4                                        79404264100        \n",
              "\n",
              "  1.6. Doanh thu môi giới chứng khoán  ...  \\\n",
              "0                        149076747455  ...   \n",
              "1                        184188121434  ...   \n",
              "2                        182684256647  ...   \n",
              "3                        180658362616  ...   \n",
              "4                        182072983568  ...   \n",
              "\n",
              "  X. CHI PHÍ THUẾ THU NHẬP DOANH NGHIỆP 10.1. Chi phí thuế TNDN hiện hành  \\\n",
              "0                           60239238272                       72883103138   \n",
              "1                           34958370151                       35884665831   \n",
              "2                           49343174067                       40189361297   \n",
              "3                           64559441640                       64821621464   \n",
              "4                           29784005755                       37710331505   \n",
              "\n",
              "  10.2. Chi phí thuế TNDN hoãn lại XI.  LỢI NHUẬN KẾ TOÁN SAU THUẾ TNDN  \\\n",
              "0                     -12643864866                         294867782406   \n",
              "1                       -926295680                         218376745828   \n",
              "2                       9153812770                         215352225175   \n",
              "3                       -262179824                         279206679897   \n",
              "4                      -7926325750                         197756462393   \n",
              "\n",
              "  11.1. Lợi nhuận sau thuế phân bổ cho chủ sở hữu  \\\n",
              "0                                    294867782406   \n",
              "1                                    218376745828   \n",
              "2                                    215352225175   \n",
              "3                                    279206679897   \n",
              "4                                    197756462393   \n",
              "\n",
              "  11.3.  Lợi nhuận thuần phân bổ cho  lợi ích cổ đông không kiểm soát  \\\n",
              "0                                               None                    \n",
              "1                                               None                    \n",
              "2                                               None                    \n",
              "3                                               None                    \n",
              "4                                               None                    \n",
              "\n",
              "  12.1. Lãi/(Lỗ) từ đánh giá lại các khoản đầu tư giữ đến ngày đáo hạn  \\\n",
              "0                                               None                     \n",
              "1                                               None                     \n",
              "2                                               None                     \n",
              "3                                               None                     \n",
              "4                                               None                     \n",
              "\n",
              "  12.2.Lãi/(Lỗ) từ đánh giá lại các tài sản tài chính sẵn sàng để bán  \\\n",
              "0                                      -479525772682                    \n",
              "1                                        62236406587                    \n",
              "2                                      -255060137412                    \n",
              "3                                       349204878302                    \n",
              "4                                       608322678750                    \n",
              "\n",
              "  Tổng thu nhập toàn diện  \\\n",
              "0           -479525772682   \n",
              "1             62236406587   \n",
              "2           -255060137412   \n",
              "3            349204878302   \n",
              "4            608322678750   \n",
              "\n",
              "  13.1.Lãi cơ bản trên cổ phiếu (Đồng/1 cổ phiếu) (VNÐ)  \n",
              "0                                               None     \n",
              "1                                               None     \n",
              "2                                               None     \n",
              "3                                               None     \n",
              "4                                               None     \n",
              "\n",
              "[5 rows x 64 columns]"
            ]
          },
          "metadata": {},
          "output_type": "display_data"
        },
        {
          "name": "stdout",
          "output_type": "stream",
          "text": [
            "\n",
            "=== Finance.cash_flow ===\n"
          ]
        },
        {
          "data": {
            "application/vnd.microsoft.datawrangler.viewer.v0+json": {
              "columns": [
                {
                  "name": "index",
                  "rawType": "int64",
                  "type": "integer"
                },
                {
                  "name": "period",
                  "rawType": "object",
                  "type": "string"
                },
                {
                  "name": "1. Lợi nhuận trước thuế",
                  "rawType": "object",
                  "type": "string"
                },
                {
                  "name": "2. Điều chỉnh cho các khoản",
                  "rawType": "object",
                  "type": "string"
                },
                {
                  "name": "- Khấu hao tài sản cố định",
                  "rawType": "object",
                  "type": "string"
                },
                {
                  "name": "- Các khoản lập dự phòng",
                  "rawType": "object",
                  "type": "string"
                },
                {
                  "name": "- Chi phí phải trả, chi phí trả trước",
                  "rawType": "object",
                  "type": "string"
                },
                {
                  "name": "- Lãi, lỗ từ hoạt động đầu tư (đầu tư công ty con, liên doanh, liên kết)",
                  "rawType": "object",
                  "type": "string"
                },
                {
                  "name": "- Chi phí lãi vay",
                  "rawType": "object",
                  "type": "string"
                },
                {
                  "name": "- Dự thu tiền lãi",
                  "rawType": "object",
                  "type": "string"
                },
                {
                  "name": "- Điều chỉnh cho các khoản khác",
                  "rawType": "object",
                  "type": "string"
                },
                {
                  "name": "3. Tăng các chi phí phi tiền tệ",
                  "rawType": "object",
                  "type": "string"
                },
                {
                  "name": "- Lỗ đánh giá giá trị các tài sản tài chính ghi nhận thông qua kết quả kinh doanh",
                  "rawType": "object",
                  "type": "string"
                },
                {
                  "name": "4. Giảm các doanh thu phi tiền tệ",
                  "rawType": "object",
                  "type": "string"
                },
                {
                  "name": "- Lãi đánh giá giá trị các tài sản tài chính ghi nhận thông qua kết quả kinh doanh",
                  "rawType": "object",
                  "type": "string"
                },
                {
                  "name": "5. Thay đổi tài sản và nợ phải trả hoạt động",
                  "rawType": "object",
                  "type": "string"
                },
                {
                  "name": "- Tăng (giảm) tài sản tài chính ghi nhận thông qua lãi lỗ",
                  "rawType": "object",
                  "type": "string"
                },
                {
                  "name": "- Tăng (giảm) các khoản đầu tư giữ đến ngày đáo hạn",
                  "rawType": "object",
                  "type": "string"
                },
                {
                  "name": "- Tăng, giảm các khoản cho vay khách hàng",
                  "rawType": "object",
                  "type": "string"
                },
                {
                  "name": "- Tăng (giảm) tài sản tài chính sẵn sàng để bán",
                  "rawType": "object",
                  "type": "string"
                },
                {
                  "name": "- Tăng (giảm) các khoản phải thu",
                  "rawType": "object",
                  "type": "string"
                },
                {
                  "name": "6. Lợi nhuận từ hoạt động kinh doanh trước thay đổi vốn lưu động",
                  "rawType": "object",
                  "type": "string"
                },
                {
                  "name": "(-) Tăng, (+) giảm phải thu bán các tài sản tài chính",
                  "rawType": "object",
                  "type": "string"
                },
                {
                  "name": "(-) Tăng, (+) giảm phải thu tiền lãi các tài sản tài chính",
                  "rawType": "object",
                  "type": "string"
                },
                {
                  "name": "(-) Tăng, (+) giảm các khoản phải thu các dịch vụ CTCK cung cấp",
                  "rawType": "object",
                  "type": "string"
                },
                {
                  "name": "(-) Tăng, (+) giảm các khoản phải thu khác",
                  "rawType": "object",
                  "type": "string"
                },
                {
                  "name": "- Tăng (giảm) các tài sản khác",
                  "rawType": "object",
                  "type": "string"
                },
                {
                  "name": "- Tăng, giảm các khoản phải trả (Không kể lãi vay phải trả, thuế thu nhập doanh nghiệp phải nộp)",
                  "rawType": "object",
                  "type": "string"
                },
                {
                  "name": "- Tăng, giảm chi phí trả trước",
                  "rawType": "object",
                  "type": "string"
                },
                {
                  "name": "- Thuế thu nhập doanh nghiệp đã nộp",
                  "rawType": "object",
                  "type": "string"
                },
                {
                  "name": "- Tiền lãi vay đã trả",
                  "rawType": "object",
                  "type": "string"
                },
                {
                  "name": "(+) Tăng, (-) giảm phải trả cho người bán",
                  "rawType": "object",
                  "type": "string"
                },
                {
                  "name": "(+) Tăng, (-) giảm các khoản trích nộp phúc lợi nhân viên",
                  "rawType": "object",
                  "type": "string"
                },
                {
                  "name": "(+) Tăng, (-) giảm thuế và các khoản phải nộp Nhà nước",
                  "rawType": "object",
                  "type": "string"
                },
                {
                  "name": "(+) Tăng, (-) giảm phải trả người lao động",
                  "rawType": "object",
                  "type": "string"
                },
                {
                  "name": "(+) Tăng, (-) giảm phải trả, phải nộp khác",
                  "rawType": "object",
                  "type": "string"
                },
                {
                  "name": "(+) Tăng, (-) giảm Thuế TNDN CTCK đã nộp",
                  "rawType": "object",
                  "type": "string"
                },
                {
                  "name": "- Tăng, giảm hàng tồn kho (Tăng/giảm chứng khoán tự doanh)",
                  "rawType": "object",
                  "type": "string"
                },
                {
                  "name": "- Tiền thu khác từ hoạt động kinh doanh",
                  "rawType": "object",
                  "type": "string"
                },
                {
                  "name": "- Tiền chi khác cho hoạt động kinh doanh",
                  "rawType": "object",
                  "type": "string"
                },
                {
                  "name": "Lưu chuyển tiền thuần từ hoạt động kinh doanh chứng khoán",
                  "rawType": "object",
                  "type": "string"
                },
                {
                  "name": "1. Tiền chi để mua sắm, xây dựng TSCĐ và các tài sản dài hạn khác",
                  "rawType": "object",
                  "type": "string"
                },
                {
                  "name": "2. Tiền thu từ thanh lý, nhượng bán TSCĐ và các tài sản dài hạn khác",
                  "rawType": "object",
                  "type": "string"
                },
                {
                  "name": "7. Tiền thu về cổ tức và lợi nhuận được chia",
                  "rawType": "object",
                  "type": "string"
                },
                {
                  "name": "Lưu chuyển tiền thuần từ hoạt động đầu tư",
                  "rawType": "object",
                  "type": "string"
                },
                {
                  "name": "1. Tiền thu từ phát hành cổ phiếu, nhận vốn góp của chủ sở hữu",
                  "rawType": "object",
                  "type": "string"
                },
                {
                  "name": "2. Tiền chi trả vốn góp cho các chủ sở hữu, mua lại cổ phiếu quỹ",
                  "rawType": "object",
                  "type": "string"
                },
                {
                  "name": "3. Tiền vay gốc",
                  "rawType": "object",
                  "type": "string"
                },
                {
                  "name": "3.2. Tiền vay khác",
                  "rawType": "object",
                  "type": "string"
                },
                {
                  "name": "4. Tiền chi trả nợ gốc vay",
                  "rawType": "object",
                  "type": "string"
                },
                {
                  "name": "4.3. Tiền chi trả gốc nợ vay khác",
                  "rawType": "object",
                  "type": "string"
                },
                {
                  "name": "6. Cổ tức, lợi nhuận đã trả cho chủ sở hữu",
                  "rawType": "object",
                  "type": "string"
                },
                {
                  "name": "7. Tiền thu khác từ hoạt động tài chính",
                  "rawType": "object",
                  "type": "string"
                },
                {
                  "name": "Lưu chuyển tiền thuần từ hoạt động tài chính",
                  "rawType": "object",
                  "type": "string"
                },
                {
                  "name": "IV. Lưu chuyển tiền thuần trong kỳ",
                  "rawType": "object",
                  "type": "string"
                },
                {
                  "name": "V. Tiền và tương đương tiền đầu kỳ",
                  "rawType": "object",
                  "type": "string"
                },
                {
                  "name": "Tiền gửi ngân hàng đầu kỳ:",
                  "rawType": "object",
                  "type": "string"
                },
                {
                  "name": "- Tiền gửi ngân hàng cho hoạt động CTCK",
                  "rawType": "object",
                  "type": "string"
                },
                {
                  "name": "- Các khoản tương đương tiền",
                  "rawType": "object",
                  "type": "string"
                },
                {
                  "name": "Tiền và tương đương tiền cuối kỳ",
                  "rawType": "object",
                  "type": "string"
                },
                {
                  "name": "Tiền gửi ngân hàng cuối kỳ:",
                  "rawType": "object",
                  "type": "string"
                },
                {
                  "name": "1. Tiền thu bán chứng khoán môi giới cho khách hàng",
                  "rawType": "object",
                  "type": "string"
                },
                {
                  "name": "2. Tiền chi mua chứng khoán môi giới cho khách hàng",
                  "rawType": "object",
                  "type": "string"
                },
                {
                  "name": "9. Nhận tiền gửi để thanh toán giao dịch chứng khoán của khách hàng",
                  "rawType": "object",
                  "type": "string"
                },
                {
                  "name": "10. Tiền gửi ký quỹ của NĐT tại VSD",
                  "rawType": "object",
                  "type": "string"
                },
                {
                  "name": "14. Chi trả phí lưu ký chứng khoán của khách hàng",
                  "rawType": "object",
                  "type": "string"
                },
                {
                  "name": "Tăng/giảm tiền thuần trong kỳ",
                  "rawType": "object",
                  "type": "string"
                },
                {
                  "name": "II. Tiền và các khoản tương đương tiền đầu kỳ của khách hàng",
                  "rawType": "object",
                  "type": "string"
                },
                {
                  "name": "-Tiền gửi của Nhà đầu tư về giao dịch chứng khoán theo phương thức CTCK quản lý",
                  "rawType": "object",
                  "type": "string"
                },
                {
                  "name": "-Tiền gửi của Nhà đầu tư về giao dịch chứng khoán theo phương thức Ngân hàng thương mại quản lý",
                  "rawType": "object",
                  "type": "string"
                },
                {
                  "name": "-Tiền gửi bù trừ và thanh toán giao dịch chứng khoán",
                  "rawType": "object",
                  "type": "string"
                },
                {
                  "name": "III. Tiền và các khoản tương đương tiền cuối kỳ của khách hàng",
                  "rawType": "object",
                  "type": "string"
                }
              ],
              "ref": "fd5c1b87-f7ef-4ddb-a573-4e1babbbc134",
              "rows": [
                [
                  "0",
                  "2025-Q1",
                  "355107020678",
                  "90805069295",
                  "3311039364",
                  null,
                  null,
                  "-1190000",
                  "171526241912",
                  "-84031021981",
                  null,
                  "48369721941",
                  "48369721941",
                  "-610893665",
                  "-610893665",
                  "717782787890",
                  "-394206389374",
                  "-300000000000",
                  "1126555353165",
                  "285433824099",
                  null,
                  "1211453706139",
                  "98239009000",
                  "86086794757",
                  "-5407928204",
                  null,
                  "-189744558204",
                  "3874235887",
                  "9697648720",
                  "-35884665831",
                  "-193323644706",
                  "-832454872710",
                  null,
                  "4787181349",
                  "-127228414494",
                  "-18168392969",
                  null,
                  null,
                  null,
                  "-1600239903",
                  "10325858831",
                  "-9339066940",
                  "1190000",
                  null,
                  "-9337876940",
                  null,
                  null,
                  "6028000000000",
                  "6028000000000",
                  "-8291024000000",
                  "-8291024000000",
                  "-179471939750",
                  null,
                  "-2442495939750",
                  "-2441507957859",
                  "4743771932745",
                  "2711953187920",
                  "2302263974886",
                  null,
                  "2302263974886",
                  "2269183153822",
                  "59632423714696",
                  "-68272101417204",
                  "8790722255667",
                  "-589618105421",
                  "-4196481836",
                  "-442770034098",
                  "2711953187920",
                  "1588759482092",
                  null,
                  "680423671730",
                  "2269183153822"
                ],
                [
                  "1",
                  "2024-Q4",
                  null,
                  null,
                  null,
                  null,
                  null,
                  null,
                  null,
                  null,
                  null,
                  null,
                  null,
                  null,
                  null,
                  null,
                  null,
                  null,
                  null,
                  null,
                  null,
                  null,
                  null,
                  null,
                  null,
                  null,
                  null,
                  null,
                  null,
                  null,
                  null,
                  null,
                  null,
                  null,
                  null,
                  null,
                  null,
                  null,
                  null,
                  null,
                  null,
                  null,
                  null,
                  null,
                  null,
                  null,
                  null,
                  null,
                  null,
                  null,
                  null,
                  null,
                  null,
                  null,
                  null,
                  null,
                  null,
                  null,
                  null,
                  null,
                  null,
                  null,
                  null,
                  null,
                  null,
                  null,
                  null,
                  null,
                  null,
                  null,
                  null,
                  null
                ],
                [
                  "2",
                  "2024-Q3",
                  null,
                  null,
                  null,
                  null,
                  null,
                  null,
                  null,
                  null,
                  null,
                  null,
                  null,
                  null,
                  null,
                  null,
                  null,
                  null,
                  null,
                  null,
                  null,
                  null,
                  null,
                  null,
                  null,
                  null,
                  null,
                  null,
                  null,
                  null,
                  null,
                  null,
                  null,
                  null,
                  null,
                  null,
                  null,
                  null,
                  null,
                  null,
                  null,
                  null,
                  null,
                  null,
                  null,
                  null,
                  null,
                  null,
                  null,
                  null,
                  null,
                  null,
                  null,
                  null,
                  null,
                  null,
                  null,
                  null,
                  null,
                  null,
                  null,
                  null,
                  null,
                  null,
                  null,
                  null,
                  null,
                  null,
                  null,
                  null,
                  null,
                  null
                ],
                [
                  "3",
                  "2024-Q2",
                  null,
                  null,
                  null,
                  null,
                  null,
                  null,
                  null,
                  null,
                  null,
                  null,
                  null,
                  null,
                  null,
                  null,
                  null,
                  null,
                  null,
                  null,
                  null,
                  null,
                  null,
                  null,
                  null,
                  null,
                  null,
                  null,
                  null,
                  null,
                  null,
                  null,
                  null,
                  null,
                  null,
                  null,
                  null,
                  null,
                  null,
                  null,
                  null,
                  null,
                  null,
                  null,
                  null,
                  null,
                  null,
                  null,
                  null,
                  null,
                  null,
                  null,
                  null,
                  null,
                  null,
                  null,
                  null,
                  null,
                  null,
                  null,
                  null,
                  null,
                  null,
                  null,
                  null,
                  null,
                  null,
                  null,
                  null,
                  null,
                  null,
                  null
                ],
                [
                  "4",
                  "2024-Q1",
                  "227540468148",
                  "122510589993",
                  "2355785701",
                  null,
                  null,
                  null,
                  "178540652349",
                  "-58385848057",
                  null,
                  "-2574017663",
                  "-2574017663",
                  "-7851698521",
                  "-7851698521",
                  "-1586160533312",
                  "-706565852791",
                  "23900000000",
                  "-580307608608",
                  "-323187071913",
                  null,
                  "-1246535191355",
                  "184126210000",
                  "103219084809",
                  "-2403392067",
                  null,
                  "-80784067665",
                  "1238798114",
                  "13280204252",
                  "-7570702516",
                  "-152734796548",
                  "169961129147",
                  null,
                  "13301592020",
                  "-27157511462",
                  "31068980582",
                  null,
                  null,
                  null,
                  "-1229412707",
                  "-1002219075396",
                  "-5366344152",
                  null,
                  null,
                  "-5366344152",
                  null,
                  null,
                  "5245137000000",
                  "5245137000000",
                  "-3984855000000",
                  "-3984855000000",
                  null,
                  null,
                  "1260282000000",
                  "252696580452",
                  "787897819240",
                  "2772739733406",
                  "1040594399692",
                  null,
                  "1040594399692",
                  "2745741048124",
                  "85009362032288",
                  "-89397589566000",
                  "4370325322374",
                  "-5708321474",
                  "-3388152470",
                  "-26998685282",
                  "2772739733406",
                  "2118890287443",
                  null,
                  "626850760681",
                  "2745741048124"
                ]
              ],
              "shape": {
                "columns": 71,
                "rows": 5
              }
            },
            "text/html": [
              "<div>\n",
              "<style scoped>\n",
              "    .dataframe tbody tr th:only-of-type {\n",
              "        vertical-align: middle;\n",
              "    }\n",
              "\n",
              "    .dataframe tbody tr th {\n",
              "        vertical-align: top;\n",
              "    }\n",
              "\n",
              "    .dataframe thead th {\n",
              "        text-align: right;\n",
              "    }\n",
              "</style>\n",
              "<table border=\"1\" class=\"dataframe\">\n",
              "  <thead>\n",
              "    <tr style=\"text-align: right;\">\n",
              "      <th></th>\n",
              "      <th>period</th>\n",
              "      <th>1. Lợi nhuận trước thuế</th>\n",
              "      <th>2. Điều chỉnh cho các khoản</th>\n",
              "      <th>- Khấu hao tài sản cố định</th>\n",
              "      <th>- Các khoản lập dự phòng</th>\n",
              "      <th>- Chi phí phải trả, chi phí trả trước</th>\n",
              "      <th>- Lãi, lỗ từ hoạt động đầu tư (đầu tư công ty con, liên doanh, liên kết)</th>\n",
              "      <th>- Chi phí lãi vay</th>\n",
              "      <th>- Dự thu tiền lãi</th>\n",
              "      <th>- Điều chỉnh cho các khoản khác</th>\n",
              "      <th>...</th>\n",
              "      <th>2. Tiền chi mua chứng khoán môi giới cho khách hàng</th>\n",
              "      <th>9. Nhận tiền gửi để thanh toán giao dịch chứng khoán của khách hàng</th>\n",
              "      <th>10. Tiền gửi ký quỹ của NĐT tại VSD</th>\n",
              "      <th>14. Chi trả phí lưu ký chứng khoán của khách hàng</th>\n",
              "      <th>Tăng/giảm tiền thuần trong kỳ</th>\n",
              "      <th>II. Tiền và các khoản tương đương tiền đầu kỳ của khách hàng</th>\n",
              "      <th>-Tiền gửi của Nhà đầu tư về giao dịch chứng khoán theo phương thức CTCK quản lý</th>\n",
              "      <th>-Tiền gửi của Nhà đầu tư về giao dịch chứng khoán theo phương thức Ngân hàng thương mại quản lý</th>\n",
              "      <th>-Tiền gửi bù trừ và thanh toán giao dịch chứng khoán</th>\n",
              "      <th>III. Tiền và các khoản tương đương tiền cuối kỳ của khách hàng</th>\n",
              "    </tr>\n",
              "  </thead>\n",
              "  <tbody>\n",
              "    <tr>\n",
              "      <th>0</th>\n",
              "      <td>2025-Q1</td>\n",
              "      <td>355107020678</td>\n",
              "      <td>90805069295</td>\n",
              "      <td>3311039364</td>\n",
              "      <td>None</td>\n",
              "      <td>None</td>\n",
              "      <td>-1190000</td>\n",
              "      <td>171526241912</td>\n",
              "      <td>-84031021981</td>\n",
              "      <td>None</td>\n",
              "      <td>...</td>\n",
              "      <td>-68272101417204</td>\n",
              "      <td>8790722255667</td>\n",
              "      <td>-589618105421</td>\n",
              "      <td>-4196481836</td>\n",
              "      <td>-442770034098</td>\n",
              "      <td>2711953187920</td>\n",
              "      <td>1588759482092</td>\n",
              "      <td>None</td>\n",
              "      <td>680423671730</td>\n",
              "      <td>2269183153822</td>\n",
              "    </tr>\n",
              "    <tr>\n",
              "      <th>1</th>\n",
              "      <td>2024-Q4</td>\n",
              "      <td>None</td>\n",
              "      <td>None</td>\n",
              "      <td>None</td>\n",
              "      <td>None</td>\n",
              "      <td>None</td>\n",
              "      <td>None</td>\n",
              "      <td>None</td>\n",
              "      <td>None</td>\n",
              "      <td>None</td>\n",
              "      <td>...</td>\n",
              "      <td>None</td>\n",
              "      <td>None</td>\n",
              "      <td>None</td>\n",
              "      <td>None</td>\n",
              "      <td>None</td>\n",
              "      <td>None</td>\n",
              "      <td>None</td>\n",
              "      <td>None</td>\n",
              "      <td>None</td>\n",
              "      <td>None</td>\n",
              "    </tr>\n",
              "    <tr>\n",
              "      <th>2</th>\n",
              "      <td>2024-Q3</td>\n",
              "      <td>None</td>\n",
              "      <td>None</td>\n",
              "      <td>None</td>\n",
              "      <td>None</td>\n",
              "      <td>None</td>\n",
              "      <td>None</td>\n",
              "      <td>None</td>\n",
              "      <td>None</td>\n",
              "      <td>None</td>\n",
              "      <td>...</td>\n",
              "      <td>None</td>\n",
              "      <td>None</td>\n",
              "      <td>None</td>\n",
              "      <td>None</td>\n",
              "      <td>None</td>\n",
              "      <td>None</td>\n",
              "      <td>None</td>\n",
              "      <td>None</td>\n",
              "      <td>None</td>\n",
              "      <td>None</td>\n",
              "    </tr>\n",
              "    <tr>\n",
              "      <th>3</th>\n",
              "      <td>2024-Q2</td>\n",
              "      <td>None</td>\n",
              "      <td>None</td>\n",
              "      <td>None</td>\n",
              "      <td>None</td>\n",
              "      <td>None</td>\n",
              "      <td>None</td>\n",
              "      <td>None</td>\n",
              "      <td>None</td>\n",
              "      <td>None</td>\n",
              "      <td>...</td>\n",
              "      <td>None</td>\n",
              "      <td>None</td>\n",
              "      <td>None</td>\n",
              "      <td>None</td>\n",
              "      <td>None</td>\n",
              "      <td>None</td>\n",
              "      <td>None</td>\n",
              "      <td>None</td>\n",
              "      <td>None</td>\n",
              "      <td>None</td>\n",
              "    </tr>\n",
              "    <tr>\n",
              "      <th>4</th>\n",
              "      <td>2024-Q1</td>\n",
              "      <td>227540468148</td>\n",
              "      <td>122510589993</td>\n",
              "      <td>2355785701</td>\n",
              "      <td>None</td>\n",
              "      <td>None</td>\n",
              "      <td>None</td>\n",
              "      <td>178540652349</td>\n",
              "      <td>-58385848057</td>\n",
              "      <td>None</td>\n",
              "      <td>...</td>\n",
              "      <td>-89397589566000</td>\n",
              "      <td>4370325322374</td>\n",
              "      <td>-5708321474</td>\n",
              "      <td>-3388152470</td>\n",
              "      <td>-26998685282</td>\n",
              "      <td>2772739733406</td>\n",
              "      <td>2118890287443</td>\n",
              "      <td>None</td>\n",
              "      <td>626850760681</td>\n",
              "      <td>2745741048124</td>\n",
              "    </tr>\n",
              "  </tbody>\n",
              "</table>\n",
              "<p>5 rows × 71 columns</p>\n",
              "</div>"
            ],
            "text/plain": [
              "    period 1. Lợi nhuận trước thuế 2. Điều chỉnh cho các khoản  \\\n",
              "0  2025-Q1            355107020678                 90805069295   \n",
              "1  2024-Q4                    None                        None   \n",
              "2  2024-Q3                    None                        None   \n",
              "3  2024-Q2                    None                        None   \n",
              "4  2024-Q1            227540468148                122510589993   \n",
              "\n",
              "  - Khấu hao tài sản cố định - Các khoản lập dự phòng  \\\n",
              "0                 3311039364                     None   \n",
              "1                       None                     None   \n",
              "2                       None                     None   \n",
              "3                       None                     None   \n",
              "4                 2355785701                     None   \n",
              "\n",
              "  - Chi phí phải trả, chi phí trả trước  \\\n",
              "0                                  None   \n",
              "1                                  None   \n",
              "2                                  None   \n",
              "3                                  None   \n",
              "4                                  None   \n",
              "\n",
              "  - Lãi, lỗ từ hoạt động đầu tư (đầu tư công ty con, liên doanh, liên kết)  \\\n",
              "0                                           -1190000                         \n",
              "1                                               None                         \n",
              "2                                               None                         \n",
              "3                                               None                         \n",
              "4                                               None                         \n",
              "\n",
              "  - Chi phí lãi vay - Dự thu tiền lãi - Điều chỉnh cho các khoản khác  ...  \\\n",
              "0      171526241912      -84031021981                            None  ...   \n",
              "1              None              None                            None  ...   \n",
              "2              None              None                            None  ...   \n",
              "3              None              None                            None  ...   \n",
              "4      178540652349      -58385848057                            None  ...   \n",
              "\n",
              "  2. Tiền chi mua chứng khoán môi giới cho khách hàng  \\\n",
              "0                                    -68272101417204    \n",
              "1                                               None    \n",
              "2                                               None    \n",
              "3                                               None    \n",
              "4                                    -89397589566000    \n",
              "\n",
              "  9. Nhận tiền gửi để thanh toán giao dịch chứng khoán của khách hàng  \\\n",
              "0                                      8790722255667                    \n",
              "1                                               None                    \n",
              "2                                               None                    \n",
              "3                                               None                    \n",
              "4                                      4370325322374                    \n",
              "\n",
              "  10. Tiền gửi ký quỹ của NĐT tại VSD  \\\n",
              "0                       -589618105421   \n",
              "1                                None   \n",
              "2                                None   \n",
              "3                                None   \n",
              "4                         -5708321474   \n",
              "\n",
              "  14. Chi trả phí lưu ký chứng khoán của khách hàng  \\\n",
              "0                                       -4196481836   \n",
              "1                                              None   \n",
              "2                                              None   \n",
              "3                                              None   \n",
              "4                                       -3388152470   \n",
              "\n",
              "  Tăng/giảm tiền thuần trong kỳ  \\\n",
              "0                 -442770034098   \n",
              "1                          None   \n",
              "2                          None   \n",
              "3                          None   \n",
              "4                  -26998685282   \n",
              "\n",
              "  II. Tiền và các khoản tương đương tiền đầu kỳ của khách hàng  \\\n",
              "0                                      2711953187920             \n",
              "1                                               None             \n",
              "2                                               None             \n",
              "3                                               None             \n",
              "4                                      2772739733406             \n",
              "\n",
              "  -Tiền gửi của Nhà đầu tư về giao dịch chứng khoán theo phương thức CTCK quản lý  \\\n",
              "0                                      1588759482092                                \n",
              "1                                               None                                \n",
              "2                                               None                                \n",
              "3                                               None                                \n",
              "4                                      2118890287443                                \n",
              "\n",
              "  -Tiền gửi của Nhà đầu tư về giao dịch chứng khoán theo phương thức Ngân hàng thương mại quản lý  \\\n",
              "0                                               None                                                \n",
              "1                                               None                                                \n",
              "2                                               None                                                \n",
              "3                                               None                                                \n",
              "4                                               None                                                \n",
              "\n",
              "  -Tiền gửi bù trừ và thanh toán giao dịch chứng khoán  \\\n",
              "0                                       680423671730     \n",
              "1                                               None     \n",
              "2                                               None     \n",
              "3                                               None     \n",
              "4                                       626850760681     \n",
              "\n",
              "  III. Tiền và các khoản tương đương tiền cuối kỳ của khách hàng  \n",
              "0                                      2269183153822              \n",
              "1                                               None              \n",
              "2                                               None              \n",
              "3                                               None              \n",
              "4                                      2745741048124              \n",
              "\n",
              "[5 rows x 71 columns]"
            ]
          },
          "metadata": {},
          "output_type": "display_data"
        },
        {
          "name": "stdout",
          "output_type": "stream",
          "text": [
            "\n",
            "=== Finance.ratio ===\n"
          ]
        },
        {
          "data": {
            "application/vnd.microsoft.datawrangler.viewer.v0+json": {
              "columns": [
                {
                  "name": "index",
                  "rawType": "int64",
                  "type": "integer"
                },
                {
                  "name": "period",
                  "rawType": "object",
                  "type": "string"
                },
                {
                  "name": "Thu nhập trên mỗi cổ phần của 4 quý gần nhất (EPS)",
                  "rawType": "object",
                  "type": "string"
                },
                {
                  "name": "Giá trị sổ sách của cổ phiếu (BVPS)",
                  "rawType": "object",
                  "type": "string"
                },
                {
                  "name": "Chỉ số giá thị trường trên thu nhập (P/E)",
                  "rawType": "object",
                  "type": "string"
                },
                {
                  "name": "Chỉ số giá thị trường trên giá trị sổ sách (P/B)",
                  "rawType": "object",
                  "type": "string"
                },
                {
                  "name": "Chỉ số giá thị trường trên doanh thu thuần (P/S)",
                  "rawType": "object",
                  "type": "string"
                },
                {
                  "name": "Tỷ suất cổ tức",
                  "rawType": "object",
                  "type": "string"
                },
                {
                  "name": "Beta",
                  "rawType": "object",
                  "type": "string"
                },
                {
                  "name": "Giá trị doanh nghiệp trên lợi nhuận trước thuế và lãi vay (EV/EBIT)",
                  "rawType": "object",
                  "type": "string"
                },
                {
                  "name": "Giá trị doanh nghiệp trên lợi nhuận trước thuế, khấu hao và lãi vay (EV/EBITDA)",
                  "rawType": "object",
                  "type": "string"
                }
              ],
              "ref": "320137a8-c845-4fdd-958b-aa8e9ac98092",
              "rows": [
                [
                  "0",
                  "2025-Q1",
                  "1783",
                  "17519",
                  "21.49",
                  "2.19",
                  "32.32",
                  "0.02",
                  "1.66",
                  "0",
                  "0"
                ],
                [
                  "1",
                  "2024-Q4",
                  "1822",
                  "18026",
                  "18.22",
                  "1.84",
                  "23.86",
                  "0.01",
                  "1.63",
                  "0",
                  "0"
                ],
                [
                  "2",
                  "2024-Q3",
                  "1838",
                  "15044",
                  "19.97",
                  "2.44",
                  "21.64",
                  "0.01",
                  "1.75",
                  "0",
                  "0"
                ],
                [
                  "3",
                  "2024-Q2",
                  "1780",
                  "20046",
                  "25.9",
                  "2.3",
                  "22.24",
                  "0",
                  "1.84",
                  "0",
                  "0"
                ],
                [
                  "4",
                  "2024-Q1",
                  "1411",
                  "18691",
                  "38.13",
                  "2.88",
                  "29.19",
                  "0.01",
                  "2",
                  "0",
                  "0"
                ]
              ],
              "shape": {
                "columns": 10,
                "rows": 5
              }
            },
            "text/html": [
              "<div>\n",
              "<style scoped>\n",
              "    .dataframe tbody tr th:only-of-type {\n",
              "        vertical-align: middle;\n",
              "    }\n",
              "\n",
              "    .dataframe tbody tr th {\n",
              "        vertical-align: top;\n",
              "    }\n",
              "\n",
              "    .dataframe thead th {\n",
              "        text-align: right;\n",
              "    }\n",
              "</style>\n",
              "<table border=\"1\" class=\"dataframe\">\n",
              "  <thead>\n",
              "    <tr style=\"text-align: right;\">\n",
              "      <th></th>\n",
              "      <th>period</th>\n",
              "      <th>Thu nhập trên mỗi cổ phần của 4 quý gần nhất (EPS)</th>\n",
              "      <th>Giá trị sổ sách của cổ phiếu (BVPS)</th>\n",
              "      <th>Chỉ số giá thị trường trên thu nhập (P/E)</th>\n",
              "      <th>Chỉ số giá thị trường trên giá trị sổ sách (P/B)</th>\n",
              "      <th>Chỉ số giá thị trường trên doanh thu thuần (P/S)</th>\n",
              "      <th>Tỷ suất cổ tức</th>\n",
              "      <th>Beta</th>\n",
              "      <th>Giá trị doanh nghiệp trên lợi nhuận trước thuế và lãi vay (EV/EBIT)</th>\n",
              "      <th>Giá trị doanh nghiệp trên lợi nhuận trước thuế, khấu hao và lãi vay (EV/EBITDA)</th>\n",
              "    </tr>\n",
              "  </thead>\n",
              "  <tbody>\n",
              "    <tr>\n",
              "      <th>0</th>\n",
              "      <td>2025-Q1</td>\n",
              "      <td>1783</td>\n",
              "      <td>17519</td>\n",
              "      <td>21.49</td>\n",
              "      <td>2.19</td>\n",
              "      <td>32.32</td>\n",
              "      <td>0.02</td>\n",
              "      <td>1.66</td>\n",
              "      <td>0</td>\n",
              "      <td>0</td>\n",
              "    </tr>\n",
              "    <tr>\n",
              "      <th>1</th>\n",
              "      <td>2024-Q4</td>\n",
              "      <td>1822</td>\n",
              "      <td>18026</td>\n",
              "      <td>18.22</td>\n",
              "      <td>1.84</td>\n",
              "      <td>23.86</td>\n",
              "      <td>0.01</td>\n",
              "      <td>1.63</td>\n",
              "      <td>0</td>\n",
              "      <td>0</td>\n",
              "    </tr>\n",
              "    <tr>\n",
              "      <th>2</th>\n",
              "      <td>2024-Q3</td>\n",
              "      <td>1838</td>\n",
              "      <td>15044</td>\n",
              "      <td>19.97</td>\n",
              "      <td>2.44</td>\n",
              "      <td>21.64</td>\n",
              "      <td>0.01</td>\n",
              "      <td>1.75</td>\n",
              "      <td>0</td>\n",
              "      <td>0</td>\n",
              "    </tr>\n",
              "    <tr>\n",
              "      <th>3</th>\n",
              "      <td>2024-Q2</td>\n",
              "      <td>1780</td>\n",
              "      <td>20046</td>\n",
              "      <td>25.9</td>\n",
              "      <td>2.3</td>\n",
              "      <td>22.24</td>\n",
              "      <td>0</td>\n",
              "      <td>1.84</td>\n",
              "      <td>0</td>\n",
              "      <td>0</td>\n",
              "    </tr>\n",
              "    <tr>\n",
              "      <th>4</th>\n",
              "      <td>2024-Q1</td>\n",
              "      <td>1411</td>\n",
              "      <td>18691</td>\n",
              "      <td>38.13</td>\n",
              "      <td>2.88</td>\n",
              "      <td>29.19</td>\n",
              "      <td>0.01</td>\n",
              "      <td>2</td>\n",
              "      <td>0</td>\n",
              "      <td>0</td>\n",
              "    </tr>\n",
              "  </tbody>\n",
              "</table>\n",
              "</div>"
            ],
            "text/plain": [
              "    period Thu nhập trên mỗi cổ phần của 4 quý gần nhất (EPS)  \\\n",
              "0  2025-Q1                                               1783   \n",
              "1  2024-Q4                                               1822   \n",
              "2  2024-Q3                                               1838   \n",
              "3  2024-Q2                                               1780   \n",
              "4  2024-Q1                                               1411   \n",
              "\n",
              "  Giá trị sổ sách của cổ phiếu (BVPS)  \\\n",
              "0                               17519   \n",
              "1                               18026   \n",
              "2                               15044   \n",
              "3                               20046   \n",
              "4                               18691   \n",
              "\n",
              "  Chỉ số giá thị trường trên thu nhập (P/E)  \\\n",
              "0                                     21.49   \n",
              "1                                     18.22   \n",
              "2                                     19.97   \n",
              "3                                      25.9   \n",
              "4                                     38.13   \n",
              "\n",
              "  Chỉ số giá thị trường trên giá trị sổ sách (P/B)  \\\n",
              "0                                             2.19   \n",
              "1                                             1.84   \n",
              "2                                             2.44   \n",
              "3                                              2.3   \n",
              "4                                             2.88   \n",
              "\n",
              "  Chỉ số giá thị trường trên doanh thu thuần (P/S) Tỷ suất cổ tức  Beta  \\\n",
              "0                                            32.32           0.02  1.66   \n",
              "1                                            23.86           0.01  1.63   \n",
              "2                                            21.64           0.01  1.75   \n",
              "3                                            22.24              0  1.84   \n",
              "4                                            29.19           0.01     2   \n",
              "\n",
              "  Giá trị doanh nghiệp trên lợi nhuận trước thuế và lãi vay (EV/EBIT)  \\\n",
              "0                                                  0                    \n",
              "1                                                  0                    \n",
              "2                                                  0                    \n",
              "3                                                  0                    \n",
              "4                                                  0                    \n",
              "\n",
              "  Giá trị doanh nghiệp trên lợi nhuận trước thuế, khấu hao và lãi vay (EV/EBITDA)  \n",
              "0                                                  0                               \n",
              "1                                                  0                               \n",
              "2                                                  0                               \n",
              "3                                                  0                               \n",
              "4                                                  0                               "
            ]
          },
          "metadata": {},
          "output_type": "display_data"
        }
      ],
      "source": [
        "print(\"=== Finance.balance_sheet ===\")\n",
        "f = Finance(source=\"mas\", symbol=\"VCI\", period=\"quarter\", get_all=False, show_log=False)\n",
        "df_bs = f.balance_sheet(period=\"year\", lang=\"en\", dropna=True)\n",
        "display(df_bs.head())\n",
        "\n",
        "print(\"\\n=== Finance.income_statement ===\")\n",
        "df_is = f.income_statement(lang=\"vi\")\n",
        "display(df_is.head())\n",
        "\n",
        "print(\"\\n=== Finance.cash_flow ===\")\n",
        "df_cf = f.cash_flow()\n",
        "display(df_cf.head())\n",
        "\n",
        "print(\"\\n=== Finance.ratio ===\")\n",
        "df_rat = f.ratio(flatten_columns=False)\n",
        "display(df_rat.head())\n"
      ]
    },
    {
      "cell_type": "markdown",
      "metadata": {
        "id": "GrjD6NneL0B1"
      },
      "source": [
        "# Listing"
      ]
    },
    {
      "cell_type": "code",
      "execution_count": null,
      "metadata": {
        "id": "8SulevtUL0B1",
        "outputId": "87f0175f-1f33-4a97-9f7b-ff6a7624194c"
      },
      "outputs": [
        {
          "name": "stdout",
          "output_type": "stream",
          "text": [
            "=== Listing.all_symbols ===\n"
          ]
        },
        {
          "data": {
            "application/vnd.microsoft.datawrangler.viewer.v0+json": {
              "columns": [
                {
                  "name": "index",
                  "rawType": "int64",
                  "type": "integer"
                },
                {
                  "name": "symbol",
                  "rawType": "object",
                  "type": "string"
                },
                {
                  "name": "organ_name",
                  "rawType": "object",
                  "type": "string"
                }
              ],
              "ref": "b91ac8d5-f70f-4858-8b94-c9af291fec1a",
              "rows": [
                [
                  "0",
                  "YTC",
                  "Công ty Cổ phần Xuất nhập khẩu Y tế Thành phố Hồ Chí Minh"
                ],
                [
                  "1",
                  "YEG",
                  "Công ty Cổ phần Tập đoàn Yeah1"
                ],
                [
                  "2",
                  "YBM",
                  "Công ty Cổ phần Khoáng sản Công nghiệp Yên Bái"
                ],
                [
                  "3",
                  "YBC",
                  "Công ty Cổ phần Xi măng và Khoáng sản Yên Bái"
                ],
                [
                  "4",
                  "XPH",
                  "Công ty Cổ phần Xà phòng Hà Nội"
                ]
              ],
              "shape": {
                "columns": 2,
                "rows": 5
              }
            },
            "text/html": [
              "<div>\n",
              "<style scoped>\n",
              "    .dataframe tbody tr th:only-of-type {\n",
              "        vertical-align: middle;\n",
              "    }\n",
              "\n",
              "    .dataframe tbody tr th {\n",
              "        vertical-align: top;\n",
              "    }\n",
              "\n",
              "    .dataframe thead th {\n",
              "        text-align: right;\n",
              "    }\n",
              "</style>\n",
              "<table border=\"1\" class=\"dataframe\">\n",
              "  <thead>\n",
              "    <tr style=\"text-align: right;\">\n",
              "      <th></th>\n",
              "      <th>symbol</th>\n",
              "      <th>organ_name</th>\n",
              "    </tr>\n",
              "  </thead>\n",
              "  <tbody>\n",
              "    <tr>\n",
              "      <th>0</th>\n",
              "      <td>YTC</td>\n",
              "      <td>Công ty Cổ phần Xuất nhập khẩu Y tế Thành phố ...</td>\n",
              "    </tr>\n",
              "    <tr>\n",
              "      <th>1</th>\n",
              "      <td>YEG</td>\n",
              "      <td>Công ty Cổ phần Tập đoàn Yeah1</td>\n",
              "    </tr>\n",
              "    <tr>\n",
              "      <th>2</th>\n",
              "      <td>YBM</td>\n",
              "      <td>Công ty Cổ phần Khoáng sản Công nghiệp Yên Bái</td>\n",
              "    </tr>\n",
              "    <tr>\n",
              "      <th>3</th>\n",
              "      <td>YBC</td>\n",
              "      <td>Công ty Cổ phần Xi măng và Khoáng sản Yên Bái</td>\n",
              "    </tr>\n",
              "    <tr>\n",
              "      <th>4</th>\n",
              "      <td>XPH</td>\n",
              "      <td>Công ty Cổ phần Xà phòng Hà Nội</td>\n",
              "    </tr>\n",
              "  </tbody>\n",
              "</table>\n",
              "</div>"
            ],
            "text/plain": [
              "  symbol                                         organ_name\n",
              "0    YTC  Công ty Cổ phần Xuất nhập khẩu Y tế Thành phố ...\n",
              "1    YEG                     Công ty Cổ phần Tập đoàn Yeah1\n",
              "2    YBM     Công ty Cổ phần Khoáng sản Công nghiệp Yên Bái\n",
              "3    YBC      Công ty Cổ phần Xi măng và Khoáng sản Yên Bái\n",
              "4    XPH                    Công ty Cổ phần Xà phòng Hà Nội"
            ]
          },
          "metadata": {},
          "output_type": "display_data"
        },
        {
          "name": "stdout",
          "output_type": "stream",
          "text": [
            "\n",
            "=== Listing.symbols_by_exchange ===\n"
          ]
        },
        {
          "data": {
            "application/vnd.microsoft.datawrangler.viewer.v0+json": {
              "columns": [
                {
                  "name": "index",
                  "rawType": "int64",
                  "type": "integer"
                },
                {
                  "name": "symbol",
                  "rawType": "object",
                  "type": "string"
                },
                {
                  "name": "exchange",
                  "rawType": "object",
                  "type": "string"
                },
                {
                  "name": "type",
                  "rawType": "object",
                  "type": "string"
                },
                {
                  "name": "organ_name",
                  "rawType": "object",
                  "type": "string"
                },
                {
                  "name": "organ_short_name",
                  "rawType": "object",
                  "type": "string"
                },
                {
                  "name": "product_grp_id",
                  "rawType": "object",
                  "type": "string"
                }
              ],
              "ref": "e9f0ae4f-72b1-4561-bcce-60ad22384fea",
              "rows": [
                [
                  "0",
                  "YTC",
                  "UPCOM",
                  "STOCK",
                  "Ho Chi Minh City Medical Import Export Joint Stock Company",
                  null,
                  "UPX"
                ],
                [
                  "1",
                  "YEG",
                  "HSX",
                  "STOCK",
                  "Yeah1 Group Corporation",
                  null,
                  "STO"
                ],
                [
                  "2",
                  "YBM",
                  "HSX",
                  "STOCK",
                  "Yen Bai Industry Mineral Joint Stock Company",
                  null,
                  "STO"
                ],
                [
                  "3",
                  "YBC",
                  "UPCOM",
                  "STOCK",
                  "YenBai Cement and Minerals Joint Stock Company",
                  null,
                  "UPX"
                ],
                [
                  "4",
                  "XPH",
                  "UPCOM",
                  "STOCK",
                  "Hanoi Soap Joint Stock Company",
                  null,
                  "UPX"
                ]
              ],
              "shape": {
                "columns": 6,
                "rows": 5
              }
            },
            "text/html": [
              "<div>\n",
              "<style scoped>\n",
              "    .dataframe tbody tr th:only-of-type {\n",
              "        vertical-align: middle;\n",
              "    }\n",
              "\n",
              "    .dataframe tbody tr th {\n",
              "        vertical-align: top;\n",
              "    }\n",
              "\n",
              "    .dataframe thead th {\n",
              "        text-align: right;\n",
              "    }\n",
              "</style>\n",
              "<table border=\"1\" class=\"dataframe\">\n",
              "  <thead>\n",
              "    <tr style=\"text-align: right;\">\n",
              "      <th></th>\n",
              "      <th>symbol</th>\n",
              "      <th>exchange</th>\n",
              "      <th>type</th>\n",
              "      <th>organ_name</th>\n",
              "      <th>organ_short_name</th>\n",
              "      <th>product_grp_id</th>\n",
              "    </tr>\n",
              "  </thead>\n",
              "  <tbody>\n",
              "    <tr>\n",
              "      <th>0</th>\n",
              "      <td>YTC</td>\n",
              "      <td>UPCOM</td>\n",
              "      <td>STOCK</td>\n",
              "      <td>Ho Chi Minh City Medical Import Export Joint S...</td>\n",
              "      <td>None</td>\n",
              "      <td>UPX</td>\n",
              "    </tr>\n",
              "    <tr>\n",
              "      <th>1</th>\n",
              "      <td>YEG</td>\n",
              "      <td>HSX</td>\n",
              "      <td>STOCK</td>\n",
              "      <td>Yeah1 Group Corporation</td>\n",
              "      <td>None</td>\n",
              "      <td>STO</td>\n",
              "    </tr>\n",
              "    <tr>\n",
              "      <th>2</th>\n",
              "      <td>YBM</td>\n",
              "      <td>HSX</td>\n",
              "      <td>STOCK</td>\n",
              "      <td>Yen Bai Industry Mineral Joint Stock Company</td>\n",
              "      <td>None</td>\n",
              "      <td>STO</td>\n",
              "    </tr>\n",
              "    <tr>\n",
              "      <th>3</th>\n",
              "      <td>YBC</td>\n",
              "      <td>UPCOM</td>\n",
              "      <td>STOCK</td>\n",
              "      <td>YenBai Cement and Minerals Joint Stock Company</td>\n",
              "      <td>None</td>\n",
              "      <td>UPX</td>\n",
              "    </tr>\n",
              "    <tr>\n",
              "      <th>4</th>\n",
              "      <td>XPH</td>\n",
              "      <td>UPCOM</td>\n",
              "      <td>STOCK</td>\n",
              "      <td>Hanoi Soap Joint Stock Company</td>\n",
              "      <td>None</td>\n",
              "      <td>UPX</td>\n",
              "    </tr>\n",
              "  </tbody>\n",
              "</table>\n",
              "</div>"
            ],
            "text/plain": [
              "  symbol exchange   type                                         organ_name  \\\n",
              "0    YTC    UPCOM  STOCK  Ho Chi Minh City Medical Import Export Joint S...   \n",
              "1    YEG      HSX  STOCK                            Yeah1 Group Corporation   \n",
              "2    YBM      HSX  STOCK       Yen Bai Industry Mineral Joint Stock Company   \n",
              "3    YBC    UPCOM  STOCK     YenBai Cement and Minerals Joint Stock Company   \n",
              "4    XPH    UPCOM  STOCK                     Hanoi Soap Joint Stock Company   \n",
              "\n",
              "  organ_short_name product_grp_id  \n",
              "0             None            UPX  \n",
              "1             None            STO  \n",
              "2             None            STO  \n",
              "3             None            UPX  \n",
              "4             None            UPX  "
            ]
          },
          "metadata": {},
          "output_type": "display_data"
        },
        {
          "name": "stdout",
          "output_type": "stream",
          "text": [
            "\n",
            "=== Listing.symbols_by_group (VN30) ===\n"
          ]
        },
        {
          "data": {
            "application/vnd.microsoft.datawrangler.viewer.v0+json": {
              "columns": [
                {
                  "name": "index",
                  "rawType": "int64",
                  "type": "integer"
                },
                {
                  "name": "symbol",
                  "rawType": "object",
                  "type": "string"
                }
              ],
              "ref": "231bcc61-1777-400e-9ff8-630df3b0505a",
              "rows": [
                [
                  "0",
                  "ACB"
                ],
                [
                  "1",
                  "BCM"
                ],
                [
                  "2",
                  "BID"
                ],
                [
                  "3",
                  "BVH"
                ],
                [
                  "4",
                  "CTG"
                ]
              ],
              "shape": {
                "columns": 1,
                "rows": 5
              }
            },
            "text/plain": [
              "0    ACB\n",
              "1    BCM\n",
              "2    BID\n",
              "3    BVH\n",
              "4    CTG\n",
              "Name: symbol, dtype: object"
            ]
          },
          "metadata": {},
          "output_type": "display_data"
        },
        {
          "name": "stdout",
          "output_type": "stream",
          "text": [
            "\n",
            "=== Listing.industries_icb ===\n"
          ]
        },
        {
          "data": {
            "application/vnd.microsoft.datawrangler.viewer.v0+json": {
              "columns": [
                {
                  "name": "index",
                  "rawType": "int64",
                  "type": "integer"
                },
                {
                  "name": "icb_name",
                  "rawType": "object",
                  "type": "string"
                },
                {
                  "name": "en_icb_name",
                  "rawType": "object",
                  "type": "string"
                },
                {
                  "name": "icb_code",
                  "rawType": "object",
                  "type": "string"
                },
                {
                  "name": "level",
                  "rawType": "int64",
                  "type": "integer"
                }
              ],
              "ref": "097b29cc-f8d0-4f53-850d-16791ee49259",
              "rows": [
                [
                  "0",
                  "Sản xuất Dầu khí",
                  "Oil & Gas Producers",
                  "0530",
                  "3"
                ],
                [
                  "1",
                  "Thiết bị, Dịch vụ và Phân phối Dầu khí",
                  "Oil Equipment, Services & Distribution",
                  "0570",
                  "3"
                ],
                [
                  "2",
                  "Hóa chất",
                  "Chemicals",
                  "1350",
                  "3"
                ],
                [
                  "3",
                  "Lâm nghiệp và Giấy",
                  "Forestry & Paper",
                  "1730",
                  "3"
                ],
                [
                  "4",
                  "Kim loại",
                  "Industrial Metals & Mining",
                  "1750",
                  "3"
                ]
              ],
              "shape": {
                "columns": 4,
                "rows": 5
              }
            },
            "text/html": [
              "<div>\n",
              "<style scoped>\n",
              "    .dataframe tbody tr th:only-of-type {\n",
              "        vertical-align: middle;\n",
              "    }\n",
              "\n",
              "    .dataframe tbody tr th {\n",
              "        vertical-align: top;\n",
              "    }\n",
              "\n",
              "    .dataframe thead th {\n",
              "        text-align: right;\n",
              "    }\n",
              "</style>\n",
              "<table border=\"1\" class=\"dataframe\">\n",
              "  <thead>\n",
              "    <tr style=\"text-align: right;\">\n",
              "      <th></th>\n",
              "      <th>icb_name</th>\n",
              "      <th>en_icb_name</th>\n",
              "      <th>icb_code</th>\n",
              "      <th>level</th>\n",
              "    </tr>\n",
              "  </thead>\n",
              "  <tbody>\n",
              "    <tr>\n",
              "      <th>0</th>\n",
              "      <td>Sản xuất Dầu khí</td>\n",
              "      <td>Oil &amp; Gas Producers</td>\n",
              "      <td>0530</td>\n",
              "      <td>3</td>\n",
              "    </tr>\n",
              "    <tr>\n",
              "      <th>1</th>\n",
              "      <td>Thiết bị, Dịch vụ và Phân phối Dầu khí</td>\n",
              "      <td>Oil Equipment, Services &amp; Distribution</td>\n",
              "      <td>0570</td>\n",
              "      <td>3</td>\n",
              "    </tr>\n",
              "    <tr>\n",
              "      <th>2</th>\n",
              "      <td>Hóa chất</td>\n",
              "      <td>Chemicals</td>\n",
              "      <td>1350</td>\n",
              "      <td>3</td>\n",
              "    </tr>\n",
              "    <tr>\n",
              "      <th>3</th>\n",
              "      <td>Lâm nghiệp và Giấy</td>\n",
              "      <td>Forestry &amp; Paper</td>\n",
              "      <td>1730</td>\n",
              "      <td>3</td>\n",
              "    </tr>\n",
              "    <tr>\n",
              "      <th>4</th>\n",
              "      <td>Kim loại</td>\n",
              "      <td>Industrial Metals &amp; Mining</td>\n",
              "      <td>1750</td>\n",
              "      <td>3</td>\n",
              "    </tr>\n",
              "  </tbody>\n",
              "</table>\n",
              "</div>"
            ],
            "text/plain": [
              "                                 icb_name  \\\n",
              "0                        Sản xuất Dầu khí   \n",
              "1  Thiết bị, Dịch vụ và Phân phối Dầu khí   \n",
              "2                                Hóa chất   \n",
              "3                      Lâm nghiệp và Giấy   \n",
              "4                                Kim loại   \n",
              "\n",
              "                              en_icb_name icb_code  level  \n",
              "0                     Oil & Gas Producers     0530      3  \n",
              "1  Oil Equipment, Services & Distribution     0570      3  \n",
              "2                               Chemicals     1350      3  \n",
              "3                        Forestry & Paper     1730      3  \n",
              "4              Industrial Metals & Mining     1750      3  "
            ]
          },
          "metadata": {},
          "output_type": "display_data"
        }
      ],
      "source": [
        "print(\"=== Listing.all_symbols ===\")\n",
        "lst = Listing(source=\"vci\", random_agent=False, show_log=False)\n",
        "df_all = lst.all_symbols(to_df=True)\n",
        "display(df_all.head())\n",
        "\n",
        "print(\"\\n=== Listing.symbols_by_exchange ===\")\n",
        "df_ex = lst.symbols_by_exchange(lang=\"en\")\n",
        "display(df_ex.head())\n",
        "\n",
        "print(\"\\n=== Listing.symbols_by_group (VN30) ===\")\n",
        "df_grp = lst.symbols_by_group(group=\"VN30\")\n",
        "display(df_grp.head())\n",
        "\n",
        "print(\"\\n=== Listing.industries_icb ===\")\n",
        "df_icb = lst.industries_icb()\n",
        "display(df_icb.head())"
      ]
    },
    {
      "cell_type": "markdown",
      "metadata": {
        "id": "bUBrbIHTL0B1"
      },
      "source": [
        "# Company"
      ]
    },
    {
      "cell_type": "code",
      "execution_count": null,
      "metadata": {
        "id": "00rTrQPyL0B1",
        "outputId": "5a0c74df-904e-4457-9015-6d3fcca135b2"
      },
      "outputs": [
        {
          "name": "stdout",
          "output_type": "stream",
          "text": [
            "=== Company.overview ===\n"
          ]
        },
        {
          "data": {
            "application/vnd.microsoft.datawrangler.viewer.v0+json": {
              "columns": [
                {
                  "name": "index",
                  "rawType": "int64",
                  "type": "integer"
                },
                {
                  "name": "symbol",
                  "rawType": "object",
                  "type": "string"
                },
                {
                  "name": "id",
                  "rawType": "object",
                  "type": "string"
                },
                {
                  "name": "issue_share",
                  "rawType": "int64",
                  "type": "integer"
                },
                {
                  "name": "history",
                  "rawType": "object",
                  "type": "string"
                },
                {
                  "name": "company_profile",
                  "rawType": "object",
                  "type": "string"
                },
                {
                  "name": "icb_name3",
                  "rawType": "object",
                  "type": "string"
                },
                {
                  "name": "icb_name2",
                  "rawType": "object",
                  "type": "string"
                },
                {
                  "name": "icb_name4",
                  "rawType": "object",
                  "type": "string"
                },
                {
                  "name": "financial_ratio_issue_share",
                  "rawType": "int64",
                  "type": "integer"
                },
                {
                  "name": "charter_capital",
                  "rawType": "int64",
                  "type": "integer"
                }
              ],
              "ref": "e2e8c97f-f9e1-4d44-aa49-956e32977c81",
              "rows": [
                [
                  "0",
                  "VCI",
                  "75885",
                  "718099480",
                  " - Ngày 06/11/2007: Công ty Cổ phần Chứng khoán Bản Việt được thành lập và chính thức hoạt động với vốn điều lệ ban đầu 360 tỷ đồng;  - Năm 2008:Thành lập chi nhánh tại Hà Nội;  - Năm 2009: Tăng vốn điều lệ lên 378 tỷ đồng;  - Năm 2010: Thành lập phòng giao dịch Nguyễn Công Trứ;  - Năm 2012: Tăng vốn điều lệ lên 398,4 tỷ đồng;  - Năm 2014: Tăng vốn điều lệ lên 500 tỷ đồng;  - Năm 2016: Tăng vốn điều lệ lên 1.032 tỷ đồng;  - Ngày 30/06/2017: Niêm yết trên Sở Giao dịch Chứng khoán Thành phố Hồ Chí Minh (HOSE);  - Ngày 07/07/2017: Giao dịch trên Sở Giao dịch Chứng khoán Thành phố Hồ Chí Minh (HOSE);  - Ngày 02/08/2017: Tăng vốn điều lệ lên 1.200 tỷ đồng;  - Ngày 03/08/2018: Tăng vốn điều lệ lên 1.619.998.900.000 đồng;  - Ngày 13/09/2018: Tăng vốn điều lệ lên 1.629.998.900.000 đồng;  - Ngày 19/09/2019: Tăng vốn điều lệ lên 1.644.000.000.000 đồng;  - Ngày 01/10/2020: Tăng vốn điều lệ lên 1.656.000.000.000 đồng;  - Ngày 28/05/2021: Tăng vốn điều lệ lên 1.665.000.000.000 đồng;  - Ngày 12/07/2021: Tăng vốn điều lệ lên 3.330.000.000.000 đồng;  - Ngày 01/07/2022: Tăng vốn điều lệ lên 3.350.000.000.000 đồng;  - Ngày 26/09/2022: Tăng vốn điều lệ lên 4.354.999.010.000 đồng;  - Ngày 12/04/2023: Đổi tên thành Công ty Cổ phần Chứng khoán Vietcap;  - Ngày 17/07/2023: Tăng vốn điều lệ lên 4.375.000.000.000 đồng;  - Ngày 15/07/2024: Tăng vốn điều lệ lên 4.419.000.000.000 đồng;  - Ngày 05/08/2024: Tăng vốn điều lệ lên 4.419.000.000.000 đồng;  - Ngày 08/10/2024: Tăng vốn điều lệ lên 5.744.694.800.000 đồng;  - Ngày 03/12/2024: Tăng vốn điều lệ lên 7.180.994.800.000 đồng;",
                  "Công ty Cổ phần Chứng khoán Vietcap (VCI) được thành lập và chính thức hoạt động vào năm 2007. Công ty hoạt động chính trong lĩnh vực dịch vụ môi giới chứng khoán, ngân hàng đầu tư và dịch vụ nghiên cứu chứng khoán. Năm 2024, Doanh thu nghiệp vụ môi giới chứng khoán có giá trị bằng 729,6 tỷ đồng, tăng 36.28% so với cùng kỳ. Nợ vay ký quỹ/Vốn chủ sở hữu ở mức 85.79%, giảm 17.47%. Lợi nhuận từ FVTPL có giá trị bằng 786,94 tỷ đồng, tăng 76.15% và đóng góp 39.78 % tổng lợi nhuận hoạt động. Lợi nhuận trước thuế có giá trị bằng 1.089,34 tỷ đồng, tăng 91.07%. Tỷ lệ sinh lời trên vốn chủ sở hữu (ROE) ở mức 8.97%, tăng 1.87%. VCI được niêm yết và giao dịch trên Sở Giao dịch Chứng khoán Thành phố Hồ Chí Minh (HOSE) từ năm 2017.",
                  "Dịch vụ tài chính",
                  "Dịch vụ tài chính",
                  "Môi giới chứng khoán",
                  "718099480",
                  "7180994800000"
                ]
              ],
              "shape": {
                "columns": 10,
                "rows": 1
              }
            },
            "text/html": [
              "<div>\n",
              "<style scoped>\n",
              "    .dataframe tbody tr th:only-of-type {\n",
              "        vertical-align: middle;\n",
              "    }\n",
              "\n",
              "    .dataframe tbody tr th {\n",
              "        vertical-align: top;\n",
              "    }\n",
              "\n",
              "    .dataframe thead th {\n",
              "        text-align: right;\n",
              "    }\n",
              "</style>\n",
              "<table border=\"1\" class=\"dataframe\">\n",
              "  <thead>\n",
              "    <tr style=\"text-align: right;\">\n",
              "      <th></th>\n",
              "      <th>symbol</th>\n",
              "      <th>id</th>\n",
              "      <th>issue_share</th>\n",
              "      <th>history</th>\n",
              "      <th>company_profile</th>\n",
              "      <th>icb_name3</th>\n",
              "      <th>icb_name2</th>\n",
              "      <th>icb_name4</th>\n",
              "      <th>financial_ratio_issue_share</th>\n",
              "      <th>charter_capital</th>\n",
              "    </tr>\n",
              "  </thead>\n",
              "  <tbody>\n",
              "    <tr>\n",
              "      <th>0</th>\n",
              "      <td>VCI</td>\n",
              "      <td>75885</td>\n",
              "      <td>718099480</td>\n",
              "      <td>- Ngày 06/11/2007: Công ty Cổ phần Chứng khoá...</td>\n",
              "      <td>Công ty Cổ phần Chứng khoán Vietcap (VCI) được...</td>\n",
              "      <td>Dịch vụ tài chính</td>\n",
              "      <td>Dịch vụ tài chính</td>\n",
              "      <td>Môi giới chứng khoán</td>\n",
              "      <td>718099480</td>\n",
              "      <td>7180994800000</td>\n",
              "    </tr>\n",
              "  </tbody>\n",
              "</table>\n",
              "</div>"
            ],
            "text/plain": [
              "  symbol     id  issue_share  \\\n",
              "0    VCI  75885    718099480   \n",
              "\n",
              "                                             history  \\\n",
              "0   - Ngày 06/11/2007: Công ty Cổ phần Chứng khoá...   \n",
              "\n",
              "                                     company_profile          icb_name3  \\\n",
              "0  Công ty Cổ phần Chứng khoán Vietcap (VCI) được...  Dịch vụ tài chính   \n",
              "\n",
              "           icb_name2             icb_name4  financial_ratio_issue_share  \\\n",
              "0  Dịch vụ tài chính  Môi giới chứng khoán                    718099480   \n",
              "\n",
              "   charter_capital  \n",
              "0    7180994800000  "
            ]
          },
          "metadata": {},
          "output_type": "display_data"
        },
        {
          "name": "stdout",
          "output_type": "stream",
          "text": [
            "\n",
            "=== Company.shareholders ===\n"
          ]
        },
        {
          "data": {
            "application/vnd.microsoft.datawrangler.viewer.v0+json": {
              "columns": [
                {
                  "name": "index",
                  "rawType": "int64",
                  "type": "integer"
                },
                {
                  "name": "id",
                  "rawType": "object",
                  "type": "string"
                },
                {
                  "name": "share_holder",
                  "rawType": "object",
                  "type": "string"
                },
                {
                  "name": "quantity",
                  "rawType": "int64",
                  "type": "integer"
                },
                {
                  "name": "share_own_percent",
                  "rawType": "float64",
                  "type": "float"
                },
                {
                  "name": "update_date",
                  "rawType": "object",
                  "type": "string"
                }
              ],
              "ref": "10d7f6f3-69e5-4692-b849-f1d46d659af4",
              "rows": [
                [
                  "0",
                  "79491935",
                  "Tô  Hải",
                  "128889403",
                  "0.1795",
                  "2025-01-24"
                ],
                [
                  "1",
                  "79490573",
                  "PYN Elite Fund",
                  "8132100",
                  "0.0491",
                  "2025-01-24"
                ],
                [
                  "2",
                  "79482080",
                  "Nguyễn Phan Minh Khôi",
                  "7483872",
                  "0.04591",
                  "2025-01-24"
                ],
                [
                  "3",
                  "79496837",
                  "Võ Thị Anh Quân",
                  "5500000",
                  "0.0458",
                  "2025-01-24"
                ],
                [
                  "4",
                  "79483093",
                  "Nguyễn Thanh Tú",
                  "4536000",
                  "0.0378",
                  "2025-01-24"
                ]
              ],
              "shape": {
                "columns": 5,
                "rows": 5
              }
            },
            "text/html": [
              "<div>\n",
              "<style scoped>\n",
              "    .dataframe tbody tr th:only-of-type {\n",
              "        vertical-align: middle;\n",
              "    }\n",
              "\n",
              "    .dataframe tbody tr th {\n",
              "        vertical-align: top;\n",
              "    }\n",
              "\n",
              "    .dataframe thead th {\n",
              "        text-align: right;\n",
              "    }\n",
              "</style>\n",
              "<table border=\"1\" class=\"dataframe\">\n",
              "  <thead>\n",
              "    <tr style=\"text-align: right;\">\n",
              "      <th></th>\n",
              "      <th>id</th>\n",
              "      <th>share_holder</th>\n",
              "      <th>quantity</th>\n",
              "      <th>share_own_percent</th>\n",
              "      <th>update_date</th>\n",
              "    </tr>\n",
              "  </thead>\n",
              "  <tbody>\n",
              "    <tr>\n",
              "      <th>0</th>\n",
              "      <td>79491935</td>\n",
              "      <td>Tô  Hải</td>\n",
              "      <td>128889403</td>\n",
              "      <td>0.17950</td>\n",
              "      <td>2025-01-24</td>\n",
              "    </tr>\n",
              "    <tr>\n",
              "      <th>1</th>\n",
              "      <td>79490573</td>\n",
              "      <td>PYN Elite Fund</td>\n",
              "      <td>8132100</td>\n",
              "      <td>0.04910</td>\n",
              "      <td>2025-01-24</td>\n",
              "    </tr>\n",
              "    <tr>\n",
              "      <th>2</th>\n",
              "      <td>79482080</td>\n",
              "      <td>Nguyễn Phan Minh Khôi</td>\n",
              "      <td>7483872</td>\n",
              "      <td>0.04591</td>\n",
              "      <td>2025-01-24</td>\n",
              "    </tr>\n",
              "    <tr>\n",
              "      <th>3</th>\n",
              "      <td>79496837</td>\n",
              "      <td>Võ Thị Anh Quân</td>\n",
              "      <td>5500000</td>\n",
              "      <td>0.04580</td>\n",
              "      <td>2025-01-24</td>\n",
              "    </tr>\n",
              "    <tr>\n",
              "      <th>4</th>\n",
              "      <td>79483093</td>\n",
              "      <td>Nguyễn Thanh Tú</td>\n",
              "      <td>4536000</td>\n",
              "      <td>0.03780</td>\n",
              "      <td>2025-01-24</td>\n",
              "    </tr>\n",
              "  </tbody>\n",
              "</table>\n",
              "</div>"
            ],
            "text/plain": [
              "         id           share_holder   quantity  share_own_percent update_date\n",
              "0  79491935                Tô  Hải  128889403            0.17950  2025-01-24\n",
              "1  79490573         PYN Elite Fund    8132100            0.04910  2025-01-24\n",
              "2  79482080  Nguyễn Phan Minh Khôi    7483872            0.04591  2025-01-24\n",
              "3  79496837        Võ Thị Anh Quân    5500000            0.04580  2025-01-24\n",
              "4  79483093        Nguyễn Thanh Tú    4536000            0.03780  2025-01-24"
            ]
          },
          "metadata": {},
          "output_type": "display_data"
        },
        {
          "name": "stdout",
          "output_type": "stream",
          "text": [
            "\n",
            "=== Company.officers ===\n"
          ]
        },
        {
          "data": {
            "application/vnd.microsoft.datawrangler.viewer.v0+json": {
              "columns": [
                {
                  "name": "index",
                  "rawType": "int64",
                  "type": "integer"
                },
                {
                  "name": "id",
                  "rawType": "object",
                  "type": "string"
                },
                {
                  "name": "officer_name",
                  "rawType": "object",
                  "type": "string"
                },
                {
                  "name": "officer_position",
                  "rawType": "object",
                  "type": "string"
                },
                {
                  "name": "position_short_name",
                  "rawType": "object",
                  "type": "string"
                },
                {
                  "name": "update_date",
                  "rawType": "object",
                  "type": "string"
                },
                {
                  "name": "officer_own_percent",
                  "rawType": "float64",
                  "type": "float"
                },
                {
                  "name": "quantity",
                  "rawType": "int64",
                  "type": "integer"
                },
                {
                  "name": "type",
                  "rawType": "object",
                  "type": "string"
                }
              ],
              "ref": "81fca4db-39ab-4ec3-a699-816b4fe0cee0",
              "rows": [
                [
                  "0",
                  "4",
                  "Tô  Hải",
                  "Tổng Giám đốc/Thành viên Hội đồng Quản trị",
                  "TGĐ/TV HĐQT",
                  "2025-01-24",
                  "0.1795",
                  "128889403",
                  "đang làm việc"
                ],
                [
                  "1",
                  "11",
                  "Nguyễn Thanh Phượng",
                  "Chủ tịch Hội đồng Quản trị",
                  "Chủ tịch HĐQT",
                  "2025-02-05",
                  "0.0318",
                  "22815000",
                  "đang làm việc"
                ],
                [
                  "2",
                  "7",
                  "Nguyễn Quang Bảo",
                  "Phó Tổng Giám đốc",
                  "Phó TGĐ",
                  "2025-01-24",
                  "0.003",
                  "2184156",
                  "đang làm việc"
                ],
                [
                  "3",
                  "2",
                  "Trần Quyết Thắng",
                  "Thành viên Hội đồng Quản trị",
                  "TV HĐQT",
                  "2024-03-27",
                  "0.0016",
                  "702000",
                  "đang làm việc"
                ],
                [
                  "4",
                  "5",
                  "Đinh Quang Hoàn",
                  "Phó Tổng Giám đốc",
                  "Phó TGĐ",
                  "2025-01-24",
                  "0.0005",
                  "390174",
                  "đang làm việc"
                ]
              ],
              "shape": {
                "columns": 8,
                "rows": 5
              }
            },
            "text/html": [
              "<div>\n",
              "<style scoped>\n",
              "    .dataframe tbody tr th:only-of-type {\n",
              "        vertical-align: middle;\n",
              "    }\n",
              "\n",
              "    .dataframe tbody tr th {\n",
              "        vertical-align: top;\n",
              "    }\n",
              "\n",
              "    .dataframe thead th {\n",
              "        text-align: right;\n",
              "    }\n",
              "</style>\n",
              "<table border=\"1\" class=\"dataframe\">\n",
              "  <thead>\n",
              "    <tr style=\"text-align: right;\">\n",
              "      <th></th>\n",
              "      <th>id</th>\n",
              "      <th>officer_name</th>\n",
              "      <th>officer_position</th>\n",
              "      <th>position_short_name</th>\n",
              "      <th>update_date</th>\n",
              "      <th>officer_own_percent</th>\n",
              "      <th>quantity</th>\n",
              "      <th>type</th>\n",
              "    </tr>\n",
              "  </thead>\n",
              "  <tbody>\n",
              "    <tr>\n",
              "      <th>0</th>\n",
              "      <td>4</td>\n",
              "      <td>Tô  Hải</td>\n",
              "      <td>Tổng Giám đốc/Thành viên Hội đồng Quản trị</td>\n",
              "      <td>TGĐ/TV HĐQT</td>\n",
              "      <td>2025-01-24</td>\n",
              "      <td>0.1795</td>\n",
              "      <td>128889403</td>\n",
              "      <td>đang làm việc</td>\n",
              "    </tr>\n",
              "    <tr>\n",
              "      <th>1</th>\n",
              "      <td>11</td>\n",
              "      <td>Nguyễn Thanh Phượng</td>\n",
              "      <td>Chủ tịch Hội đồng Quản trị</td>\n",
              "      <td>Chủ tịch HĐQT</td>\n",
              "      <td>2025-02-05</td>\n",
              "      <td>0.0318</td>\n",
              "      <td>22815000</td>\n",
              "      <td>đang làm việc</td>\n",
              "    </tr>\n",
              "    <tr>\n",
              "      <th>2</th>\n",
              "      <td>7</td>\n",
              "      <td>Nguyễn Quang Bảo</td>\n",
              "      <td>Phó Tổng Giám đốc</td>\n",
              "      <td>Phó TGĐ</td>\n",
              "      <td>2025-01-24</td>\n",
              "      <td>0.0030</td>\n",
              "      <td>2184156</td>\n",
              "      <td>đang làm việc</td>\n",
              "    </tr>\n",
              "    <tr>\n",
              "      <th>3</th>\n",
              "      <td>2</td>\n",
              "      <td>Trần Quyết Thắng</td>\n",
              "      <td>Thành viên Hội đồng Quản trị</td>\n",
              "      <td>TV HĐQT</td>\n",
              "      <td>2024-03-27</td>\n",
              "      <td>0.0016</td>\n",
              "      <td>702000</td>\n",
              "      <td>đang làm việc</td>\n",
              "    </tr>\n",
              "    <tr>\n",
              "      <th>4</th>\n",
              "      <td>5</td>\n",
              "      <td>Đinh Quang Hoàn</td>\n",
              "      <td>Phó Tổng Giám đốc</td>\n",
              "      <td>Phó TGĐ</td>\n",
              "      <td>2025-01-24</td>\n",
              "      <td>0.0005</td>\n",
              "      <td>390174</td>\n",
              "      <td>đang làm việc</td>\n",
              "    </tr>\n",
              "  </tbody>\n",
              "</table>\n",
              "</div>"
            ],
            "text/plain": [
              "   id         officer_name                            officer_position  \\\n",
              "0   4              Tô  Hải  Tổng Giám đốc/Thành viên Hội đồng Quản trị   \n",
              "1  11  Nguyễn Thanh Phượng                  Chủ tịch Hội đồng Quản trị   \n",
              "2   7     Nguyễn Quang Bảo                           Phó Tổng Giám đốc   \n",
              "3   2     Trần Quyết Thắng                Thành viên Hội đồng Quản trị   \n",
              "4   5      Đinh Quang Hoàn                           Phó Tổng Giám đốc   \n",
              "\n",
              "  position_short_name update_date  officer_own_percent   quantity  \\\n",
              "0         TGĐ/TV HĐQT  2025-01-24               0.1795  128889403   \n",
              "1       Chủ tịch HĐQT  2025-02-05               0.0318   22815000   \n",
              "2             Phó TGĐ  2025-01-24               0.0030    2184156   \n",
              "3             TV HĐQT  2024-03-27               0.0016     702000   \n",
              "4             Phó TGĐ  2025-01-24               0.0005     390174   \n",
              "\n",
              "            type  \n",
              "0  đang làm việc  \n",
              "1  đang làm việc  \n",
              "2  đang làm việc  \n",
              "3  đang làm việc  \n",
              "4  đang làm việc  "
            ]
          },
          "metadata": {},
          "output_type": "display_data"
        },
        {
          "name": "stdout",
          "output_type": "stream",
          "text": [
            "\n",
            "=== Company.subsidiaries ===\n"
          ]
        },
        {
          "data": {
            "application/vnd.microsoft.datawrangler.viewer.v0+json": {
              "columns": [
                {
                  "name": "index",
                  "rawType": "object",
                  "type": "string"
                },
                {
                  "name": "type",
                  "rawType": "object",
                  "type": "string"
                }
              ],
              "ref": "dae11538-8e3f-4df4-b2aa-ad98d841cc53",
              "rows": [],
              "shape": {
                "columns": 1,
                "rows": 0
              }
            },
            "text/html": [
              "<div>\n",
              "<style scoped>\n",
              "    .dataframe tbody tr th:only-of-type {\n",
              "        vertical-align: middle;\n",
              "    }\n",
              "\n",
              "    .dataframe tbody tr th {\n",
              "        vertical-align: top;\n",
              "    }\n",
              "\n",
              "    .dataframe thead th {\n",
              "        text-align: right;\n",
              "    }\n",
              "</style>\n",
              "<table border=\"1\" class=\"dataframe\">\n",
              "  <thead>\n",
              "    <tr style=\"text-align: right;\">\n",
              "      <th></th>\n",
              "      <th>type</th>\n",
              "    </tr>\n",
              "  </thead>\n",
              "  <tbody>\n",
              "  </tbody>\n",
              "</table>\n",
              "</div>"
            ],
            "text/plain": [
              "Empty DataFrame\n",
              "Columns: [type]\n",
              "Index: []"
            ]
          },
          "metadata": {},
          "output_type": "display_data"
        },
        {
          "name": "stdout",
          "output_type": "stream",
          "text": [
            "\n",
            "=== Company.news ===\n"
          ]
        },
        {
          "data": {
            "application/vnd.microsoft.datawrangler.viewer.v0+json": {
              "columns": [
                {
                  "name": "index",
                  "rawType": "int64",
                  "type": "integer"
                },
                {
                  "name": "id",
                  "rawType": "object",
                  "type": "string"
                },
                {
                  "name": "news_title",
                  "rawType": "object",
                  "type": "string"
                },
                {
                  "name": "news_sub_title",
                  "rawType": "object",
                  "type": "string"
                },
                {
                  "name": "friendly_sub_title",
                  "rawType": "object",
                  "type": "string"
                },
                {
                  "name": "news_image_url",
                  "rawType": "object",
                  "type": "string"
                },
                {
                  "name": "news_source_link",
                  "rawType": "object",
                  "type": "string"
                },
                {
                  "name": "created_at",
                  "rawType": "object",
                  "type": "string"
                },
                {
                  "name": "public_date",
                  "rawType": "int64",
                  "type": "integer"
                },
                {
                  "name": "updated_at",
                  "rawType": "object",
                  "type": "string"
                },
                {
                  "name": "lang_code",
                  "rawType": "object",
                  "type": "string"
                },
                {
                  "name": "news_id",
                  "rawType": "object",
                  "type": "string"
                },
                {
                  "name": "news_short_content",
                  "rawType": "object",
                  "type": "string"
                },
                {
                  "name": "news_full_content",
                  "rawType": "object",
                  "type": "string"
                },
                {
                  "name": "close_price",
                  "rawType": "int64",
                  "type": "integer"
                },
                {
                  "name": "ref_price",
                  "rawType": "int64",
                  "type": "integer"
                },
                {
                  "name": "floor",
                  "rawType": "int64",
                  "type": "integer"
                },
                {
                  "name": "ceiling",
                  "rawType": "int64",
                  "type": "integer"
                },
                {
                  "name": "price_change_pct",
                  "rawType": "float64",
                  "type": "float"
                }
              ],
              "ref": "b8d5463b-0d48-4aac-ba60-62fc8e7e5c43",
              "rows": [
                [
                  "0",
                  "7249162",
                  "VCI: Báo cáo kết quả giao dịch cổ phiếu của tổ chức có liên quan đến người nội bộ CTCP Quản lý quỹ Đầu tư CK Bản Việt",
                  "",
                  "",
                  "https://cdn.fiingroup.vn/medialib/127889/I/2024/11/26/11303038674380700_VCI.png",
                  "https://www.hsx.vn/Modules/Cms/Web/LoadArticle?id=70312c95-516c-44d2-8925-38f90c550893",
                  null,
                  "1744991160000",
                  null,
                  "vi",
                  "11546466",
                  "",
                  "<p>CTCP Quản lý quỹ Đầu tư CK Bản Việt báo cáo kết quả giao dịch cổ phiếu của tổ chức có liên quan đến người nội bộ Công ty Cổ phần Chứng khoán Vietcap như sau:</p><table width=\"100%\" style='text-align: left;border=0'><tr><td colspan='2'><hr /></td></tr><tr><td colspan='2'>Tài liệu đính kèm</td></tr><tr><td> </td><td><a href=\"https://cmsv5.fiingroup.vn/medialib/FG/2025/2025-04/2025-04-18/20250418_20250418-VCI-Bao-Cao-Ket-Qua-Giao-Dich-To-Chuc-CLQ-NNB-CTCP-Quan-Ly-Quy-Dau-Tu-CK-Ban-Viet.pdf\" title=\"Tải về\" download>20250418_20250418-VCI-Bao-Cao-Ket-Qua-Giao-Dich-To-Chuc-CLQ-NNB-CTCP-Quan-Ly-Quy-Dau-Tu-CK-Ban-Viet.pdf</a></td></tr></table>",
                  "37050",
                  "37600",
                  "35000",
                  "40200",
                  "-0.01462766"
                ],
                [
                  "1",
                  "7088010",
                  "VCI:  Biên bản họp và Nghị quyết ĐHĐCĐ thường niên năm 2025",
                  "",
                  "",
                  "https://cdn.fiingroup.vn/medialib/127889/I/2024/11/26/11303038674380700_VCI.png",
                  "https://www.hsx.vn/Modules/Cms/Web/LoadArticle?id=f0f654d3-7768-48c7-b0b6-8604c3bf7f7f",
                  null,
                  "1743675600000",
                  null,
                  "vi",
                  "11516162",
                  "VCI:  Biên bản họp và Nghị quyết ĐHĐCĐ thường niên năm 2025",
                  "<p>Công ty Cổ phần Chứng khoán Vietcap công bố Biên bản họp và Nghị quyết ĐHĐCĐ thường niên năm 2025 như sau:</p><table width=\"100%\" style='text-align: left;border=0'><tr><td colspan='2'><hr /></td></tr><tr><td colspan='2'>Tài liệu đính kèm</td></tr><tr><td> </td><td><a href=\"https://cmsv5.fiingroup.vn/medialib/FG/2025/2025-04/2025-04-03/20250403_20250402-VCI-CBTT-Nghi-quyet-va-Bien-ban-hop-DHDCD-TN-nam-2025.pdf\" title=\"Tải về\" download>20250403_20250402-VCI-CBTT-Nghi-quyet-va-Bien-ban-hop-DHDCD-TN-nam-2025.pdf</a></td></tr></table>",
                  "36300",
                  "39000",
                  "36300",
                  "41700",
                  "-0.06923077"
                ],
                [
                  "2",
                  "7074486",
                  "VCI:  Báo cáo thường niên năm 2024",
                  "",
                  "",
                  "https://cdn.fiingroup.vn/medialib/127889/I/2024/11/26/11303038674380700_VCI.png",
                  "https://www.hsx.vn/Modules/Cms/Web/LoadArticle?id=e9c112f6-277c-4296-a023-c35aa8ab4967",
                  null,
                  "1743523260000",
                  null,
                  "vi",
                  "11512849",
                  "VCI:  Báo cáo thường niên năm 2024",
                  "<p>Công ty Cổ phần Chứng khoán Vietcap công bố báo cáo thường niên năm 2024 như sau:</p><table width=\"100%\" style='text-align: left;border=0'><tr><td colspan='2'><hr /></td></tr><tr><td colspan='2'>Tài liệu đính kèm</td></tr><tr><td> </td><td><a href=\"https://cmsv5.fiingroup.vn/medialib/FG/2025/2025-04/2025-04-01/20250401_20250401-VCI-Bao-cao-thuong-nien-nam-2024.pdf\" title=\"Tải về\" download>20250401_20250401-VCI-Bao-cao-thuong-nien-nam-2024.pdf</a></td></tr></table>",
                  "39000",
                  "38300",
                  "35650",
                  "40950",
                  "0.01827676"
                ],
                [
                  "3",
                  "7063368",
                  "VCI:  Báo cáo sử dụng nguồn vốn trái phiếu phát hành riêng lẻ năm 2024",
                  "",
                  "",
                  "https://cdn.fiingroup.vn/medialib/127889/I/2024/11/26/11303038674380700_VCI.png",
                  "https://www.hsx.vn/Modules/Cms/Web/LoadArticle?id=dccfaccd-3fad-4d39-bb71-8ea9ed1fd986",
                  null,
                  "1743500400000",
                  null,
                  "vi",
                  "11511853",
                  "VCI:  Báo cáo sử dụng nguồn vốn trái phiếu phát hành riêng lẻ năm 2024",
                  "<p>Công ty Cổ phần Chứng khoán Vietcap công bố báo cáo sử dụng nguồn vốn trái phiếu phát hành riêng lẻ năm 2024 như sau:</p><table width=\"100%\" style='text-align: left;border=0'><tr><td colspan='2'><hr /></td></tr><tr><td colspan='2'>Tài liệu đính kèm</td></tr><tr><td> </td><td><a href=\"https://cmsv5.fiingroup.vn/medialib/FG/2025/2025-04/2025-04-01/20250401_20250331-VCI-Bao-cao-su-dung-nguon-von-trai-phieu-PHRL-cho-nam-tai-chinh-ket-thuc-31.12.2024.pdf\" title=\"Tải về\" download>20250401_20250331-VCI-Bao-cao-su-dung-nguon-von-trai-phieu-PHRL-cho-nam-tai-chinh-ket-thuc-31.12.2024.pdf</a></td></tr></table>",
                  "39000",
                  "38300",
                  "35650",
                  "40950",
                  "0.01827676"
                ],
                [
                  "4",
                  "7063239",
                  "VCI:  Báo cáo định kỳ tình hình thực hiện cam kết với nhà đầu tư trái phiếu năm 2024",
                  "",
                  "",
                  "https://cdn.fiingroup.vn/medialib/127889/I/2024/11/26/11303038674380700_VCI.png",
                  "https://www.hsx.vn/Modules/Cms/Web/LoadArticle?id=ce1675e6-59b9-464b-bb41-e36ee2629f18",
                  null,
                  "1743445380000",
                  null,
                  "vi",
                  "11511228",
                  "VCI:  Báo cáo định kỳ tình hình thực hiện cam kết với nhà đầu tư trái phiếu năm 2024",
                  "<p>Công ty Cổ phần Chứng khoán Vietcap công bố báo cáo định kỳ tình hình thực hiện cam kết với nhà đầu tư trái phiếu năm 2024 như sau:</p><table width=\"100%\" style='text-align: left;border=0'><tr><td colspan='2'><hr /></td></tr><tr><td colspan='2'>Tài liệu đính kèm</td></tr><tr><td> </td><td><a href=\"https://cmsv5.fiingroup.vn/medialib/FG/2025/2025-03/2025-03-31/20250331_20250331-VCI-CBTT-BC-dinh-ky-TH-cam-ket-NSHTP-nam-2024.pdf\" title=\"Tải về\" download>20250331_20250331-VCI-CBTT-BC-dinh-ky-TH-cam-ket-NSHTP-nam-2024.pdf</a></td></tr></table>",
                  "38300",
                  "38100",
                  "35450",
                  "40750",
                  "0.00524934"
                ]
              ],
              "shape": {
                "columns": 18,
                "rows": 5
              }
            },
            "text/html": [
              "<div>\n",
              "<style scoped>\n",
              "    .dataframe tbody tr th:only-of-type {\n",
              "        vertical-align: middle;\n",
              "    }\n",
              "\n",
              "    .dataframe tbody tr th {\n",
              "        vertical-align: top;\n",
              "    }\n",
              "\n",
              "    .dataframe thead th {\n",
              "        text-align: right;\n",
              "    }\n",
              "</style>\n",
              "<table border=\"1\" class=\"dataframe\">\n",
              "  <thead>\n",
              "    <tr style=\"text-align: right;\">\n",
              "      <th></th>\n",
              "      <th>id</th>\n",
              "      <th>news_title</th>\n",
              "      <th>news_sub_title</th>\n",
              "      <th>friendly_sub_title</th>\n",
              "      <th>news_image_url</th>\n",
              "      <th>news_source_link</th>\n",
              "      <th>created_at</th>\n",
              "      <th>public_date</th>\n",
              "      <th>updated_at</th>\n",
              "      <th>lang_code</th>\n",
              "      <th>news_id</th>\n",
              "      <th>news_short_content</th>\n",
              "      <th>news_full_content</th>\n",
              "      <th>close_price</th>\n",
              "      <th>ref_price</th>\n",
              "      <th>floor</th>\n",
              "      <th>ceiling</th>\n",
              "      <th>price_change_pct</th>\n",
              "    </tr>\n",
              "  </thead>\n",
              "  <tbody>\n",
              "    <tr>\n",
              "      <th>0</th>\n",
              "      <td>7249162</td>\n",
              "      <td>VCI: Báo cáo kết quả giao dịch cổ phiếu của tổ...</td>\n",
              "      <td></td>\n",
              "      <td></td>\n",
              "      <td>https://cdn.fiingroup.vn/medialib/127889/I/202...</td>\n",
              "      <td>https://www.hsx.vn/Modules/Cms/Web/LoadArticle...</td>\n",
              "      <td>None</td>\n",
              "      <td>1744991160000</td>\n",
              "      <td>None</td>\n",
              "      <td>vi</td>\n",
              "      <td>11546466</td>\n",
              "      <td></td>\n",
              "      <td>&lt;p&gt;CTCP Quản lý quỹ Đầu tư CK Bản Việt báo cáo...</td>\n",
              "      <td>37050</td>\n",
              "      <td>37600</td>\n",
              "      <td>35000</td>\n",
              "      <td>40200</td>\n",
              "      <td>-0.014628</td>\n",
              "    </tr>\n",
              "    <tr>\n",
              "      <th>1</th>\n",
              "      <td>7088010</td>\n",
              "      <td>VCI:  Biên bản họp và Nghị quyết ĐHĐCĐ thường ...</td>\n",
              "      <td></td>\n",
              "      <td></td>\n",
              "      <td>https://cdn.fiingroup.vn/medialib/127889/I/202...</td>\n",
              "      <td>https://www.hsx.vn/Modules/Cms/Web/LoadArticle...</td>\n",
              "      <td>None</td>\n",
              "      <td>1743675600000</td>\n",
              "      <td>None</td>\n",
              "      <td>vi</td>\n",
              "      <td>11516162</td>\n",
              "      <td>VCI:  Biên bản họp và Nghị quyết ĐHĐCĐ thường ...</td>\n",
              "      <td>&lt;p&gt;Công ty Cổ phần Chứng khoán Vietcap công bố...</td>\n",
              "      <td>36300</td>\n",
              "      <td>39000</td>\n",
              "      <td>36300</td>\n",
              "      <td>41700</td>\n",
              "      <td>-0.069231</td>\n",
              "    </tr>\n",
              "    <tr>\n",
              "      <th>2</th>\n",
              "      <td>7074486</td>\n",
              "      <td>VCI:  Báo cáo thường niên năm 2024</td>\n",
              "      <td></td>\n",
              "      <td></td>\n",
              "      <td>https://cdn.fiingroup.vn/medialib/127889/I/202...</td>\n",
              "      <td>https://www.hsx.vn/Modules/Cms/Web/LoadArticle...</td>\n",
              "      <td>None</td>\n",
              "      <td>1743523260000</td>\n",
              "      <td>None</td>\n",
              "      <td>vi</td>\n",
              "      <td>11512849</td>\n",
              "      <td>VCI:  Báo cáo thường niên năm 2024</td>\n",
              "      <td>&lt;p&gt;Công ty Cổ phần Chứng khoán Vietcap công bố...</td>\n",
              "      <td>39000</td>\n",
              "      <td>38300</td>\n",
              "      <td>35650</td>\n",
              "      <td>40950</td>\n",
              "      <td>0.018277</td>\n",
              "    </tr>\n",
              "    <tr>\n",
              "      <th>3</th>\n",
              "      <td>7063368</td>\n",
              "      <td>VCI:  Báo cáo sử dụng nguồn vốn trái phiếu phá...</td>\n",
              "      <td></td>\n",
              "      <td></td>\n",
              "      <td>https://cdn.fiingroup.vn/medialib/127889/I/202...</td>\n",
              "      <td>https://www.hsx.vn/Modules/Cms/Web/LoadArticle...</td>\n",
              "      <td>None</td>\n",
              "      <td>1743500400000</td>\n",
              "      <td>None</td>\n",
              "      <td>vi</td>\n",
              "      <td>11511853</td>\n",
              "      <td>VCI:  Báo cáo sử dụng nguồn vốn trái phiếu phá...</td>\n",
              "      <td>&lt;p&gt;Công ty Cổ phần Chứng khoán Vietcap công bố...</td>\n",
              "      <td>39000</td>\n",
              "      <td>38300</td>\n",
              "      <td>35650</td>\n",
              "      <td>40950</td>\n",
              "      <td>0.018277</td>\n",
              "    </tr>\n",
              "    <tr>\n",
              "      <th>4</th>\n",
              "      <td>7063239</td>\n",
              "      <td>VCI:  Báo cáo định kỳ tình hình thực hiện cam ...</td>\n",
              "      <td></td>\n",
              "      <td></td>\n",
              "      <td>https://cdn.fiingroup.vn/medialib/127889/I/202...</td>\n",
              "      <td>https://www.hsx.vn/Modules/Cms/Web/LoadArticle...</td>\n",
              "      <td>None</td>\n",
              "      <td>1743445380000</td>\n",
              "      <td>None</td>\n",
              "      <td>vi</td>\n",
              "      <td>11511228</td>\n",
              "      <td>VCI:  Báo cáo định kỳ tình hình thực hiện cam ...</td>\n",
              "      <td>&lt;p&gt;Công ty Cổ phần Chứng khoán Vietcap công bố...</td>\n",
              "      <td>38300</td>\n",
              "      <td>38100</td>\n",
              "      <td>35450</td>\n",
              "      <td>40750</td>\n",
              "      <td>0.005249</td>\n",
              "    </tr>\n",
              "  </tbody>\n",
              "</table>\n",
              "</div>"
            ],
            "text/plain": [
              "        id                                         news_title news_sub_title  \\\n",
              "0  7249162  VCI: Báo cáo kết quả giao dịch cổ phiếu của tổ...                  \n",
              "1  7088010  VCI:  Biên bản họp và Nghị quyết ĐHĐCĐ thường ...                  \n",
              "2  7074486                 VCI:  Báo cáo thường niên năm 2024                  \n",
              "3  7063368  VCI:  Báo cáo sử dụng nguồn vốn trái phiếu phá...                  \n",
              "4  7063239  VCI:  Báo cáo định kỳ tình hình thực hiện cam ...                  \n",
              "\n",
              "  friendly_sub_title                                     news_image_url  \\\n",
              "0                     https://cdn.fiingroup.vn/medialib/127889/I/202...   \n",
              "1                     https://cdn.fiingroup.vn/medialib/127889/I/202...   \n",
              "2                     https://cdn.fiingroup.vn/medialib/127889/I/202...   \n",
              "3                     https://cdn.fiingroup.vn/medialib/127889/I/202...   \n",
              "4                     https://cdn.fiingroup.vn/medialib/127889/I/202...   \n",
              "\n",
              "                                    news_source_link created_at  \\\n",
              "0  https://www.hsx.vn/Modules/Cms/Web/LoadArticle...       None   \n",
              "1  https://www.hsx.vn/Modules/Cms/Web/LoadArticle...       None   \n",
              "2  https://www.hsx.vn/Modules/Cms/Web/LoadArticle...       None   \n",
              "3  https://www.hsx.vn/Modules/Cms/Web/LoadArticle...       None   \n",
              "4  https://www.hsx.vn/Modules/Cms/Web/LoadArticle...       None   \n",
              "\n",
              "     public_date updated_at lang_code   news_id  \\\n",
              "0  1744991160000       None        vi  11546466   \n",
              "1  1743675600000       None        vi  11516162   \n",
              "2  1743523260000       None        vi  11512849   \n",
              "3  1743500400000       None        vi  11511853   \n",
              "4  1743445380000       None        vi  11511228   \n",
              "\n",
              "                                  news_short_content  \\\n",
              "0                                                      \n",
              "1  VCI:  Biên bản họp và Nghị quyết ĐHĐCĐ thường ...   \n",
              "2                 VCI:  Báo cáo thường niên năm 2024   \n",
              "3  VCI:  Báo cáo sử dụng nguồn vốn trái phiếu phá...   \n",
              "4  VCI:  Báo cáo định kỳ tình hình thực hiện cam ...   \n",
              "\n",
              "                                   news_full_content  close_price  ref_price  \\\n",
              "0  <p>CTCP Quản lý quỹ Đầu tư CK Bản Việt báo cáo...        37050      37600   \n",
              "1  <p>Công ty Cổ phần Chứng khoán Vietcap công bố...        36300      39000   \n",
              "2  <p>Công ty Cổ phần Chứng khoán Vietcap công bố...        39000      38300   \n",
              "3  <p>Công ty Cổ phần Chứng khoán Vietcap công bố...        39000      38300   \n",
              "4  <p>Công ty Cổ phần Chứng khoán Vietcap công bố...        38300      38100   \n",
              "\n",
              "   floor  ceiling  price_change_pct  \n",
              "0  35000    40200         -0.014628  \n",
              "1  36300    41700         -0.069231  \n",
              "2  35650    40950          0.018277  \n",
              "3  35650    40950          0.018277  \n",
              "4  35450    40750          0.005249  "
            ]
          },
          "metadata": {},
          "output_type": "display_data"
        },
        {
          "name": "stdout",
          "output_type": "stream",
          "text": [
            "\n",
            "=== Company.events ===\n"
          ]
        },
        {
          "data": {
            "application/vnd.microsoft.datawrangler.viewer.v0+json": {
              "columns": [
                {
                  "name": "index",
                  "rawType": "int64",
                  "type": "integer"
                },
                {
                  "name": "id",
                  "rawType": "object",
                  "type": "string"
                },
                {
                  "name": "event_title",
                  "rawType": "object",
                  "type": "string"
                },
                {
                  "name": "en__event_title",
                  "rawType": "object",
                  "type": "string"
                },
                {
                  "name": "public_date",
                  "rawType": "object",
                  "type": "string"
                },
                {
                  "name": "issue_date",
                  "rawType": "object",
                  "type": "string"
                },
                {
                  "name": "source_url",
                  "rawType": "object",
                  "type": "string"
                },
                {
                  "name": "event_list_code",
                  "rawType": "object",
                  "type": "string"
                },
                {
                  "name": "ratio",
                  "rawType": "float64",
                  "type": "float"
                },
                {
                  "name": "value",
                  "rawType": "float64",
                  "type": "float"
                },
                {
                  "name": "record_date",
                  "rawType": "object",
                  "type": "string"
                },
                {
                  "name": "exright_date",
                  "rawType": "object",
                  "type": "string"
                },
                {
                  "name": "event_list_name",
                  "rawType": "object",
                  "type": "string"
                },
                {
                  "name": "en__event_list_name",
                  "rawType": "object",
                  "type": "string"
                }
              ],
              "ref": "bbee8c7a-f70a-4437-a8c4-52870a6771df",
              "rows": [
                [
                  "0",
                  "34334",
                  "VCI - Trả cổ tức Cả năm, 2017 bằng tiền 1000 VND/CP",
                  "VCI - Pays Year, 2017 cash dividend at VND1000/share",
                  "2018-06-29",
                  "2018-07-27",
                  "http://cmsv5.stoxplus.com/medialib/Crawler/2018/2018-06/2018-06-29/20180629_20180628--VCI--Thong-Bao-Ngay-DKCC-Lay-Y-Kien-CD-Bang-Van-Ban-Va-Tra-Co-Tuc-Nam-2017-Bang-Tien-Va-Phat-Hanh-CP.pdf",
                  "DIV",
                  "0.1",
                  "1000.0",
                  "2018-07-11",
                  "2018-07-10",
                  "Trả cổ tức bằng tiền mặt",
                  "Cash Dividend"
                ],
                [
                  "1",
                  "34336",
                  "VCI - Trả cổ tức Đợt 1, 2018 bằng tiền 700 VND/CP",
                  "VCI - Pays Interim 1, 2018 cash dividend at VND700/share",
                  "2019-01-18",
                  "2019-02-14",
                  "http://cmsv5.stoxplus.com/medialib/Crawler/2019/2019-01/2019-01-18/20190118_20190118--VCI--Thong-Bao-Ngay-DKCC-Tam-ung-Co-Tuc-Nam-2018-Bang-Tien.pdf",
                  "DIV",
                  "0.07",
                  "700.0",
                  "2019-01-28",
                  "2019-01-25",
                  "Trả cổ tức bằng tiền mặt",
                  "Cash Dividend"
                ],
                [
                  "2",
                  "34337",
                  "VCI - Trả cổ tức Đợt 2, 2018 bằng tiền 700 VND/CP",
                  "VCI - Pays Interim 2, 2018 cash dividend at VND700/share",
                  "2019-05-04",
                  "2019-06-03",
                  "http://cmsv5.stoxplus.com/medialib/Crawler/2019/2019-05/2019-05-04/20190504_20190504--VCI--Thong-Bao-Ngay-DKCC-Tra-Co-Tuc-Dot-2-Nam-2018-Bang-Tien.pdf",
                  "DIV",
                  "0.07",
                  "700.0",
                  "2019-05-17",
                  "2019-05-16",
                  "Trả cổ tức bằng tiền mặt",
                  "Cash Dividend"
                ],
                [
                  "3",
                  "34339",
                  "VCI - Trả cổ tức Cả năm, 2019 bằng tiền 1500 VND/CP",
                  "VCI - Pays Year, 2019 cash dividend at VND1500/share",
                  "2020-07-07",
                  "2020-08-03",
                  "http://fiinpro.com/News/Detail/5329014?lang=vi-VN",
                  "DIV",
                  "0.15",
                  "1500.0",
                  "2020-07-17",
                  "2020-07-16",
                  "Trả cổ tức bằng tiền mặt",
                  "Cash Dividend"
                ],
                [
                  "4",
                  "34341",
                  "VCI - Trả cổ tức Đợt 1, 2020 bằng tiền 1000 VND/CP",
                  "VCI - Pays Interim 1, 2020 cash dividend at VND1000/share",
                  "2020-12-15",
                  "2020-12-31",
                  "http://fiinpro.com/News/Detail/6417706?lang=vi-VN",
                  "DIV",
                  "0.1",
                  "1000.0",
                  "2020-12-23",
                  "2020-12-22",
                  "Trả cổ tức bằng tiền mặt",
                  "Cash Dividend"
                ]
              ],
              "shape": {
                "columns": 13,
                "rows": 5
              }
            },
            "text/html": [
              "<div>\n",
              "<style scoped>\n",
              "    .dataframe tbody tr th:only-of-type {\n",
              "        vertical-align: middle;\n",
              "    }\n",
              "\n",
              "    .dataframe tbody tr th {\n",
              "        vertical-align: top;\n",
              "    }\n",
              "\n",
              "    .dataframe thead th {\n",
              "        text-align: right;\n",
              "    }\n",
              "</style>\n",
              "<table border=\"1\" class=\"dataframe\">\n",
              "  <thead>\n",
              "    <tr style=\"text-align: right;\">\n",
              "      <th></th>\n",
              "      <th>id</th>\n",
              "      <th>event_title</th>\n",
              "      <th>en__event_title</th>\n",
              "      <th>public_date</th>\n",
              "      <th>issue_date</th>\n",
              "      <th>source_url</th>\n",
              "      <th>event_list_code</th>\n",
              "      <th>ratio</th>\n",
              "      <th>value</th>\n",
              "      <th>record_date</th>\n",
              "      <th>exright_date</th>\n",
              "      <th>event_list_name</th>\n",
              "      <th>en__event_list_name</th>\n",
              "    </tr>\n",
              "  </thead>\n",
              "  <tbody>\n",
              "    <tr>\n",
              "      <th>0</th>\n",
              "      <td>34334</td>\n",
              "      <td>VCI - Trả cổ tức Cả năm, 2017 bằng tiền 1000 V...</td>\n",
              "      <td>VCI - Pays Year, 2017 cash dividend at VND1000...</td>\n",
              "      <td>2018-06-29</td>\n",
              "      <td>2018-07-27</td>\n",
              "      <td>http://cmsv5.stoxplus.com/medialib/Crawler/201...</td>\n",
              "      <td>DIV</td>\n",
              "      <td>0.10</td>\n",
              "      <td>1000.0</td>\n",
              "      <td>2018-07-11</td>\n",
              "      <td>2018-07-10</td>\n",
              "      <td>Trả cổ tức bằng tiền mặt</td>\n",
              "      <td>Cash Dividend</td>\n",
              "    </tr>\n",
              "    <tr>\n",
              "      <th>1</th>\n",
              "      <td>34336</td>\n",
              "      <td>VCI - Trả cổ tức Đợt 1, 2018 bằng tiền 700 VND/CP</td>\n",
              "      <td>VCI - Pays Interim 1, 2018 cash dividend at VN...</td>\n",
              "      <td>2019-01-18</td>\n",
              "      <td>2019-02-14</td>\n",
              "      <td>http://cmsv5.stoxplus.com/medialib/Crawler/201...</td>\n",
              "      <td>DIV</td>\n",
              "      <td>0.07</td>\n",
              "      <td>700.0</td>\n",
              "      <td>2019-01-28</td>\n",
              "      <td>2019-01-25</td>\n",
              "      <td>Trả cổ tức bằng tiền mặt</td>\n",
              "      <td>Cash Dividend</td>\n",
              "    </tr>\n",
              "    <tr>\n",
              "      <th>2</th>\n",
              "      <td>34337</td>\n",
              "      <td>VCI - Trả cổ tức Đợt 2, 2018 bằng tiền 700 VND/CP</td>\n",
              "      <td>VCI - Pays Interim 2, 2018 cash dividend at VN...</td>\n",
              "      <td>2019-05-04</td>\n",
              "      <td>2019-06-03</td>\n",
              "      <td>http://cmsv5.stoxplus.com/medialib/Crawler/201...</td>\n",
              "      <td>DIV</td>\n",
              "      <td>0.07</td>\n",
              "      <td>700.0</td>\n",
              "      <td>2019-05-17</td>\n",
              "      <td>2019-05-16</td>\n",
              "      <td>Trả cổ tức bằng tiền mặt</td>\n",
              "      <td>Cash Dividend</td>\n",
              "    </tr>\n",
              "    <tr>\n",
              "      <th>3</th>\n",
              "      <td>34339</td>\n",
              "      <td>VCI - Trả cổ tức Cả năm, 2019 bằng tiền 1500 V...</td>\n",
              "      <td>VCI - Pays Year, 2019 cash dividend at VND1500...</td>\n",
              "      <td>2020-07-07</td>\n",
              "      <td>2020-08-03</td>\n",
              "      <td>http://fiinpro.com/News/Detail/5329014?lang=vi-VN</td>\n",
              "      <td>DIV</td>\n",
              "      <td>0.15</td>\n",
              "      <td>1500.0</td>\n",
              "      <td>2020-07-17</td>\n",
              "      <td>2020-07-16</td>\n",
              "      <td>Trả cổ tức bằng tiền mặt</td>\n",
              "      <td>Cash Dividend</td>\n",
              "    </tr>\n",
              "    <tr>\n",
              "      <th>4</th>\n",
              "      <td>34341</td>\n",
              "      <td>VCI - Trả cổ tức Đợt 1, 2020 bằng tiền 1000 VN...</td>\n",
              "      <td>VCI - Pays Interim 1, 2020 cash dividend at VN...</td>\n",
              "      <td>2020-12-15</td>\n",
              "      <td>2020-12-31</td>\n",
              "      <td>http://fiinpro.com/News/Detail/6417706?lang=vi-VN</td>\n",
              "      <td>DIV</td>\n",
              "      <td>0.10</td>\n",
              "      <td>1000.0</td>\n",
              "      <td>2020-12-23</td>\n",
              "      <td>2020-12-22</td>\n",
              "      <td>Trả cổ tức bằng tiền mặt</td>\n",
              "      <td>Cash Dividend</td>\n",
              "    </tr>\n",
              "  </tbody>\n",
              "</table>\n",
              "</div>"
            ],
            "text/plain": [
              "      id                                        event_title  \\\n",
              "0  34334  VCI - Trả cổ tức Cả năm, 2017 bằng tiền 1000 V...   \n",
              "1  34336  VCI - Trả cổ tức Đợt 1, 2018 bằng tiền 700 VND/CP   \n",
              "2  34337  VCI - Trả cổ tức Đợt 2, 2018 bằng tiền 700 VND/CP   \n",
              "3  34339  VCI - Trả cổ tức Cả năm, 2019 bằng tiền 1500 V...   \n",
              "4  34341  VCI - Trả cổ tức Đợt 1, 2020 bằng tiền 1000 VN...   \n",
              "\n",
              "                                     en__event_title public_date  issue_date  \\\n",
              "0  VCI - Pays Year, 2017 cash dividend at VND1000...  2018-06-29  2018-07-27   \n",
              "1  VCI - Pays Interim 1, 2018 cash dividend at VN...  2019-01-18  2019-02-14   \n",
              "2  VCI - Pays Interim 2, 2018 cash dividend at VN...  2019-05-04  2019-06-03   \n",
              "3  VCI - Pays Year, 2019 cash dividend at VND1500...  2020-07-07  2020-08-03   \n",
              "4  VCI - Pays Interim 1, 2020 cash dividend at VN...  2020-12-15  2020-12-31   \n",
              "\n",
              "                                          source_url event_list_code  ratio  \\\n",
              "0  http://cmsv5.stoxplus.com/medialib/Crawler/201...             DIV   0.10   \n",
              "1  http://cmsv5.stoxplus.com/medialib/Crawler/201...             DIV   0.07   \n",
              "2  http://cmsv5.stoxplus.com/medialib/Crawler/201...             DIV   0.07   \n",
              "3  http://fiinpro.com/News/Detail/5329014?lang=vi-VN             DIV   0.15   \n",
              "4  http://fiinpro.com/News/Detail/6417706?lang=vi-VN             DIV   0.10   \n",
              "\n",
              "    value record_date exright_date           event_list_name  \\\n",
              "0  1000.0  2018-07-11   2018-07-10  Trả cổ tức bằng tiền mặt   \n",
              "1   700.0  2019-01-28   2019-01-25  Trả cổ tức bằng tiền mặt   \n",
              "2   700.0  2019-05-17   2019-05-16  Trả cổ tức bằng tiền mặt   \n",
              "3  1500.0  2020-07-17   2020-07-16  Trả cổ tức bằng tiền mặt   \n",
              "4  1000.0  2020-12-23   2020-12-22  Trả cổ tức bằng tiền mặt   \n",
              "\n",
              "  en__event_list_name  \n",
              "0       Cash Dividend  \n",
              "1       Cash Dividend  \n",
              "2       Cash Dividend  \n",
              "3       Cash Dividend  \n",
              "4       Cash Dividend  "
            ]
          },
          "metadata": {},
          "output_type": "display_data"
        }
      ],
      "source": [
        "print(\"=== Company.overview ===\")\n",
        "c = Company(source=\"vci\", symbol=\"VCI\", random_agent=False, show_log=False)\n",
        "df_ov = c.overview()\n",
        "display(df_ov.head())\n",
        "\n",
        "print(\"\\n=== Company.shareholders ===\")\n",
        "df_sh = c.shareholders()\n",
        "display(df_sh.head())\n",
        "\n",
        "print(\"\\n=== Company.officers ===\")\n",
        "df_of = c.officers(filter_by=\"all\")\n",
        "display(df_of.head())\n",
        "\n",
        "print(\"\\n=== Company.subsidiaries ===\")\n",
        "df_sub = c.subsidiaries(filter_by=\"all\")\n",
        "display(df_sub.head())\n",
        "\n",
        "print(\"\\n=== Company.news ===\")\n",
        "df_news = c.news()\n",
        "display(df_news.head())\n",
        "\n",
        "print(\"\\n=== Company.events ===\")\n",
        "df_evt = c.events()\n",
        "display(df_evt.head())"
      ]
    },
    {
      "cell_type": "markdown",
      "metadata": {
        "id": "ymtEb1MAL0B1"
      },
      "source": [
        "# Macro"
      ]
    },
    {
      "cell_type": "code",
      "execution_count": null,
      "metadata": {
        "id": "QaZfjAqBL0B1"
      },
      "outputs": [],
      "source": [
        "from vnstock_data import Macro\n",
        "macro = Macro(source=\"mbk\", random_agent=False, show_log=False)"
      ]
    },
    {
      "cell_type": "code",
      "execution_count": null,
      "metadata": {
        "id": "4ri_h-YBL0B1",
        "outputId": "0506b3ca-083a-4ae9-dfb9-0b620bcf7c15"
      },
      "outputs": [
        {
          "name": "stdout",
          "output_type": "stream",
          "text": [
            "=== Macro.gdp ===\n"
          ]
        },
        {
          "data": {
            "application/vnd.microsoft.datawrangler.viewer.v0+json": {
              "columns": [
                {
                  "name": "report_time",
                  "rawType": "object",
                  "type": "string"
                },
                {
                  "name": "last_updated",
                  "rawType": "object",
                  "type": "string"
                },
                {
                  "name": "group_name",
                  "rawType": "object",
                  "type": "string"
                },
                {
                  "name": "name",
                  "rawType": "object",
                  "type": "string"
                },
                {
                  "name": "value",
                  "rawType": "float64",
                  "type": "float"
                },
                {
                  "name": "unit",
                  "rawType": "object",
                  "type": "string"
                },
                {
                  "name": "source",
                  "rawType": "object",
                  "type": "string"
                },
                {
                  "name": "report_type",
                  "rawType": "object",
                  "type": "string"
                }
              ],
              "ref": "92bab86a-ccd0-442e-955c-314e077225a0",
              "rows": [
                [
                  "2015-03-01",
                  "2015-03-25",
                  "Cơ cấu GDP  theo giá hiện tại",
                  "Công nghiệp",
                  "34.8",
                  "%",
                  "Tổng cục thống kê",
                  "Quý 1"
                ],
                [
                  "2015-03-01",
                  "2015-03-25",
                  "Cơ cấu GDP  theo giá hiện tại",
                  "Dịch vụ",
                  "42.23",
                  "%",
                  "Tổng cục thống kê",
                  "Quý 1"
                ],
                [
                  "2015-03-01",
                  "2015-03-25",
                  "Cơ cấu GDP  theo giá hiện tại",
                  "Nông nghiệp",
                  "12.35",
                  "%",
                  "Tổng cục thống kê",
                  "Quý 1"
                ],
                [
                  "2015-03-01",
                  "2015-03-25",
                  "Giá trị GDP (2010)",
                  "Công nghiệp",
                  "184644.0",
                  "Tỷ VNĐ",
                  null,
                  "Quý 1"
                ],
                [
                  "2015-03-01",
                  "2015-03-25",
                  "Giá trị GDP (2010)",
                  "Dịch vụ",
                  "216604.0",
                  "Tỷ VNĐ",
                  null,
                  "Quý 1"
                ]
              ],
              "shape": {
                "columns": 7,
                "rows": 5
              }
            },
            "text/html": [
              "<div>\n",
              "<style scoped>\n",
              "    .dataframe tbody tr th:only-of-type {\n",
              "        vertical-align: middle;\n",
              "    }\n",
              "\n",
              "    .dataframe tbody tr th {\n",
              "        vertical-align: top;\n",
              "    }\n",
              "\n",
              "    .dataframe thead th {\n",
              "        text-align: right;\n",
              "    }\n",
              "</style>\n",
              "<table border=\"1\" class=\"dataframe\">\n",
              "  <thead>\n",
              "    <tr style=\"text-align: right;\">\n",
              "      <th></th>\n",
              "      <th>last_updated</th>\n",
              "      <th>group_name</th>\n",
              "      <th>name</th>\n",
              "      <th>value</th>\n",
              "      <th>unit</th>\n",
              "      <th>source</th>\n",
              "      <th>report_type</th>\n",
              "    </tr>\n",
              "    <tr>\n",
              "      <th>report_time</th>\n",
              "      <th></th>\n",
              "      <th></th>\n",
              "      <th></th>\n",
              "      <th></th>\n",
              "      <th></th>\n",
              "      <th></th>\n",
              "      <th></th>\n",
              "    </tr>\n",
              "  </thead>\n",
              "  <tbody>\n",
              "    <tr>\n",
              "      <th>2015-03-01</th>\n",
              "      <td>2015-03-25</td>\n",
              "      <td>Cơ cấu GDP  theo giá hiện tại</td>\n",
              "      <td>Công nghiệp</td>\n",
              "      <td>34.80</td>\n",
              "      <td>%</td>\n",
              "      <td>Tổng cục thống kê</td>\n",
              "      <td>Quý 1</td>\n",
              "    </tr>\n",
              "    <tr>\n",
              "      <th>2015-03-01</th>\n",
              "      <td>2015-03-25</td>\n",
              "      <td>Cơ cấu GDP  theo giá hiện tại</td>\n",
              "      <td>Dịch vụ</td>\n",
              "      <td>42.23</td>\n",
              "      <td>%</td>\n",
              "      <td>Tổng cục thống kê</td>\n",
              "      <td>Quý 1</td>\n",
              "    </tr>\n",
              "    <tr>\n",
              "      <th>2015-03-01</th>\n",
              "      <td>2015-03-25</td>\n",
              "      <td>Cơ cấu GDP  theo giá hiện tại</td>\n",
              "      <td>Nông nghiệp</td>\n",
              "      <td>12.35</td>\n",
              "      <td>%</td>\n",
              "      <td>Tổng cục thống kê</td>\n",
              "      <td>Quý 1</td>\n",
              "    </tr>\n",
              "    <tr>\n",
              "      <th>2015-03-01</th>\n",
              "      <td>2015-03-25</td>\n",
              "      <td>Giá trị GDP (2010)</td>\n",
              "      <td>Công nghiệp</td>\n",
              "      <td>184644.00</td>\n",
              "      <td>Tỷ VNĐ</td>\n",
              "      <td>None</td>\n",
              "      <td>Quý 1</td>\n",
              "    </tr>\n",
              "    <tr>\n",
              "      <th>2015-03-01</th>\n",
              "      <td>2015-03-25</td>\n",
              "      <td>Giá trị GDP (2010)</td>\n",
              "      <td>Dịch vụ</td>\n",
              "      <td>216604.00</td>\n",
              "      <td>Tỷ VNĐ</td>\n",
              "      <td>None</td>\n",
              "      <td>Quý 1</td>\n",
              "    </tr>\n",
              "  </tbody>\n",
              "</table>\n",
              "</div>"
            ],
            "text/plain": [
              "            last_updated                     group_name         name  \\\n",
              "report_time                                                            \n",
              "2015-03-01    2015-03-25  Cơ cấu GDP  theo giá hiện tại  Công nghiệp   \n",
              "2015-03-01    2015-03-25  Cơ cấu GDP  theo giá hiện tại      Dịch vụ   \n",
              "2015-03-01    2015-03-25  Cơ cấu GDP  theo giá hiện tại  Nông nghiệp   \n",
              "2015-03-01    2015-03-25             Giá trị GDP (2010)  Công nghiệp   \n",
              "2015-03-01    2015-03-25             Giá trị GDP (2010)      Dịch vụ   \n",
              "\n",
              "                 value    unit             source report_type  \n",
              "report_time                                                    \n",
              "2015-03-01       34.80       %  Tổng cục thống kê       Quý 1  \n",
              "2015-03-01       42.23       %  Tổng cục thống kê       Quý 1  \n",
              "2015-03-01       12.35       %  Tổng cục thống kê       Quý 1  \n",
              "2015-03-01   184644.00  Tỷ VNĐ               None       Quý 1  \n",
              "2015-03-01   216604.00  Tỷ VNĐ               None       Quý 1  "
            ]
          },
          "execution_count": 19,
          "metadata": {},
          "output_type": "execute_result"
        }
      ],
      "source": [
        "print(\"=== Macro.gdp ===\")\n",
        "df_gdp = macro.gdp(start=\"2015-01\", end=\"2025-04\", period=\"quarter\", keep_label=False)\n",
        "df_gdp.head()"
      ]
    },
    {
      "cell_type": "code",
      "execution_count": null,
      "metadata": {
        "id": "PNovkClgL0B1",
        "outputId": "e9555302-e02f-41d7-cd87-1d7759b91ae8"
      },
      "outputs": [
        {
          "name": "stdout",
          "output_type": "stream",
          "text": [
            "=== Macro.cpi ===\n"
          ]
        },
        {
          "data": {
            "application/vnd.microsoft.datawrangler.viewer.v0+json": {
              "columns": [
                {
                  "name": "report_time",
                  "rawType": "object",
                  "type": "string"
                },
                {
                  "name": "last_updated",
                  "rawType": "object",
                  "type": "string"
                },
                {
                  "name": "name",
                  "rawType": "object",
                  "type": "string"
                },
                {
                  "name": "value",
                  "rawType": "float64",
                  "type": "float"
                },
                {
                  "name": "unit",
                  "rawType": "object",
                  "type": "string"
                },
                {
                  "name": "source",
                  "rawType": "object",
                  "type": "string"
                }
              ],
              "ref": "d3723b12-1413-4f24-9c6d-29355431dc84",
              "rows": [
                [
                  "2015-01-31",
                  "2015-01-23",
                  "Chỉ số giá tiêu dùng",
                  "-0.2",
                  "%",
                  "Tổng cục thống kê"
                ],
                [
                  "2015-01-31",
                  "2015-01-23",
                  "Đồ dùng và dịch vụ khác",
                  "0.53",
                  "%",
                  "Tổng cục thống kê"
                ],
                [
                  "2015-01-31",
                  "2015-01-23",
                  "Văn hóa, giải trí và du lịch",
                  "0.13",
                  "%",
                  "Tổng cục thống kê"
                ],
                [
                  "2015-01-31",
                  "2015-01-23",
                  "Giáo dục",
                  "0.08",
                  "%",
                  "Tổng cục thống kê"
                ],
                [
                  "2015-01-31",
                  "2015-01-23",
                  "Bưu chính viễn thông",
                  "-0.07",
                  "%",
                  "Tổng cục thống kê"
                ]
              ],
              "shape": {
                "columns": 5,
                "rows": 5
              }
            },
            "text/html": [
              "<div>\n",
              "<style scoped>\n",
              "    .dataframe tbody tr th:only-of-type {\n",
              "        vertical-align: middle;\n",
              "    }\n",
              "\n",
              "    .dataframe tbody tr th {\n",
              "        vertical-align: top;\n",
              "    }\n",
              "\n",
              "    .dataframe thead th {\n",
              "        text-align: right;\n",
              "    }\n",
              "</style>\n",
              "<table border=\"1\" class=\"dataframe\">\n",
              "  <thead>\n",
              "    <tr style=\"text-align: right;\">\n",
              "      <th></th>\n",
              "      <th>last_updated</th>\n",
              "      <th>name</th>\n",
              "      <th>value</th>\n",
              "      <th>unit</th>\n",
              "      <th>source</th>\n",
              "    </tr>\n",
              "    <tr>\n",
              "      <th>report_time</th>\n",
              "      <th></th>\n",
              "      <th></th>\n",
              "      <th></th>\n",
              "      <th></th>\n",
              "      <th></th>\n",
              "    </tr>\n",
              "  </thead>\n",
              "  <tbody>\n",
              "    <tr>\n",
              "      <th>2015-01-31</th>\n",
              "      <td>2015-01-23</td>\n",
              "      <td>Chỉ số giá tiêu dùng</td>\n",
              "      <td>-0.20</td>\n",
              "      <td>%</td>\n",
              "      <td>Tổng cục thống kê</td>\n",
              "    </tr>\n",
              "    <tr>\n",
              "      <th>2015-01-31</th>\n",
              "      <td>2015-01-23</td>\n",
              "      <td>Đồ dùng và dịch vụ khác</td>\n",
              "      <td>0.53</td>\n",
              "      <td>%</td>\n",
              "      <td>Tổng cục thống kê</td>\n",
              "    </tr>\n",
              "    <tr>\n",
              "      <th>2015-01-31</th>\n",
              "      <td>2015-01-23</td>\n",
              "      <td>Văn hóa, giải trí và du lịch</td>\n",
              "      <td>0.13</td>\n",
              "      <td>%</td>\n",
              "      <td>Tổng cục thống kê</td>\n",
              "    </tr>\n",
              "    <tr>\n",
              "      <th>2015-01-31</th>\n",
              "      <td>2015-01-23</td>\n",
              "      <td>Giáo dục</td>\n",
              "      <td>0.08</td>\n",
              "      <td>%</td>\n",
              "      <td>Tổng cục thống kê</td>\n",
              "    </tr>\n",
              "    <tr>\n",
              "      <th>2015-01-31</th>\n",
              "      <td>2015-01-23</td>\n",
              "      <td>Bưu chính viễn thông</td>\n",
              "      <td>-0.07</td>\n",
              "      <td>%</td>\n",
              "      <td>Tổng cục thống kê</td>\n",
              "    </tr>\n",
              "  </tbody>\n",
              "</table>\n",
              "</div>"
            ],
            "text/plain": [
              "            last_updated                          name  value unit  \\\n",
              "report_time                                                          \n",
              "2015-01-31    2015-01-23          Chỉ số giá tiêu dùng  -0.20    %   \n",
              "2015-01-31    2015-01-23       Đồ dùng và dịch vụ khác   0.53    %   \n",
              "2015-01-31    2015-01-23  Văn hóa, giải trí và du lịch   0.13    %   \n",
              "2015-01-31    2015-01-23                      Giáo dục   0.08    %   \n",
              "2015-01-31    2015-01-23          Bưu chính viễn thông  -0.07    %   \n",
              "\n",
              "                        source  \n",
              "report_time                     \n",
              "2015-01-31   Tổng cục thống kê  \n",
              "2015-01-31   Tổng cục thống kê  \n",
              "2015-01-31   Tổng cục thống kê  \n",
              "2015-01-31   Tổng cục thống kê  \n",
              "2015-01-31   Tổng cục thống kê  "
            ]
          },
          "execution_count": 20,
          "metadata": {},
          "output_type": "execute_result"
        }
      ],
      "source": [
        "print(\"=== Macro.cpi ===\")\n",
        "df_cpi = macro.cpi(start=\"2015-01\", end=\"2025-04\", period=\"month\")\n",
        "df_cpi.head()"
      ]
    },
    {
      "cell_type": "code",
      "execution_count": null,
      "metadata": {
        "id": "5DYWHrRLL0B1",
        "outputId": "4346be1d-b4ff-4cc0-90f2-7150a3c72327"
      },
      "outputs": [
        {
          "name": "stdout",
          "output_type": "stream",
          "text": [
            "=== Macro.industry_prod ===\n"
          ]
        },
        {
          "data": {
            "application/vnd.microsoft.datawrangler.viewer.v0+json": {
              "columns": [
                {
                  "name": "report_time",
                  "rawType": "object",
                  "type": "string"
                },
                {
                  "name": "last_updated",
                  "rawType": "object",
                  "type": "string"
                },
                {
                  "name": "group_name",
                  "rawType": "object",
                  "type": "string"
                },
                {
                  "name": "name",
                  "rawType": "object",
                  "type": "string"
                },
                {
                  "name": "value",
                  "rawType": "float64",
                  "type": "float"
                },
                {
                  "name": "unit",
                  "rawType": "object",
                  "type": "string"
                },
                {
                  "name": "source",
                  "rawType": "object",
                  "type": "string"
                }
              ],
              "ref": "ada7b9d3-a1a3-4d13-8ce9-0075ecf947b3",
              "rows": [
                [
                  "2015-01-31",
                  "2015-12-08",
                  "Tăng trưởng",
                  "Toàn ngành công nghiệp",
                  "-2.8",
                  "%",
                  null
                ],
                [
                  "2015-01-31",
                  "2015-12-08",
                  "Tăng trưởng",
                  "Cung cấp nước, hoạt động quản lý và xử lý rác thải, nước thải",
                  "1.1",
                  "%",
                  null
                ],
                [
                  "2015-01-31",
                  "2015-12-08",
                  "Tăng trưởng",
                  "Khai khoáng",
                  "-2.3",
                  "%",
                  null
                ],
                [
                  "2015-01-31",
                  "2015-12-08",
                  "Tăng trưởng",
                  "Công nghiệp chế biến, chế tạo",
                  "-3.3",
                  "%",
                  null
                ],
                [
                  "2015-01-31",
                  "2015-12-08",
                  "Tăng trưởng",
                  "Sản xuất và Phân phối điện",
                  "0.5",
                  "%",
                  null
                ]
              ],
              "shape": {
                "columns": 6,
                "rows": 5
              }
            },
            "text/html": [
              "<div>\n",
              "<style scoped>\n",
              "    .dataframe tbody tr th:only-of-type {\n",
              "        vertical-align: middle;\n",
              "    }\n",
              "\n",
              "    .dataframe tbody tr th {\n",
              "        vertical-align: top;\n",
              "    }\n",
              "\n",
              "    .dataframe thead th {\n",
              "        text-align: right;\n",
              "    }\n",
              "</style>\n",
              "<table border=\"1\" class=\"dataframe\">\n",
              "  <thead>\n",
              "    <tr style=\"text-align: right;\">\n",
              "      <th></th>\n",
              "      <th>last_updated</th>\n",
              "      <th>group_name</th>\n",
              "      <th>name</th>\n",
              "      <th>value</th>\n",
              "      <th>unit</th>\n",
              "      <th>source</th>\n",
              "    </tr>\n",
              "    <tr>\n",
              "      <th>report_time</th>\n",
              "      <th></th>\n",
              "      <th></th>\n",
              "      <th></th>\n",
              "      <th></th>\n",
              "      <th></th>\n",
              "      <th></th>\n",
              "    </tr>\n",
              "  </thead>\n",
              "  <tbody>\n",
              "    <tr>\n",
              "      <th>2015-01-31</th>\n",
              "      <td>2015-12-08</td>\n",
              "      <td>Tăng trưởng</td>\n",
              "      <td>Toàn ngành công nghiệp</td>\n",
              "      <td>-2.8</td>\n",
              "      <td>%</td>\n",
              "      <td>None</td>\n",
              "    </tr>\n",
              "    <tr>\n",
              "      <th>2015-01-31</th>\n",
              "      <td>2015-12-08</td>\n",
              "      <td>Tăng trưởng</td>\n",
              "      <td>Cung cấp nước, hoạt động quản lý và xử lý rác ...</td>\n",
              "      <td>1.1</td>\n",
              "      <td>%</td>\n",
              "      <td>None</td>\n",
              "    </tr>\n",
              "    <tr>\n",
              "      <th>2015-01-31</th>\n",
              "      <td>2015-12-08</td>\n",
              "      <td>Tăng trưởng</td>\n",
              "      <td>Khai khoáng</td>\n",
              "      <td>-2.3</td>\n",
              "      <td>%</td>\n",
              "      <td>None</td>\n",
              "    </tr>\n",
              "    <tr>\n",
              "      <th>2015-01-31</th>\n",
              "      <td>2015-12-08</td>\n",
              "      <td>Tăng trưởng</td>\n",
              "      <td>Công nghiệp chế biến, chế tạo</td>\n",
              "      <td>-3.3</td>\n",
              "      <td>%</td>\n",
              "      <td>None</td>\n",
              "    </tr>\n",
              "    <tr>\n",
              "      <th>2015-01-31</th>\n",
              "      <td>2015-12-08</td>\n",
              "      <td>Tăng trưởng</td>\n",
              "      <td>Sản xuất và Phân phối điện</td>\n",
              "      <td>0.5</td>\n",
              "      <td>%</td>\n",
              "      <td>None</td>\n",
              "    </tr>\n",
              "  </tbody>\n",
              "</table>\n",
              "</div>"
            ],
            "text/plain": [
              "            last_updated   group_name  \\\n",
              "report_time                             \n",
              "2015-01-31    2015-12-08  Tăng trưởng   \n",
              "2015-01-31    2015-12-08  Tăng trưởng   \n",
              "2015-01-31    2015-12-08  Tăng trưởng   \n",
              "2015-01-31    2015-12-08  Tăng trưởng   \n",
              "2015-01-31    2015-12-08  Tăng trưởng   \n",
              "\n",
              "                                                          name  value unit  \\\n",
              "report_time                                                                  \n",
              "2015-01-31                              Toàn ngành công nghiệp   -2.8    %   \n",
              "2015-01-31   Cung cấp nước, hoạt động quản lý và xử lý rác ...    1.1    %   \n",
              "2015-01-31                                         Khai khoáng   -2.3    %   \n",
              "2015-01-31                       Công nghiệp chế biến, chế tạo   -3.3    %   \n",
              "2015-01-31                          Sản xuất và Phân phối điện    0.5    %   \n",
              "\n",
              "            source  \n",
              "report_time         \n",
              "2015-01-31    None  \n",
              "2015-01-31    None  \n",
              "2015-01-31    None  \n",
              "2015-01-31    None  \n",
              "2015-01-31    None  "
            ]
          },
          "execution_count": 21,
          "metadata": {},
          "output_type": "execute_result"
        }
      ],
      "source": [
        "print(\"=== Macro.industry_prod ===\")\n",
        "df_ip = macro.industry_prod(start=\"2015-01\", end=\"2025-04\", period=\"month\")\n",
        "df_ip.head()"
      ]
    },
    {
      "cell_type": "code",
      "execution_count": null,
      "metadata": {
        "id": "58tJm-bPL0B1",
        "outputId": "4a26b79e-455c-4091-ea69-f3eb3203c182"
      },
      "outputs": [
        {
          "name": "stdout",
          "output_type": "stream",
          "text": [
            "=== Macro.import_export ===\n"
          ]
        },
        {
          "data": {
            "application/vnd.microsoft.datawrangler.viewer.v0+json": {
              "columns": [
                {
                  "name": "report_time",
                  "rawType": "object",
                  "type": "string"
                },
                {
                  "name": "last_updated",
                  "rawType": "object",
                  "type": "string"
                },
                {
                  "name": "name",
                  "rawType": "object",
                  "type": "string"
                },
                {
                  "name": "value",
                  "rawType": "float64",
                  "type": "float"
                },
                {
                  "name": "unit",
                  "rawType": "object",
                  "type": "string"
                },
                {
                  "name": "source",
                  "rawType": "object",
                  "type": "string"
                }
              ],
              "ref": "9c549652-fad7-4d6b-9750-450fca08f571",
              "rows": [
                [
                  "2015-01-31",
                  "2017-11-28",
                  "Tổng trị giá Nhập khẩu",
                  "13400.0",
                  "Triệu USD",
                  "Tổng cục thống kê"
                ],
                [
                  "2015-01-31",
                  "2015-06-24",
                  "Máy móc thiết bị",
                  "664.0",
                  "Triệu USD",
                  "Tổng cục thống kê"
                ],
                [
                  "2015-01-31",
                  "2015-06-24",
                  "Điện tử máy tính",
                  "1274.0",
                  "Triệu USD",
                  "Tổng cục thống kê"
                ],
                [
                  "2015-01-31",
                  "2017-11-28",
                  "Thức ăn gia súc",
                  "270.0",
                  "Triệu USD",
                  "Tổng cục thống kê"
                ],
                [
                  "2015-01-31",
                  "2015-06-24",
                  "Café",
                  "281.0",
                  "Triệu USD",
                  "Tổng cục thống kê"
                ]
              ],
              "shape": {
                "columns": 5,
                "rows": 5
              }
            },
            "text/html": [
              "<div>\n",
              "<style scoped>\n",
              "    .dataframe tbody tr th:only-of-type {\n",
              "        vertical-align: middle;\n",
              "    }\n",
              "\n",
              "    .dataframe tbody tr th {\n",
              "        vertical-align: top;\n",
              "    }\n",
              "\n",
              "    .dataframe thead th {\n",
              "        text-align: right;\n",
              "    }\n",
              "</style>\n",
              "<table border=\"1\" class=\"dataframe\">\n",
              "  <thead>\n",
              "    <tr style=\"text-align: right;\">\n",
              "      <th></th>\n",
              "      <th>last_updated</th>\n",
              "      <th>name</th>\n",
              "      <th>value</th>\n",
              "      <th>unit</th>\n",
              "      <th>source</th>\n",
              "    </tr>\n",
              "    <tr>\n",
              "      <th>report_time</th>\n",
              "      <th></th>\n",
              "      <th></th>\n",
              "      <th></th>\n",
              "      <th></th>\n",
              "      <th></th>\n",
              "    </tr>\n",
              "  </thead>\n",
              "  <tbody>\n",
              "    <tr>\n",
              "      <th>2015-01-31</th>\n",
              "      <td>2017-11-28</td>\n",
              "      <td>Tổng trị giá Nhập khẩu</td>\n",
              "      <td>13400.0</td>\n",
              "      <td>Triệu USD</td>\n",
              "      <td>Tổng cục thống kê</td>\n",
              "    </tr>\n",
              "    <tr>\n",
              "      <th>2015-01-31</th>\n",
              "      <td>2015-06-24</td>\n",
              "      <td>Máy móc thiết bị</td>\n",
              "      <td>664.0</td>\n",
              "      <td>Triệu USD</td>\n",
              "      <td>Tổng cục thống kê</td>\n",
              "    </tr>\n",
              "    <tr>\n",
              "      <th>2015-01-31</th>\n",
              "      <td>2015-06-24</td>\n",
              "      <td>Điện tử máy tính</td>\n",
              "      <td>1274.0</td>\n",
              "      <td>Triệu USD</td>\n",
              "      <td>Tổng cục thống kê</td>\n",
              "    </tr>\n",
              "    <tr>\n",
              "      <th>2015-01-31</th>\n",
              "      <td>2017-11-28</td>\n",
              "      <td>Thức ăn gia súc</td>\n",
              "      <td>270.0</td>\n",
              "      <td>Triệu USD</td>\n",
              "      <td>Tổng cục thống kê</td>\n",
              "    </tr>\n",
              "    <tr>\n",
              "      <th>2015-01-31</th>\n",
              "      <td>2015-06-24</td>\n",
              "      <td>Café</td>\n",
              "      <td>281.0</td>\n",
              "      <td>Triệu USD</td>\n",
              "      <td>Tổng cục thống kê</td>\n",
              "    </tr>\n",
              "  </tbody>\n",
              "</table>\n",
              "</div>"
            ],
            "text/plain": [
              "            last_updated                    name    value       unit  \\\n",
              "report_time                                                            \n",
              "2015-01-31    2017-11-28  Tổng trị giá Nhập khẩu  13400.0  Triệu USD   \n",
              "2015-01-31    2015-06-24        Máy móc thiết bị    664.0  Triệu USD   \n",
              "2015-01-31    2015-06-24        Điện tử máy tính   1274.0  Triệu USD   \n",
              "2015-01-31    2017-11-28         Thức ăn gia súc    270.0  Triệu USD   \n",
              "2015-01-31    2015-06-24                    Café    281.0  Triệu USD   \n",
              "\n",
              "                        source  \n",
              "report_time                     \n",
              "2015-01-31   Tổng cục thống kê  \n",
              "2015-01-31   Tổng cục thống kê  \n",
              "2015-01-31   Tổng cục thống kê  \n",
              "2015-01-31   Tổng cục thống kê  \n",
              "2015-01-31   Tổng cục thống kê  "
            ]
          },
          "execution_count": 22,
          "metadata": {},
          "output_type": "execute_result"
        }
      ],
      "source": [
        "print(\"=== Macro.import_export ===\")\n",
        "df_ie = macro.import_export(start=\"2015-01\", end=\"2025-04\", period=\"month\")\n",
        "df_ie.head()"
      ]
    },
    {
      "cell_type": "code",
      "execution_count": null,
      "metadata": {
        "id": "gyo1WBItL0B1",
        "outputId": "e652220a-05dd-48ed-bf9e-a7fcc3ecbb73"
      },
      "outputs": [
        {
          "name": "stdout",
          "output_type": "stream",
          "text": [
            "=== Macro.retail ===\n"
          ]
        },
        {
          "data": {
            "application/vnd.microsoft.datawrangler.viewer.v0+json": {
              "columns": [
                {
                  "name": "report_time",
                  "rawType": "object",
                  "type": "string"
                },
                {
                  "name": "last_updated",
                  "rawType": "object",
                  "type": "string"
                },
                {
                  "name": "name",
                  "rawType": "object",
                  "type": "string"
                },
                {
                  "name": "value",
                  "rawType": "float64",
                  "type": "float"
                },
                {
                  "name": "unit",
                  "rawType": "object",
                  "type": "string"
                },
                {
                  "name": "source",
                  "rawType": "object",
                  "type": "string"
                }
              ],
              "ref": "8e6d2c79-4b87-4638-8b52-4ea2a9ba6d53",
              "rows": [
                [
                  "2015-01-31",
                  "2015-01-27",
                  "Tổng",
                  "275454.2",
                  "Tỷ VNĐ",
                  "Tổng cục thống kê"
                ],
                [
                  "2015-01-31",
                  "2015-01-27",
                  "Dịch vụ",
                  "30761.3",
                  "Tỷ VNĐ",
                  "Tổng cục thống kê"
                ],
                [
                  "2015-01-31",
                  "2015-01-27",
                  "Thương nghiệp",
                  "211431.4",
                  "Tỷ VNĐ",
                  "Tổng cục thống kê"
                ],
                [
                  "2015-01-31",
                  "2015-01-27",
                  "Khách sạn nhà hàng",
                  "31023.5",
                  "Tỷ VNĐ",
                  "Tổng cục thống kê"
                ],
                [
                  "2015-01-31",
                  "2015-01-27",
                  "Du lịch",
                  "2238.0",
                  "Tỷ VNĐ",
                  "Tổng cục thống kê"
                ]
              ],
              "shape": {
                "columns": 5,
                "rows": 5
              }
            },
            "text/html": [
              "<div>\n",
              "<style scoped>\n",
              "    .dataframe tbody tr th:only-of-type {\n",
              "        vertical-align: middle;\n",
              "    }\n",
              "\n",
              "    .dataframe tbody tr th {\n",
              "        vertical-align: top;\n",
              "    }\n",
              "\n",
              "    .dataframe thead th {\n",
              "        text-align: right;\n",
              "    }\n",
              "</style>\n",
              "<table border=\"1\" class=\"dataframe\">\n",
              "  <thead>\n",
              "    <tr style=\"text-align: right;\">\n",
              "      <th></th>\n",
              "      <th>last_updated</th>\n",
              "      <th>name</th>\n",
              "      <th>value</th>\n",
              "      <th>unit</th>\n",
              "      <th>source</th>\n",
              "    </tr>\n",
              "    <tr>\n",
              "      <th>report_time</th>\n",
              "      <th></th>\n",
              "      <th></th>\n",
              "      <th></th>\n",
              "      <th></th>\n",
              "      <th></th>\n",
              "    </tr>\n",
              "  </thead>\n",
              "  <tbody>\n",
              "    <tr>\n",
              "      <th>2015-01-31</th>\n",
              "      <td>2015-01-27</td>\n",
              "      <td>Tổng</td>\n",
              "      <td>275454.2</td>\n",
              "      <td>Tỷ VNĐ</td>\n",
              "      <td>Tổng cục thống kê</td>\n",
              "    </tr>\n",
              "    <tr>\n",
              "      <th>2015-01-31</th>\n",
              "      <td>2015-01-27</td>\n",
              "      <td>Dịch vụ</td>\n",
              "      <td>30761.3</td>\n",
              "      <td>Tỷ VNĐ</td>\n",
              "      <td>Tổng cục thống kê</td>\n",
              "    </tr>\n",
              "    <tr>\n",
              "      <th>2015-01-31</th>\n",
              "      <td>2015-01-27</td>\n",
              "      <td>Thương nghiệp</td>\n",
              "      <td>211431.4</td>\n",
              "      <td>Tỷ VNĐ</td>\n",
              "      <td>Tổng cục thống kê</td>\n",
              "    </tr>\n",
              "    <tr>\n",
              "      <th>2015-01-31</th>\n",
              "      <td>2015-01-27</td>\n",
              "      <td>Khách sạn nhà hàng</td>\n",
              "      <td>31023.5</td>\n",
              "      <td>Tỷ VNĐ</td>\n",
              "      <td>Tổng cục thống kê</td>\n",
              "    </tr>\n",
              "    <tr>\n",
              "      <th>2015-01-31</th>\n",
              "      <td>2015-01-27</td>\n",
              "      <td>Du lịch</td>\n",
              "      <td>2238.0</td>\n",
              "      <td>Tỷ VNĐ</td>\n",
              "      <td>Tổng cục thống kê</td>\n",
              "    </tr>\n",
              "  </tbody>\n",
              "</table>\n",
              "</div>"
            ],
            "text/plain": [
              "            last_updated                name     value    unit  \\\n",
              "report_time                                                      \n",
              "2015-01-31    2015-01-27                Tổng  275454.2  Tỷ VNĐ   \n",
              "2015-01-31    2015-01-27             Dịch vụ   30761.3  Tỷ VNĐ   \n",
              "2015-01-31    2015-01-27       Thương nghiệp  211431.4  Tỷ VNĐ   \n",
              "2015-01-31    2015-01-27  Khách sạn nhà hàng   31023.5  Tỷ VNĐ   \n",
              "2015-01-31    2015-01-27             Du lịch    2238.0  Tỷ VNĐ   \n",
              "\n",
              "                        source  \n",
              "report_time                     \n",
              "2015-01-31   Tổng cục thống kê  \n",
              "2015-01-31   Tổng cục thống kê  \n",
              "2015-01-31   Tổng cục thống kê  \n",
              "2015-01-31   Tổng cục thống kê  \n",
              "2015-01-31   Tổng cục thống kê  "
            ]
          },
          "execution_count": 23,
          "metadata": {},
          "output_type": "execute_result"
        }
      ],
      "source": [
        "print(\"=== Macro.retail ===\")\n",
        "df_retail = macro.retail(start=\"2015-01\", end=\"2025-04\", period=\"month\")\n",
        "df_retail.head()"
      ]
    },
    {
      "cell_type": "code",
      "execution_count": null,
      "metadata": {
        "id": "hn-idazJL0B1",
        "outputId": "de98112e-92b6-469c-c54d-760010076b4d"
      },
      "outputs": [
        {
          "name": "stdout",
          "output_type": "stream",
          "text": [
            "=== Macro.fdi ===\n"
          ]
        },
        {
          "data": {
            "application/vnd.microsoft.datawrangler.viewer.v0+json": {
              "columns": [
                {
                  "name": "report_time",
                  "rawType": "object",
                  "type": "string"
                },
                {
                  "name": "last_updated",
                  "rawType": "object",
                  "type": "string"
                },
                {
                  "name": "group_name",
                  "rawType": "object",
                  "type": "string"
                },
                {
                  "name": "name",
                  "rawType": "object",
                  "type": "string"
                },
                {
                  "name": "value",
                  "rawType": "float64",
                  "type": "float"
                },
                {
                  "name": "unit",
                  "rawType": "object",
                  "type": "string"
                },
                {
                  "name": "source",
                  "rawType": "object",
                  "type": "string"
                }
              ],
              "ref": "c64a3c28-f847-4e52-8571-2393b92f28a9",
              "rows": [
                [
                  "2015-01-31",
                  "2015-02-02",
                  "Tổng FDI",
                  "Đăng ký",
                  "0.66",
                  "Tỷ USD",
                  "Cục Đầu tư nước ngoài"
                ],
                [
                  "2015-01-31",
                  "2015-02-02",
                  "Tổng FDI",
                  "Giải ngân",
                  "0.5",
                  "Tỷ USD",
                  "Cục Đầu tư nước ngoài"
                ],
                [
                  "2015-02-28",
                  "2015-03-09",
                  "Tổng FDI",
                  "Giải ngân",
                  "0.7",
                  "Tỷ USD",
                  "Cục Đầu tư nước ngoài"
                ],
                [
                  "2015-02-28",
                  "2015-03-09",
                  "Tổng FDI",
                  "Đăng ký",
                  "0.53",
                  "Tỷ USD",
                  "Cục Đầu tư nước ngoài"
                ],
                [
                  "2015-03-31",
                  "2015-07-27",
                  "Tổng FDI",
                  "Giải ngân",
                  "1.85",
                  "Tỷ USD",
                  "Cục Đầu tư nước ngoài"
                ]
              ],
              "shape": {
                "columns": 6,
                "rows": 5
              }
            },
            "text/html": [
              "<div>\n",
              "<style scoped>\n",
              "    .dataframe tbody tr th:only-of-type {\n",
              "        vertical-align: middle;\n",
              "    }\n",
              "\n",
              "    .dataframe tbody tr th {\n",
              "        vertical-align: top;\n",
              "    }\n",
              "\n",
              "    .dataframe thead th {\n",
              "        text-align: right;\n",
              "    }\n",
              "</style>\n",
              "<table border=\"1\" class=\"dataframe\">\n",
              "  <thead>\n",
              "    <tr style=\"text-align: right;\">\n",
              "      <th></th>\n",
              "      <th>last_updated</th>\n",
              "      <th>group_name</th>\n",
              "      <th>name</th>\n",
              "      <th>value</th>\n",
              "      <th>unit</th>\n",
              "      <th>source</th>\n",
              "    </tr>\n",
              "    <tr>\n",
              "      <th>report_time</th>\n",
              "      <th></th>\n",
              "      <th></th>\n",
              "      <th></th>\n",
              "      <th></th>\n",
              "      <th></th>\n",
              "      <th></th>\n",
              "    </tr>\n",
              "  </thead>\n",
              "  <tbody>\n",
              "    <tr>\n",
              "      <th>2015-01-31</th>\n",
              "      <td>2015-02-02</td>\n",
              "      <td>Tổng FDI</td>\n",
              "      <td>Đăng ký</td>\n",
              "      <td>0.66</td>\n",
              "      <td>Tỷ USD</td>\n",
              "      <td>Cục Đầu tư nước ngoài</td>\n",
              "    </tr>\n",
              "    <tr>\n",
              "      <th>2015-01-31</th>\n",
              "      <td>2015-02-02</td>\n",
              "      <td>Tổng FDI</td>\n",
              "      <td>Giải ngân</td>\n",
              "      <td>0.50</td>\n",
              "      <td>Tỷ USD</td>\n",
              "      <td>Cục Đầu tư nước ngoài</td>\n",
              "    </tr>\n",
              "    <tr>\n",
              "      <th>2015-02-28</th>\n",
              "      <td>2015-03-09</td>\n",
              "      <td>Tổng FDI</td>\n",
              "      <td>Giải ngân</td>\n",
              "      <td>0.70</td>\n",
              "      <td>Tỷ USD</td>\n",
              "      <td>Cục Đầu tư nước ngoài</td>\n",
              "    </tr>\n",
              "    <tr>\n",
              "      <th>2015-02-28</th>\n",
              "      <td>2015-03-09</td>\n",
              "      <td>Tổng FDI</td>\n",
              "      <td>Đăng ký</td>\n",
              "      <td>0.53</td>\n",
              "      <td>Tỷ USD</td>\n",
              "      <td>Cục Đầu tư nước ngoài</td>\n",
              "    </tr>\n",
              "    <tr>\n",
              "      <th>2015-03-31</th>\n",
              "      <td>2015-07-27</td>\n",
              "      <td>Tổng FDI</td>\n",
              "      <td>Giải ngân</td>\n",
              "      <td>1.85</td>\n",
              "      <td>Tỷ USD</td>\n",
              "      <td>Cục Đầu tư nước ngoài</td>\n",
              "    </tr>\n",
              "  </tbody>\n",
              "</table>\n",
              "</div>"
            ],
            "text/plain": [
              "            last_updated group_name       name  value    unit  \\\n",
              "report_time                                                     \n",
              "2015-01-31    2015-02-02   Tổng FDI    Đăng ký   0.66  Tỷ USD   \n",
              "2015-01-31    2015-02-02   Tổng FDI  Giải ngân   0.50  Tỷ USD   \n",
              "2015-02-28    2015-03-09   Tổng FDI  Giải ngân   0.70  Tỷ USD   \n",
              "2015-02-28    2015-03-09   Tổng FDI    Đăng ký   0.53  Tỷ USD   \n",
              "2015-03-31    2015-07-27   Tổng FDI  Giải ngân   1.85  Tỷ USD   \n",
              "\n",
              "                            source  \n",
              "report_time                         \n",
              "2015-01-31   Cục Đầu tư nước ngoài  \n",
              "2015-01-31   Cục Đầu tư nước ngoài  \n",
              "2015-02-28   Cục Đầu tư nước ngoài  \n",
              "2015-02-28   Cục Đầu tư nước ngoài  \n",
              "2015-03-31   Cục Đầu tư nước ngoài  "
            ]
          },
          "execution_count": 24,
          "metadata": {},
          "output_type": "execute_result"
        }
      ],
      "source": [
        "print(\"=== Macro.fdi ===\")\n",
        "df_fdi = macro.fdi(start=\"2015-01\", end=\"2025-04\", period=\"month\")\n",
        "df_fdi.head()"
      ]
    },
    {
      "cell_type": "code",
      "execution_count": null,
      "metadata": {
        "id": "FCI-CfpeL0B1",
        "outputId": "7250ecf8-cc6d-4010-b3ae-6fbbc5785aca"
      },
      "outputs": [
        {
          "name": "stdout",
          "output_type": "stream",
          "text": [
            "=== Macro.money_supply ===\n"
          ]
        },
        {
          "data": {
            "application/vnd.microsoft.datawrangler.viewer.v0+json": {
              "columns": [
                {
                  "name": "report_time",
                  "rawType": "object",
                  "type": "string"
                },
                {
                  "name": "last_updated",
                  "rawType": "object",
                  "type": "string"
                },
                {
                  "name": "name",
                  "rawType": "object",
                  "type": "string"
                },
                {
                  "name": "value",
                  "rawType": "float64",
                  "type": "float"
                },
                {
                  "name": "unit",
                  "rawType": "object",
                  "type": "string"
                },
                {
                  "name": "source",
                  "rawType": "object",
                  "type": "string"
                }
              ],
              "ref": "4db0f65d-c293-41b7-a422-3af5a223f5ad",
              "rows": [
                [
                  "2015-01-31",
                  "2015-12-20",
                  "Tín dụng",
                  "3971912.0",
                  "Tỷ VNĐ",
                  "Ngân hàng Nhà nước Việt Nam"
                ],
                [
                  "2015-01-31",
                  "2015-12-20",
                  "Tăng trưởng Cung tiền M2 (YTD)*",
                  "0.25",
                  "%",
                  "Ngân hàng Nhà nước Việt Nam"
                ],
                [
                  "2015-01-31",
                  "2015-12-20",
                  "Cung tiền M2",
                  "5192194.0",
                  "Tỷ VNĐ",
                  "Ngân hàng Nhà nước Việt Nam"
                ],
                [
                  "2015-01-31",
                  "2015-12-20",
                  "Tăng trưởng tín dụng (YTD)*",
                  "0.03",
                  "%",
                  "Ngân hàng Nhà nước Việt Nam"
                ],
                [
                  "2015-02-28",
                  "2015-07-29",
                  "Tăng trưởng Cung tiền M2 (YTD)*",
                  "2.49",
                  "%",
                  "Ngân hàng Nhà nước Việt Nam"
                ]
              ],
              "shape": {
                "columns": 5,
                "rows": 5
              }
            },
            "text/html": [
              "<div>\n",
              "<style scoped>\n",
              "    .dataframe tbody tr th:only-of-type {\n",
              "        vertical-align: middle;\n",
              "    }\n",
              "\n",
              "    .dataframe tbody tr th {\n",
              "        vertical-align: top;\n",
              "    }\n",
              "\n",
              "    .dataframe thead th {\n",
              "        text-align: right;\n",
              "    }\n",
              "</style>\n",
              "<table border=\"1\" class=\"dataframe\">\n",
              "  <thead>\n",
              "    <tr style=\"text-align: right;\">\n",
              "      <th></th>\n",
              "      <th>last_updated</th>\n",
              "      <th>name</th>\n",
              "      <th>value</th>\n",
              "      <th>unit</th>\n",
              "      <th>source</th>\n",
              "    </tr>\n",
              "    <tr>\n",
              "      <th>report_time</th>\n",
              "      <th></th>\n",
              "      <th></th>\n",
              "      <th></th>\n",
              "      <th></th>\n",
              "      <th></th>\n",
              "    </tr>\n",
              "  </thead>\n",
              "  <tbody>\n",
              "    <tr>\n",
              "      <th>2015-01-31</th>\n",
              "      <td>2015-12-20</td>\n",
              "      <td>Tín dụng</td>\n",
              "      <td>3971912.00</td>\n",
              "      <td>Tỷ VNĐ</td>\n",
              "      <td>Ngân hàng Nhà nước Việt Nam</td>\n",
              "    </tr>\n",
              "    <tr>\n",
              "      <th>2015-01-31</th>\n",
              "      <td>2015-12-20</td>\n",
              "      <td>Tăng trưởng Cung tiền M2 (YTD)*</td>\n",
              "      <td>0.25</td>\n",
              "      <td>%</td>\n",
              "      <td>Ngân hàng Nhà nước Việt Nam</td>\n",
              "    </tr>\n",
              "    <tr>\n",
              "      <th>2015-01-31</th>\n",
              "      <td>2015-12-20</td>\n",
              "      <td>Cung tiền M2</td>\n",
              "      <td>5192194.00</td>\n",
              "      <td>Tỷ VNĐ</td>\n",
              "      <td>Ngân hàng Nhà nước Việt Nam</td>\n",
              "    </tr>\n",
              "    <tr>\n",
              "      <th>2015-01-31</th>\n",
              "      <td>2015-12-20</td>\n",
              "      <td>Tăng trưởng tín dụng (YTD)*</td>\n",
              "      <td>0.03</td>\n",
              "      <td>%</td>\n",
              "      <td>Ngân hàng Nhà nước Việt Nam</td>\n",
              "    </tr>\n",
              "    <tr>\n",
              "      <th>2015-02-28</th>\n",
              "      <td>2015-07-29</td>\n",
              "      <td>Tăng trưởng Cung tiền M2 (YTD)*</td>\n",
              "      <td>2.49</td>\n",
              "      <td>%</td>\n",
              "      <td>Ngân hàng Nhà nước Việt Nam</td>\n",
              "    </tr>\n",
              "  </tbody>\n",
              "</table>\n",
              "</div>"
            ],
            "text/plain": [
              "            last_updated                             name       value    unit  \\\n",
              "report_time                                                                     \n",
              "2015-01-31    2015-12-20                         Tín dụng  3971912.00  Tỷ VNĐ   \n",
              "2015-01-31    2015-12-20  Tăng trưởng Cung tiền M2 (YTD)*        0.25       %   \n",
              "2015-01-31    2015-12-20                     Cung tiền M2  5192194.00  Tỷ VNĐ   \n",
              "2015-01-31    2015-12-20      Tăng trưởng tín dụng (YTD)*        0.03       %   \n",
              "2015-02-28    2015-07-29  Tăng trưởng Cung tiền M2 (YTD)*        2.49       %   \n",
              "\n",
              "                                  source  \n",
              "report_time                               \n",
              "2015-01-31   Ngân hàng Nhà nước Việt Nam  \n",
              "2015-01-31   Ngân hàng Nhà nước Việt Nam  \n",
              "2015-01-31   Ngân hàng Nhà nước Việt Nam  \n",
              "2015-01-31   Ngân hàng Nhà nước Việt Nam  \n",
              "2015-02-28   Ngân hàng Nhà nước Việt Nam  "
            ]
          },
          "execution_count": 25,
          "metadata": {},
          "output_type": "execute_result"
        }
      ],
      "source": [
        "print(\"=== Macro.money_supply ===\")\n",
        "df_ms = macro.money_supply(start=\"2015-01\", end=\"2025-04\", period=\"month\")\n",
        "df_ms.head()"
      ]
    },
    {
      "cell_type": "code",
      "execution_count": null,
      "metadata": {
        "id": "OsWuDCYXL0B1",
        "outputId": "decee6cb-130b-4db0-b123-2db08b558e1a"
      },
      "outputs": [
        {
          "name": "stdout",
          "output_type": "stream",
          "text": [
            "=== Macro.exchange_rate ===\n"
          ]
        },
        {
          "data": {
            "application/vnd.microsoft.datawrangler.viewer.v0+json": {
              "columns": [
                {
                  "name": "report_time",
                  "rawType": "datetime64[ns]",
                  "type": "datetime"
                },
                {
                  "name": "last_updated",
                  "rawType": "object",
                  "type": "string"
                },
                {
                  "name": "name",
                  "rawType": "object",
                  "type": "string"
                },
                {
                  "name": "value",
                  "rawType": "float64",
                  "type": "float"
                },
                {
                  "name": "unit",
                  "rawType": "object",
                  "type": "string"
                },
                {
                  "name": "source",
                  "rawType": "object",
                  "type": "string"
                }
              ],
              "ref": "96d27388-b8b3-4107-8b5b-29dfdc217001",
              "rows": [
                [
                  "2025-02-01 00:00:00",
                  "2025-01-31",
                  "Tỷ giá trung tâm (từ 04/01/2016)",
                  "24325.0",
                  "VNĐ/USD",
                  null
                ],
                [
                  "2025-02-01 00:00:00",
                  "2025-01-31",
                  "Liên ngân hàng",
                  null,
                  "VNĐ/USD",
                  "Ngân hàng Nhà nước Việt Nam"
                ],
                [
                  "2025-03-01 00:00:00",
                  "2025-02-28",
                  "Liên ngân hàng",
                  null,
                  "VNĐ/USD",
                  "Ngân hàng Nhà nước Việt Nam"
                ],
                [
                  "2025-03-01 00:00:00",
                  "2025-02-28",
                  "Tỷ giá trung tâm (từ 04/01/2016)",
                  "24726.0",
                  "VNĐ/USD",
                  null
                ],
                [
                  "2025-04-01 00:00:00",
                  "2025-03-31",
                  "Tỷ giá trung tâm (từ 04/01/2016)",
                  "24835.0",
                  "VNĐ/USD",
                  null
                ]
              ],
              "shape": {
                "columns": 5,
                "rows": 5
              }
            },
            "text/html": [
              "<div>\n",
              "<style scoped>\n",
              "    .dataframe tbody tr th:only-of-type {\n",
              "        vertical-align: middle;\n",
              "    }\n",
              "\n",
              "    .dataframe tbody tr th {\n",
              "        vertical-align: top;\n",
              "    }\n",
              "\n",
              "    .dataframe thead th {\n",
              "        text-align: right;\n",
              "    }\n",
              "</style>\n",
              "<table border=\"1\" class=\"dataframe\">\n",
              "  <thead>\n",
              "    <tr style=\"text-align: right;\">\n",
              "      <th></th>\n",
              "      <th>last_updated</th>\n",
              "      <th>name</th>\n",
              "      <th>value</th>\n",
              "      <th>unit</th>\n",
              "      <th>source</th>\n",
              "    </tr>\n",
              "    <tr>\n",
              "      <th>report_time</th>\n",
              "      <th></th>\n",
              "      <th></th>\n",
              "      <th></th>\n",
              "      <th></th>\n",
              "      <th></th>\n",
              "    </tr>\n",
              "  </thead>\n",
              "  <tbody>\n",
              "    <tr>\n",
              "      <th>2025-02-01</th>\n",
              "      <td>2025-01-31</td>\n",
              "      <td>Tỷ giá trung tâm (từ 04/01/2016)</td>\n",
              "      <td>24325.0</td>\n",
              "      <td>VNĐ/USD</td>\n",
              "      <td>None</td>\n",
              "    </tr>\n",
              "    <tr>\n",
              "      <th>2025-02-01</th>\n",
              "      <td>2025-01-31</td>\n",
              "      <td>Liên ngân hàng</td>\n",
              "      <td>NaN</td>\n",
              "      <td>VNĐ/USD</td>\n",
              "      <td>Ngân hàng Nhà nước Việt Nam</td>\n",
              "    </tr>\n",
              "    <tr>\n",
              "      <th>2025-03-01</th>\n",
              "      <td>2025-02-28</td>\n",
              "      <td>Liên ngân hàng</td>\n",
              "      <td>NaN</td>\n",
              "      <td>VNĐ/USD</td>\n",
              "      <td>Ngân hàng Nhà nước Việt Nam</td>\n",
              "    </tr>\n",
              "    <tr>\n",
              "      <th>2025-03-01</th>\n",
              "      <td>2025-02-28</td>\n",
              "      <td>Tỷ giá trung tâm (từ 04/01/2016)</td>\n",
              "      <td>24726.0</td>\n",
              "      <td>VNĐ/USD</td>\n",
              "      <td>None</td>\n",
              "    </tr>\n",
              "    <tr>\n",
              "      <th>2025-04-01</th>\n",
              "      <td>2025-03-31</td>\n",
              "      <td>Tỷ giá trung tâm (từ 04/01/2016)</td>\n",
              "      <td>24835.0</td>\n",
              "      <td>VNĐ/USD</td>\n",
              "      <td>None</td>\n",
              "    </tr>\n",
              "  </tbody>\n",
              "</table>\n",
              "</div>"
            ],
            "text/plain": [
              "            last_updated                              name    value     unit  \\\n",
              "report_time                                                                    \n",
              "2025-02-01    2025-01-31  Tỷ giá trung tâm (từ 04/01/2016)  24325.0  VNĐ/USD   \n",
              "2025-02-01    2025-01-31                    Liên ngân hàng      NaN  VNĐ/USD   \n",
              "2025-03-01    2025-02-28                    Liên ngân hàng      NaN  VNĐ/USD   \n",
              "2025-03-01    2025-02-28  Tỷ giá trung tâm (từ 04/01/2016)  24726.0  VNĐ/USD   \n",
              "2025-04-01    2025-03-31  Tỷ giá trung tâm (từ 04/01/2016)  24835.0  VNĐ/USD   \n",
              "\n",
              "                                  source  \n",
              "report_time                               \n",
              "2025-02-01                          None  \n",
              "2025-02-01   Ngân hàng Nhà nước Việt Nam  \n",
              "2025-03-01   Ngân hàng Nhà nước Việt Nam  \n",
              "2025-03-01                          None  \n",
              "2025-04-01                          None  "
            ]
          },
          "execution_count": 26,
          "metadata": {},
          "output_type": "execute_result"
        }
      ],
      "source": [
        "print(\"=== Macro.exchange_rate ===\")\n",
        "df_fx = macro.exchange_rate(start=\"2025-01-02\", end=\"2025-04-10\", period=\"day\")\n",
        "df_fx.head()"
      ]
    },
    {
      "cell_type": "code",
      "execution_count": null,
      "metadata": {
        "id": "PeTlnQgAL0B2",
        "outputId": "a22a22b3-7516-4db9-d2f8-9542cedb8140"
      },
      "outputs": [
        {
          "name": "stdout",
          "output_type": "stream",
          "text": [
            "=== Macro.population_labor ===\n"
          ]
        },
        {
          "data": {
            "application/vnd.microsoft.datawrangler.viewer.v0+json": {
              "columns": [
                {
                  "name": "report_time",
                  "rawType": "object",
                  "type": "string"
                },
                {
                  "name": "last_updated",
                  "rawType": "object",
                  "type": "string"
                },
                {
                  "name": "name",
                  "rawType": "object",
                  "type": "string"
                },
                {
                  "name": "value",
                  "rawType": "float64",
                  "type": "float"
                },
                {
                  "name": "unit",
                  "rawType": "object",
                  "type": "string"
                },
                {
                  "name": "source",
                  "rawType": "object",
                  "type": "string"
                }
              ],
              "ref": "2c31eb8d-a39d-4d9d-b8cd-87958edb9ecb",
              "rows": [
                [
                  "2015",
                  "2015-12-27",
                  "Số lượng lao động",
                  "54.61",
                  "Triệu người",
                  "ADB"
                ],
                [
                  "2015",
                  "2015-12-27",
                  "Tỷ lệ thất nghiệp thành thị",
                  "3.29",
                  "%",
                  "ADB"
                ],
                [
                  "2015",
                  "2015-12-27",
                  "Tỷ lệ nữ",
                  "48.3",
                  "%",
                  "ADB"
                ],
                [
                  "2015",
                  "2015-12-27",
                  "Tỷ lệ nam",
                  "51.7",
                  "%",
                  "ADB"
                ],
                [
                  "2015",
                  "2015-12-27",
                  "Tỷ lệ lao động/dân số",
                  "59.55",
                  "%",
                  "ADB"
                ]
              ],
              "shape": {
                "columns": 5,
                "rows": 5
              }
            },
            "text/html": [
              "<div>\n",
              "<style scoped>\n",
              "    .dataframe tbody tr th:only-of-type {\n",
              "        vertical-align: middle;\n",
              "    }\n",
              "\n",
              "    .dataframe tbody tr th {\n",
              "        vertical-align: top;\n",
              "    }\n",
              "\n",
              "    .dataframe thead th {\n",
              "        text-align: right;\n",
              "    }\n",
              "</style>\n",
              "<table border=\"1\" class=\"dataframe\">\n",
              "  <thead>\n",
              "    <tr style=\"text-align: right;\">\n",
              "      <th></th>\n",
              "      <th>last_updated</th>\n",
              "      <th>name</th>\n",
              "      <th>value</th>\n",
              "      <th>unit</th>\n",
              "      <th>source</th>\n",
              "    </tr>\n",
              "    <tr>\n",
              "      <th>report_time</th>\n",
              "      <th></th>\n",
              "      <th></th>\n",
              "      <th></th>\n",
              "      <th></th>\n",
              "      <th></th>\n",
              "    </tr>\n",
              "  </thead>\n",
              "  <tbody>\n",
              "    <tr>\n",
              "      <th>2015</th>\n",
              "      <td>2015-12-27</td>\n",
              "      <td>Số lượng lao động</td>\n",
              "      <td>54.61</td>\n",
              "      <td>Triệu người</td>\n",
              "      <td>ADB</td>\n",
              "    </tr>\n",
              "    <tr>\n",
              "      <th>2015</th>\n",
              "      <td>2015-12-27</td>\n",
              "      <td>Tỷ lệ thất nghiệp thành thị</td>\n",
              "      <td>3.29</td>\n",
              "      <td>%</td>\n",
              "      <td>ADB</td>\n",
              "    </tr>\n",
              "    <tr>\n",
              "      <th>2015</th>\n",
              "      <td>2015-12-27</td>\n",
              "      <td>Tỷ lệ nữ</td>\n",
              "      <td>48.30</td>\n",
              "      <td>%</td>\n",
              "      <td>ADB</td>\n",
              "    </tr>\n",
              "    <tr>\n",
              "      <th>2015</th>\n",
              "      <td>2015-12-27</td>\n",
              "      <td>Tỷ lệ nam</td>\n",
              "      <td>51.70</td>\n",
              "      <td>%</td>\n",
              "      <td>ADB</td>\n",
              "    </tr>\n",
              "    <tr>\n",
              "      <th>2015</th>\n",
              "      <td>2015-12-27</td>\n",
              "      <td>Tỷ lệ lao động/dân số</td>\n",
              "      <td>59.55</td>\n",
              "      <td>%</td>\n",
              "      <td>ADB</td>\n",
              "    </tr>\n",
              "  </tbody>\n",
              "</table>\n",
              "</div>"
            ],
            "text/plain": [
              "            last_updated                         name  value         unit  \\\n",
              "report_time                                                                 \n",
              "2015          2015-12-27            Số lượng lao động  54.61  Triệu người   \n",
              "2015          2015-12-27  Tỷ lệ thất nghiệp thành thị   3.29            %   \n",
              "2015          2015-12-27                     Tỷ lệ nữ  48.30            %   \n",
              "2015          2015-12-27                    Tỷ lệ nam  51.70            %   \n",
              "2015          2015-12-27        Tỷ lệ lao động/dân số  59.55            %   \n",
              "\n",
              "            source  \n",
              "report_time         \n",
              "2015           ADB  \n",
              "2015           ADB  \n",
              "2015           ADB  \n",
              "2015           ADB  \n",
              "2015           ADB  "
            ]
          },
          "execution_count": 27,
          "metadata": {},
          "output_type": "execute_result"
        }
      ],
      "source": [
        "print(\"=== Macro.population_labor ===\")\n",
        "df_pl = macro.population_labor(start=\"2015-01\", end=\"2025-04\", period=\"year\")\n",
        "df_pl.head()"
      ]
    },
    {
      "cell_type": "markdown",
      "metadata": {
        "id": "DwrEvqYEL0B2"
      },
      "source": [
        "# Commodity"
      ]
    },
    {
      "cell_type": "code",
      "execution_count": 28,
      "metadata": {
        "id": "Bftlet-5L0B2",
        "outputId": "d4bed8fd-7bdb-46cb-aa03-f113b7629503"
      },
      "outputs": [
        {
          "data": {
            "application/vnd.microsoft.datawrangler.viewer.v0+json": {
              "columns": [
                {
                  "name": "time",
                  "rawType": "datetime64[ns]",
                  "type": "datetime"
                },
                {
                  "name": "buy",
                  "rawType": "float64",
                  "type": "float"
                },
                {
                  "name": "sell",
                  "rawType": "float64",
                  "type": "float"
                }
              ],
              "ref": "e0174d23-dfe3-47bd-8e76-76c060a641a9",
              "rows": [
                [
                  "2024-01-01 00:00:00",
                  "72000.0",
                  "75000.0"
                ],
                [
                  "2024-01-02 00:00:00",
                  "72500.0",
                  "75500.0"
                ],
                [
                  "2024-01-03 00:00:00",
                  "72000.0",
                  "75000.0"
                ],
                [
                  "2024-01-04 00:00:00",
                  "72000.0",
                  "75000.0"
                ],
                [
                  "2024-01-07 00:00:00",
                  "71000.0",
                  "74000.0"
                ]
              ],
              "shape": {
                "columns": 2,
                "rows": 5
              }
            },
            "text/html": [
              "<div>\n",
              "<style scoped>\n",
              "    .dataframe tbody tr th:only-of-type {\n",
              "        vertical-align: middle;\n",
              "    }\n",
              "\n",
              "    .dataframe tbody tr th {\n",
              "        vertical-align: top;\n",
              "    }\n",
              "\n",
              "    .dataframe thead th {\n",
              "        text-align: right;\n",
              "    }\n",
              "</style>\n",
              "<table border=\"1\" class=\"dataframe\">\n",
              "  <thead>\n",
              "    <tr style=\"text-align: right;\">\n",
              "      <th></th>\n",
              "      <th>buy</th>\n",
              "      <th>sell</th>\n",
              "    </tr>\n",
              "    <tr>\n",
              "      <th>time</th>\n",
              "      <th></th>\n",
              "      <th></th>\n",
              "    </tr>\n",
              "  </thead>\n",
              "  <tbody>\n",
              "    <tr>\n",
              "      <th>2024-01-01</th>\n",
              "      <td>72000.0</td>\n",
              "      <td>75000.0</td>\n",
              "    </tr>\n",
              "    <tr>\n",
              "      <th>2024-01-02</th>\n",
              "      <td>72500.0</td>\n",
              "      <td>75500.0</td>\n",
              "    </tr>\n",
              "    <tr>\n",
              "      <th>2024-01-03</th>\n",
              "      <td>72000.0</td>\n",
              "      <td>75000.0</td>\n",
              "    </tr>\n",
              "    <tr>\n",
              "      <th>2024-01-04</th>\n",
              "      <td>72000.0</td>\n",
              "      <td>75000.0</td>\n",
              "    </tr>\n",
              "    <tr>\n",
              "      <th>2024-01-07</th>\n",
              "      <td>71000.0</td>\n",
              "      <td>74000.0</td>\n",
              "    </tr>\n",
              "  </tbody>\n",
              "</table>\n",
              "</div>"
            ],
            "text/plain": [
              "                buy     sell\n",
              "time                        \n",
              "2024-01-01  72000.0  75000.0\n",
              "2024-01-02  72500.0  75500.0\n",
              "2024-01-03  72000.0  75000.0\n",
              "2024-01-04  72000.0  75000.0\n",
              "2024-01-07  71000.0  74000.0"
            ]
          },
          "metadata": {},
          "output_type": "display_data"
        }
      ],
      "source": [
        "# Single cell to test any CommodityPrice method\n",
        "from IPython.display import display\n",
        "from vnstock_data import CommodityPrice\n",
        "\n",
        "# 1. Instantiate the adapter (adjust start/end dates as needed)\n",
        "c = CommodityPrice(source=\"spl\", start=\"2024-01-01\", end=\"2025-04-18\", show_log=False)\n",
        "\n",
        "# 2. Uncomment the method call(s) you want to test:\n",
        "\n",
        "# df = c.gold_vn()\n",
        "# df = c.gold_global()\n",
        "# df = c.gas_vn()\n",
        "# df = c.oil_crude()\n",
        "# df = c.gas_natural()\n",
        "# df = c.coke()\n",
        "# df = c.steel_d10()\n",
        "# df = c.iron_ore()\n",
        "# df = c.steel_hrc()\n",
        "# df = c.fertilizer_ure()\n",
        "# df = c.soybean()\n",
        "# df = c.corn()\n",
        "# df = c.sugar()\n",
        "# df = c.pork_north_vn()\n",
        "# df = c.pork_china()\n",
        "\n",
        "# 3. Example: test gold_vn()\n",
        "df = c.gold_vn()\n",
        "display(df.head())\n"
      ]
    },
    {
      "cell_type": "code",
      "execution_count": 29,
      "metadata": {
        "id": "vqI4TmMaL0B2",
        "outputId": "a56da17f-9603-47b2-b7f5-364a43642d03"
      },
      "outputs": [
        {
          "name": "stdout",
          "output_type": "stream",
          "text": [
            "\n",
            "=== gold_vn() ===\n"
          ]
        },
        {
          "data": {
            "application/vnd.microsoft.datawrangler.viewer.v0+json": {
              "columns": [
                {
                  "name": "time",
                  "rawType": "datetime64[ns]",
                  "type": "datetime"
                },
                {
                  "name": "buy",
                  "rawType": "float64",
                  "type": "float"
                },
                {
                  "name": "sell",
                  "rawType": "float64",
                  "type": "float"
                }
              ],
              "ref": "45884013-0ef7-463c-8d12-dd4479ddede5",
              "rows": [
                [
                  "2024-01-01 00:00:00",
                  "72000.0",
                  "75000.0"
                ],
                [
                  "2024-01-02 00:00:00",
                  "72500.0",
                  "75500.0"
                ],
                [
                  "2024-01-03 00:00:00",
                  "72000.0",
                  "75000.0"
                ],
                [
                  "2024-01-04 00:00:00",
                  "72000.0",
                  "75000.0"
                ],
                [
                  "2024-01-07 00:00:00",
                  "71000.0",
                  "74000.0"
                ]
              ],
              "shape": {
                "columns": 2,
                "rows": 5
              }
            },
            "text/html": [
              "<div>\n",
              "<style scoped>\n",
              "    .dataframe tbody tr th:only-of-type {\n",
              "        vertical-align: middle;\n",
              "    }\n",
              "\n",
              "    .dataframe tbody tr th {\n",
              "        vertical-align: top;\n",
              "    }\n",
              "\n",
              "    .dataframe thead th {\n",
              "        text-align: right;\n",
              "    }\n",
              "</style>\n",
              "<table border=\"1\" class=\"dataframe\">\n",
              "  <thead>\n",
              "    <tr style=\"text-align: right;\">\n",
              "      <th></th>\n",
              "      <th>buy</th>\n",
              "      <th>sell</th>\n",
              "    </tr>\n",
              "    <tr>\n",
              "      <th>time</th>\n",
              "      <th></th>\n",
              "      <th></th>\n",
              "    </tr>\n",
              "  </thead>\n",
              "  <tbody>\n",
              "    <tr>\n",
              "      <th>2024-01-01</th>\n",
              "      <td>72000.0</td>\n",
              "      <td>75000.0</td>\n",
              "    </tr>\n",
              "    <tr>\n",
              "      <th>2024-01-02</th>\n",
              "      <td>72500.0</td>\n",
              "      <td>75500.0</td>\n",
              "    </tr>\n",
              "    <tr>\n",
              "      <th>2024-01-03</th>\n",
              "      <td>72000.0</td>\n",
              "      <td>75000.0</td>\n",
              "    </tr>\n",
              "    <tr>\n",
              "      <th>2024-01-04</th>\n",
              "      <td>72000.0</td>\n",
              "      <td>75000.0</td>\n",
              "    </tr>\n",
              "    <tr>\n",
              "      <th>2024-01-07</th>\n",
              "      <td>71000.0</td>\n",
              "      <td>74000.0</td>\n",
              "    </tr>\n",
              "  </tbody>\n",
              "</table>\n",
              "</div>"
            ],
            "text/plain": [
              "                buy     sell\n",
              "time                        \n",
              "2024-01-01  72000.0  75000.0\n",
              "2024-01-02  72500.0  75500.0\n",
              "2024-01-03  72000.0  75000.0\n",
              "2024-01-04  72000.0  75000.0\n",
              "2024-01-07  71000.0  74000.0"
            ]
          },
          "metadata": {},
          "output_type": "display_data"
        },
        {
          "name": "stdout",
          "output_type": "stream",
          "text": [
            "\n",
            "=== gold_global() ===\n"
          ]
        },
        {
          "data": {
            "application/vnd.microsoft.datawrangler.viewer.v0+json": {
              "columns": [
                {
                  "name": "time",
                  "rawType": "datetime64[ns]",
                  "type": "datetime"
                },
                {
                  "name": "open",
                  "rawType": "float64",
                  "type": "float"
                },
                {
                  "name": "high",
                  "rawType": "float64",
                  "type": "float"
                },
                {
                  "name": "low",
                  "rawType": "float64",
                  "type": "float"
                },
                {
                  "name": "close",
                  "rawType": "float64",
                  "type": "float"
                },
                {
                  "name": "volume",
                  "rawType": "float64",
                  "type": "float"
                }
              ],
              "ref": "b140c6ba-9f59-484c-b3cd-87db18ad6dad",
              "rows": [
                [
                  "2024-01-02 00:00:00",
                  "2072.7",
                  "2088.1",
                  "2064.3",
                  "2073.4",
                  "157555.0"
                ],
                [
                  "2024-01-03 00:00:00",
                  "2067.9",
                  "2074.3",
                  "2038.3",
                  "2042.8",
                  "221680.0"
                ],
                [
                  "2024-01-04 00:00:00",
                  "2049.3",
                  "2058.1",
                  "2043.3",
                  "2050.0",
                  "130263.0"
                ],
                [
                  "2024-01-05 00:00:00",
                  "2051.4",
                  "2071.1",
                  "2030.8",
                  "2049.8",
                  "214684.0"
                ],
                [
                  "2024-01-07 00:00:00",
                  "2052.60009765625",
                  "2053.300048828125",
                  "2041.699951171875",
                  "2042.5",
                  "19511.0"
                ]
              ],
              "shape": {
                "columns": 5,
                "rows": 5
              }
            },
            "text/html": [
              "<div>\n",
              "<style scoped>\n",
              "    .dataframe tbody tr th:only-of-type {\n",
              "        vertical-align: middle;\n",
              "    }\n",
              "\n",
              "    .dataframe tbody tr th {\n",
              "        vertical-align: top;\n",
              "    }\n",
              "\n",
              "    .dataframe thead th {\n",
              "        text-align: right;\n",
              "    }\n",
              "</style>\n",
              "<table border=\"1\" class=\"dataframe\">\n",
              "  <thead>\n",
              "    <tr style=\"text-align: right;\">\n",
              "      <th></th>\n",
              "      <th>open</th>\n",
              "      <th>high</th>\n",
              "      <th>low</th>\n",
              "      <th>close</th>\n",
              "      <th>volume</th>\n",
              "    </tr>\n",
              "    <tr>\n",
              "      <th>time</th>\n",
              "      <th></th>\n",
              "      <th></th>\n",
              "      <th></th>\n",
              "      <th></th>\n",
              "      <th></th>\n",
              "    </tr>\n",
              "  </thead>\n",
              "  <tbody>\n",
              "    <tr>\n",
              "      <th>2024-01-02</th>\n",
              "      <td>2072.700000</td>\n",
              "      <td>2088.100000</td>\n",
              "      <td>2064.300000</td>\n",
              "      <td>2073.4</td>\n",
              "      <td>157555.0</td>\n",
              "    </tr>\n",
              "    <tr>\n",
              "      <th>2024-01-03</th>\n",
              "      <td>2067.900000</td>\n",
              "      <td>2074.300000</td>\n",
              "      <td>2038.300000</td>\n",
              "      <td>2042.8</td>\n",
              "      <td>221680.0</td>\n",
              "    </tr>\n",
              "    <tr>\n",
              "      <th>2024-01-04</th>\n",
              "      <td>2049.300000</td>\n",
              "      <td>2058.100000</td>\n",
              "      <td>2043.300000</td>\n",
              "      <td>2050.0</td>\n",
              "      <td>130263.0</td>\n",
              "    </tr>\n",
              "    <tr>\n",
              "      <th>2024-01-05</th>\n",
              "      <td>2051.400000</td>\n",
              "      <td>2071.100000</td>\n",
              "      <td>2030.800000</td>\n",
              "      <td>2049.8</td>\n",
              "      <td>214684.0</td>\n",
              "    </tr>\n",
              "    <tr>\n",
              "      <th>2024-01-07</th>\n",
              "      <td>2052.600098</td>\n",
              "      <td>2053.300049</td>\n",
              "      <td>2041.699951</td>\n",
              "      <td>2042.5</td>\n",
              "      <td>19511.0</td>\n",
              "    </tr>\n",
              "  </tbody>\n",
              "</table>\n",
              "</div>"
            ],
            "text/plain": [
              "                   open         high          low   close    volume\n",
              "time                                                               \n",
              "2024-01-02  2072.700000  2088.100000  2064.300000  2073.4  157555.0\n",
              "2024-01-03  2067.900000  2074.300000  2038.300000  2042.8  221680.0\n",
              "2024-01-04  2049.300000  2058.100000  2043.300000  2050.0  130263.0\n",
              "2024-01-05  2051.400000  2071.100000  2030.800000  2049.8  214684.0\n",
              "2024-01-07  2052.600098  2053.300049  2041.699951  2042.5   19511.0"
            ]
          },
          "metadata": {},
          "output_type": "display_data"
        },
        {
          "name": "stdout",
          "output_type": "stream",
          "text": [
            "\n",
            "=== gas_vn() ===\n"
          ]
        },
        {
          "data": {
            "application/vnd.microsoft.datawrangler.viewer.v0+json": {
              "columns": [
                {
                  "name": "time",
                  "rawType": "datetime64[ns]",
                  "type": "datetime"
                },
                {
                  "name": "ron95",
                  "rawType": "float64",
                  "type": "float"
                },
                {
                  "name": "ron92",
                  "rawType": "float64",
                  "type": "float"
                },
                {
                  "name": "oil_do",
                  "rawType": "float64",
                  "type": "float"
                }
              ],
              "ref": "5aba0fc0-d6da-45ad-80ba-9aa24846af32",
              "rows": [
                [
                  "2024-01-01 00:00:00",
                  "22.14",
                  "21.18",
                  "19.78"
                ],
                [
                  "2024-01-02 00:00:00",
                  "22.14",
                  "21.18",
                  "19.78"
                ],
                [
                  "2024-01-03 00:00:00",
                  "21.91",
                  "21.0",
                  "19.36"
                ],
                [
                  "2024-01-04 00:00:00",
                  "21.91",
                  "21.0",
                  "19.36"
                ],
                [
                  "2024-01-07 00:00:00",
                  "21.91",
                  "21.0",
                  "19.36"
                ]
              ],
              "shape": {
                "columns": 3,
                "rows": 5
              }
            },
            "text/html": [
              "<div>\n",
              "<style scoped>\n",
              "    .dataframe tbody tr th:only-of-type {\n",
              "        vertical-align: middle;\n",
              "    }\n",
              "\n",
              "    .dataframe tbody tr th {\n",
              "        vertical-align: top;\n",
              "    }\n",
              "\n",
              "    .dataframe thead th {\n",
              "        text-align: right;\n",
              "    }\n",
              "</style>\n",
              "<table border=\"1\" class=\"dataframe\">\n",
              "  <thead>\n",
              "    <tr style=\"text-align: right;\">\n",
              "      <th></th>\n",
              "      <th>ron95</th>\n",
              "      <th>ron92</th>\n",
              "      <th>oil_do</th>\n",
              "    </tr>\n",
              "    <tr>\n",
              "      <th>time</th>\n",
              "      <th></th>\n",
              "      <th></th>\n",
              "      <th></th>\n",
              "    </tr>\n",
              "  </thead>\n",
              "  <tbody>\n",
              "    <tr>\n",
              "      <th>2024-01-01</th>\n",
              "      <td>22.14</td>\n",
              "      <td>21.18</td>\n",
              "      <td>19.78</td>\n",
              "    </tr>\n",
              "    <tr>\n",
              "      <th>2024-01-02</th>\n",
              "      <td>22.14</td>\n",
              "      <td>21.18</td>\n",
              "      <td>19.78</td>\n",
              "    </tr>\n",
              "    <tr>\n",
              "      <th>2024-01-03</th>\n",
              "      <td>21.91</td>\n",
              "      <td>21.00</td>\n",
              "      <td>19.36</td>\n",
              "    </tr>\n",
              "    <tr>\n",
              "      <th>2024-01-04</th>\n",
              "      <td>21.91</td>\n",
              "      <td>21.00</td>\n",
              "      <td>19.36</td>\n",
              "    </tr>\n",
              "    <tr>\n",
              "      <th>2024-01-07</th>\n",
              "      <td>21.91</td>\n",
              "      <td>21.00</td>\n",
              "      <td>19.36</td>\n",
              "    </tr>\n",
              "  </tbody>\n",
              "</table>\n",
              "</div>"
            ],
            "text/plain": [
              "            ron95  ron92  oil_do\n",
              "time                            \n",
              "2024-01-01  22.14  21.18   19.78\n",
              "2024-01-02  22.14  21.18   19.78\n",
              "2024-01-03  21.91  21.00   19.36\n",
              "2024-01-04  21.91  21.00   19.36\n",
              "2024-01-07  21.91  21.00   19.36"
            ]
          },
          "metadata": {},
          "output_type": "display_data"
        },
        {
          "name": "stdout",
          "output_type": "stream",
          "text": [
            "\n",
            "=== oil_crude() ===\n"
          ]
        },
        {
          "data": {
            "application/vnd.microsoft.datawrangler.viewer.v0+json": {
              "columns": [
                {
                  "name": "time",
                  "rawType": "datetime64[ns]",
                  "type": "datetime"
                },
                {
                  "name": "open",
                  "rawType": "float64",
                  "type": "float"
                },
                {
                  "name": "high",
                  "rawType": "float64",
                  "type": "float"
                },
                {
                  "name": "low",
                  "rawType": "float64",
                  "type": "float"
                },
                {
                  "name": "close",
                  "rawType": "float64",
                  "type": "float"
                },
                {
                  "name": "volume",
                  "rawType": "float64",
                  "type": "float"
                }
              ],
              "ref": "3f97b643-8d05-42ac-9e44-17e64430279f",
              "rows": [
                [
                  "2024-01-02 00:00:00",
                  "71.71",
                  "73.64",
                  "70.06",
                  "70.38",
                  "330992.0"
                ],
                [
                  "2024-01-03 00:00:00",
                  "70.5",
                  "73.23",
                  "69.28",
                  "72.7",
                  "334861.0"
                ],
                [
                  "2024-01-04 00:00:00",
                  "73.04",
                  "74.0",
                  "71.06",
                  "72.19",
                  "344467.0"
                ],
                [
                  "2024-01-05 00:00:00",
                  "72.4",
                  "74.24",
                  "72.21",
                  "73.81",
                  "325525.0"
                ],
                [
                  "2024-01-07 00:00:00",
                  "73.51000213623047",
                  "73.94999694824219",
                  "72.8499984741211",
                  "72.9000015258789",
                  "19240.0"
                ]
              ],
              "shape": {
                "columns": 5,
                "rows": 5
              }
            },
            "text/html": [
              "<div>\n",
              "<style scoped>\n",
              "    .dataframe tbody tr th:only-of-type {\n",
              "        vertical-align: middle;\n",
              "    }\n",
              "\n",
              "    .dataframe tbody tr th {\n",
              "        vertical-align: top;\n",
              "    }\n",
              "\n",
              "    .dataframe thead th {\n",
              "        text-align: right;\n",
              "    }\n",
              "</style>\n",
              "<table border=\"1\" class=\"dataframe\">\n",
              "  <thead>\n",
              "    <tr style=\"text-align: right;\">\n",
              "      <th></th>\n",
              "      <th>open</th>\n",
              "      <th>high</th>\n",
              "      <th>low</th>\n",
              "      <th>close</th>\n",
              "      <th>volume</th>\n",
              "    </tr>\n",
              "    <tr>\n",
              "      <th>time</th>\n",
              "      <th></th>\n",
              "      <th></th>\n",
              "      <th></th>\n",
              "      <th></th>\n",
              "      <th></th>\n",
              "    </tr>\n",
              "  </thead>\n",
              "  <tbody>\n",
              "    <tr>\n",
              "      <th>2024-01-02</th>\n",
              "      <td>71.710000</td>\n",
              "      <td>73.640000</td>\n",
              "      <td>70.060000</td>\n",
              "      <td>70.380000</td>\n",
              "      <td>330992.0</td>\n",
              "    </tr>\n",
              "    <tr>\n",
              "      <th>2024-01-03</th>\n",
              "      <td>70.500000</td>\n",
              "      <td>73.230000</td>\n",
              "      <td>69.280000</td>\n",
              "      <td>72.700000</td>\n",
              "      <td>334861.0</td>\n",
              "    </tr>\n",
              "    <tr>\n",
              "      <th>2024-01-04</th>\n",
              "      <td>73.040000</td>\n",
              "      <td>74.000000</td>\n",
              "      <td>71.060000</td>\n",
              "      <td>72.190000</td>\n",
              "      <td>344467.0</td>\n",
              "    </tr>\n",
              "    <tr>\n",
              "      <th>2024-01-05</th>\n",
              "      <td>72.400000</td>\n",
              "      <td>74.240000</td>\n",
              "      <td>72.210000</td>\n",
              "      <td>73.810000</td>\n",
              "      <td>325525.0</td>\n",
              "    </tr>\n",
              "    <tr>\n",
              "      <th>2024-01-07</th>\n",
              "      <td>73.510002</td>\n",
              "      <td>73.949997</td>\n",
              "      <td>72.849998</td>\n",
              "      <td>72.900002</td>\n",
              "      <td>19240.0</td>\n",
              "    </tr>\n",
              "  </tbody>\n",
              "</table>\n",
              "</div>"
            ],
            "text/plain": [
              "                 open       high        low      close    volume\n",
              "time                                                            \n",
              "2024-01-02  71.710000  73.640000  70.060000  70.380000  330992.0\n",
              "2024-01-03  70.500000  73.230000  69.280000  72.700000  334861.0\n",
              "2024-01-04  73.040000  74.000000  71.060000  72.190000  344467.0\n",
              "2024-01-05  72.400000  74.240000  72.210000  73.810000  325525.0\n",
              "2024-01-07  73.510002  73.949997  72.849998  72.900002   19240.0"
            ]
          },
          "metadata": {},
          "output_type": "display_data"
        },
        {
          "name": "stdout",
          "output_type": "stream",
          "text": [
            "\n",
            "=== gas_natural() ===\n"
          ]
        },
        {
          "data": {
            "application/vnd.microsoft.datawrangler.viewer.v0+json": {
              "columns": [
                {
                  "name": "time",
                  "rawType": "datetime64[ns]",
                  "type": "datetime"
                },
                {
                  "name": "open",
                  "rawType": "float64",
                  "type": "float"
                },
                {
                  "name": "high",
                  "rawType": "float64",
                  "type": "float"
                },
                {
                  "name": "low",
                  "rawType": "float64",
                  "type": "float"
                },
                {
                  "name": "close",
                  "rawType": "float64",
                  "type": "float"
                },
                {
                  "name": "volume",
                  "rawType": "float64",
                  "type": "float"
                }
              ],
              "ref": "a438b9ec-a77e-4a6f-8c4a-4e7bd59e9a3f",
              "rows": [
                [
                  "2024-01-02 00:00:00",
                  "2.6",
                  "2.675",
                  "2.52",
                  "2.57",
                  "7480.0"
                ],
                [
                  "2024-01-03 00:00:00",
                  "2.575",
                  "2.72",
                  "2.54",
                  "2.67",
                  "7754.0"
                ],
                [
                  "2024-01-04 00:00:00",
                  "2.685",
                  "2.86",
                  "2.68",
                  "2.82",
                  "9360.0"
                ],
                [
                  "2024-01-05 00:00:00",
                  "2.84",
                  "2.905",
                  "2.68",
                  "2.895",
                  "8177.0"
                ],
                [
                  "2024-01-07 00:00:00",
                  "2.950000047683716",
                  "2.9630000591278076",
                  "2.8559999465942383",
                  "2.868000030517578",
                  "9112.0"
                ]
              ],
              "shape": {
                "columns": 5,
                "rows": 5
              }
            },
            "text/html": [
              "<div>\n",
              "<style scoped>\n",
              "    .dataframe tbody tr th:only-of-type {\n",
              "        vertical-align: middle;\n",
              "    }\n",
              "\n",
              "    .dataframe tbody tr th {\n",
              "        vertical-align: top;\n",
              "    }\n",
              "\n",
              "    .dataframe thead th {\n",
              "        text-align: right;\n",
              "    }\n",
              "</style>\n",
              "<table border=\"1\" class=\"dataframe\">\n",
              "  <thead>\n",
              "    <tr style=\"text-align: right;\">\n",
              "      <th></th>\n",
              "      <th>open</th>\n",
              "      <th>high</th>\n",
              "      <th>low</th>\n",
              "      <th>close</th>\n",
              "      <th>volume</th>\n",
              "    </tr>\n",
              "    <tr>\n",
              "      <th>time</th>\n",
              "      <th></th>\n",
              "      <th></th>\n",
              "      <th></th>\n",
              "      <th></th>\n",
              "      <th></th>\n",
              "    </tr>\n",
              "  </thead>\n",
              "  <tbody>\n",
              "    <tr>\n",
              "      <th>2024-01-02</th>\n",
              "      <td>2.600</td>\n",
              "      <td>2.675</td>\n",
              "      <td>2.520</td>\n",
              "      <td>2.570</td>\n",
              "      <td>7480.0</td>\n",
              "    </tr>\n",
              "    <tr>\n",
              "      <th>2024-01-03</th>\n",
              "      <td>2.575</td>\n",
              "      <td>2.720</td>\n",
              "      <td>2.540</td>\n",
              "      <td>2.670</td>\n",
              "      <td>7754.0</td>\n",
              "    </tr>\n",
              "    <tr>\n",
              "      <th>2024-01-04</th>\n",
              "      <td>2.685</td>\n",
              "      <td>2.860</td>\n",
              "      <td>2.680</td>\n",
              "      <td>2.820</td>\n",
              "      <td>9360.0</td>\n",
              "    </tr>\n",
              "    <tr>\n",
              "      <th>2024-01-05</th>\n",
              "      <td>2.840</td>\n",
              "      <td>2.905</td>\n",
              "      <td>2.680</td>\n",
              "      <td>2.895</td>\n",
              "      <td>8177.0</td>\n",
              "    </tr>\n",
              "    <tr>\n",
              "      <th>2024-01-07</th>\n",
              "      <td>2.950</td>\n",
              "      <td>2.963</td>\n",
              "      <td>2.856</td>\n",
              "      <td>2.868</td>\n",
              "      <td>9112.0</td>\n",
              "    </tr>\n",
              "  </tbody>\n",
              "</table>\n",
              "</div>"
            ],
            "text/plain": [
              "             open   high    low  close  volume\n",
              "time                                          \n",
              "2024-01-02  2.600  2.675  2.520  2.570  7480.0\n",
              "2024-01-03  2.575  2.720  2.540  2.670  7754.0\n",
              "2024-01-04  2.685  2.860  2.680  2.820  9360.0\n",
              "2024-01-05  2.840  2.905  2.680  2.895  8177.0\n",
              "2024-01-07  2.950  2.963  2.856  2.868  9112.0"
            ]
          },
          "metadata": {},
          "output_type": "display_data"
        },
        {
          "name": "stdout",
          "output_type": "stream",
          "text": [
            "\n",
            "=== coke() ===\n"
          ]
        },
        {
          "data": {
            "application/vnd.microsoft.datawrangler.viewer.v0+json": {
              "columns": [
                {
                  "name": "time",
                  "rawType": "datetime64[ns]",
                  "type": "datetime"
                },
                {
                  "name": "open",
                  "rawType": "float64",
                  "type": "float"
                },
                {
                  "name": "high",
                  "rawType": "float64",
                  "type": "float"
                },
                {
                  "name": "low",
                  "rawType": "float64",
                  "type": "float"
                },
                {
                  "name": "close",
                  "rawType": "float64",
                  "type": "float"
                },
                {
                  "name": "volume",
                  "rawType": "float64",
                  "type": "float"
                }
              ],
              "ref": "4fa078fa-a3cd-4e40-9a62-d84c0983f40b",
              "rows": [
                [
                  "2024-01-02 00:00:00",
                  "126.15",
                  "126.15",
                  "126.15",
                  "126.15",
                  "76.0"
                ],
                [
                  "2024-01-03 00:00:00",
                  "127.0",
                  "127.0",
                  "127.0",
                  "127.0",
                  "143.0"
                ],
                [
                  "2024-01-04 00:00:00",
                  "129.0",
                  "129.25",
                  "129.0",
                  "129.2",
                  "146.0"
                ],
                [
                  "2024-01-05 00:00:00",
                  "130.5",
                  "130.5",
                  "130.5",
                  "130.5",
                  "75.0"
                ],
                [
                  "2024-01-08 00:00:00",
                  "129.5",
                  "129.75",
                  "129.5",
                  "129.75",
                  "163.0"
                ]
              ],
              "shape": {
                "columns": 5,
                "rows": 5
              }
            },
            "text/html": [
              "<div>\n",
              "<style scoped>\n",
              "    .dataframe tbody tr th:only-of-type {\n",
              "        vertical-align: middle;\n",
              "    }\n",
              "\n",
              "    .dataframe tbody tr th {\n",
              "        vertical-align: top;\n",
              "    }\n",
              "\n",
              "    .dataframe thead th {\n",
              "        text-align: right;\n",
              "    }\n",
              "</style>\n",
              "<table border=\"1\" class=\"dataframe\">\n",
              "  <thead>\n",
              "    <tr style=\"text-align: right;\">\n",
              "      <th></th>\n",
              "      <th>open</th>\n",
              "      <th>high</th>\n",
              "      <th>low</th>\n",
              "      <th>close</th>\n",
              "      <th>volume</th>\n",
              "    </tr>\n",
              "    <tr>\n",
              "      <th>time</th>\n",
              "      <th></th>\n",
              "      <th></th>\n",
              "      <th></th>\n",
              "      <th></th>\n",
              "      <th></th>\n",
              "    </tr>\n",
              "  </thead>\n",
              "  <tbody>\n",
              "    <tr>\n",
              "      <th>2024-01-02</th>\n",
              "      <td>126.15</td>\n",
              "      <td>126.15</td>\n",
              "      <td>126.15</td>\n",
              "      <td>126.15</td>\n",
              "      <td>76.0</td>\n",
              "    </tr>\n",
              "    <tr>\n",
              "      <th>2024-01-03</th>\n",
              "      <td>127.00</td>\n",
              "      <td>127.00</td>\n",
              "      <td>127.00</td>\n",
              "      <td>127.00</td>\n",
              "      <td>143.0</td>\n",
              "    </tr>\n",
              "    <tr>\n",
              "      <th>2024-01-04</th>\n",
              "      <td>129.00</td>\n",
              "      <td>129.25</td>\n",
              "      <td>129.00</td>\n",
              "      <td>129.20</td>\n",
              "      <td>146.0</td>\n",
              "    </tr>\n",
              "    <tr>\n",
              "      <th>2024-01-05</th>\n",
              "      <td>130.50</td>\n",
              "      <td>130.50</td>\n",
              "      <td>130.50</td>\n",
              "      <td>130.50</td>\n",
              "      <td>75.0</td>\n",
              "    </tr>\n",
              "    <tr>\n",
              "      <th>2024-01-08</th>\n",
              "      <td>129.50</td>\n",
              "      <td>129.75</td>\n",
              "      <td>129.50</td>\n",
              "      <td>129.75</td>\n",
              "      <td>163.0</td>\n",
              "    </tr>\n",
              "  </tbody>\n",
              "</table>\n",
              "</div>"
            ],
            "text/plain": [
              "              open    high     low   close  volume\n",
              "time                                              \n",
              "2024-01-02  126.15  126.15  126.15  126.15    76.0\n",
              "2024-01-03  127.00  127.00  127.00  127.00   143.0\n",
              "2024-01-04  129.00  129.25  129.00  129.20   146.0\n",
              "2024-01-05  130.50  130.50  130.50  130.50    75.0\n",
              "2024-01-08  129.50  129.75  129.50  129.75   163.0"
            ]
          },
          "metadata": {},
          "output_type": "display_data"
        },
        {
          "name": "stdout",
          "output_type": "stream",
          "text": [
            "\n",
            "=== steel_d10() ===\n"
          ]
        },
        {
          "data": {
            "application/vnd.microsoft.datawrangler.viewer.v0+json": {
              "columns": [
                {
                  "name": "time",
                  "rawType": "datetime64[ns]",
                  "type": "datetime"
                },
                {
                  "name": "close",
                  "rawType": "float64",
                  "type": "float"
                }
              ],
              "ref": "00d799b5-258a-4dca-bcfb-43f0cbd29195",
              "rows": [
                [
                  "2024-01-01 00:00:00",
                  "14.04"
                ],
                [
                  "2024-01-02 00:00:00",
                  "14.04"
                ],
                [
                  "2024-01-03 00:00:00",
                  "14.04"
                ],
                [
                  "2024-01-04 00:00:00",
                  "14.04"
                ],
                [
                  "2024-01-07 00:00:00",
                  "14.27"
                ]
              ],
              "shape": {
                "columns": 1,
                "rows": 5
              }
            },
            "text/html": [
              "<div>\n",
              "<style scoped>\n",
              "    .dataframe tbody tr th:only-of-type {\n",
              "        vertical-align: middle;\n",
              "    }\n",
              "\n",
              "    .dataframe tbody tr th {\n",
              "        vertical-align: top;\n",
              "    }\n",
              "\n",
              "    .dataframe thead th {\n",
              "        text-align: right;\n",
              "    }\n",
              "</style>\n",
              "<table border=\"1\" class=\"dataframe\">\n",
              "  <thead>\n",
              "    <tr style=\"text-align: right;\">\n",
              "      <th></th>\n",
              "      <th>close</th>\n",
              "    </tr>\n",
              "    <tr>\n",
              "      <th>time</th>\n",
              "      <th></th>\n",
              "    </tr>\n",
              "  </thead>\n",
              "  <tbody>\n",
              "    <tr>\n",
              "      <th>2024-01-01</th>\n",
              "      <td>14.04</td>\n",
              "    </tr>\n",
              "    <tr>\n",
              "      <th>2024-01-02</th>\n",
              "      <td>14.04</td>\n",
              "    </tr>\n",
              "    <tr>\n",
              "      <th>2024-01-03</th>\n",
              "      <td>14.04</td>\n",
              "    </tr>\n",
              "    <tr>\n",
              "      <th>2024-01-04</th>\n",
              "      <td>14.04</td>\n",
              "    </tr>\n",
              "    <tr>\n",
              "      <th>2024-01-07</th>\n",
              "      <td>14.27</td>\n",
              "    </tr>\n",
              "  </tbody>\n",
              "</table>\n",
              "</div>"
            ],
            "text/plain": [
              "            close\n",
              "time             \n",
              "2024-01-01  14.04\n",
              "2024-01-02  14.04\n",
              "2024-01-03  14.04\n",
              "2024-01-04  14.04\n",
              "2024-01-07  14.27"
            ]
          },
          "metadata": {},
          "output_type": "display_data"
        },
        {
          "name": "stdout",
          "output_type": "stream",
          "text": [
            "\n",
            "=== iron_ore() ===\n"
          ]
        },
        {
          "data": {
            "application/vnd.microsoft.datawrangler.viewer.v0+json": {
              "columns": [
                {
                  "name": "time",
                  "rawType": "datetime64[ns]",
                  "type": "datetime"
                },
                {
                  "name": "open",
                  "rawType": "float64",
                  "type": "float"
                },
                {
                  "name": "high",
                  "rawType": "float64",
                  "type": "float"
                },
                {
                  "name": "low",
                  "rawType": "float64",
                  "type": "float"
                },
                {
                  "name": "close",
                  "rawType": "float64",
                  "type": "float"
                },
                {
                  "name": "volume",
                  "rawType": "float64",
                  "type": "float"
                }
              ],
              "ref": "0fafaa6a-d6cf-4b86-88f5-5ae01ae56d6e",
              "rows": [
                [
                  "2024-01-02 00:00:00",
                  "136.37",
                  "136.37",
                  "136.37",
                  "136.37",
                  "0.0"
                ],
                [
                  "2024-01-03 00:00:00",
                  "144.16",
                  "144.16",
                  "144.16",
                  "144.16",
                  "0.0"
                ],
                [
                  "2024-01-04 00:00:00",
                  "142.95",
                  "142.95",
                  "142.95",
                  "142.95",
                  "0.0"
                ],
                [
                  "2024-01-05 00:00:00",
                  "141.45",
                  "141.45",
                  "141.45",
                  "141.45",
                  "0.0"
                ],
                [
                  "2024-01-08 00:00:00",
                  "140.87",
                  "140.87",
                  "140.87",
                  "140.87",
                  "0.0"
                ]
              ],
              "shape": {
                "columns": 5,
                "rows": 5
              }
            },
            "text/html": [
              "<div>\n",
              "<style scoped>\n",
              "    .dataframe tbody tr th:only-of-type {\n",
              "        vertical-align: middle;\n",
              "    }\n",
              "\n",
              "    .dataframe tbody tr th {\n",
              "        vertical-align: top;\n",
              "    }\n",
              "\n",
              "    .dataframe thead th {\n",
              "        text-align: right;\n",
              "    }\n",
              "</style>\n",
              "<table border=\"1\" class=\"dataframe\">\n",
              "  <thead>\n",
              "    <tr style=\"text-align: right;\">\n",
              "      <th></th>\n",
              "      <th>open</th>\n",
              "      <th>high</th>\n",
              "      <th>low</th>\n",
              "      <th>close</th>\n",
              "      <th>volume</th>\n",
              "    </tr>\n",
              "    <tr>\n",
              "      <th>time</th>\n",
              "      <th></th>\n",
              "      <th></th>\n",
              "      <th></th>\n",
              "      <th></th>\n",
              "      <th></th>\n",
              "    </tr>\n",
              "  </thead>\n",
              "  <tbody>\n",
              "    <tr>\n",
              "      <th>2024-01-02</th>\n",
              "      <td>136.37</td>\n",
              "      <td>136.37</td>\n",
              "      <td>136.37</td>\n",
              "      <td>136.37</td>\n",
              "      <td>0.0</td>\n",
              "    </tr>\n",
              "    <tr>\n",
              "      <th>2024-01-03</th>\n",
              "      <td>144.16</td>\n",
              "      <td>144.16</td>\n",
              "      <td>144.16</td>\n",
              "      <td>144.16</td>\n",
              "      <td>0.0</td>\n",
              "    </tr>\n",
              "    <tr>\n",
              "      <th>2024-01-04</th>\n",
              "      <td>142.95</td>\n",
              "      <td>142.95</td>\n",
              "      <td>142.95</td>\n",
              "      <td>142.95</td>\n",
              "      <td>0.0</td>\n",
              "    </tr>\n",
              "    <tr>\n",
              "      <th>2024-01-05</th>\n",
              "      <td>141.45</td>\n",
              "      <td>141.45</td>\n",
              "      <td>141.45</td>\n",
              "      <td>141.45</td>\n",
              "      <td>0.0</td>\n",
              "    </tr>\n",
              "    <tr>\n",
              "      <th>2024-01-08</th>\n",
              "      <td>140.87</td>\n",
              "      <td>140.87</td>\n",
              "      <td>140.87</td>\n",
              "      <td>140.87</td>\n",
              "      <td>0.0</td>\n",
              "    </tr>\n",
              "  </tbody>\n",
              "</table>\n",
              "</div>"
            ],
            "text/plain": [
              "              open    high     low   close  volume\n",
              "time                                              \n",
              "2024-01-02  136.37  136.37  136.37  136.37     0.0\n",
              "2024-01-03  144.16  144.16  144.16  144.16     0.0\n",
              "2024-01-04  142.95  142.95  142.95  142.95     0.0\n",
              "2024-01-05  141.45  141.45  141.45  141.45     0.0\n",
              "2024-01-08  140.87  140.87  140.87  140.87     0.0"
            ]
          },
          "metadata": {},
          "output_type": "display_data"
        },
        {
          "name": "stdout",
          "output_type": "stream",
          "text": [
            "\n",
            "=== steel_hrc() ===\n"
          ]
        },
        {
          "data": {
            "application/vnd.microsoft.datawrangler.viewer.v0+json": {
              "columns": [
                {
                  "name": "time",
                  "rawType": "datetime64[ns]",
                  "type": "datetime"
                },
                {
                  "name": "open",
                  "rawType": "float64",
                  "type": "float"
                },
                {
                  "name": "high",
                  "rawType": "float64",
                  "type": "float"
                },
                {
                  "name": "low",
                  "rawType": "float64",
                  "type": "float"
                },
                {
                  "name": "close",
                  "rawType": "float64",
                  "type": "float"
                },
                {
                  "name": "volume",
                  "rawType": "float64",
                  "type": "float"
                }
              ],
              "ref": "b1aef16b-dd03-47b6-90db-371c9dd966ed",
              "rows": [
                [
                  "2024-01-02 00:00:00",
                  "1135.0",
                  "1135.0",
                  "1125.0",
                  "1127.0",
                  "396.0"
                ],
                [
                  "2024-01-03 00:00:00",
                  "1127.0",
                  "1135.0",
                  "1099.0",
                  "1120.0",
                  "503.0"
                ],
                [
                  "2024-01-04 00:00:00",
                  "1096.0",
                  "1110.0",
                  "1092.0",
                  "1099.0",
                  "160.0"
                ],
                [
                  "2024-01-05 00:00:00",
                  "1100.0",
                  "1100.0",
                  "1076.0",
                  "1090.0",
                  "472.0"
                ],
                [
                  "2024-01-08 00:00:00",
                  "1086.0",
                  "1086.0",
                  "1078.0",
                  "1080.0",
                  "200.0"
                ]
              ],
              "shape": {
                "columns": 5,
                "rows": 5
              }
            },
            "text/html": [
              "<div>\n",
              "<style scoped>\n",
              "    .dataframe tbody tr th:only-of-type {\n",
              "        vertical-align: middle;\n",
              "    }\n",
              "\n",
              "    .dataframe tbody tr th {\n",
              "        vertical-align: top;\n",
              "    }\n",
              "\n",
              "    .dataframe thead th {\n",
              "        text-align: right;\n",
              "    }\n",
              "</style>\n",
              "<table border=\"1\" class=\"dataframe\">\n",
              "  <thead>\n",
              "    <tr style=\"text-align: right;\">\n",
              "      <th></th>\n",
              "      <th>open</th>\n",
              "      <th>high</th>\n",
              "      <th>low</th>\n",
              "      <th>close</th>\n",
              "      <th>volume</th>\n",
              "    </tr>\n",
              "    <tr>\n",
              "      <th>time</th>\n",
              "      <th></th>\n",
              "      <th></th>\n",
              "      <th></th>\n",
              "      <th></th>\n",
              "      <th></th>\n",
              "    </tr>\n",
              "  </thead>\n",
              "  <tbody>\n",
              "    <tr>\n",
              "      <th>2024-01-02</th>\n",
              "      <td>1135.0</td>\n",
              "      <td>1135.0</td>\n",
              "      <td>1125.0</td>\n",
              "      <td>1127.0</td>\n",
              "      <td>396.0</td>\n",
              "    </tr>\n",
              "    <tr>\n",
              "      <th>2024-01-03</th>\n",
              "      <td>1127.0</td>\n",
              "      <td>1135.0</td>\n",
              "      <td>1099.0</td>\n",
              "      <td>1120.0</td>\n",
              "      <td>503.0</td>\n",
              "    </tr>\n",
              "    <tr>\n",
              "      <th>2024-01-04</th>\n",
              "      <td>1096.0</td>\n",
              "      <td>1110.0</td>\n",
              "      <td>1092.0</td>\n",
              "      <td>1099.0</td>\n",
              "      <td>160.0</td>\n",
              "    </tr>\n",
              "    <tr>\n",
              "      <th>2024-01-05</th>\n",
              "      <td>1100.0</td>\n",
              "      <td>1100.0</td>\n",
              "      <td>1076.0</td>\n",
              "      <td>1090.0</td>\n",
              "      <td>472.0</td>\n",
              "    </tr>\n",
              "    <tr>\n",
              "      <th>2024-01-08</th>\n",
              "      <td>1086.0</td>\n",
              "      <td>1086.0</td>\n",
              "      <td>1078.0</td>\n",
              "      <td>1080.0</td>\n",
              "      <td>200.0</td>\n",
              "    </tr>\n",
              "  </tbody>\n",
              "</table>\n",
              "</div>"
            ],
            "text/plain": [
              "              open    high     low   close  volume\n",
              "time                                              \n",
              "2024-01-02  1135.0  1135.0  1125.0  1127.0   396.0\n",
              "2024-01-03  1127.0  1135.0  1099.0  1120.0   503.0\n",
              "2024-01-04  1096.0  1110.0  1092.0  1099.0   160.0\n",
              "2024-01-05  1100.0  1100.0  1076.0  1090.0   472.0\n",
              "2024-01-08  1086.0  1086.0  1078.0  1080.0   200.0"
            ]
          },
          "metadata": {},
          "output_type": "display_data"
        },
        {
          "name": "stdout",
          "output_type": "stream",
          "text": [
            "\n",
            "=== fertilizer_ure() ===\n"
          ]
        },
        {
          "data": {
            "application/vnd.microsoft.datawrangler.viewer.v0+json": {
              "columns": [
                {
                  "name": "time",
                  "rawType": "datetime64[ns]",
                  "type": "datetime"
                },
                {
                  "name": "open",
                  "rawType": "float64",
                  "type": "float"
                },
                {
                  "name": "high",
                  "rawType": "float64",
                  "type": "float"
                },
                {
                  "name": "low",
                  "rawType": "float64",
                  "type": "float"
                },
                {
                  "name": "close",
                  "rawType": "float64",
                  "type": "float"
                },
                {
                  "name": "volume",
                  "rawType": "float64",
                  "type": "float"
                }
              ],
              "ref": "a3a1858a-837a-4f8f-9e8b-597dcfce14e3",
              "rows": [
                [
                  "2024-01-02 00:00:00",
                  "320.0",
                  "320.0",
                  "320.0",
                  "320.0",
                  "0.0"
                ],
                [
                  "2024-01-03 00:00:00",
                  "320.0",
                  "320.0",
                  "320.0",
                  "320.0",
                  "0.0"
                ],
                [
                  "2024-01-04 00:00:00",
                  "317.5",
                  "317.5",
                  "317.5",
                  "317.5",
                  "0.0"
                ],
                [
                  "2024-01-05 00:00:00",
                  "315.0",
                  "315.0",
                  "315.0",
                  "315.0",
                  "0.0"
                ],
                [
                  "2024-01-08 00:00:00",
                  "312.5",
                  "312.5",
                  "312.5",
                  "312.5",
                  "0.0"
                ]
              ],
              "shape": {
                "columns": 5,
                "rows": 5
              }
            },
            "text/html": [
              "<div>\n",
              "<style scoped>\n",
              "    .dataframe tbody tr th:only-of-type {\n",
              "        vertical-align: middle;\n",
              "    }\n",
              "\n",
              "    .dataframe tbody tr th {\n",
              "        vertical-align: top;\n",
              "    }\n",
              "\n",
              "    .dataframe thead th {\n",
              "        text-align: right;\n",
              "    }\n",
              "</style>\n",
              "<table border=\"1\" class=\"dataframe\">\n",
              "  <thead>\n",
              "    <tr style=\"text-align: right;\">\n",
              "      <th></th>\n",
              "      <th>open</th>\n",
              "      <th>high</th>\n",
              "      <th>low</th>\n",
              "      <th>close</th>\n",
              "      <th>volume</th>\n",
              "    </tr>\n",
              "    <tr>\n",
              "      <th>time</th>\n",
              "      <th></th>\n",
              "      <th></th>\n",
              "      <th></th>\n",
              "      <th></th>\n",
              "      <th></th>\n",
              "    </tr>\n",
              "  </thead>\n",
              "  <tbody>\n",
              "    <tr>\n",
              "      <th>2024-01-02</th>\n",
              "      <td>320.0</td>\n",
              "      <td>320.0</td>\n",
              "      <td>320.0</td>\n",
              "      <td>320.0</td>\n",
              "      <td>0.0</td>\n",
              "    </tr>\n",
              "    <tr>\n",
              "      <th>2024-01-03</th>\n",
              "      <td>320.0</td>\n",
              "      <td>320.0</td>\n",
              "      <td>320.0</td>\n",
              "      <td>320.0</td>\n",
              "      <td>0.0</td>\n",
              "    </tr>\n",
              "    <tr>\n",
              "      <th>2024-01-04</th>\n",
              "      <td>317.5</td>\n",
              "      <td>317.5</td>\n",
              "      <td>317.5</td>\n",
              "      <td>317.5</td>\n",
              "      <td>0.0</td>\n",
              "    </tr>\n",
              "    <tr>\n",
              "      <th>2024-01-05</th>\n",
              "      <td>315.0</td>\n",
              "      <td>315.0</td>\n",
              "      <td>315.0</td>\n",
              "      <td>315.0</td>\n",
              "      <td>0.0</td>\n",
              "    </tr>\n",
              "    <tr>\n",
              "      <th>2024-01-08</th>\n",
              "      <td>312.5</td>\n",
              "      <td>312.5</td>\n",
              "      <td>312.5</td>\n",
              "      <td>312.5</td>\n",
              "      <td>0.0</td>\n",
              "    </tr>\n",
              "  </tbody>\n",
              "</table>\n",
              "</div>"
            ],
            "text/plain": [
              "             open   high    low  close  volume\n",
              "time                                          \n",
              "2024-01-02  320.0  320.0  320.0  320.0     0.0\n",
              "2024-01-03  320.0  320.0  320.0  320.0     0.0\n",
              "2024-01-04  317.5  317.5  317.5  317.5     0.0\n",
              "2024-01-05  315.0  315.0  315.0  315.0     0.0\n",
              "2024-01-08  312.5  312.5  312.5  312.5     0.0"
            ]
          },
          "metadata": {},
          "output_type": "display_data"
        },
        {
          "name": "stdout",
          "output_type": "stream",
          "text": [
            "\n",
            "=== soybean() ===\n"
          ]
        },
        {
          "data": {
            "application/vnd.microsoft.datawrangler.viewer.v0+json": {
              "columns": [
                {
                  "name": "time",
                  "rawType": "datetime64[ns]",
                  "type": "datetime"
                },
                {
                  "name": "open",
                  "rawType": "float64",
                  "type": "float"
                },
                {
                  "name": "high",
                  "rawType": "float64",
                  "type": "float"
                },
                {
                  "name": "low",
                  "rawType": "float64",
                  "type": "float"
                },
                {
                  "name": "close",
                  "rawType": "float64",
                  "type": "float"
                },
                {
                  "name": "volume",
                  "rawType": "float64",
                  "type": "float"
                }
              ],
              "ref": "f390f9a8-adbc-455d-b723-1dd16363fb40",
              "rows": [
                [
                  "2024-01-02 00:00:00",
                  "1290.5",
                  "1290.75",
                  "1267.25",
                  "1273.5",
                  "120524.0"
                ],
                [
                  "2024-01-03 00:00:00",
                  "1273.5",
                  "1280.0",
                  "1265.75",
                  "1277.0",
                  "101043.0"
                ],
                [
                  "2024-01-04 00:00:00",
                  "1277.0",
                  "1280.75",
                  "1265.0",
                  "1267.5",
                  "90810.0"
                ],
                [
                  "2024-01-05 00:00:00",
                  "1267.25",
                  "1271.5",
                  "1255.0",
                  "1256.25",
                  "89364.0"
                ],
                [
                  "2024-01-08 00:00:00",
                  "1258.0",
                  "1261.0",
                  "1236.0",
                  "1245.5",
                  "122347.0"
                ]
              ],
              "shape": {
                "columns": 5,
                "rows": 5
              }
            },
            "text/html": [
              "<div>\n",
              "<style scoped>\n",
              "    .dataframe tbody tr th:only-of-type {\n",
              "        vertical-align: middle;\n",
              "    }\n",
              "\n",
              "    .dataframe tbody tr th {\n",
              "        vertical-align: top;\n",
              "    }\n",
              "\n",
              "    .dataframe thead th {\n",
              "        text-align: right;\n",
              "    }\n",
              "</style>\n",
              "<table border=\"1\" class=\"dataframe\">\n",
              "  <thead>\n",
              "    <tr style=\"text-align: right;\">\n",
              "      <th></th>\n",
              "      <th>open</th>\n",
              "      <th>high</th>\n",
              "      <th>low</th>\n",
              "      <th>close</th>\n",
              "      <th>volume</th>\n",
              "    </tr>\n",
              "    <tr>\n",
              "      <th>time</th>\n",
              "      <th></th>\n",
              "      <th></th>\n",
              "      <th></th>\n",
              "      <th></th>\n",
              "      <th></th>\n",
              "    </tr>\n",
              "  </thead>\n",
              "  <tbody>\n",
              "    <tr>\n",
              "      <th>2024-01-02</th>\n",
              "      <td>1290.50</td>\n",
              "      <td>1290.75</td>\n",
              "      <td>1267.25</td>\n",
              "      <td>1273.50</td>\n",
              "      <td>120524.0</td>\n",
              "    </tr>\n",
              "    <tr>\n",
              "      <th>2024-01-03</th>\n",
              "      <td>1273.50</td>\n",
              "      <td>1280.00</td>\n",
              "      <td>1265.75</td>\n",
              "      <td>1277.00</td>\n",
              "      <td>101043.0</td>\n",
              "    </tr>\n",
              "    <tr>\n",
              "      <th>2024-01-04</th>\n",
              "      <td>1277.00</td>\n",
              "      <td>1280.75</td>\n",
              "      <td>1265.00</td>\n",
              "      <td>1267.50</td>\n",
              "      <td>90810.0</td>\n",
              "    </tr>\n",
              "    <tr>\n",
              "      <th>2024-01-05</th>\n",
              "      <td>1267.25</td>\n",
              "      <td>1271.50</td>\n",
              "      <td>1255.00</td>\n",
              "      <td>1256.25</td>\n",
              "      <td>89364.0</td>\n",
              "    </tr>\n",
              "    <tr>\n",
              "      <th>2024-01-08</th>\n",
              "      <td>1258.00</td>\n",
              "      <td>1261.00</td>\n",
              "      <td>1236.00</td>\n",
              "      <td>1245.50</td>\n",
              "      <td>122347.0</td>\n",
              "    </tr>\n",
              "  </tbody>\n",
              "</table>\n",
              "</div>"
            ],
            "text/plain": [
              "               open     high      low    close    volume\n",
              "time                                                    \n",
              "2024-01-02  1290.50  1290.75  1267.25  1273.50  120524.0\n",
              "2024-01-03  1273.50  1280.00  1265.75  1277.00  101043.0\n",
              "2024-01-04  1277.00  1280.75  1265.00  1267.50   90810.0\n",
              "2024-01-05  1267.25  1271.50  1255.00  1256.25   89364.0\n",
              "2024-01-08  1258.00  1261.00  1236.00  1245.50  122347.0"
            ]
          },
          "metadata": {},
          "output_type": "display_data"
        },
        {
          "name": "stdout",
          "output_type": "stream",
          "text": [
            "\n",
            "=== corn() ===\n"
          ]
        },
        {
          "data": {
            "application/vnd.microsoft.datawrangler.viewer.v0+json": {
              "columns": [
                {
                  "name": "time",
                  "rawType": "datetime64[ns]",
                  "type": "datetime"
                },
                {
                  "name": "open",
                  "rawType": "float64",
                  "type": "float"
                },
                {
                  "name": "high",
                  "rawType": "float64",
                  "type": "float"
                },
                {
                  "name": "low",
                  "rawType": "float64",
                  "type": "float"
                },
                {
                  "name": "close",
                  "rawType": "float64",
                  "type": "float"
                },
                {
                  "name": "volume",
                  "rawType": "float64",
                  "type": "float"
                }
              ],
              "ref": "90ccc2ea-2e04-4b38-9b13-7d0f17abd826",
              "rows": [
                [
                  "2024-01-02 00:00:00",
                  "470.5",
                  "470.75",
                  "462.5",
                  "463.75",
                  "187193.0"
                ],
                [
                  "2024-01-03 00:00:00",
                  "464.75",
                  "466.0",
                  "461.75",
                  "465.25",
                  "147913.0"
                ],
                [
                  "2024-01-04 00:00:00",
                  "465.0",
                  "469.0",
                  "463.5",
                  "466.5",
                  "127034.0"
                ],
                [
                  "2024-01-05 00:00:00",
                  "466.5",
                  "467.75",
                  "460.0",
                  "460.75",
                  "151589.0"
                ],
                [
                  "2024-01-07 00:00:00",
                  "461.0",
                  "462.5",
                  "461.0",
                  "461.75",
                  "2863.0"
                ]
              ],
              "shape": {
                "columns": 5,
                "rows": 5
              }
            },
            "text/html": [
              "<div>\n",
              "<style scoped>\n",
              "    .dataframe tbody tr th:only-of-type {\n",
              "        vertical-align: middle;\n",
              "    }\n",
              "\n",
              "    .dataframe tbody tr th {\n",
              "        vertical-align: top;\n",
              "    }\n",
              "\n",
              "    .dataframe thead th {\n",
              "        text-align: right;\n",
              "    }\n",
              "</style>\n",
              "<table border=\"1\" class=\"dataframe\">\n",
              "  <thead>\n",
              "    <tr style=\"text-align: right;\">\n",
              "      <th></th>\n",
              "      <th>open</th>\n",
              "      <th>high</th>\n",
              "      <th>low</th>\n",
              "      <th>close</th>\n",
              "      <th>volume</th>\n",
              "    </tr>\n",
              "    <tr>\n",
              "      <th>time</th>\n",
              "      <th></th>\n",
              "      <th></th>\n",
              "      <th></th>\n",
              "      <th></th>\n",
              "      <th></th>\n",
              "    </tr>\n",
              "  </thead>\n",
              "  <tbody>\n",
              "    <tr>\n",
              "      <th>2024-01-02</th>\n",
              "      <td>470.50</td>\n",
              "      <td>470.75</td>\n",
              "      <td>462.50</td>\n",
              "      <td>463.75</td>\n",
              "      <td>187193.0</td>\n",
              "    </tr>\n",
              "    <tr>\n",
              "      <th>2024-01-03</th>\n",
              "      <td>464.75</td>\n",
              "      <td>466.00</td>\n",
              "      <td>461.75</td>\n",
              "      <td>465.25</td>\n",
              "      <td>147913.0</td>\n",
              "    </tr>\n",
              "    <tr>\n",
              "      <th>2024-01-04</th>\n",
              "      <td>465.00</td>\n",
              "      <td>469.00</td>\n",
              "      <td>463.50</td>\n",
              "      <td>466.50</td>\n",
              "      <td>127034.0</td>\n",
              "    </tr>\n",
              "    <tr>\n",
              "      <th>2024-01-05</th>\n",
              "      <td>466.50</td>\n",
              "      <td>467.75</td>\n",
              "      <td>460.00</td>\n",
              "      <td>460.75</td>\n",
              "      <td>151589.0</td>\n",
              "    </tr>\n",
              "    <tr>\n",
              "      <th>2024-01-07</th>\n",
              "      <td>461.00</td>\n",
              "      <td>462.50</td>\n",
              "      <td>461.00</td>\n",
              "      <td>461.75</td>\n",
              "      <td>2863.0</td>\n",
              "    </tr>\n",
              "  </tbody>\n",
              "</table>\n",
              "</div>"
            ],
            "text/plain": [
              "              open    high     low   close    volume\n",
              "time                                                \n",
              "2024-01-02  470.50  470.75  462.50  463.75  187193.0\n",
              "2024-01-03  464.75  466.00  461.75  465.25  147913.0\n",
              "2024-01-04  465.00  469.00  463.50  466.50  127034.0\n",
              "2024-01-05  466.50  467.75  460.00  460.75  151589.0\n",
              "2024-01-07  461.00  462.50  461.00  461.75    2863.0"
            ]
          },
          "metadata": {},
          "output_type": "display_data"
        },
        {
          "name": "stdout",
          "output_type": "stream",
          "text": [
            "\n",
            "=== sugar() ===\n"
          ]
        },
        {
          "data": {
            "application/vnd.microsoft.datawrangler.viewer.v0+json": {
              "columns": [
                {
                  "name": "time",
                  "rawType": "datetime64[ns]",
                  "type": "datetime"
                },
                {
                  "name": "open",
                  "rawType": "float64",
                  "type": "float"
                },
                {
                  "name": "high",
                  "rawType": "float64",
                  "type": "float"
                },
                {
                  "name": "low",
                  "rawType": "float64",
                  "type": "float"
                },
                {
                  "name": "close",
                  "rawType": "float64",
                  "type": "float"
                },
                {
                  "name": "volume",
                  "rawType": "float64",
                  "type": "float"
                }
              ],
              "ref": "4a3d5b10-690a-4385-bb2d-c17813163a2c",
              "rows": [
                [
                  "2024-01-02 00:00:00",
                  "20.6",
                  "21.38",
                  "20.6",
                  "20.9",
                  "57603.0"
                ],
                [
                  "2024-01-03 00:00:00",
                  "20.9",
                  "21.4",
                  "20.71",
                  "20.85",
                  "49170.0"
                ],
                [
                  "2024-01-04 00:00:00",
                  "20.98",
                  "21.25",
                  "20.86",
                  "21.08",
                  "37418.0"
                ],
                [
                  "2024-01-05 00:00:00",
                  "21.13",
                  "21.21",
                  "20.6",
                  "21.11",
                  "46519.0"
                ],
                [
                  "2024-01-08 00:00:00",
                  "21.11",
                  "21.79",
                  "21.11",
                  "21.74",
                  "49428.0"
                ]
              ],
              "shape": {
                "columns": 5,
                "rows": 5
              }
            },
            "text/html": [
              "<div>\n",
              "<style scoped>\n",
              "    .dataframe tbody tr th:only-of-type {\n",
              "        vertical-align: middle;\n",
              "    }\n",
              "\n",
              "    .dataframe tbody tr th {\n",
              "        vertical-align: top;\n",
              "    }\n",
              "\n",
              "    .dataframe thead th {\n",
              "        text-align: right;\n",
              "    }\n",
              "</style>\n",
              "<table border=\"1\" class=\"dataframe\">\n",
              "  <thead>\n",
              "    <tr style=\"text-align: right;\">\n",
              "      <th></th>\n",
              "      <th>open</th>\n",
              "      <th>high</th>\n",
              "      <th>low</th>\n",
              "      <th>close</th>\n",
              "      <th>volume</th>\n",
              "    </tr>\n",
              "    <tr>\n",
              "      <th>time</th>\n",
              "      <th></th>\n",
              "      <th></th>\n",
              "      <th></th>\n",
              "      <th></th>\n",
              "      <th></th>\n",
              "    </tr>\n",
              "  </thead>\n",
              "  <tbody>\n",
              "    <tr>\n",
              "      <th>2024-01-02</th>\n",
              "      <td>20.60</td>\n",
              "      <td>21.38</td>\n",
              "      <td>20.60</td>\n",
              "      <td>20.90</td>\n",
              "      <td>57603.0</td>\n",
              "    </tr>\n",
              "    <tr>\n",
              "      <th>2024-01-03</th>\n",
              "      <td>20.90</td>\n",
              "      <td>21.40</td>\n",
              "      <td>20.71</td>\n",
              "      <td>20.85</td>\n",
              "      <td>49170.0</td>\n",
              "    </tr>\n",
              "    <tr>\n",
              "      <th>2024-01-04</th>\n",
              "      <td>20.98</td>\n",
              "      <td>21.25</td>\n",
              "      <td>20.86</td>\n",
              "      <td>21.08</td>\n",
              "      <td>37418.0</td>\n",
              "    </tr>\n",
              "    <tr>\n",
              "      <th>2024-01-05</th>\n",
              "      <td>21.13</td>\n",
              "      <td>21.21</td>\n",
              "      <td>20.60</td>\n",
              "      <td>21.11</td>\n",
              "      <td>46519.0</td>\n",
              "    </tr>\n",
              "    <tr>\n",
              "      <th>2024-01-08</th>\n",
              "      <td>21.11</td>\n",
              "      <td>21.79</td>\n",
              "      <td>21.11</td>\n",
              "      <td>21.74</td>\n",
              "      <td>49428.0</td>\n",
              "    </tr>\n",
              "  </tbody>\n",
              "</table>\n",
              "</div>"
            ],
            "text/plain": [
              "             open   high    low  close   volume\n",
              "time                                           \n",
              "2024-01-02  20.60  21.38  20.60  20.90  57603.0\n",
              "2024-01-03  20.90  21.40  20.71  20.85  49170.0\n",
              "2024-01-04  20.98  21.25  20.86  21.08  37418.0\n",
              "2024-01-05  21.13  21.21  20.60  21.11  46519.0\n",
              "2024-01-08  21.11  21.79  21.11  21.74  49428.0"
            ]
          },
          "metadata": {},
          "output_type": "display_data"
        },
        {
          "name": "stdout",
          "output_type": "stream",
          "text": [
            "\n",
            "=== pork_north_vn() ===\n"
          ]
        },
        {
          "data": {
            "application/vnd.microsoft.datawrangler.viewer.v0+json": {
              "columns": [
                {
                  "name": "time",
                  "rawType": "datetime64[ns]",
                  "type": "datetime"
                },
                {
                  "name": "close",
                  "rawType": "float64",
                  "type": "float"
                }
              ],
              "ref": "b61acb03-f066-4351-a83a-fa17eefaddbb",
              "rows": [
                [
                  "2024-01-01 00:00:00",
                  "58300.0"
                ],
                [
                  "2024-01-02 00:00:00",
                  "58300.0"
                ],
                [
                  "2024-01-03 00:00:00",
                  "58300.0"
                ],
                [
                  "2024-01-04 00:00:00",
                  "58300.0"
                ],
                [
                  "2024-01-05 00:00:00",
                  "57800.0"
                ]
              ],
              "shape": {
                "columns": 1,
                "rows": 5
              }
            },
            "text/html": [
              "<div>\n",
              "<style scoped>\n",
              "    .dataframe tbody tr th:only-of-type {\n",
              "        vertical-align: middle;\n",
              "    }\n",
              "\n",
              "    .dataframe tbody tr th {\n",
              "        vertical-align: top;\n",
              "    }\n",
              "\n",
              "    .dataframe thead th {\n",
              "        text-align: right;\n",
              "    }\n",
              "</style>\n",
              "<table border=\"1\" class=\"dataframe\">\n",
              "  <thead>\n",
              "    <tr style=\"text-align: right;\">\n",
              "      <th></th>\n",
              "      <th>close</th>\n",
              "    </tr>\n",
              "    <tr>\n",
              "      <th>time</th>\n",
              "      <th></th>\n",
              "    </tr>\n",
              "  </thead>\n",
              "  <tbody>\n",
              "    <tr>\n",
              "      <th>2024-01-01</th>\n",
              "      <td>58300.0</td>\n",
              "    </tr>\n",
              "    <tr>\n",
              "      <th>2024-01-02</th>\n",
              "      <td>58300.0</td>\n",
              "    </tr>\n",
              "    <tr>\n",
              "      <th>2024-01-03</th>\n",
              "      <td>58300.0</td>\n",
              "    </tr>\n",
              "    <tr>\n",
              "      <th>2024-01-04</th>\n",
              "      <td>58300.0</td>\n",
              "    </tr>\n",
              "    <tr>\n",
              "      <th>2024-01-05</th>\n",
              "      <td>57800.0</td>\n",
              "    </tr>\n",
              "  </tbody>\n",
              "</table>\n",
              "</div>"
            ],
            "text/plain": [
              "              close\n",
              "time               \n",
              "2024-01-01  58300.0\n",
              "2024-01-02  58300.0\n",
              "2024-01-03  58300.0\n",
              "2024-01-04  58300.0\n",
              "2024-01-05  57800.0"
            ]
          },
          "metadata": {},
          "output_type": "display_data"
        },
        {
          "name": "stdout",
          "output_type": "stream",
          "text": [
            "\n",
            "=== pork_china() ===\n"
          ]
        },
        {
          "data": {
            "application/vnd.microsoft.datawrangler.viewer.v0+json": {
              "columns": [
                {
                  "name": "time",
                  "rawType": "datetime64[ns]",
                  "type": "datetime"
                },
                {
                  "name": "close",
                  "rawType": "float64",
                  "type": "float"
                }
              ],
              "ref": "b4e74709-f2e2-422f-a00d-eff955374235",
              "rows": [
                [
                  "2024-01-06 00:00:00",
                  "15.609999656677"
                ],
                [
                  "2024-01-13 00:00:00",
                  "15.35000038147"
                ],
                [
                  "2024-01-20 00:00:00",
                  "15.020000457764"
                ],
                [
                  "2024-01-27 00:00:00",
                  "14.659999847412"
                ],
                [
                  "2024-02-05 00:00:00",
                  "14.64999961853"
                ]
              ],
              "shape": {
                "columns": 1,
                "rows": 5
              }
            },
            "text/html": [
              "<div>\n",
              "<style scoped>\n",
              "    .dataframe tbody tr th:only-of-type {\n",
              "        vertical-align: middle;\n",
              "    }\n",
              "\n",
              "    .dataframe tbody tr th {\n",
              "        vertical-align: top;\n",
              "    }\n",
              "\n",
              "    .dataframe thead th {\n",
              "        text-align: right;\n",
              "    }\n",
              "</style>\n",
              "<table border=\"1\" class=\"dataframe\">\n",
              "  <thead>\n",
              "    <tr style=\"text-align: right;\">\n",
              "      <th></th>\n",
              "      <th>close</th>\n",
              "    </tr>\n",
              "    <tr>\n",
              "      <th>time</th>\n",
              "      <th></th>\n",
              "    </tr>\n",
              "  </thead>\n",
              "  <tbody>\n",
              "    <tr>\n",
              "      <th>2024-01-06</th>\n",
              "      <td>15.61</td>\n",
              "    </tr>\n",
              "    <tr>\n",
              "      <th>2024-01-13</th>\n",
              "      <td>15.35</td>\n",
              "    </tr>\n",
              "    <tr>\n",
              "      <th>2024-01-20</th>\n",
              "      <td>15.02</td>\n",
              "    </tr>\n",
              "    <tr>\n",
              "      <th>2024-01-27</th>\n",
              "      <td>14.66</td>\n",
              "    </tr>\n",
              "    <tr>\n",
              "      <th>2024-02-05</th>\n",
              "      <td>14.65</td>\n",
              "    </tr>\n",
              "  </tbody>\n",
              "</table>\n",
              "</div>"
            ],
            "text/plain": [
              "            close\n",
              "time             \n",
              "2024-01-06  15.61\n",
              "2024-01-13  15.35\n",
              "2024-01-20  15.02\n",
              "2024-01-27  14.66\n",
              "2024-02-05  14.65"
            ]
          },
          "metadata": {},
          "output_type": "display_data"
        }
      ],
      "source": [
        "# Test all CommodityPrice methods and display their results\n",
        "\n",
        "from IPython.display import display\n",
        "from vnstock_data import CommodityPrice\n",
        "\n",
        "# Instantiate the adapter\n",
        "c = CommodityPrice(source=\"spl\", start=\"2024-01-01\", end=\"2025-04-18\", show_log=False)\n",
        "\n",
        "# Define all available methods\n",
        "methods = [\n",
        "    \"gold_vn\",\n",
        "    \"gold_global\",\n",
        "    \"gas_vn\",\n",
        "    \"oil_crude\",\n",
        "    \"gas_natural\",\n",
        "    \"coke\",\n",
        "    \"steel_d10\",\n",
        "    \"iron_ore\",\n",
        "    \"steel_hrc\",\n",
        "    \"fertilizer_ure\",\n",
        "    \"soybean\",\n",
        "    \"corn\",\n",
        "    \"sugar\",\n",
        "    \"pork_north_vn\",\n",
        "    \"pork_china\",\n",
        "]\n",
        "\n",
        "# Execute each method, print its name, and show the first few rows\n",
        "for method_name in methods:\n",
        "    print(f\"\\n=== {method_name}() ===\")\n",
        "    try:\n",
        "        df = getattr(c, method_name)()\n",
        "        display(df.head())\n",
        "    except Exception as e:\n",
        "        print(f\"Error in {method_name}(): {e}\")\n"
      ]
    }
  ],
  "metadata": {
    "colab": {
      "provenance": [],
      "toc_visible": true
    },
    "kernelspec": {
      "display_name": "Python 3",
      "language": "python",
      "name": "python3"
    },
    "language_info": {
      "codemirror_mode": {
        "name": "ipython",
        "version": 3
      },
      "file_extension": ".py",
      "mimetype": "text/x-python",
      "name": "python",
      "nbconvert_exporter": "python",
      "pygments_lexer": "ipython3",
      "version": "3.10.0"
    }
  },
  "nbformat": 4,
  "nbformat_minor": 0
}
